{
 "cells": [
  {
   "cell_type": "markdown",
   "metadata": {},
   "source": [
    "## Loading Packages"
   ]
  },
  {
   "cell_type": "code",
   "execution_count": 1,
   "metadata": {},
   "outputs": [],
   "source": [
    "import pandas as pd\n",
    "import numpy as np\n",
    "import seaborn as sns\n",
    "import matplotlib.pyplot as plt\n",
    "%matplotlib inline\n",
    "import pandas_profiling\n",
    "import os\n",
    "\n",
    "import warnings\n",
    "warnings.filterwarnings('ignore')\n",
    "\n",
    "from sklearn.model_selection import train_test_split\n",
    "from sklearn.svm import SVC\n",
    "from sklearn.model_selection import GridSearchCV\n",
    "\n",
    "from sklearn.model_selection import train_test_split\n",
    "\n",
    "from sklearn.feature_selection import RFE, SelectKBest, f_classif\n",
    "from sklearn.ensemble import RandomForestClassifier\n",
    "from statsmodels.stats.outliers_influence import variance_inflation_factor \n",
    "\n",
    "import statsmodels.formula.api as smf\n",
    "from sklearn import metrics\n",
    "import scipy.stats as stats\n",
    "\n",
    "from sklearn.neighbors import KNeighborsClassifier\n",
    "\n",
    "from sklearn.preprocessing import StandardScaler, MinMaxScaler\n",
    "from sklearn.tree import DecisionTreeClassifier\n",
    "from sklearn.ensemble import BaggingClassifier\n",
    "from sklearn.ensemble import RandomForestClassifier\n",
    "from sklearn.ensemble import AdaBoostClassifier, GradientBoostingClassifier\n",
    "from xgboost import XGBClassifier"
   ]
  },
  {
   "cell_type": "markdown",
   "metadata": {},
   "source": [
    "## Loading Data"
   ]
  },
  {
   "cell_type": "code",
   "execution_count": 2,
   "metadata": {},
   "outputs": [],
   "source": [
    "Data = pd.read_csv(\"Train.txt\",delimiter=\",\",header=None)"
   ]
  },
  {
   "cell_type": "code",
   "execution_count": 3,
   "metadata": {
    "scrolled": true
   },
   "outputs": [
    {
     "data": {
      "text/html": [
       "<div>\n",
       "<style scoped>\n",
       "    .dataframe tbody tr th:only-of-type {\n",
       "        vertical-align: middle;\n",
       "    }\n",
       "\n",
       "    .dataframe tbody tr th {\n",
       "        vertical-align: top;\n",
       "    }\n",
       "\n",
       "    .dataframe thead th {\n",
       "        text-align: right;\n",
       "    }\n",
       "</style>\n",
       "<table border=\"1\" class=\"dataframe\">\n",
       "  <thead>\n",
       "    <tr style=\"text-align: right;\">\n",
       "      <th></th>\n",
       "      <th>0</th>\n",
       "      <th>1</th>\n",
       "      <th>2</th>\n",
       "      <th>3</th>\n",
       "      <th>4</th>\n",
       "      <th>5</th>\n",
       "      <th>6</th>\n",
       "      <th>7</th>\n",
       "      <th>8</th>\n",
       "      <th>9</th>\n",
       "      <th>10</th>\n",
       "      <th>11</th>\n",
       "      <th>12</th>\n",
       "      <th>13</th>\n",
       "      <th>14</th>\n",
       "      <th>15</th>\n",
       "      <th>16</th>\n",
       "      <th>17</th>\n",
       "      <th>18</th>\n",
       "      <th>19</th>\n",
       "      <th>20</th>\n",
       "      <th>21</th>\n",
       "      <th>22</th>\n",
       "      <th>23</th>\n",
       "      <th>24</th>\n",
       "      <th>25</th>\n",
       "      <th>26</th>\n",
       "      <th>27</th>\n",
       "      <th>28</th>\n",
       "      <th>29</th>\n",
       "      <th>30</th>\n",
       "      <th>31</th>\n",
       "      <th>32</th>\n",
       "      <th>33</th>\n",
       "      <th>34</th>\n",
       "      <th>35</th>\n",
       "      <th>36</th>\n",
       "      <th>37</th>\n",
       "      <th>38</th>\n",
       "      <th>39</th>\n",
       "      <th>40</th>\n",
       "      <th>41</th>\n",
       "      <th>42</th>\n",
       "    </tr>\n",
       "  </thead>\n",
       "  <tbody>\n",
       "    <tr>\n",
       "      <th>0</th>\n",
       "      <td>0</td>\n",
       "      <td>tcp</td>\n",
       "      <td>ftp_data</td>\n",
       "      <td>SF</td>\n",
       "      <td>491</td>\n",
       "      <td>0</td>\n",
       "      <td>0</td>\n",
       "      <td>0</td>\n",
       "      <td>0</td>\n",
       "      <td>0</td>\n",
       "      <td>0</td>\n",
       "      <td>0</td>\n",
       "      <td>0</td>\n",
       "      <td>0</td>\n",
       "      <td>0</td>\n",
       "      <td>0</td>\n",
       "      <td>0</td>\n",
       "      <td>0</td>\n",
       "      <td>0</td>\n",
       "      <td>0</td>\n",
       "      <td>0</td>\n",
       "      <td>0</td>\n",
       "      <td>2</td>\n",
       "      <td>2</td>\n",
       "      <td>0.0</td>\n",
       "      <td>0.0</td>\n",
       "      <td>0.0</td>\n",
       "      <td>0.0</td>\n",
       "      <td>1.00</td>\n",
       "      <td>0.00</td>\n",
       "      <td>0.00</td>\n",
       "      <td>150</td>\n",
       "      <td>25</td>\n",
       "      <td>0.17</td>\n",
       "      <td>0.03</td>\n",
       "      <td>0.17</td>\n",
       "      <td>0.00</td>\n",
       "      <td>0.00</td>\n",
       "      <td>0.00</td>\n",
       "      <td>0.05</td>\n",
       "      <td>0.00</td>\n",
       "      <td>normal</td>\n",
       "      <td>20</td>\n",
       "    </tr>\n",
       "    <tr>\n",
       "      <th>1</th>\n",
       "      <td>0</td>\n",
       "      <td>udp</td>\n",
       "      <td>other</td>\n",
       "      <td>SF</td>\n",
       "      <td>146</td>\n",
       "      <td>0</td>\n",
       "      <td>0</td>\n",
       "      <td>0</td>\n",
       "      <td>0</td>\n",
       "      <td>0</td>\n",
       "      <td>0</td>\n",
       "      <td>0</td>\n",
       "      <td>0</td>\n",
       "      <td>0</td>\n",
       "      <td>0</td>\n",
       "      <td>0</td>\n",
       "      <td>0</td>\n",
       "      <td>0</td>\n",
       "      <td>0</td>\n",
       "      <td>0</td>\n",
       "      <td>0</td>\n",
       "      <td>0</td>\n",
       "      <td>13</td>\n",
       "      <td>1</td>\n",
       "      <td>0.0</td>\n",
       "      <td>0.0</td>\n",
       "      <td>0.0</td>\n",
       "      <td>0.0</td>\n",
       "      <td>0.08</td>\n",
       "      <td>0.15</td>\n",
       "      <td>0.00</td>\n",
       "      <td>255</td>\n",
       "      <td>1</td>\n",
       "      <td>0.00</td>\n",
       "      <td>0.60</td>\n",
       "      <td>0.88</td>\n",
       "      <td>0.00</td>\n",
       "      <td>0.00</td>\n",
       "      <td>0.00</td>\n",
       "      <td>0.00</td>\n",
       "      <td>0.00</td>\n",
       "      <td>normal</td>\n",
       "      <td>15</td>\n",
       "    </tr>\n",
       "    <tr>\n",
       "      <th>2</th>\n",
       "      <td>0</td>\n",
       "      <td>tcp</td>\n",
       "      <td>private</td>\n",
       "      <td>S0</td>\n",
       "      <td>0</td>\n",
       "      <td>0</td>\n",
       "      <td>0</td>\n",
       "      <td>0</td>\n",
       "      <td>0</td>\n",
       "      <td>0</td>\n",
       "      <td>0</td>\n",
       "      <td>0</td>\n",
       "      <td>0</td>\n",
       "      <td>0</td>\n",
       "      <td>0</td>\n",
       "      <td>0</td>\n",
       "      <td>0</td>\n",
       "      <td>0</td>\n",
       "      <td>0</td>\n",
       "      <td>0</td>\n",
       "      <td>0</td>\n",
       "      <td>0</td>\n",
       "      <td>123</td>\n",
       "      <td>6</td>\n",
       "      <td>1.0</td>\n",
       "      <td>1.0</td>\n",
       "      <td>0.0</td>\n",
       "      <td>0.0</td>\n",
       "      <td>0.05</td>\n",
       "      <td>0.07</td>\n",
       "      <td>0.00</td>\n",
       "      <td>255</td>\n",
       "      <td>26</td>\n",
       "      <td>0.10</td>\n",
       "      <td>0.05</td>\n",
       "      <td>0.00</td>\n",
       "      <td>0.00</td>\n",
       "      <td>1.00</td>\n",
       "      <td>1.00</td>\n",
       "      <td>0.00</td>\n",
       "      <td>0.00</td>\n",
       "      <td>neptune</td>\n",
       "      <td>19</td>\n",
       "    </tr>\n",
       "    <tr>\n",
       "      <th>3</th>\n",
       "      <td>0</td>\n",
       "      <td>tcp</td>\n",
       "      <td>http</td>\n",
       "      <td>SF</td>\n",
       "      <td>232</td>\n",
       "      <td>8153</td>\n",
       "      <td>0</td>\n",
       "      <td>0</td>\n",
       "      <td>0</td>\n",
       "      <td>0</td>\n",
       "      <td>0</td>\n",
       "      <td>1</td>\n",
       "      <td>0</td>\n",
       "      <td>0</td>\n",
       "      <td>0</td>\n",
       "      <td>0</td>\n",
       "      <td>0</td>\n",
       "      <td>0</td>\n",
       "      <td>0</td>\n",
       "      <td>0</td>\n",
       "      <td>0</td>\n",
       "      <td>0</td>\n",
       "      <td>5</td>\n",
       "      <td>5</td>\n",
       "      <td>0.2</td>\n",
       "      <td>0.2</td>\n",
       "      <td>0.0</td>\n",
       "      <td>0.0</td>\n",
       "      <td>1.00</td>\n",
       "      <td>0.00</td>\n",
       "      <td>0.00</td>\n",
       "      <td>30</td>\n",
       "      <td>255</td>\n",
       "      <td>1.00</td>\n",
       "      <td>0.00</td>\n",
       "      <td>0.03</td>\n",
       "      <td>0.04</td>\n",
       "      <td>0.03</td>\n",
       "      <td>0.01</td>\n",
       "      <td>0.00</td>\n",
       "      <td>0.01</td>\n",
       "      <td>normal</td>\n",
       "      <td>21</td>\n",
       "    </tr>\n",
       "    <tr>\n",
       "      <th>4</th>\n",
       "      <td>0</td>\n",
       "      <td>tcp</td>\n",
       "      <td>http</td>\n",
       "      <td>SF</td>\n",
       "      <td>199</td>\n",
       "      <td>420</td>\n",
       "      <td>0</td>\n",
       "      <td>0</td>\n",
       "      <td>0</td>\n",
       "      <td>0</td>\n",
       "      <td>0</td>\n",
       "      <td>1</td>\n",
       "      <td>0</td>\n",
       "      <td>0</td>\n",
       "      <td>0</td>\n",
       "      <td>0</td>\n",
       "      <td>0</td>\n",
       "      <td>0</td>\n",
       "      <td>0</td>\n",
       "      <td>0</td>\n",
       "      <td>0</td>\n",
       "      <td>0</td>\n",
       "      <td>30</td>\n",
       "      <td>32</td>\n",
       "      <td>0.0</td>\n",
       "      <td>0.0</td>\n",
       "      <td>0.0</td>\n",
       "      <td>0.0</td>\n",
       "      <td>1.00</td>\n",
       "      <td>0.00</td>\n",
       "      <td>0.09</td>\n",
       "      <td>255</td>\n",
       "      <td>255</td>\n",
       "      <td>1.00</td>\n",
       "      <td>0.00</td>\n",
       "      <td>0.00</td>\n",
       "      <td>0.00</td>\n",
       "      <td>0.00</td>\n",
       "      <td>0.00</td>\n",
       "      <td>0.00</td>\n",
       "      <td>0.00</td>\n",
       "      <td>normal</td>\n",
       "      <td>21</td>\n",
       "    </tr>\n",
       "    <tr>\n",
       "      <th>...</th>\n",
       "      <td>...</td>\n",
       "      <td>...</td>\n",
       "      <td>...</td>\n",
       "      <td>...</td>\n",
       "      <td>...</td>\n",
       "      <td>...</td>\n",
       "      <td>...</td>\n",
       "      <td>...</td>\n",
       "      <td>...</td>\n",
       "      <td>...</td>\n",
       "      <td>...</td>\n",
       "      <td>...</td>\n",
       "      <td>...</td>\n",
       "      <td>...</td>\n",
       "      <td>...</td>\n",
       "      <td>...</td>\n",
       "      <td>...</td>\n",
       "      <td>...</td>\n",
       "      <td>...</td>\n",
       "      <td>...</td>\n",
       "      <td>...</td>\n",
       "      <td>...</td>\n",
       "      <td>...</td>\n",
       "      <td>...</td>\n",
       "      <td>...</td>\n",
       "      <td>...</td>\n",
       "      <td>...</td>\n",
       "      <td>...</td>\n",
       "      <td>...</td>\n",
       "      <td>...</td>\n",
       "      <td>...</td>\n",
       "      <td>...</td>\n",
       "      <td>...</td>\n",
       "      <td>...</td>\n",
       "      <td>...</td>\n",
       "      <td>...</td>\n",
       "      <td>...</td>\n",
       "      <td>...</td>\n",
       "      <td>...</td>\n",
       "      <td>...</td>\n",
       "      <td>...</td>\n",
       "      <td>...</td>\n",
       "      <td>...</td>\n",
       "    </tr>\n",
       "    <tr>\n",
       "      <th>125968</th>\n",
       "      <td>0</td>\n",
       "      <td>tcp</td>\n",
       "      <td>private</td>\n",
       "      <td>S0</td>\n",
       "      <td>0</td>\n",
       "      <td>0</td>\n",
       "      <td>0</td>\n",
       "      <td>0</td>\n",
       "      <td>0</td>\n",
       "      <td>0</td>\n",
       "      <td>0</td>\n",
       "      <td>0</td>\n",
       "      <td>0</td>\n",
       "      <td>0</td>\n",
       "      <td>0</td>\n",
       "      <td>0</td>\n",
       "      <td>0</td>\n",
       "      <td>0</td>\n",
       "      <td>0</td>\n",
       "      <td>0</td>\n",
       "      <td>0</td>\n",
       "      <td>0</td>\n",
       "      <td>184</td>\n",
       "      <td>25</td>\n",
       "      <td>1.0</td>\n",
       "      <td>1.0</td>\n",
       "      <td>0.0</td>\n",
       "      <td>0.0</td>\n",
       "      <td>0.14</td>\n",
       "      <td>0.06</td>\n",
       "      <td>0.00</td>\n",
       "      <td>255</td>\n",
       "      <td>25</td>\n",
       "      <td>0.10</td>\n",
       "      <td>0.06</td>\n",
       "      <td>0.00</td>\n",
       "      <td>0.00</td>\n",
       "      <td>1.00</td>\n",
       "      <td>1.00</td>\n",
       "      <td>0.00</td>\n",
       "      <td>0.00</td>\n",
       "      <td>neptune</td>\n",
       "      <td>20</td>\n",
       "    </tr>\n",
       "    <tr>\n",
       "      <th>125969</th>\n",
       "      <td>8</td>\n",
       "      <td>udp</td>\n",
       "      <td>private</td>\n",
       "      <td>SF</td>\n",
       "      <td>105</td>\n",
       "      <td>145</td>\n",
       "      <td>0</td>\n",
       "      <td>0</td>\n",
       "      <td>0</td>\n",
       "      <td>0</td>\n",
       "      <td>0</td>\n",
       "      <td>0</td>\n",
       "      <td>0</td>\n",
       "      <td>0</td>\n",
       "      <td>0</td>\n",
       "      <td>0</td>\n",
       "      <td>0</td>\n",
       "      <td>0</td>\n",
       "      <td>0</td>\n",
       "      <td>0</td>\n",
       "      <td>0</td>\n",
       "      <td>0</td>\n",
       "      <td>2</td>\n",
       "      <td>2</td>\n",
       "      <td>0.0</td>\n",
       "      <td>0.0</td>\n",
       "      <td>0.0</td>\n",
       "      <td>0.0</td>\n",
       "      <td>1.00</td>\n",
       "      <td>0.00</td>\n",
       "      <td>0.00</td>\n",
       "      <td>255</td>\n",
       "      <td>244</td>\n",
       "      <td>0.96</td>\n",
       "      <td>0.01</td>\n",
       "      <td>0.01</td>\n",
       "      <td>0.00</td>\n",
       "      <td>0.00</td>\n",
       "      <td>0.00</td>\n",
       "      <td>0.00</td>\n",
       "      <td>0.00</td>\n",
       "      <td>normal</td>\n",
       "      <td>21</td>\n",
       "    </tr>\n",
       "    <tr>\n",
       "      <th>125970</th>\n",
       "      <td>0</td>\n",
       "      <td>tcp</td>\n",
       "      <td>smtp</td>\n",
       "      <td>SF</td>\n",
       "      <td>2231</td>\n",
       "      <td>384</td>\n",
       "      <td>0</td>\n",
       "      <td>0</td>\n",
       "      <td>0</td>\n",
       "      <td>0</td>\n",
       "      <td>0</td>\n",
       "      <td>1</td>\n",
       "      <td>0</td>\n",
       "      <td>0</td>\n",
       "      <td>0</td>\n",
       "      <td>0</td>\n",
       "      <td>0</td>\n",
       "      <td>0</td>\n",
       "      <td>0</td>\n",
       "      <td>0</td>\n",
       "      <td>0</td>\n",
       "      <td>0</td>\n",
       "      <td>1</td>\n",
       "      <td>1</td>\n",
       "      <td>0.0</td>\n",
       "      <td>0.0</td>\n",
       "      <td>0.0</td>\n",
       "      <td>0.0</td>\n",
       "      <td>1.00</td>\n",
       "      <td>0.00</td>\n",
       "      <td>0.00</td>\n",
       "      <td>255</td>\n",
       "      <td>30</td>\n",
       "      <td>0.12</td>\n",
       "      <td>0.06</td>\n",
       "      <td>0.00</td>\n",
       "      <td>0.00</td>\n",
       "      <td>0.72</td>\n",
       "      <td>0.00</td>\n",
       "      <td>0.01</td>\n",
       "      <td>0.00</td>\n",
       "      <td>normal</td>\n",
       "      <td>18</td>\n",
       "    </tr>\n",
       "    <tr>\n",
       "      <th>125971</th>\n",
       "      <td>0</td>\n",
       "      <td>tcp</td>\n",
       "      <td>klogin</td>\n",
       "      <td>S0</td>\n",
       "      <td>0</td>\n",
       "      <td>0</td>\n",
       "      <td>0</td>\n",
       "      <td>0</td>\n",
       "      <td>0</td>\n",
       "      <td>0</td>\n",
       "      <td>0</td>\n",
       "      <td>0</td>\n",
       "      <td>0</td>\n",
       "      <td>0</td>\n",
       "      <td>0</td>\n",
       "      <td>0</td>\n",
       "      <td>0</td>\n",
       "      <td>0</td>\n",
       "      <td>0</td>\n",
       "      <td>0</td>\n",
       "      <td>0</td>\n",
       "      <td>0</td>\n",
       "      <td>144</td>\n",
       "      <td>8</td>\n",
       "      <td>1.0</td>\n",
       "      <td>1.0</td>\n",
       "      <td>0.0</td>\n",
       "      <td>0.0</td>\n",
       "      <td>0.06</td>\n",
       "      <td>0.05</td>\n",
       "      <td>0.00</td>\n",
       "      <td>255</td>\n",
       "      <td>8</td>\n",
       "      <td>0.03</td>\n",
       "      <td>0.05</td>\n",
       "      <td>0.00</td>\n",
       "      <td>0.00</td>\n",
       "      <td>1.00</td>\n",
       "      <td>1.00</td>\n",
       "      <td>0.00</td>\n",
       "      <td>0.00</td>\n",
       "      <td>neptune</td>\n",
       "      <td>20</td>\n",
       "    </tr>\n",
       "    <tr>\n",
       "      <th>125972</th>\n",
       "      <td>0</td>\n",
       "      <td>tcp</td>\n",
       "      <td>ftp_data</td>\n",
       "      <td>SF</td>\n",
       "      <td>151</td>\n",
       "      <td>0</td>\n",
       "      <td>0</td>\n",
       "      <td>0</td>\n",
       "      <td>0</td>\n",
       "      <td>0</td>\n",
       "      <td>0</td>\n",
       "      <td>1</td>\n",
       "      <td>0</td>\n",
       "      <td>0</td>\n",
       "      <td>0</td>\n",
       "      <td>0</td>\n",
       "      <td>0</td>\n",
       "      <td>0</td>\n",
       "      <td>0</td>\n",
       "      <td>0</td>\n",
       "      <td>0</td>\n",
       "      <td>0</td>\n",
       "      <td>1</td>\n",
       "      <td>1</td>\n",
       "      <td>0.0</td>\n",
       "      <td>0.0</td>\n",
       "      <td>0.0</td>\n",
       "      <td>0.0</td>\n",
       "      <td>1.00</td>\n",
       "      <td>0.00</td>\n",
       "      <td>0.00</td>\n",
       "      <td>255</td>\n",
       "      <td>77</td>\n",
       "      <td>0.30</td>\n",
       "      <td>0.03</td>\n",
       "      <td>0.30</td>\n",
       "      <td>0.00</td>\n",
       "      <td>0.00</td>\n",
       "      <td>0.00</td>\n",
       "      <td>0.00</td>\n",
       "      <td>0.00</td>\n",
       "      <td>normal</td>\n",
       "      <td>21</td>\n",
       "    </tr>\n",
       "  </tbody>\n",
       "</table>\n",
       "<p>125973 rows × 43 columns</p>\n",
       "</div>"
      ],
      "text/plain": [
       "        0    1         2   3     4     5   6   7   8   9   10  11  12  13  14  15  16  17  18  19  20  21   22  23   24   25   26   27    28    29    30   31   32    33    34    35    36    37    38    39    40       41  42\n",
       "0        0  tcp  ftp_data  SF   491     0   0   0   0   0   0   0   0   0   0   0   0   0   0   0   0   0    2   2  0.0  0.0  0.0  0.0  1.00  0.00  0.00  150   25  0.17  0.03  0.17  0.00  0.00  0.00  0.05  0.00   normal  20\n",
       "1        0  udp     other  SF   146     0   0   0   0   0   0   0   0   0   0   0   0   0   0   0   0   0   13   1  0.0  0.0  0.0  0.0  0.08  0.15  0.00  255    1  0.00  0.60  0.88  0.00  0.00  0.00  0.00  0.00   normal  15\n",
       "2        0  tcp   private  S0     0     0   0   0   0   0   0   0   0   0   0   0   0   0   0   0   0   0  123   6  1.0  1.0  0.0  0.0  0.05  0.07  0.00  255   26  0.10  0.05  0.00  0.00  1.00  1.00  0.00  0.00  neptune  19\n",
       "3        0  tcp      http  SF   232  8153   0   0   0   0   0   1   0   0   0   0   0   0   0   0   0   0    5   5  0.2  0.2  0.0  0.0  1.00  0.00  0.00   30  255  1.00  0.00  0.03  0.04  0.03  0.01  0.00  0.01   normal  21\n",
       "4        0  tcp      http  SF   199   420   0   0   0   0   0   1   0   0   0   0   0   0   0   0   0   0   30  32  0.0  0.0  0.0  0.0  1.00  0.00  0.09  255  255  1.00  0.00  0.00  0.00  0.00  0.00  0.00  0.00   normal  21\n",
       "...     ..  ...       ...  ..   ...   ...  ..  ..  ..  ..  ..  ..  ..  ..  ..  ..  ..  ..  ..  ..  ..  ..  ...  ..  ...  ...  ...  ...   ...   ...   ...  ...  ...   ...   ...   ...   ...   ...   ...   ...   ...      ...  ..\n",
       "125968   0  tcp   private  S0     0     0   0   0   0   0   0   0   0   0   0   0   0   0   0   0   0   0  184  25  1.0  1.0  0.0  0.0  0.14  0.06  0.00  255   25  0.10  0.06  0.00  0.00  1.00  1.00  0.00  0.00  neptune  20\n",
       "125969   8  udp   private  SF   105   145   0   0   0   0   0   0   0   0   0   0   0   0   0   0   0   0    2   2  0.0  0.0  0.0  0.0  1.00  0.00  0.00  255  244  0.96  0.01  0.01  0.00  0.00  0.00  0.00  0.00   normal  21\n",
       "125970   0  tcp      smtp  SF  2231   384   0   0   0   0   0   1   0   0   0   0   0   0   0   0   0   0    1   1  0.0  0.0  0.0  0.0  1.00  0.00  0.00  255   30  0.12  0.06  0.00  0.00  0.72  0.00  0.01  0.00   normal  18\n",
       "125971   0  tcp    klogin  S0     0     0   0   0   0   0   0   0   0   0   0   0   0   0   0   0   0   0  144   8  1.0  1.0  0.0  0.0  0.06  0.05  0.00  255    8  0.03  0.05  0.00  0.00  1.00  1.00  0.00  0.00  neptune  20\n",
       "125972   0  tcp  ftp_data  SF   151     0   0   0   0   0   0   1   0   0   0   0   0   0   0   0   0   0    1   1  0.0  0.0  0.0  0.0  1.00  0.00  0.00  255   77  0.30  0.03  0.30  0.00  0.00  0.00  0.00  0.00   normal  21\n",
       "\n",
       "[125973 rows x 43 columns]"
      ]
     },
     "execution_count": 3,
     "metadata": {},
     "output_type": "execute_result"
    }
   ],
   "source": [
    "pd.set_option(\"display.max_rows\",1000)\n",
    "pd.set_option(\"display.max_columns\",1000)\n",
    "pd.set_option(\"display.width\",1000)\n",
    "Data"
   ]
  },
  {
   "cell_type": "code",
   "execution_count": 4,
   "metadata": {},
   "outputs": [],
   "source": [
    "col_name = [\"Duration\",\"Protocol_type\",\"Service\",\"Flag\",\"Src_bytes\", \"Dst_bytes\",\"Land\", \"Wrong_fragment\",\"Urgent\",\"Hot\",\"Num_failed_logins\",\"Logged_in\",\"Num_compromised\",\"Root_shell\",\"Su_attempted\",\"Num_root\",\"Num_file_creations\",\"Num_shells\",\"Num_access_files\",\"Num_outbound_cmds\",\"Is_host_login\",\"Is_guest_login\",\"Count\",\"Srv_count\",\"Serror_rate\",\"Srv_serror_rate\",\n",
    "\"Rerror_rate\",\"Srv_rerror_rate\",\"Same_srv_rate\",\"Diff_srv_rate\",\"Srv_diff_host_rate\",\"Dst_host_count\",\"Dst_host_srv_count\",\"Dst_host_same_srv_rate\",\"Dst_host_diff_srv_rate\",\"Dst_host_same_src_port_rate\",\n",
    "\"Dst_host_srv_diff_host_rate\",\"Dst_host_serror_rate\",\"Dst_host_srv_serror_rate\", \"Dst_host_rerror_rate\",\"Dst_host_srv_rerror_rate\",\"Attack\", \"Last_flag\"]"
   ]
  },
  {
   "cell_type": "code",
   "execution_count": 5,
   "metadata": {},
   "outputs": [],
   "source": [
    "for i in range (0,43):\n",
    "    Data = Data.rename(columns={i:col_name[i]})"
   ]
  },
  {
   "cell_type": "markdown",
   "metadata": {},
   "source": [
    "## Creating Target Variable Activity"
   ]
  },
  {
   "cell_type": "code",
   "execution_count": 6,
   "metadata": {},
   "outputs": [],
   "source": [
    "Data['Activity'] = np.where(Data.Attack==\"normal\",0,1)"
   ]
  },
  {
   "cell_type": "code",
   "execution_count": 7,
   "metadata": {},
   "outputs": [
    {
     "name": "stdout",
     "output_type": "stream",
     "text": [
      "0    67343\n",
      "1    58630\n",
      "Name: Activity, dtype: int64\n"
     ]
    }
   ],
   "source": [
    "print(Data.Activity.value_counts()) # 0 is normal and 1 is attack which is our event"
   ]
  },
  {
   "cell_type": "markdown",
   "metadata": {},
   "source": [
    "## Reducing the number of sub-category in Categorical variable Service"
   ]
  },
  {
   "cell_type": "code",
   "execution_count": 8,
   "metadata": {},
   "outputs": [],
   "source": [
    "Data.Service = pd.Series(np.where((Data.Service==\"http\"),\"http\",(np.where((Data.Service==\"private\"),\"private\",(\n",
    "                np.where((Data.Service==\"domain_u\"),\"domain_u\",(np.where((Data.Service==\"smtp\"),\"smtp\",(\n",
    "                                                                      np.where((Data.Service==\"ftp_data\"),\"ftp_data\",\"other_type\"))))))))))"
   ]
  },
  {
   "cell_type": "code",
   "execution_count": 9,
   "metadata": {},
   "outputs": [
    {
     "data": {
      "text/plain": [
       "other_type    40566\n",
       "http          40338\n",
       "private       21853\n",
       "domain_u       9043\n",
       "smtp           7313\n",
       "ftp_data       6860\n",
       "Name: Service, dtype: int64"
      ]
     },
     "execution_count": 9,
     "metadata": {},
     "output_type": "execute_result"
    }
   ],
   "source": [
    "Data.Service.value_counts()"
   ]
  },
  {
   "cell_type": "code",
   "execution_count": 10,
   "metadata": {},
   "outputs": [
    {
     "name": "stdout",
     "output_type": "stream",
     "text": [
      "(125973, 44)\n"
     ]
    }
   ],
   "source": [
    "print(Data.shape)"
   ]
  },
  {
   "cell_type": "code",
   "execution_count": 11,
   "metadata": {},
   "outputs": [],
   "source": [
    "y_multi = Data.Attack"
   ]
  },
  {
   "cell_type": "code",
   "execution_count": 12,
   "metadata": {},
   "outputs": [],
   "source": [
    "Data = Data.drop(columns=\"Attack\",axis=1)"
   ]
  },
  {
   "cell_type": "code",
   "execution_count": 13,
   "metadata": {},
   "outputs": [
    {
     "data": {
      "text/html": [
       "<div>\n",
       "<style scoped>\n",
       "    .dataframe tbody tr th:only-of-type {\n",
       "        vertical-align: middle;\n",
       "    }\n",
       "\n",
       "    .dataframe tbody tr th {\n",
       "        vertical-align: top;\n",
       "    }\n",
       "\n",
       "    .dataframe thead th {\n",
       "        text-align: right;\n",
       "    }\n",
       "</style>\n",
       "<table border=\"1\" class=\"dataframe\">\n",
       "  <thead>\n",
       "    <tr style=\"text-align: right;\">\n",
       "      <th></th>\n",
       "      <th>Duration</th>\n",
       "      <th>Protocol_type</th>\n",
       "      <th>Service</th>\n",
       "      <th>Flag</th>\n",
       "      <th>Src_bytes</th>\n",
       "      <th>Dst_bytes</th>\n",
       "      <th>Land</th>\n",
       "      <th>Wrong_fragment</th>\n",
       "      <th>Urgent</th>\n",
       "      <th>Hot</th>\n",
       "      <th>Num_failed_logins</th>\n",
       "      <th>Logged_in</th>\n",
       "      <th>Num_compromised</th>\n",
       "      <th>Root_shell</th>\n",
       "      <th>Su_attempted</th>\n",
       "      <th>Num_root</th>\n",
       "      <th>Num_file_creations</th>\n",
       "      <th>Num_shells</th>\n",
       "      <th>Num_access_files</th>\n",
       "      <th>Num_outbound_cmds</th>\n",
       "      <th>Is_host_login</th>\n",
       "      <th>Is_guest_login</th>\n",
       "      <th>Count</th>\n",
       "      <th>Srv_count</th>\n",
       "      <th>Serror_rate</th>\n",
       "      <th>Srv_serror_rate</th>\n",
       "      <th>Rerror_rate</th>\n",
       "      <th>Srv_rerror_rate</th>\n",
       "      <th>Same_srv_rate</th>\n",
       "      <th>Diff_srv_rate</th>\n",
       "      <th>Srv_diff_host_rate</th>\n",
       "      <th>Dst_host_count</th>\n",
       "      <th>Dst_host_srv_count</th>\n",
       "      <th>Dst_host_same_srv_rate</th>\n",
       "      <th>Dst_host_diff_srv_rate</th>\n",
       "      <th>Dst_host_same_src_port_rate</th>\n",
       "      <th>Dst_host_srv_diff_host_rate</th>\n",
       "      <th>Dst_host_serror_rate</th>\n",
       "      <th>Dst_host_srv_serror_rate</th>\n",
       "      <th>Dst_host_rerror_rate</th>\n",
       "      <th>Dst_host_srv_rerror_rate</th>\n",
       "      <th>Last_flag</th>\n",
       "      <th>Activity</th>\n",
       "    </tr>\n",
       "  </thead>\n",
       "  <tbody>\n",
       "    <tr>\n",
       "      <th>0</th>\n",
       "      <td>0</td>\n",
       "      <td>tcp</td>\n",
       "      <td>ftp_data</td>\n",
       "      <td>SF</td>\n",
       "      <td>491</td>\n",
       "      <td>0</td>\n",
       "      <td>0</td>\n",
       "      <td>0</td>\n",
       "      <td>0</td>\n",
       "      <td>0</td>\n",
       "      <td>0</td>\n",
       "      <td>0</td>\n",
       "      <td>0</td>\n",
       "      <td>0</td>\n",
       "      <td>0</td>\n",
       "      <td>0</td>\n",
       "      <td>0</td>\n",
       "      <td>0</td>\n",
       "      <td>0</td>\n",
       "      <td>0</td>\n",
       "      <td>0</td>\n",
       "      <td>0</td>\n",
       "      <td>2</td>\n",
       "      <td>2</td>\n",
       "      <td>0.0</td>\n",
       "      <td>0.0</td>\n",
       "      <td>0.0</td>\n",
       "      <td>0.0</td>\n",
       "      <td>1.0</td>\n",
       "      <td>0.0</td>\n",
       "      <td>0.0</td>\n",
       "      <td>150</td>\n",
       "      <td>25</td>\n",
       "      <td>0.17</td>\n",
       "      <td>0.03</td>\n",
       "      <td>0.17</td>\n",
       "      <td>0.0</td>\n",
       "      <td>0.0</td>\n",
       "      <td>0.0</td>\n",
       "      <td>0.05</td>\n",
       "      <td>0.0</td>\n",
       "      <td>20</td>\n",
       "      <td>0</td>\n",
       "    </tr>\n",
       "  </tbody>\n",
       "</table>\n",
       "</div>"
      ],
      "text/plain": [
       "   Duration Protocol_type   Service Flag  Src_bytes  Dst_bytes  Land  Wrong_fragment  Urgent  Hot  Num_failed_logins  Logged_in  Num_compromised  Root_shell  Su_attempted  Num_root  Num_file_creations  Num_shells  Num_access_files  Num_outbound_cmds  Is_host_login  Is_guest_login  Count  Srv_count  Serror_rate  Srv_serror_rate  Rerror_rate  Srv_rerror_rate  Same_srv_rate  Diff_srv_rate  Srv_diff_host_rate  Dst_host_count  Dst_host_srv_count  Dst_host_same_srv_rate  Dst_host_diff_srv_rate  Dst_host_same_src_port_rate  Dst_host_srv_diff_host_rate  Dst_host_serror_rate  Dst_host_srv_serror_rate  Dst_host_rerror_rate  Dst_host_srv_rerror_rate  Last_flag  Activity\n",
       "0         0           tcp  ftp_data   SF        491          0     0               0       0    0                  0          0                0           0             0         0                   0           0                 0                  0              0               0      2          2          0.0              0.0          0.0              0.0            1.0            0.0                 0.0             150                  25                    0.17                    0.03                         0.17                          0.0                   0.0                       0.0                  0.05                       0.0         20         0"
      ]
     },
     "execution_count": 13,
     "metadata": {},
     "output_type": "execute_result"
    }
   ],
   "source": [
    "Data.head(1)"
   ]
  },
  {
   "cell_type": "code",
   "execution_count": 15,
   "metadata": {},
   "outputs": [],
   "source": [
    "#Profile = pandas_profiling.ProfileReport(Data)\n",
    "#Profile.to_file(\"Output.html\")"
   ]
  },
  {
   "cell_type": "markdown",
   "metadata": {},
   "source": [
    "## On the basis of Pandas Profiling dropping variable which are highly corelated  and which are constant"
   ]
  },
  {
   "cell_type": "code",
   "execution_count": 14,
   "metadata": {},
   "outputs": [],
   "source": [
    "Data = Data.drop(columns={\"Num_root\",\"Srv_serror_rate\",\"Srv_rerror_rate\",\"Dst_host_serror_rate\",\"Dst_host_srv_serror_rate\",\"Dst_host_rerror_rate\",\"Dst_host_srv_rerror_rate\"})\n",
    "Data = Data.drop(columns={\"Wrong_fragment\"})"
   ]
  },
  {
   "cell_type": "code",
   "execution_count": 15,
   "metadata": {},
   "outputs": [],
   "source": [
    "Data=Data.drop(columns={\"Num_access_files\",\"Num_failed_logins\",\"Num_file_creations\",\"Num_outbound_cmds\",\"Num_shells\"},axis=1)"
   ]
  },
  {
   "cell_type": "code",
   "execution_count": 16,
   "metadata": {},
   "outputs": [],
   "source": [
    "Data_num = Data.loc[:,Data.columns.difference([\"Protocol_type\",\"Service\",\"Flag\",\"Urgent\",\"Land\",\"Logged_in\",\"Root_shell\",\"Su_attempted\",\"Is_host_login\",\"Is_guest_login\"])]"
   ]
  },
  {
   "cell_type": "code",
   "execution_count": 17,
   "metadata": {},
   "outputs": [
    {
     "data": {
      "text/html": [
       "<div>\n",
       "<style scoped>\n",
       "    .dataframe tbody tr th:only-of-type {\n",
       "        vertical-align: middle;\n",
       "    }\n",
       "\n",
       "    .dataframe tbody tr th {\n",
       "        vertical-align: top;\n",
       "    }\n",
       "\n",
       "    .dataframe thead th {\n",
       "        text-align: right;\n",
       "    }\n",
       "</style>\n",
       "<table border=\"1\" class=\"dataframe\">\n",
       "  <thead>\n",
       "    <tr style=\"text-align: right;\">\n",
       "      <th></th>\n",
       "      <th>N</th>\n",
       "      <th>NMISS</th>\n",
       "      <th>SUM</th>\n",
       "      <th>MEAN</th>\n",
       "      <th>MEDIAN</th>\n",
       "      <th>STD</th>\n",
       "      <th>VAR</th>\n",
       "      <th>CV</th>\n",
       "      <th>MIN</th>\n",
       "      <th>P1</th>\n",
       "      <th>P5</th>\n",
       "      <th>P10</th>\n",
       "      <th>P25</th>\n",
       "      <th>P50</th>\n",
       "      <th>P75</th>\n",
       "      <th>P90</th>\n",
       "      <th>P95</th>\n",
       "      <th>P99</th>\n",
       "      <th>MAX</th>\n",
       "    </tr>\n",
       "  </thead>\n",
       "  <tbody>\n",
       "    <tr>\n",
       "      <th>Activity</th>\n",
       "      <td>125973.0</td>\n",
       "      <td>0.0</td>\n",
       "      <td>5.863000e+04</td>\n",
       "      <td>0.465417</td>\n",
       "      <td>0.00</td>\n",
       "      <td>4.988046e-01</td>\n",
       "      <td>2.488060e-01</td>\n",
       "      <td>1.071736</td>\n",
       "      <td>0.0</td>\n",
       "      <td>0.0</td>\n",
       "      <td>0.00</td>\n",
       "      <td>0.00</td>\n",
       "      <td>0.00</td>\n",
       "      <td>0.00</td>\n",
       "      <td>1.00</td>\n",
       "      <td>1.00</td>\n",
       "      <td>1.00</td>\n",
       "      <td>1.00</td>\n",
       "      <td>1.000000e+00</td>\n",
       "    </tr>\n",
       "    <tr>\n",
       "      <th>Count</th>\n",
       "      <td>125973.0</td>\n",
       "      <td>0.0</td>\n",
       "      <td>1.059528e+07</td>\n",
       "      <td>84.107555</td>\n",
       "      <td>14.00</td>\n",
       "      <td>1.145086e+02</td>\n",
       "      <td>1.311222e+04</td>\n",
       "      <td>1.361454</td>\n",
       "      <td>0.0</td>\n",
       "      <td>1.0</td>\n",
       "      <td>1.00</td>\n",
       "      <td>1.00</td>\n",
       "      <td>2.00</td>\n",
       "      <td>14.00</td>\n",
       "      <td>143.00</td>\n",
       "      <td>256.00</td>\n",
       "      <td>286.00</td>\n",
       "      <td>511.00</td>\n",
       "      <td>5.110000e+02</td>\n",
       "    </tr>\n",
       "    <tr>\n",
       "      <th>Diff_srv_rate</th>\n",
       "      <td>125973.0</td>\n",
       "      <td>0.0</td>\n",
       "      <td>7.942930e+03</td>\n",
       "      <td>0.063053</td>\n",
       "      <td>0.00</td>\n",
       "      <td>1.803144e-01</td>\n",
       "      <td>3.251329e-02</td>\n",
       "      <td>2.859744</td>\n",
       "      <td>0.0</td>\n",
       "      <td>0.0</td>\n",
       "      <td>0.00</td>\n",
       "      <td>0.00</td>\n",
       "      <td>0.00</td>\n",
       "      <td>0.00</td>\n",
       "      <td>0.06</td>\n",
       "      <td>0.07</td>\n",
       "      <td>0.29</td>\n",
       "      <td>1.00</td>\n",
       "      <td>1.000000e+00</td>\n",
       "    </tr>\n",
       "    <tr>\n",
       "      <th>Dst_bytes</th>\n",
       "      <td>125973.0</td>\n",
       "      <td>0.0</td>\n",
       "      <td>2.491634e+09</td>\n",
       "      <td>19779.114421</td>\n",
       "      <td>0.00</td>\n",
       "      <td>4.021269e+06</td>\n",
       "      <td>1.617061e+13</td>\n",
       "      <td>203.308857</td>\n",
       "      <td>0.0</td>\n",
       "      <td>0.0</td>\n",
       "      <td>0.00</td>\n",
       "      <td>0.00</td>\n",
       "      <td>0.00</td>\n",
       "      <td>0.00</td>\n",
       "      <td>516.00</td>\n",
       "      <td>3375.80</td>\n",
       "      <td>8314.00</td>\n",
       "      <td>25519.00</td>\n",
       "      <td>1.309937e+09</td>\n",
       "    </tr>\n",
       "    <tr>\n",
       "      <th>Dst_host_count</th>\n",
       "      <td>125973.0</td>\n",
       "      <td>0.0</td>\n",
       "      <td>2.294585e+07</td>\n",
       "      <td>182.148945</td>\n",
       "      <td>255.00</td>\n",
       "      <td>9.920621e+01</td>\n",
       "      <td>9.841873e+03</td>\n",
       "      <td>0.544643</td>\n",
       "      <td>0.0</td>\n",
       "      <td>1.0</td>\n",
       "      <td>3.00</td>\n",
       "      <td>11.00</td>\n",
       "      <td>82.00</td>\n",
       "      <td>255.00</td>\n",
       "      <td>255.00</td>\n",
       "      <td>255.00</td>\n",
       "      <td>255.00</td>\n",
       "      <td>255.00</td>\n",
       "      <td>2.550000e+02</td>\n",
       "    </tr>\n",
       "    <tr>\n",
       "      <th>Dst_host_diff_srv_rate</th>\n",
       "      <td>125973.0</td>\n",
       "      <td>0.0</td>\n",
       "      <td>1.044960e+04</td>\n",
       "      <td>0.082951</td>\n",
       "      <td>0.02</td>\n",
       "      <td>1.889218e-01</td>\n",
       "      <td>3.569145e-02</td>\n",
       "      <td>2.277508</td>\n",
       "      <td>0.0</td>\n",
       "      <td>0.0</td>\n",
       "      <td>0.00</td>\n",
       "      <td>0.00</td>\n",
       "      <td>0.00</td>\n",
       "      <td>0.02</td>\n",
       "      <td>0.07</td>\n",
       "      <td>0.10</td>\n",
       "      <td>0.56</td>\n",
       "      <td>1.00</td>\n",
       "      <td>1.000000e+00</td>\n",
       "    </tr>\n",
       "    <tr>\n",
       "      <th>Dst_host_same_src_port_rate</th>\n",
       "      <td>125973.0</td>\n",
       "      <td>0.0</td>\n",
       "      <td>1.869173e+04</td>\n",
       "      <td>0.148379</td>\n",
       "      <td>0.00</td>\n",
       "      <td>3.089971e-01</td>\n",
       "      <td>9.547923e-02</td>\n",
       "      <td>2.082488</td>\n",
       "      <td>0.0</td>\n",
       "      <td>0.0</td>\n",
       "      <td>0.00</td>\n",
       "      <td>0.00</td>\n",
       "      <td>0.00</td>\n",
       "      <td>0.00</td>\n",
       "      <td>0.06</td>\n",
       "      <td>0.84</td>\n",
       "      <td>1.00</td>\n",
       "      <td>1.00</td>\n",
       "      <td>1.000000e+00</td>\n",
       "    </tr>\n",
       "    <tr>\n",
       "      <th>Dst_host_same_srv_rate</th>\n",
       "      <td>125973.0</td>\n",
       "      <td>0.0</td>\n",
       "      <td>6.566238e+04</td>\n",
       "      <td>0.521242</td>\n",
       "      <td>0.51</td>\n",
       "      <td>4.489494e-01</td>\n",
       "      <td>2.015555e-01</td>\n",
       "      <td>0.861307</td>\n",
       "      <td>0.0</td>\n",
       "      <td>0.0</td>\n",
       "      <td>0.00</td>\n",
       "      <td>0.01</td>\n",
       "      <td>0.05</td>\n",
       "      <td>0.51</td>\n",
       "      <td>1.00</td>\n",
       "      <td>1.00</td>\n",
       "      <td>1.00</td>\n",
       "      <td>1.00</td>\n",
       "      <td>1.000000e+00</td>\n",
       "    </tr>\n",
       "    <tr>\n",
       "      <th>Dst_host_srv_count</th>\n",
       "      <td>125973.0</td>\n",
       "      <td>0.0</td>\n",
       "      <td>1.456916e+07</td>\n",
       "      <td>115.653005</td>\n",
       "      <td>63.00</td>\n",
       "      <td>1.107027e+02</td>\n",
       "      <td>1.225510e+04</td>\n",
       "      <td>0.957197</td>\n",
       "      <td>0.0</td>\n",
       "      <td>1.0</td>\n",
       "      <td>1.00</td>\n",
       "      <td>2.00</td>\n",
       "      <td>10.00</td>\n",
       "      <td>63.00</td>\n",
       "      <td>255.00</td>\n",
       "      <td>255.00</td>\n",
       "      <td>255.00</td>\n",
       "      <td>255.00</td>\n",
       "      <td>2.550000e+02</td>\n",
       "    </tr>\n",
       "    <tr>\n",
       "      <th>Dst_host_srv_diff_host_rate</th>\n",
       "      <td>125973.0</td>\n",
       "      <td>0.0</td>\n",
       "      <td>4.099470e+03</td>\n",
       "      <td>0.032542</td>\n",
       "      <td>0.00</td>\n",
       "      <td>1.125638e-01</td>\n",
       "      <td>1.267061e-02</td>\n",
       "      <td>3.458984</td>\n",
       "      <td>0.0</td>\n",
       "      <td>0.0</td>\n",
       "      <td>0.00</td>\n",
       "      <td>0.00</td>\n",
       "      <td>0.00</td>\n",
       "      <td>0.00</td>\n",
       "      <td>0.02</td>\n",
       "      <td>0.05</td>\n",
       "      <td>0.18</td>\n",
       "      <td>0.52</td>\n",
       "      <td>1.000000e+00</td>\n",
       "    </tr>\n",
       "    <tr>\n",
       "      <th>Duration</th>\n",
       "      <td>125973.0</td>\n",
       "      <td>0.0</td>\n",
       "      <td>3.617247e+07</td>\n",
       "      <td>287.144650</td>\n",
       "      <td>0.00</td>\n",
       "      <td>2.604515e+03</td>\n",
       "      <td>6.783500e+06</td>\n",
       "      <td>9.070395</td>\n",
       "      <td>0.0</td>\n",
       "      <td>0.0</td>\n",
       "      <td>0.00</td>\n",
       "      <td>0.00</td>\n",
       "      <td>0.00</td>\n",
       "      <td>0.00</td>\n",
       "      <td>0.00</td>\n",
       "      <td>0.00</td>\n",
       "      <td>4.00</td>\n",
       "      <td>9590.56</td>\n",
       "      <td>4.290800e+04</td>\n",
       "    </tr>\n",
       "    <tr>\n",
       "      <th>Hot</th>\n",
       "      <td>125973.0</td>\n",
       "      <td>0.0</td>\n",
       "      <td>2.575000e+04</td>\n",
       "      <td>0.204409</td>\n",
       "      <td>0.00</td>\n",
       "      <td>2.149968e+00</td>\n",
       "      <td>4.622364e+00</td>\n",
       "      <td>10.517980</td>\n",
       "      <td>0.0</td>\n",
       "      <td>0.0</td>\n",
       "      <td>0.00</td>\n",
       "      <td>0.00</td>\n",
       "      <td>0.00</td>\n",
       "      <td>0.00</td>\n",
       "      <td>0.00</td>\n",
       "      <td>0.00</td>\n",
       "      <td>0.00</td>\n",
       "      <td>3.00</td>\n",
       "      <td>7.700000e+01</td>\n",
       "    </tr>\n",
       "    <tr>\n",
       "      <th>Last_flag</th>\n",
       "      <td>125973.0</td>\n",
       "      <td>0.0</td>\n",
       "      <td>2.456985e+06</td>\n",
       "      <td>19.504060</td>\n",
       "      <td>20.00</td>\n",
       "      <td>2.291503e+00</td>\n",
       "      <td>5.250986e+00</td>\n",
       "      <td>0.117489</td>\n",
       "      <td>0.0</td>\n",
       "      <td>11.0</td>\n",
       "      <td>15.00</td>\n",
       "      <td>17.00</td>\n",
       "      <td>18.00</td>\n",
       "      <td>20.00</td>\n",
       "      <td>21.00</td>\n",
       "      <td>21.00</td>\n",
       "      <td>21.00</td>\n",
       "      <td>21.00</td>\n",
       "      <td>2.100000e+01</td>\n",
       "    </tr>\n",
       "    <tr>\n",
       "      <th>Num_compromised</th>\n",
       "      <td>125973.0</td>\n",
       "      <td>0.0</td>\n",
       "      <td>3.517800e+04</td>\n",
       "      <td>0.279250</td>\n",
       "      <td>0.00</td>\n",
       "      <td>2.394204e+01</td>\n",
       "      <td>5.732214e+02</td>\n",
       "      <td>85.736849</td>\n",
       "      <td>0.0</td>\n",
       "      <td>0.0</td>\n",
       "      <td>0.00</td>\n",
       "      <td>0.00</td>\n",
       "      <td>0.00</td>\n",
       "      <td>0.00</td>\n",
       "      <td>0.00</td>\n",
       "      <td>0.00</td>\n",
       "      <td>0.00</td>\n",
       "      <td>1.00</td>\n",
       "      <td>7.479000e+03</td>\n",
       "    </tr>\n",
       "    <tr>\n",
       "      <th>Rerror_rate</th>\n",
       "      <td>125973.0</td>\n",
       "      <td>0.0</td>\n",
       "      <td>1.511153e+04</td>\n",
       "      <td>0.119958</td>\n",
       "      <td>0.00</td>\n",
       "      <td>3.204355e-01</td>\n",
       "      <td>1.026789e-01</td>\n",
       "      <td>2.671220</td>\n",
       "      <td>0.0</td>\n",
       "      <td>0.0</td>\n",
       "      <td>0.00</td>\n",
       "      <td>0.00</td>\n",
       "      <td>0.00</td>\n",
       "      <td>0.00</td>\n",
       "      <td>0.00</td>\n",
       "      <td>1.00</td>\n",
       "      <td>1.00</td>\n",
       "      <td>1.00</td>\n",
       "      <td>1.000000e+00</td>\n",
       "    </tr>\n",
       "    <tr>\n",
       "      <th>Same_srv_rate</th>\n",
       "      <td>125973.0</td>\n",
       "      <td>0.0</td>\n",
       "      <td>8.325904e+04</td>\n",
       "      <td>0.660928</td>\n",
       "      <td>1.00</td>\n",
       "      <td>4.396229e-01</td>\n",
       "      <td>1.932683e-01</td>\n",
       "      <td>0.665160</td>\n",
       "      <td>0.0</td>\n",
       "      <td>0.0</td>\n",
       "      <td>0.01</td>\n",
       "      <td>0.03</td>\n",
       "      <td>0.09</td>\n",
       "      <td>1.00</td>\n",
       "      <td>1.00</td>\n",
       "      <td>1.00</td>\n",
       "      <td>1.00</td>\n",
       "      <td>1.00</td>\n",
       "      <td>1.000000e+00</td>\n",
       "    </tr>\n",
       "    <tr>\n",
       "      <th>Serror_rate</th>\n",
       "      <td>125973.0</td>\n",
       "      <td>0.0</td>\n",
       "      <td>3.583737e+04</td>\n",
       "      <td>0.284485</td>\n",
       "      <td>0.00</td>\n",
       "      <td>4.464556e-01</td>\n",
       "      <td>1.993226e-01</td>\n",
       "      <td>1.569349</td>\n",
       "      <td>0.0</td>\n",
       "      <td>0.0</td>\n",
       "      <td>0.00</td>\n",
       "      <td>0.00</td>\n",
       "      <td>0.00</td>\n",
       "      <td>0.00</td>\n",
       "      <td>1.00</td>\n",
       "      <td>1.00</td>\n",
       "      <td>1.00</td>\n",
       "      <td>1.00</td>\n",
       "      <td>1.000000e+00</td>\n",
       "    </tr>\n",
       "    <tr>\n",
       "      <th>Src_bytes</th>\n",
       "      <td>125973.0</td>\n",
       "      <td>0.0</td>\n",
       "      <td>5.740179e+09</td>\n",
       "      <td>45566.743000</td>\n",
       "      <td>44.00</td>\n",
       "      <td>5.870331e+06</td>\n",
       "      <td>3.446079e+13</td>\n",
       "      <td>128.829291</td>\n",
       "      <td>0.0</td>\n",
       "      <td>0.0</td>\n",
       "      <td>0.00</td>\n",
       "      <td>0.00</td>\n",
       "      <td>0.00</td>\n",
       "      <td>44.00</td>\n",
       "      <td>276.00</td>\n",
       "      <td>848.00</td>\n",
       "      <td>1480.00</td>\n",
       "      <td>54540.00</td>\n",
       "      <td>1.379964e+09</td>\n",
       "    </tr>\n",
       "    <tr>\n",
       "      <th>Srv_count</th>\n",
       "      <td>125973.0</td>\n",
       "      <td>0.0</td>\n",
       "      <td>3.494225e+06</td>\n",
       "      <td>27.737888</td>\n",
       "      <td>8.00</td>\n",
       "      <td>7.263584e+01</td>\n",
       "      <td>5.275965e+03</td>\n",
       "      <td>2.618651</td>\n",
       "      <td>0.0</td>\n",
       "      <td>1.0</td>\n",
       "      <td>1.00</td>\n",
       "      <td>1.00</td>\n",
       "      <td>2.00</td>\n",
       "      <td>8.00</td>\n",
       "      <td>18.00</td>\n",
       "      <td>40.00</td>\n",
       "      <td>158.00</td>\n",
       "      <td>492.00</td>\n",
       "      <td>5.110000e+02</td>\n",
       "    </tr>\n",
       "    <tr>\n",
       "      <th>Srv_diff_host_rate</th>\n",
       "      <td>125973.0</td>\n",
       "      <td>0.0</td>\n",
       "      <td>1.225990e+04</td>\n",
       "      <td>0.097322</td>\n",
       "      <td>0.00</td>\n",
       "      <td>2.598305e-01</td>\n",
       "      <td>6.751189e-02</td>\n",
       "      <td>2.669812</td>\n",
       "      <td>0.0</td>\n",
       "      <td>0.0</td>\n",
       "      <td>0.00</td>\n",
       "      <td>0.00</td>\n",
       "      <td>0.00</td>\n",
       "      <td>0.00</td>\n",
       "      <td>0.00</td>\n",
       "      <td>0.31</td>\n",
       "      <td>1.00</td>\n",
       "      <td>1.00</td>\n",
       "      <td>1.000000e+00</td>\n",
       "    </tr>\n",
       "  </tbody>\n",
       "</table>\n",
       "</div>"
      ],
      "text/plain": [
       "                                    N  NMISS           SUM          MEAN  MEDIAN           STD           VAR          CV  MIN    P1     P5    P10    P25     P50     P75      P90      P95       P99           MAX\n",
       "Activity                     125973.0    0.0  5.863000e+04      0.465417    0.00  4.988046e-01  2.488060e-01    1.071736  0.0   0.0   0.00   0.00   0.00    0.00    1.00     1.00     1.00      1.00  1.000000e+00\n",
       "Count                        125973.0    0.0  1.059528e+07     84.107555   14.00  1.145086e+02  1.311222e+04    1.361454  0.0   1.0   1.00   1.00   2.00   14.00  143.00   256.00   286.00    511.00  5.110000e+02\n",
       "Diff_srv_rate                125973.0    0.0  7.942930e+03      0.063053    0.00  1.803144e-01  3.251329e-02    2.859744  0.0   0.0   0.00   0.00   0.00    0.00    0.06     0.07     0.29      1.00  1.000000e+00\n",
       "Dst_bytes                    125973.0    0.0  2.491634e+09  19779.114421    0.00  4.021269e+06  1.617061e+13  203.308857  0.0   0.0   0.00   0.00   0.00    0.00  516.00  3375.80  8314.00  25519.00  1.309937e+09\n",
       "Dst_host_count               125973.0    0.0  2.294585e+07    182.148945  255.00  9.920621e+01  9.841873e+03    0.544643  0.0   1.0   3.00  11.00  82.00  255.00  255.00   255.00   255.00    255.00  2.550000e+02\n",
       "Dst_host_diff_srv_rate       125973.0    0.0  1.044960e+04      0.082951    0.02  1.889218e-01  3.569145e-02    2.277508  0.0   0.0   0.00   0.00   0.00    0.02    0.07     0.10     0.56      1.00  1.000000e+00\n",
       "Dst_host_same_src_port_rate  125973.0    0.0  1.869173e+04      0.148379    0.00  3.089971e-01  9.547923e-02    2.082488  0.0   0.0   0.00   0.00   0.00    0.00    0.06     0.84     1.00      1.00  1.000000e+00\n",
       "Dst_host_same_srv_rate       125973.0    0.0  6.566238e+04      0.521242    0.51  4.489494e-01  2.015555e-01    0.861307  0.0   0.0   0.00   0.01   0.05    0.51    1.00     1.00     1.00      1.00  1.000000e+00\n",
       "Dst_host_srv_count           125973.0    0.0  1.456916e+07    115.653005   63.00  1.107027e+02  1.225510e+04    0.957197  0.0   1.0   1.00   2.00  10.00   63.00  255.00   255.00   255.00    255.00  2.550000e+02\n",
       "Dst_host_srv_diff_host_rate  125973.0    0.0  4.099470e+03      0.032542    0.00  1.125638e-01  1.267061e-02    3.458984  0.0   0.0   0.00   0.00   0.00    0.00    0.02     0.05     0.18      0.52  1.000000e+00\n",
       "Duration                     125973.0    0.0  3.617247e+07    287.144650    0.00  2.604515e+03  6.783500e+06    9.070395  0.0   0.0   0.00   0.00   0.00    0.00    0.00     0.00     4.00   9590.56  4.290800e+04\n",
       "Hot                          125973.0    0.0  2.575000e+04      0.204409    0.00  2.149968e+00  4.622364e+00   10.517980  0.0   0.0   0.00   0.00   0.00    0.00    0.00     0.00     0.00      3.00  7.700000e+01\n",
       "Last_flag                    125973.0    0.0  2.456985e+06     19.504060   20.00  2.291503e+00  5.250986e+00    0.117489  0.0  11.0  15.00  17.00  18.00   20.00   21.00    21.00    21.00     21.00  2.100000e+01\n",
       "Num_compromised              125973.0    0.0  3.517800e+04      0.279250    0.00  2.394204e+01  5.732214e+02   85.736849  0.0   0.0   0.00   0.00   0.00    0.00    0.00     0.00     0.00      1.00  7.479000e+03\n",
       "Rerror_rate                  125973.0    0.0  1.511153e+04      0.119958    0.00  3.204355e-01  1.026789e-01    2.671220  0.0   0.0   0.00   0.00   0.00    0.00    0.00     1.00     1.00      1.00  1.000000e+00\n",
       "Same_srv_rate                125973.0    0.0  8.325904e+04      0.660928    1.00  4.396229e-01  1.932683e-01    0.665160  0.0   0.0   0.01   0.03   0.09    1.00    1.00     1.00     1.00      1.00  1.000000e+00\n",
       "Serror_rate                  125973.0    0.0  3.583737e+04      0.284485    0.00  4.464556e-01  1.993226e-01    1.569349  0.0   0.0   0.00   0.00   0.00    0.00    1.00     1.00     1.00      1.00  1.000000e+00\n",
       "Src_bytes                    125973.0    0.0  5.740179e+09  45566.743000   44.00  5.870331e+06  3.446079e+13  128.829291  0.0   0.0   0.00   0.00   0.00   44.00  276.00   848.00  1480.00  54540.00  1.379964e+09\n",
       "Srv_count                    125973.0    0.0  3.494225e+06     27.737888    8.00  7.263584e+01  5.275965e+03    2.618651  0.0   1.0   1.00   1.00   2.00    8.00   18.00    40.00   158.00    492.00  5.110000e+02\n",
       "Srv_diff_host_rate           125973.0    0.0  1.225990e+04      0.097322    0.00  2.598305e-01  6.751189e-02    2.669812  0.0   0.0   0.00   0.00   0.00    0.00    0.00     0.31     1.00      1.00  1.000000e+00"
      ]
     },
     "execution_count": 17,
     "metadata": {},
     "output_type": "execute_result"
    }
   ],
   "source": [
    "def var_summary(x):\n",
    "    return pd.Series([x.count(), x.isnull().sum(), x.sum(), x.mean(), x.median(),  x.std(), x.var(), x.std()/x.mean(), x.min(), x.dropna().quantile(0.01), x.dropna().quantile(0.05),x.dropna().quantile(0.10),x.dropna().quantile(0.25),x.dropna().quantile(0.50),x.dropna().quantile(0.75), x.dropna().quantile(0.90),x.dropna().quantile(0.95), x.dropna().quantile(0.99),x.max()], \n",
    "                  index=['N', 'NMISS', 'SUM', 'MEAN','MEDIAN', 'STD', 'VAR', 'CV','MIN', 'P1' , 'P5' ,'P10' ,'P25' ,'P50' ,'P75' ,'P90' ,'P95' ,'P99' ,'MAX'])\n",
    "Data_num.apply(lambda x: var_summary(x)).T"
   ]
  },
  {
   "cell_type": "code",
   "execution_count": 19,
   "metadata": {},
   "outputs": [],
   "source": [
    "def missing(x):\n",
    "    x = x.fillna(x.mean())\n",
    "    return x"
   ]
  },
  {
   "cell_type": "code",
   "execution_count": 20,
   "metadata": {},
   "outputs": [],
   "source": [
    "Data_num= Data_num.apply(missing)"
   ]
  },
  {
   "cell_type": "code",
   "execution_count": 21,
   "metadata": {},
   "outputs": [],
   "source": [
    "def outliers(x):\n",
    "    lc = x.quantile(0.01)\n",
    "    uc = x.quantile(0.99)\n",
    "    return x.clip(lower = lc, upper = uc)"
   ]
  },
  {
   "cell_type": "code",
   "execution_count": 22,
   "metadata": {
    "scrolled": true
   },
   "outputs": [],
   "source": [
    "Data_num = Data_num.apply(outliers)"
   ]
  },
  {
   "cell_type": "markdown",
   "metadata": {},
   "source": [
    "#### Univariate Analysis Numerical"
   ]
  },
  {
   "cell_type": "code",
   "execution_count": 25,
   "metadata": {},
   "outputs": [
    {
     "data": {
      "image/png": "[encoded data removed]",
      "text/plain": [
       "<Figure size 576x396 with 1 Axes>"
      ]
     },
     "metadata": {},
     "output_type": "display_data"
    },
    {
     "data": {
      "image/png": "[encoded data removed]",
      "text/plain": [
       "<Figure size 576x396 with 1 Axes>"
      ]
     },
     "metadata": {},
     "output_type": "display_data"
    },
    {
     "data": {
      "image/png": "[encoded data removed]",
      "text/plain": [
       "<Figure size 576x396 with 1 Axes>"
      ]
     },
     "metadata": {},
     "output_type": "display_data"
    },
    {
     "data": {
      "image/png": "[encoded data removed]",
      "text/plain": [
       "<Figure size 576x396 with 1 Axes>"
      ]
     },
     "metadata": {},
     "output_type": "display_data"
    },
    {
     "data": {
      "image/png": "[encoded data removed]",
      "text/plain": [
       "<Figure size 576x396 with 1 Axes>"
      ]
     },
     "metadata": {},
     "output_type": "display_data"
    },
    {
     "data": {
      "image/png": "[encoded data removed]",
      "text/plain": [
       "<Figure size 576x396 with 1 Axes>"
      ]
     },
     "metadata": {},
     "output_type": "display_data"
    },
    {
     "data": {
      "image/png": "[encoded data removed]",
      "text/plain": [
       "<Figure size 576x396 with 1 Axes>"
      ]
     },
     "metadata": {},
     "output_type": "display_data"
    },
    {
     "data": {
      "image/png": "[encoded data removed]",
      "text/plain": [
       "<Figure size 576x396 with 1 Axes>"
      ]
     },
     "metadata": {},
     "output_type": "display_data"
    },
    {
     "data": {
      "image/png": "[encoded data removed]",
      "text/plain": [
       "<Figure size 576x396 with 1 Axes>"
      ]
     },
     "metadata": {},
     "output_type": "display_data"
    },
    {
     "data": {
      "image/png": "[encoded data removed]",
      "text/plain": [
       "<Figure size 576x396 with 1 Axes>"
      ]
     },
     "metadata": {},
     "output_type": "display_data"
    },
    {
     "data": {
      "image/png": "[encoded data removed]",
      "text/plain": [
       "<Figure size 576x396 with 1 Axes>"
      ]
     },
     "metadata": {},
     "output_type": "display_data"
    },
    {
     "data": {
      "image/png": "[encoded data removed]",
      "text/plain": [
       "<Figure size 576x396 with 1 Axes>"
      ]
     },
     "metadata": {},
     "output_type": "display_data"
    },
    {
     "data": {
      "image/png": "[encoded data removed]",
      "text/plain": [
       "<Figure size 576x396 with 1 Axes>"
      ]
     },
     "metadata": {},
     "output_type": "display_data"
    },
    {
     "data": {
      "image/png": "[encoded data removed]",
      "text/plain": [
       "<Figure size 576x396 with 1 Axes>"
      ]
     },
     "metadata": {},
     "output_type": "display_data"
    },
    {
     "data": {
      "image/png": "[encoded data removed]",
      "text/plain": [
       "<Figure size 576x396 with 1 Axes>"
      ]
     },
     "metadata": {},
     "output_type": "display_data"
    },
    {
     "data": {
      "image/png": "[encoded data removed]",
      "text/plain": [
       "<Figure size 576x396 with 1 Axes>"
      ]
     },
     "metadata": {},
     "output_type": "display_data"
    },
    {
     "data": {
      "image/png": "[encoded data removed]",
      "text/plain": [
       "<Figure size 576x396 with 1 Axes>"
      ]
     },
     "metadata": {},
     "output_type": "display_data"
    },
    {
     "data": {
      "image/png": "[encoded data removed]",
      "text/plain": [
       "<Figure size 576x396 with 1 Axes>"
      ]
     },
     "metadata": {},
     "output_type": "display_data"
    },
    {
     "data": {
      "image/png": "[encoded data removed]",
      "text/plain": [
       "<Figure size 576x396 with 1 Axes>"
      ]
     },
     "metadata": {},
     "output_type": "display_data"
    },
    {
     "data": {
      "image/png": "[encoded data removed]",
      "text/plain": [
       "<Figure size 576x396 with 1 Axes>"
      ]
     },
     "metadata": {},
     "output_type": "display_data"
    }
   ],
   "source": [
    "for i in Data_num.columns:\n",
    "    Data_num[i].hist()\n",
    "    plt.xlabel(str(i))\n",
    "    plt.show()"
   ]
  },
  {
   "cell_type": "markdown",
   "metadata": {},
   "source": [
    "1. There are `44%` of attack in the data\n",
    "2. Mostly connections does have the same destination host as the current connection\n",
    "3. In 80% of connection the `data bytes transfer` is 0 from `source to single data connection`\n",
    "4. 70% of connections have the `same destination host IP address \"250\"`\n",
    "5. 95% of the connection have `0` connection time\n",
    "6. 0% of Number of `compromised' 'conditions'`, Number of operations on access control files and Failed login\n",
    "7. `81%,68%`of connections have Rerror rate and Serror rate have been 0 respectively"
   ]
  },
  {
   "cell_type": "code",
   "execution_count": 26,
   "metadata": {},
   "outputs": [
    {
     "data": {
      "image/png": "[encoded data removed]",
      "text/plain": [
       "<Figure size 576x396 with 1 Axes>"
      ]
     },
     "metadata": {},
     "output_type": "display_data"
    },
    {
     "data": {
      "image/png": "[encoded data removed]",
      "text/plain": [
       "<Figure size 576x396 with 1 Axes>"
      ]
     },
     "metadata": {},
     "output_type": "display_data"
    },
    {
     "data": {
      "image/png": "[encoded data removed]",
      "text/plain": [
       "<Figure size 576x396 with 1 Axes>"
      ]
     },
     "metadata": {},
     "output_type": "display_data"
    },
    {
     "data": {
      "image/png": "[encoded data removed]",
      "text/plain": [
       "<Figure size 576x396 with 1 Axes>"
      ]
     },
     "metadata": {},
     "output_type": "display_data"
    },
    {
     "data": {
      "image/png": "[encoded data removed]",
      "text/plain": [
       "<Figure size 576x396 with 1 Axes>"
      ]
     },
     "metadata": {},
     "output_type": "display_data"
    },
    {
     "data": {
      "image/png": "[encoded data removed]",
      "text/plain": [
       "<Figure size 576x396 with 1 Axes>"
      ]
     },
     "metadata": {},
     "output_type": "display_data"
    },
    {
     "data": {
      "image/png": "[encoded data removed]",
      "text/plain": [
       "<Figure size 576x396 with 1 Axes>"
      ]
     },
     "metadata": {},
     "output_type": "display_data"
    },
    {
     "data": {
      "image/png": "[encoded data removed]",
      "text/plain": [
       "<Figure size 576x396 with 1 Axes>"
      ]
     },
     "metadata": {},
     "output_type": "display_data"
    },
    {
     "data": {
      "image/png": "[encoded data removed]",
      "text/plain": [
       "<Figure size 576x396 with 1 Axes>"
      ]
     },
     "metadata": {},
     "output_type": "display_data"
    },
    {
     "data": {
      "image/png": "[encoded data removed]",
      "text/plain": [
       "<Figure size 576x396 with 1 Axes>"
      ]
     },
     "metadata": {},
     "output_type": "display_data"
    },
    {
     "data": {
      "image/png": "[encoded data removed]",
      "text/plain": [
       "<Figure size 576x396 with 1 Axes>"
      ]
     },
     "metadata": {},
     "output_type": "display_data"
    },
    {
     "data": {
      "image/png": "[encoded data removed]",
      "text/plain": [
       "<Figure size 576x396 with 1 Axes>"
      ]
     },
     "metadata": {},
     "output_type": "display_data"
    },
    {
     "data": {
      "image/png": "[encoded data removed]",
      "text/plain": [
       "<Figure size 576x396 with 1 Axes>"
      ]
     },
     "metadata": {},
     "output_type": "display_data"
    },
    {
     "data": {
      "image/png": "[encoded data removed]",
      "text/plain": [
       "<Figure size 576x396 with 1 Axes>"
      ]
     },
     "metadata": {},
     "output_type": "display_data"
    },
    {
     "data": {
      "image/png": "[encoded data removed]",
      "text/plain": [
       "<Figure size 576x396 with 1 Axes>"
      ]
     },
     "metadata": {},
     "output_type": "display_data"
    },
    {
     "data": {
      "image/png": "[encoded data removed]",
      "text/plain": [
       "<Figure size 576x396 with 1 Axes>"
      ]
     },
     "metadata": {},
     "output_type": "display_data"
    },
    {
     "data": {
      "image/png": "[encoded data removed]",
      "text/plain": [
       "<Figure size 576x396 with 1 Axes>"
      ]
     },
     "metadata": {},
     "output_type": "display_data"
    },
    {
     "data": {
      "image/png": "[encoded data removed]",
      "text/plain": [
       "<Figure size 576x396 with 1 Axes>"
      ]
     },
     "metadata": {},
     "output_type": "display_data"
    },
    {
     "data": {
      "image/png": "[encoded data removed]",
      "text/plain": [
       "<Figure size 576x396 with 1 Axes>"
      ]
     },
     "metadata": {},
     "output_type": "display_data"
    },
    {
     "data": {
      "image/png": "[encoded data removed]",
      "text/plain": [
       "<Figure size 576x396 with 1 Axes>"
      ]
     },
     "metadata": {},
     "output_type": "display_data"
    }
   ],
   "source": [
    "for i in Data_num.columns:\n",
    "    sns.boxplot(data = Data_num,x=\"Activity\",y=Data_num[i])\n",
    "    plt.show()"
   ]
  },
  {
   "cell_type": "markdown",
   "metadata": {},
   "source": [
    "1. The connections who have an `attack` in their network have more `number of connection to the same destination host at the current connection in past 2 seconds`\n",
    "2. `Normal` connections have `more number of data bytes transfered from destination to source in single connection`\n",
    "3. Connections who have been `attacked` have more `number of connections having the same destination host IP address` \n",
    "4.`Normal` connections have more `activated \"Last Flag\"` more than attacked networks"
   ]
  },
  {
   "cell_type": "code",
   "execution_count": 23,
   "metadata": {},
   "outputs": [],
   "source": [
    "Data_cat = Data.loc[:,[\"Protocol_type\",\"Service\",\"Flag\",\"Urgent\",\"Land\",\"Logged_in\",\"Root_shell\",\"Su_attempted\",\"Is_host_login\",\"Is_guest_login\",\"Activity\"]]"
   ]
  },
  {
   "cell_type": "code",
   "execution_count": 24,
   "metadata": {},
   "outputs": [],
   "source": [
    "def missing_cat(x):\n",
    "    x=x.fillna(x.mode)\n",
    "    return x"
   ]
  },
  {
   "cell_type": "code",
   "execution_count": 25,
   "metadata": {},
   "outputs": [],
   "source": [
    "Data_cat = Data_cat.apply(missing_cat)"
   ]
  },
  {
   "cell_type": "code",
   "execution_count": 33,
   "metadata": {},
   "outputs": [
    {
     "data": {
      "image/png": "[encoded data removed]",
      "text/plain": [
       "<Figure size 576x396 with 1 Axes>"
      ]
     },
     "metadata": {},
     "output_type": "display_data"
    },
    {
     "data": {
      "image/png": "[encoded data removed]",
      "text/plain": [
       "<Figure size 576x396 with 1 Axes>"
      ]
     },
     "metadata": {},
     "output_type": "display_data"
    },
    {
     "data": {
      "image/png": "[encoded data removed]",
      "text/plain": [
       "<Figure size 576x396 with 1 Axes>"
      ]
     },
     "metadata": {},
     "output_type": "display_data"
    },
    {
     "data": {
      "image/png": "[encoded data removed]",
      "text/plain": [
       "<Figure size 576x396 with 1 Axes>"
      ]
     },
     "metadata": {},
     "output_type": "display_data"
    },
    {
     "data": {
      "image/png": "[encoded data removed]",
      "text/plain": [
       "<Figure size 576x396 with 1 Axes>"
      ]
     },
     "metadata": {},
     "output_type": "display_data"
    },
    {
     "data": {
      "image/png": "[encoded data removed]",
      "text/plain": [
       "<Figure size 576x396 with 1 Axes>"
      ]
     },
     "metadata": {},
     "output_type": "display_data"
    },
    {
     "data": {
      "image/png": "[encoded data removed]",
      "text/plain": [
       "<Figure size 576x396 with 1 Axes>"
      ]
     },
     "metadata": {},
     "output_type": "display_data"
    },
    {
     "data": {
      "image/png": "[encoded data removed]",
      "text/plain": [
       "<Figure size 576x396 with 1 Axes>"
      ]
     },
     "metadata": {},
     "output_type": "display_data"
    },
    {
     "data": {
      "image/png": "[encoded data removed]",
      "text/plain": [
       "<Figure size 576x396 with 1 Axes>"
      ]
     },
     "metadata": {},
     "output_type": "display_data"
    },
    {
     "data": {
      "image/png": "[encoded data removed]",
      "text/plain": [
       "<Figure size 576x396 with 1 Axes>"
      ]
     },
     "metadata": {},
     "output_type": "display_data"
    },
    {
     "data": {
      "image/png": "[encoded data removed]",
      "text/plain": [
       "<Figure size 576x396 with 1 Axes>"
      ]
     },
     "metadata": {},
     "output_type": "display_data"
    }
   ],
   "source": [
    "for i in Data_cat.columns:\n",
    "    Data_cat[i].hist()\n",
    "    plt.xlabel(str(i))\n",
    "    plt.show()"
   ]
  },
  {
   "cell_type": "markdown",
   "metadata": {},
   "source": [
    "1. Most of the network protocol are of TCP tpye\n",
    "2. HTTP have been used more as service type\n",
    "3. SF falg have been activated more\n",
    "4. 44% of the connection have not successful login \n",
    "5. In none of the connections the root shell have been obtained\n",
    "6. None of the connection belongs to the `Hot` list and are not guest login"
   ]
  },
  {
   "cell_type": "code",
   "execution_count": 34,
   "metadata": {},
   "outputs": [
    {
     "data": {
      "image/png": "[encoded data removed]",
      "text/plain": [
       "<Figure size 576x396 with 1 Axes>"
      ]
     },
     "metadata": {},
     "output_type": "display_data"
    },
    {
     "data": {
      "image/png": "[encoded data removed]",
      "text/plain": [
       "<Figure size 576x396 with 1 Axes>"
      ]
     },
     "metadata": {},
     "output_type": "display_data"
    },
    {
     "data": {
      "image/png": "[encoded data removed]",
      "text/plain": [
       "<Figure size 576x396 with 1 Axes>"
      ]
     },
     "metadata": {},
     "output_type": "display_data"
    },
    {
     "data": {
      "image/png": "[encoded data removed]",
      "text/plain": [
       "<Figure size 576x396 with 1 Axes>"
      ]
     },
     "metadata": {},
     "output_type": "display_data"
    },
    {
     "data": {
      "image/png": "[encoded data removed]",
      "text/plain": [
       "<Figure size 576x396 with 1 Axes>"
      ]
     },
     "metadata": {},
     "output_type": "display_data"
    },
    {
     "data": {
      "image/png": "[encoded data removed]",
      "text/plain": [
       "<Figure size 576x396 with 1 Axes>"
      ]
     },
     "metadata": {},
     "output_type": "display_data"
    },
    {
     "data": {
      "image/png": "[encoded data removed]",
      "text/plain": [
       "<Figure size 576x396 with 1 Axes>"
      ]
     },
     "metadata": {},
     "output_type": "display_data"
    },
    {
     "data": {
      "image/png": "[encoded data removed]",
      "text/plain": [
       "<Figure size 576x396 with 1 Axes>"
      ]
     },
     "metadata": {},
     "output_type": "display_data"
    },
    {
     "data": {
      "image/png": "[encoded data removed]",
      "text/plain": [
       "<Figure size 576x396 with 1 Axes>"
      ]
     },
     "metadata": {},
     "output_type": "display_data"
    },
    {
     "data": {
      "image/png": "[encoded data removed]",
      "text/plain": [
       "<Figure size 576x396 with 1 Axes>"
      ]
     },
     "metadata": {},
     "output_type": "display_data"
    },
    {
     "data": {
      "image/png": "[encoded data removed]",
      "text/plain": [
       "<Figure size 576x396 with 1 Axes>"
      ]
     },
     "metadata": {},
     "output_type": "display_data"
    }
   ],
   "source": [
    "for i in Data_cat.columns:\n",
    "    sns.boxplot(data = Data_cat,x=\"Activity\",y=Data_cat[i])\n",
    "    plt.show()"
   ]
  },
  {
   "cell_type": "markdown",
   "metadata": {},
   "source": [
    "1. Normal connection have http type service more than attacked connection\n",
    "2. Attacked connection have other type, private of service more as comapre to normal connection\n",
    "3. Flag_S0 have been activated more in attacked connections\n",
    "4. Flag_SF have been activated more in normal connections\n",
    "5. Normal connections have more successfull logins"
   ]
  },
  {
   "cell_type": "code",
   "execution_count": 27,
   "metadata": {},
   "outputs": [],
   "source": [
    "def create_dummies(df, colname):\n",
    "    col_dummy = pd.get_dummies(df[colname],prefix=colname,drop_first=True)\n",
    "    df = pd.concat([df,col_dummy],axis=1)\n",
    "    df.drop(colname,axis=1,inplace=True)\n",
    "    return df"
   ]
  },
  {
   "cell_type": "code",
   "execution_count": 28,
   "metadata": {},
   "outputs": [],
   "source": [
    "for c_feature in Data_cat.columns[0:len(Data_cat.columns)-1]:\n",
    "    Data_cat[c_feature] = Data_cat[c_feature].astype('category')\n",
    "    Data_cat = create_dummies(Data_cat,c_feature)"
   ]
  },
  {
   "cell_type": "code",
   "execution_count": 29,
   "metadata": {},
   "outputs": [
    {
     "data": {
      "text/html": [
       "<div>\n",
       "<style scoped>\n",
       "    .dataframe tbody tr th:only-of-type {\n",
       "        vertical-align: middle;\n",
       "    }\n",
       "\n",
       "    .dataframe tbody tr th {\n",
       "        vertical-align: top;\n",
       "    }\n",
       "\n",
       "    .dataframe thead th {\n",
       "        text-align: right;\n",
       "    }\n",
       "</style>\n",
       "<table border=\"1\" class=\"dataframe\">\n",
       "  <thead>\n",
       "    <tr style=\"text-align: right;\">\n",
       "      <th></th>\n",
       "      <th>Activity</th>\n",
       "      <th>Protocol_type_tcp</th>\n",
       "      <th>Protocol_type_udp</th>\n",
       "      <th>Service_ftp_data</th>\n",
       "      <th>Service_http</th>\n",
       "      <th>Service_other_type</th>\n",
       "      <th>Service_private</th>\n",
       "      <th>Service_smtp</th>\n",
       "      <th>Flag_REJ</th>\n",
       "      <th>Flag_RSTO</th>\n",
       "      <th>Flag_RSTOS0</th>\n",
       "      <th>Flag_RSTR</th>\n",
       "      <th>Flag_S0</th>\n",
       "      <th>Flag_S1</th>\n",
       "      <th>Flag_S2</th>\n",
       "      <th>Flag_S3</th>\n",
       "      <th>Flag_SF</th>\n",
       "      <th>Flag_SH</th>\n",
       "      <th>Urgent_1</th>\n",
       "      <th>Urgent_2</th>\n",
       "      <th>Urgent_3</th>\n",
       "      <th>Land_1</th>\n",
       "      <th>Logged_in_1</th>\n",
       "      <th>Root_shell_1</th>\n",
       "      <th>Su_attempted_1</th>\n",
       "      <th>Su_attempted_2</th>\n",
       "      <th>Is_host_login_1</th>\n",
       "      <th>Is_guest_login_1</th>\n",
       "    </tr>\n",
       "  </thead>\n",
       "  <tbody>\n",
       "    <tr>\n",
       "      <th>0</th>\n",
       "      <td>0</td>\n",
       "      <td>1</td>\n",
       "      <td>0</td>\n",
       "      <td>1</td>\n",
       "      <td>0</td>\n",
       "      <td>0</td>\n",
       "      <td>0</td>\n",
       "      <td>0</td>\n",
       "      <td>0</td>\n",
       "      <td>0</td>\n",
       "      <td>0</td>\n",
       "      <td>0</td>\n",
       "      <td>0</td>\n",
       "      <td>0</td>\n",
       "      <td>0</td>\n",
       "      <td>0</td>\n",
       "      <td>1</td>\n",
       "      <td>0</td>\n",
       "      <td>0</td>\n",
       "      <td>0</td>\n",
       "      <td>0</td>\n",
       "      <td>0</td>\n",
       "      <td>0</td>\n",
       "      <td>0</td>\n",
       "      <td>0</td>\n",
       "      <td>0</td>\n",
       "      <td>0</td>\n",
       "      <td>0</td>\n",
       "    </tr>\n",
       "    <tr>\n",
       "      <th>1</th>\n",
       "      <td>0</td>\n",
       "      <td>0</td>\n",
       "      <td>1</td>\n",
       "      <td>0</td>\n",
       "      <td>0</td>\n",
       "      <td>1</td>\n",
       "      <td>0</td>\n",
       "      <td>0</td>\n",
       "      <td>0</td>\n",
       "      <td>0</td>\n",
       "      <td>0</td>\n",
       "      <td>0</td>\n",
       "      <td>0</td>\n",
       "      <td>0</td>\n",
       "      <td>0</td>\n",
       "      <td>0</td>\n",
       "      <td>1</td>\n",
       "      <td>0</td>\n",
       "      <td>0</td>\n",
       "      <td>0</td>\n",
       "      <td>0</td>\n",
       "      <td>0</td>\n",
       "      <td>0</td>\n",
       "      <td>0</td>\n",
       "      <td>0</td>\n",
       "      <td>0</td>\n",
       "      <td>0</td>\n",
       "      <td>0</td>\n",
       "    </tr>\n",
       "  </tbody>\n",
       "</table>\n",
       "</div>"
      ],
      "text/plain": [
       "   Activity  Protocol_type_tcp  Protocol_type_udp  Service_ftp_data  Service_http  Service_other_type  Service_private  Service_smtp  Flag_REJ  Flag_RSTO  Flag_RSTOS0  Flag_RSTR  Flag_S0  Flag_S1  Flag_S2  Flag_S3  Flag_SF  Flag_SH  Urgent_1  Urgent_2  Urgent_3  Land_1  Logged_in_1  Root_shell_1  Su_attempted_1  Su_attempted_2  Is_host_login_1  Is_guest_login_1\n",
       "0         0                  1                  0                 1             0                   0                0             0         0          0            0          0        0        0        0        0        1        0         0         0         0       0            0             0               0               0                0                 0\n",
       "1         0                  0                  1                 0             0                   1                0             0         0          0            0          0        0        0        0        0        1        0         0         0         0       0            0             0               0               0                0                 0"
      ]
     },
     "execution_count": 29,
     "metadata": {},
     "output_type": "execute_result"
    }
   ],
   "source": [
    "Data_cat.head(2)"
   ]
  },
  {
   "cell_type": "code",
   "execution_count": 30,
   "metadata": {},
   "outputs": [],
   "source": [
    "Pre_processing_data = pd.concat([Data_num,Data_cat],axis=1)"
   ]
  },
  {
   "cell_type": "code",
   "execution_count": 31,
   "metadata": {},
   "outputs": [],
   "source": [
    "Normal_Data = Pre_processing_data"
   ]
  },
  {
   "cell_type": "code",
   "execution_count": 32,
   "metadata": {},
   "outputs": [],
   "source": [
    "Normal_Data = Normal_Data.drop(columns=\"Activity\",axis =1 )"
   ]
  },
  {
   "cell_type": "code",
   "execution_count": 33,
   "metadata": {
    "scrolled": true
   },
   "outputs": [],
   "source": [
    "Normal_Data['Activity'] = Data.Activity"
   ]
  },
  {
   "cell_type": "markdown",
   "metadata": {},
   "source": [
    "# RFE"
   ]
  },
  {
   "cell_type": "code",
   "execution_count": 34,
   "metadata": {},
   "outputs": [],
   "source": [
    "feature = Normal_Data.loc[:,Normal_Data.columns.difference(['Activity'])]\n",
    "target = Normal_Data.Activity"
   ]
  },
  {
   "cell_type": "code",
   "execution_count": 43,
   "metadata": {},
   "outputs": [],
   "source": [
    "rfe= RFE(RandomForestClassifier(),20)\n",
    "rfe = rfe.fit(feature, target)"
   ]
  },
  {
   "cell_type": "code",
   "execution_count": 44,
   "metadata": {},
   "outputs": [],
   "source": [
    "RFE_feature = feature.columns[rfe.get_support()]\n",
    "Rfe_result = feature[RFE_feature]"
   ]
  },
  {
   "cell_type": "code",
   "execution_count": 45,
   "metadata": {},
   "outputs": [
    {
     "data": {
      "text/plain": [
       "Index(['Count', 'Diff_srv_rate', 'Dst_bytes', 'Dst_host_count', 'Dst_host_diff_srv_rate', 'Dst_host_same_src_port_rate', 'Dst_host_same_srv_rate', 'Dst_host_srv_count', 'Dst_host_srv_diff_host_rate', 'Flag_SF', 'Last_flag', 'Logged_in_1', 'Protocol_type_tcp', 'Same_srv_rate', 'Serror_rate', 'Service_http', 'Service_other_type', 'Service_private', 'Src_bytes', 'Srv_count'], dtype='object')"
      ]
     },
     "execution_count": 45,
     "metadata": {},
     "output_type": "execute_result"
    }
   ],
   "source": [
    "Rfe_result.columns"
   ]
  },
  {
   "cell_type": "code",
   "execution_count": 35,
   "metadata": {},
   "outputs": [],
   "source": [
    "Select_K_best = SelectKBest(f_classif,k=20).fit(feature,target)"
   ]
  },
  {
   "cell_type": "code",
   "execution_count": 36,
   "metadata": {},
   "outputs": [
    {
     "data": {
      "text/plain": [
       "Index(['Count', 'Diff_srv_rate', 'Dst_bytes', 'Dst_host_count', 'Dst_host_diff_srv_rate', 'Dst_host_same_srv_rate', 'Dst_host_srv_count', 'Flag_REJ', 'Flag_S0', 'Flag_SF', 'Last_flag', 'Logged_in_1', 'Protocol_type_udp', 'Rerror_rate', 'Same_srv_rate', 'Serror_rate', 'Service_http', 'Service_other_type', 'Service_private', 'Service_smtp'], dtype='object')"
      ]
     },
     "execution_count": 36,
     "metadata": {},
     "output_type": "execute_result"
    }
   ],
   "source": [
    "feature.columns[Select_K_best.get_support()]"
   ]
  },
  {
   "cell_type": "code",
   "execution_count": 38,
   "metadata": {},
   "outputs": [],
   "source": [
    "Normal_Num = Normal_Data.iloc[:,range(0,19)]\n",
    "Normal_Num['Activity'] = Normal_Data.Activity"
   ]
  },
  {
   "cell_type": "code",
   "execution_count": 39,
   "metadata": {},
   "outputs": [
    {
     "data": {
      "text/html": [
       "<div>\n",
       "<style scoped>\n",
       "    .dataframe tbody tr th:only-of-type {\n",
       "        vertical-align: middle;\n",
       "    }\n",
       "\n",
       "    .dataframe tbody tr th {\n",
       "        vertical-align: top;\n",
       "    }\n",
       "\n",
       "    .dataframe thead th {\n",
       "        text-align: right;\n",
       "    }\n",
       "</style>\n",
       "<table border=\"1\" class=\"dataframe\">\n",
       "  <thead>\n",
       "    <tr style=\"text-align: right;\">\n",
       "      <th></th>\n",
       "      <th>Count</th>\n",
       "      <th>Diff_srv_rate</th>\n",
       "      <th>Dst_bytes</th>\n",
       "      <th>Dst_host_count</th>\n",
       "      <th>Dst_host_diff_srv_rate</th>\n",
       "      <th>Dst_host_same_src_port_rate</th>\n",
       "      <th>Dst_host_same_srv_rate</th>\n",
       "      <th>Dst_host_srv_count</th>\n",
       "      <th>Dst_host_srv_diff_host_rate</th>\n",
       "      <th>Duration</th>\n",
       "      <th>Hot</th>\n",
       "      <th>Last_flag</th>\n",
       "      <th>Num_compromised</th>\n",
       "      <th>Rerror_rate</th>\n",
       "      <th>Same_srv_rate</th>\n",
       "      <th>Serror_rate</th>\n",
       "      <th>Src_bytes</th>\n",
       "      <th>Srv_count</th>\n",
       "      <th>Srv_diff_host_rate</th>\n",
       "      <th>Activity</th>\n",
       "    </tr>\n",
       "  </thead>\n",
       "  <tbody>\n",
       "    <tr>\n",
       "      <th>0</th>\n",
       "      <td>2</td>\n",
       "      <td>0.00</td>\n",
       "      <td>0</td>\n",
       "      <td>150</td>\n",
       "      <td>0.03</td>\n",
       "      <td>0.17</td>\n",
       "      <td>0.17</td>\n",
       "      <td>25</td>\n",
       "      <td>0.0</td>\n",
       "      <td>0.0</td>\n",
       "      <td>0</td>\n",
       "      <td>20</td>\n",
       "      <td>0</td>\n",
       "      <td>0.0</td>\n",
       "      <td>1.00</td>\n",
       "      <td>0.0</td>\n",
       "      <td>491</td>\n",
       "      <td>2</td>\n",
       "      <td>0.0</td>\n",
       "      <td>0</td>\n",
       "    </tr>\n",
       "    <tr>\n",
       "      <th>1</th>\n",
       "      <td>13</td>\n",
       "      <td>0.15</td>\n",
       "      <td>0</td>\n",
       "      <td>255</td>\n",
       "      <td>0.60</td>\n",
       "      <td>0.88</td>\n",
       "      <td>0.00</td>\n",
       "      <td>1</td>\n",
       "      <td>0.0</td>\n",
       "      <td>0.0</td>\n",
       "      <td>0</td>\n",
       "      <td>15</td>\n",
       "      <td>0</td>\n",
       "      <td>0.0</td>\n",
       "      <td>0.08</td>\n",
       "      <td>0.0</td>\n",
       "      <td>146</td>\n",
       "      <td>1</td>\n",
       "      <td>0.0</td>\n",
       "      <td>0</td>\n",
       "    </tr>\n",
       "    <tr>\n",
       "      <th>2</th>\n",
       "      <td>123</td>\n",
       "      <td>0.07</td>\n",
       "      <td>0</td>\n",
       "      <td>255</td>\n",
       "      <td>0.05</td>\n",
       "      <td>0.00</td>\n",
       "      <td>0.10</td>\n",
       "      <td>26</td>\n",
       "      <td>0.0</td>\n",
       "      <td>0.0</td>\n",
       "      <td>0</td>\n",
       "      <td>19</td>\n",
       "      <td>0</td>\n",
       "      <td>0.0</td>\n",
       "      <td>0.05</td>\n",
       "      <td>1.0</td>\n",
       "      <td>0</td>\n",
       "      <td>6</td>\n",
       "      <td>0.0</td>\n",
       "      <td>1</td>\n",
       "    </tr>\n",
       "  </tbody>\n",
       "</table>\n",
       "</div>"
      ],
      "text/plain": [
       "   Count  Diff_srv_rate  Dst_bytes  Dst_host_count  Dst_host_diff_srv_rate  Dst_host_same_src_port_rate  Dst_host_same_srv_rate  Dst_host_srv_count  Dst_host_srv_diff_host_rate  Duration  Hot  Last_flag  Num_compromised  Rerror_rate  Same_srv_rate  Serror_rate  Src_bytes  Srv_count  Srv_diff_host_rate  Activity\n",
       "0      2           0.00          0             150                    0.03                         0.17                    0.17                  25                          0.0       0.0    0         20                0          0.0           1.00          0.0        491          2                 0.0         0\n",
       "1     13           0.15          0             255                    0.60                         0.88                    0.00                   1                          0.0       0.0    0         15                0          0.0           0.08          0.0        146          1                 0.0         0\n",
       "2    123           0.07          0             255                    0.05                         0.00                    0.10                  26                          0.0       0.0    0         19                0          0.0           0.05          1.0          0          6                 0.0         1"
      ]
     },
     "execution_count": 39,
     "metadata": {},
     "output_type": "execute_result"
    }
   ],
   "source": [
    "Normal_Num.head(3)"
   ]
  },
  {
   "cell_type": "code",
   "execution_count": 40,
   "metadata": {},
   "outputs": [
    {
     "data": {
      "text/plain": [
       "(125973, 20)"
      ]
     },
     "execution_count": 40,
     "metadata": {},
     "output_type": "execute_result"
    }
   ],
   "source": [
    "Normal_Num.shape"
   ]
  },
  {
   "cell_type": "code",
   "execution_count": 41,
   "metadata": {},
   "outputs": [],
   "source": [
    "Normal_cat = Normal_Data.iloc[:,range(19,47)]"
   ]
  },
  {
   "cell_type": "code",
   "execution_count": 42,
   "metadata": {
    "scrolled": false
   },
   "outputs": [
    {
     "data": {
      "text/plain": [
       "(125973, 28)"
      ]
     },
     "execution_count": 42,
     "metadata": {},
     "output_type": "execute_result"
    }
   ],
   "source": [
    "Normal_cat.shape"
   ]
  },
  {
   "cell_type": "code",
   "execution_count": 52,
   "metadata": {},
   "outputs": [],
   "source": [
    "#numerical_profile= pandas_profiling.ProfileReport(Normal_Num)\n",
    "#numerical_profile.to_file(\"Numerical.html\")"
   ]
  },
  {
   "cell_type": "markdown",
   "metadata": {},
   "source": [
    "# Univariate variable reduction"
   ]
  },
  {
   "cell_type": "code",
   "execution_count": 43,
   "metadata": {},
   "outputs": [],
   "source": [
    "Logit_feature = Normal_Num.columns.difference(['Activity'])"
   ]
  },
  {
   "cell_type": "code",
   "execution_count": 44,
   "metadata": {
    "scrolled": true
   },
   "outputs": [
    {
     "data": {
      "text/plain": [
       "Index(['Count', 'Diff_srv_rate', 'Dst_bytes', 'Dst_host_count', 'Dst_host_diff_srv_rate', 'Dst_host_same_src_port_rate', 'Dst_host_same_srv_rate', 'Dst_host_srv_count', 'Dst_host_srv_diff_host_rate', 'Duration', 'Hot', 'Last_flag', 'Num_compromised', 'Rerror_rate', 'Same_srv_rate', 'Serror_rate', 'Src_bytes', 'Srv_count', 'Srv_diff_host_rate'], dtype='object')"
      ]
     },
     "execution_count": 44,
     "metadata": {},
     "output_type": "execute_result"
    }
   ],
   "source": [
    "Logit_feature"
   ]
  },
  {
   "cell_type": "code",
   "execution_count": 45,
   "metadata": {
    "scrolled": true
   },
   "outputs": [
    {
     "name": "stdout",
     "output_type": "stream",
     "text": [
      "Count\n",
      "Optimization terminated successfully.\n",
      "         Current function value: 0.474707\n",
      "         Iterations 7\n",
      "Diff_srv_rate\n",
      "Optimization terminated successfully.\n",
      "         Current function value: 0.666611\n",
      "         Iterations 6\n",
      "Dst_bytes\n",
      "Optimization terminated successfully.\n",
      "         Current function value: 0.594466\n",
      "         Iterations 8\n",
      "Dst_host_count\n",
      "Optimization terminated successfully.\n",
      "         Current function value: 0.615406\n",
      "         Iterations 5\n",
      "Dst_host_diff_srv_rate\n",
      "Optimization terminated successfully.\n",
      "         Current function value: 0.656414\n",
      "         Iterations 6\n",
      "Dst_host_same_src_port_rate\n",
      "Optimization terminated successfully.\n",
      "         Current function value: 0.686483\n",
      "         Iterations 4\n",
      "Dst_host_same_srv_rate\n",
      "Optimization terminated successfully.\n",
      "         Current function value: 0.421391\n",
      "         Iterations 6\n",
      "Dst_host_srv_count\n",
      "Optimization terminated successfully.\n",
      "         Current function value: 0.380618\n",
      "         Iterations 7\n",
      "Dst_host_srv_diff_host_rate\n",
      "Optimization terminated successfully.\n",
      "         Current function value: 0.689234\n",
      "         Iterations 4\n",
      "Duration\n",
      "Optimization terminated successfully.\n",
      "         Current function value: 0.690710\n",
      "         Iterations 3\n",
      "Hot\n",
      "Optimization terminated successfully.\n",
      "         Current function value: 0.690731\n",
      "         Iterations 3\n",
      "Last_flag\n",
      "Optimization terminated successfully.\n",
      "         Current function value: 0.593763\n",
      "         Iterations 6\n",
      "Num_compromised\n",
      "Optimization terminated successfully.\n",
      "         Current function value: 0.689482\n",
      "         Iterations 5\n",
      "Rerror_rate\n",
      "Optimization terminated successfully.\n",
      "         Current function value: 0.657051\n",
      "         Iterations 5\n",
      "Same_srv_rate\n",
      "Optimization terminated successfully.\n",
      "         Current function value: 0.358365\n",
      "         Iterations 7\n",
      "Serror_rate\n",
      "Optimization terminated successfully.\n",
      "         Current function value: 0.437155\n",
      "         Iterations 8\n",
      "Src_bytes\n",
      "Optimization terminated successfully.\n",
      "         Current function value: 0.690744\n",
      "         Iterations 3\n",
      "Srv_count\n",
      "Optimization terminated successfully.\n",
      "         Current function value: 0.690751\n",
      "         Iterations 3\n",
      "Srv_diff_host_rate\n",
      "Optimization terminated successfully.\n",
      "         Current function value: 0.683325\n",
      "         Iterations 5\n"
     ]
    }
   ],
   "source": [
    "model = None\n",
    "pred = None\n",
    "Auroc = []\n",
    "Gini = []\n",
    "for col in Logit_feature:\n",
    "    print(col)\n",
    "    model = smf.logit(formula=\"Activity~\"+col,data=Normal_Num).fit()\n",
    "    pred = model.predict(Normal_Num)\n",
    "    au_roc = metrics.roc_auc_score(Normal_Num['Activity'],pred)\n",
    "    Auroc.append(au_roc)\n",
    "    Gini.append(2*au_roc-1)\n",
    "Auroc = pd.Series(Auroc,name = \"auroc\")\n",
    "Gini = pd.Series(Gini,name = \"gini\")\n",
    "Logit_feature = pd.Series(Logit_feature,name= \"Columns\")"
   ]
  },
  {
   "cell_type": "code",
   "execution_count": 46,
   "metadata": {
    "scrolled": true
   },
   "outputs": [
    {
     "data": {
      "text/html": [
       "<div>\n",
       "<style scoped>\n",
       "    .dataframe tbody tr th:only-of-type {\n",
       "        vertical-align: middle;\n",
       "    }\n",
       "\n",
       "    .dataframe tbody tr th {\n",
       "        vertical-align: top;\n",
       "    }\n",
       "\n",
       "    .dataframe thead th {\n",
       "        text-align: right;\n",
       "    }\n",
       "</style>\n",
       "<table border=\"1\" class=\"dataframe\">\n",
       "  <thead>\n",
       "    <tr style=\"text-align: right;\">\n",
       "      <th></th>\n",
       "      <th>Columns</th>\n",
       "      <th>auroc</th>\n",
       "      <th>gini</th>\n",
       "    </tr>\n",
       "  </thead>\n",
       "  <tbody>\n",
       "    <tr>\n",
       "      <th>0</th>\n",
       "      <td>Dst_bytes</td>\n",
       "      <td>0.899522</td>\n",
       "      <td>0.799045</td>\n",
       "    </tr>\n",
       "    <tr>\n",
       "      <th>1</th>\n",
       "      <td>Src_bytes</td>\n",
       "      <td>0.898663</td>\n",
       "      <td>0.797325</td>\n",
       "    </tr>\n",
       "    <tr>\n",
       "      <th>2</th>\n",
       "      <td>Dst_host_srv_count</td>\n",
       "      <td>0.892480</td>\n",
       "      <td>0.784961</td>\n",
       "    </tr>\n",
       "    <tr>\n",
       "      <th>3</th>\n",
       "      <td>Same_srv_rate</td>\n",
       "      <td>0.873908</td>\n",
       "      <td>0.747816</td>\n",
       "    </tr>\n",
       "    <tr>\n",
       "      <th>4</th>\n",
       "      <td>Dst_host_same_srv_rate</td>\n",
       "      <td>0.865348</td>\n",
       "      <td>0.730696</td>\n",
       "    </tr>\n",
       "    <tr>\n",
       "      <th>5</th>\n",
       "      <td>Diff_srv_rate</td>\n",
       "      <td>0.844736</td>\n",
       "      <td>0.689472</td>\n",
       "    </tr>\n",
       "    <tr>\n",
       "      <th>6</th>\n",
       "      <td>Dst_host_diff_srv_rate</td>\n",
       "      <td>0.826678</td>\n",
       "      <td>0.653356</td>\n",
       "    </tr>\n",
       "    <tr>\n",
       "      <th>7</th>\n",
       "      <td>Count</td>\n",
       "      <td>0.820804</td>\n",
       "      <td>0.641608</td>\n",
       "    </tr>\n",
       "    <tr>\n",
       "      <th>8</th>\n",
       "      <td>Serror_rate</td>\n",
       "      <td>0.806205</td>\n",
       "      <td>0.612409</td>\n",
       "    </tr>\n",
       "    <tr>\n",
       "      <th>9</th>\n",
       "      <td>Last_flag</td>\n",
       "      <td>0.762893</td>\n",
       "      <td>0.525786</td>\n",
       "    </tr>\n",
       "    <tr>\n",
       "      <th>10</th>\n",
       "      <td>Dst_host_count</td>\n",
       "      <td>0.706788</td>\n",
       "      <td>0.413576</td>\n",
       "    </tr>\n",
       "    <tr>\n",
       "      <th>11</th>\n",
       "      <td>Srv_diff_host_rate</td>\n",
       "      <td>0.636594</td>\n",
       "      <td>0.273188</td>\n",
       "    </tr>\n",
       "    <tr>\n",
       "      <th>12</th>\n",
       "      <td>Rerror_rate</td>\n",
       "      <td>0.586651</td>\n",
       "      <td>0.173302</td>\n",
       "    </tr>\n",
       "    <tr>\n",
       "      <th>13</th>\n",
       "      <td>Num_compromised</td>\n",
       "      <td>0.505033</td>\n",
       "      <td>0.010065</td>\n",
       "    </tr>\n",
       "    <tr>\n",
       "      <th>14</th>\n",
       "      <td>Hot</td>\n",
       "      <td>0.502662</td>\n",
       "      <td>0.005324</td>\n",
       "    </tr>\n",
       "    <tr>\n",
       "      <th>15</th>\n",
       "      <td>Duration</td>\n",
       "      <td>0.459154</td>\n",
       "      <td>-0.081692</td>\n",
       "    </tr>\n",
       "    <tr>\n",
       "      <th>16</th>\n",
       "      <td>Srv_count</td>\n",
       "      <td>0.441108</td>\n",
       "      <td>-0.117783</td>\n",
       "    </tr>\n",
       "    <tr>\n",
       "      <th>17</th>\n",
       "      <td>Dst_host_same_src_port_rate</td>\n",
       "      <td>0.370419</td>\n",
       "      <td>-0.259162</td>\n",
       "    </tr>\n",
       "    <tr>\n",
       "      <th>18</th>\n",
       "      <td>Dst_host_srv_diff_host_rate</td>\n",
       "      <td>0.318164</td>\n",
       "      <td>-0.363673</td>\n",
       "    </tr>\n",
       "  </tbody>\n",
       "</table>\n",
       "</div>"
      ],
      "text/plain": [
       "                        Columns     auroc      gini\n",
       "0                     Dst_bytes  0.899522  0.799045\n",
       "1                     Src_bytes  0.898663  0.797325\n",
       "2            Dst_host_srv_count  0.892480  0.784961\n",
       "3                 Same_srv_rate  0.873908  0.747816\n",
       "4        Dst_host_same_srv_rate  0.865348  0.730696\n",
       "5                 Diff_srv_rate  0.844736  0.689472\n",
       "6        Dst_host_diff_srv_rate  0.826678  0.653356\n",
       "7                         Count  0.820804  0.641608\n",
       "8                   Serror_rate  0.806205  0.612409\n",
       "9                     Last_flag  0.762893  0.525786\n",
       "10               Dst_host_count  0.706788  0.413576\n",
       "11           Srv_diff_host_rate  0.636594  0.273188\n",
       "12                  Rerror_rate  0.586651  0.173302\n",
       "13              Num_compromised  0.505033  0.010065\n",
       "14                          Hot  0.502662  0.005324\n",
       "15                     Duration  0.459154 -0.081692\n",
       "16                    Srv_count  0.441108 -0.117783\n",
       "17  Dst_host_same_src_port_rate  0.370419 -0.259162\n",
       "18  Dst_host_srv_diff_host_rate  0.318164 -0.363673"
      ]
     },
     "execution_count": 46,
     "metadata": {},
     "output_type": "execute_result"
    }
   ],
   "source": [
    "Logit_Regression_Features = pd.concat([Logit_feature,Auroc,Gini],axis =1)\n",
    "Logit_Regression_Features = Logit_Regression_Features.sort_values(by =\"gini\",ascending=False)\n",
    "Logit_Regression_Features.reset_index(drop=True)"
   ]
  },
  {
   "cell_type": "code",
   "execution_count": 47,
   "metadata": {},
   "outputs": [
    {
     "data": {
      "text/plain": [
       "2                  Dst_bytes\n",
       "16                 Src_bytes\n",
       "7         Dst_host_srv_count\n",
       "14             Same_srv_rate\n",
       "6     Dst_host_same_srv_rate\n",
       "1              Diff_srv_rate\n",
       "4     Dst_host_diff_srv_rate\n",
       "0                      Count\n",
       "15               Serror_rate\n",
       "11                 Last_flag\n",
       "3             Dst_host_count\n",
       "Name: Columns, dtype: object"
      ]
     },
     "execution_count": 47,
     "metadata": {},
     "output_type": "execute_result"
    }
   ],
   "source": [
    "#Selecting the top 10 varibales from above Dataframe\n",
    "Num_variabels = Logit_Regression_Features.Columns[Logit_Regression_Features.auroc> .70]\n",
    "Num_variabels"
   ]
  },
  {
   "cell_type": "markdown",
   "metadata": {},
   "source": [
    "# Chi-Square Test"
   ]
  },
  {
   "cell_type": "code",
   "execution_count": 48,
   "metadata": {},
   "outputs": [],
   "source": [
    "chi2 = []\n",
    "p_value = []\n",
    "Cat_feature = Normal_cat.columns.difference(['Activity'])\n",
    "for col in Cat_feature:\n",
    "    crosstab = pd.crosstab(Normal_cat[col],Normal_cat.Activity,margins=True)\n",
    "    Chi_Score = stats.chi2_contingency(observed=crosstab)\n",
    "    chi2.append(Chi_Score[0])\n",
    "    p_value.append(Chi_Score[1])\n",
    "Cat_feature = pd.Series(Cat_feature,name = \"Columns\")\n",
    "chi2 = pd.Series(chi2, name =\"Chi_Score\")\n",
    "p_value = pd.Series(p_value, name = \"P_Value\")"
   ]
  },
  {
   "cell_type": "code",
   "execution_count": 49,
   "metadata": {},
   "outputs": [],
   "source": [
    "Chi_result = pd.concat([Cat_feature,chi2,p_value],axis =1)\n",
    "Chi_result = pd.DataFrame(Chi_result)"
   ]
  },
  {
   "cell_type": "code",
   "execution_count": 50,
   "metadata": {},
   "outputs": [],
   "source": [
    "Cat_variables = Chi_result.Columns[Chi_result.P_Value <0.05]"
   ]
  },
  {
   "cell_type": "code",
   "execution_count": 51,
   "metadata": {},
   "outputs": [
    {
     "data": {
      "text/plain": [
       "0               Flag_REJ\n",
       "1              Flag_RSTO\n",
       "2            Flag_RSTOS0\n",
       "3              Flag_RSTR\n",
       "4                Flag_S0\n",
       "5                Flag_S1\n",
       "6                Flag_S2\n",
       "7                Flag_S3\n",
       "8                Flag_SF\n",
       "9                Flag_SH\n",
       "10      Is_guest_login_1\n",
       "13           Logged_in_1\n",
       "14     Protocol_type_tcp\n",
       "15     Protocol_type_udp\n",
       "16          Root_shell_1\n",
       "17      Service_ftp_data\n",
       "18          Service_http\n",
       "19    Service_other_type\n",
       "20       Service_private\n",
       "21          Service_smtp\n",
       "22        Su_attempted_1\n",
       "23        Su_attempted_2\n",
       "Name: Columns, dtype: object"
      ]
     },
     "execution_count": 51,
     "metadata": {},
     "output_type": "execute_result"
    }
   ],
   "source": [
    "Cat_variables"
   ]
  },
  {
   "cell_type": "code",
   "execution_count": 52,
   "metadata": {},
   "outputs": [],
   "source": [
    "Selected_num_variabels = Normal_Num[Num_variabels]\n",
    "Selected_cat_variables = Normal_cat[Cat_variables]"
   ]
  },
  {
   "cell_type": "code",
   "execution_count": 53,
   "metadata": {},
   "outputs": [
    {
     "data": {
      "text/html": [
       "<div>\n",
       "<style scoped>\n",
       "    .dataframe tbody tr th:only-of-type {\n",
       "        vertical-align: middle;\n",
       "    }\n",
       "\n",
       "    .dataframe tbody tr th {\n",
       "        vertical-align: top;\n",
       "    }\n",
       "\n",
       "    .dataframe thead th {\n",
       "        text-align: right;\n",
       "    }\n",
       "</style>\n",
       "<table border=\"1\" class=\"dataframe\">\n",
       "  <thead>\n",
       "    <tr style=\"text-align: right;\">\n",
       "      <th></th>\n",
       "      <th>Dst_bytes</th>\n",
       "      <th>Src_bytes</th>\n",
       "      <th>Dst_host_srv_count</th>\n",
       "      <th>Same_srv_rate</th>\n",
       "      <th>Dst_host_same_srv_rate</th>\n",
       "      <th>Diff_srv_rate</th>\n",
       "      <th>Dst_host_diff_srv_rate</th>\n",
       "      <th>Count</th>\n",
       "      <th>Serror_rate</th>\n",
       "      <th>Last_flag</th>\n",
       "      <th>Dst_host_count</th>\n",
       "      <th>Flag_REJ</th>\n",
       "      <th>Flag_RSTO</th>\n",
       "      <th>Flag_RSTOS0</th>\n",
       "      <th>Flag_RSTR</th>\n",
       "      <th>Flag_S0</th>\n",
       "      <th>Flag_S1</th>\n",
       "      <th>Flag_S2</th>\n",
       "      <th>Flag_S3</th>\n",
       "      <th>Flag_SF</th>\n",
       "      <th>Flag_SH</th>\n",
       "      <th>Is_guest_login_1</th>\n",
       "      <th>Logged_in_1</th>\n",
       "      <th>Protocol_type_tcp</th>\n",
       "      <th>Protocol_type_udp</th>\n",
       "      <th>Root_shell_1</th>\n",
       "      <th>Service_ftp_data</th>\n",
       "      <th>Service_http</th>\n",
       "      <th>Service_other_type</th>\n",
       "      <th>Service_private</th>\n",
       "      <th>Service_smtp</th>\n",
       "      <th>Su_attempted_1</th>\n",
       "      <th>Su_attempted_2</th>\n",
       "      <th>Activity</th>\n",
       "    </tr>\n",
       "  </thead>\n",
       "  <tbody>\n",
       "    <tr>\n",
       "      <th>0</th>\n",
       "      <td>0</td>\n",
       "      <td>491</td>\n",
       "      <td>25</td>\n",
       "      <td>1.00</td>\n",
       "      <td>0.17</td>\n",
       "      <td>0.00</td>\n",
       "      <td>0.03</td>\n",
       "      <td>2</td>\n",
       "      <td>0.0</td>\n",
       "      <td>20</td>\n",
       "      <td>150</td>\n",
       "      <td>0</td>\n",
       "      <td>0</td>\n",
       "      <td>0</td>\n",
       "      <td>0</td>\n",
       "      <td>0</td>\n",
       "      <td>0</td>\n",
       "      <td>0</td>\n",
       "      <td>0</td>\n",
       "      <td>1</td>\n",
       "      <td>0</td>\n",
       "      <td>0</td>\n",
       "      <td>0</td>\n",
       "      <td>1</td>\n",
       "      <td>0</td>\n",
       "      <td>0</td>\n",
       "      <td>1</td>\n",
       "      <td>0</td>\n",
       "      <td>0</td>\n",
       "      <td>0</td>\n",
       "      <td>0</td>\n",
       "      <td>0</td>\n",
       "      <td>0</td>\n",
       "      <td>0</td>\n",
       "    </tr>\n",
       "    <tr>\n",
       "      <th>1</th>\n",
       "      <td>0</td>\n",
       "      <td>146</td>\n",
       "      <td>1</td>\n",
       "      <td>0.08</td>\n",
       "      <td>0.00</td>\n",
       "      <td>0.15</td>\n",
       "      <td>0.60</td>\n",
       "      <td>13</td>\n",
       "      <td>0.0</td>\n",
       "      <td>15</td>\n",
       "      <td>255</td>\n",
       "      <td>0</td>\n",
       "      <td>0</td>\n",
       "      <td>0</td>\n",
       "      <td>0</td>\n",
       "      <td>0</td>\n",
       "      <td>0</td>\n",
       "      <td>0</td>\n",
       "      <td>0</td>\n",
       "      <td>1</td>\n",
       "      <td>0</td>\n",
       "      <td>0</td>\n",
       "      <td>0</td>\n",
       "      <td>0</td>\n",
       "      <td>1</td>\n",
       "      <td>0</td>\n",
       "      <td>0</td>\n",
       "      <td>0</td>\n",
       "      <td>1</td>\n",
       "      <td>0</td>\n",
       "      <td>0</td>\n",
       "      <td>0</td>\n",
       "      <td>0</td>\n",
       "      <td>0</td>\n",
       "    </tr>\n",
       "    <tr>\n",
       "      <th>2</th>\n",
       "      <td>0</td>\n",
       "      <td>0</td>\n",
       "      <td>26</td>\n",
       "      <td>0.05</td>\n",
       "      <td>0.10</td>\n",
       "      <td>0.07</td>\n",
       "      <td>0.05</td>\n",
       "      <td>123</td>\n",
       "      <td>1.0</td>\n",
       "      <td>19</td>\n",
       "      <td>255</td>\n",
       "      <td>0</td>\n",
       "      <td>0</td>\n",
       "      <td>0</td>\n",
       "      <td>0</td>\n",
       "      <td>1</td>\n",
       "      <td>0</td>\n",
       "      <td>0</td>\n",
       "      <td>0</td>\n",
       "      <td>0</td>\n",
       "      <td>0</td>\n",
       "      <td>0</td>\n",
       "      <td>0</td>\n",
       "      <td>1</td>\n",
       "      <td>0</td>\n",
       "      <td>0</td>\n",
       "      <td>0</td>\n",
       "      <td>0</td>\n",
       "      <td>0</td>\n",
       "      <td>1</td>\n",
       "      <td>0</td>\n",
       "      <td>0</td>\n",
       "      <td>0</td>\n",
       "      <td>1</td>\n",
       "    </tr>\n",
       "  </tbody>\n",
       "</table>\n",
       "</div>"
      ],
      "text/plain": [
       "   Dst_bytes  Src_bytes  Dst_host_srv_count  Same_srv_rate  Dst_host_same_srv_rate  Diff_srv_rate  Dst_host_diff_srv_rate  Count  Serror_rate  Last_flag  Dst_host_count  Flag_REJ  Flag_RSTO  Flag_RSTOS0  Flag_RSTR  Flag_S0  Flag_S1  Flag_S2  Flag_S3  Flag_SF  Flag_SH  Is_guest_login_1  Logged_in_1  Protocol_type_tcp  Protocol_type_udp  Root_shell_1  Service_ftp_data  Service_http  Service_other_type  Service_private  Service_smtp  Su_attempted_1  Su_attempted_2  Activity\n",
       "0          0        491                  25           1.00                    0.17           0.00                    0.03      2          0.0         20             150         0          0            0          0        0        0        0        0        1        0                 0            0                  1                  0             0                 1             0                   0                0             0               0               0         0\n",
       "1          0        146                   1           0.08                    0.00           0.15                    0.60     13          0.0         15             255         0          0            0          0        0        0        0        0        1        0                 0            0                  0                  1             0                 0             0                   1                0             0               0               0         0\n",
       "2          0          0                  26           0.05                    0.10           0.07                    0.05    123          1.0         19             255         0          0            0          0        1        0        0        0        0        0                 0            0                  1                  0             0                 0             0                   0                1             0               0               0         1"
      ]
     },
     "execution_count": 53,
     "metadata": {},
     "output_type": "execute_result"
    }
   ],
   "source": [
    "Final_data = pd.concat([Selected_num_variabels,Selected_cat_variables],axis =1)\n",
    "Final_data['Activity']  = Normal_Data.Activity\n",
    "Final_data.head(3)"
   ]
  },
  {
   "cell_type": "markdown",
   "metadata": {},
   "source": [
    "### RFE on selected Data"
   ]
  },
  {
   "cell_type": "code",
   "execution_count": 54,
   "metadata": {},
   "outputs": [],
   "source": [
    "feature_new = Final_data.loc[:,Final_data.columns.difference(['Activity'])]\n",
    "target_new = Final_data.Activity"
   ]
  },
  {
   "cell_type": "code",
   "execution_count": 66,
   "metadata": {},
   "outputs": [],
   "source": [
    "rfe1 = RFE(RandomForestClassifier(),20)\n",
    "rfe1 = rfe1.fit(feature_new,target_new)"
   ]
  },
  {
   "cell_type": "code",
   "execution_count": 67,
   "metadata": {
    "scrolled": false
   },
   "outputs": [
    {
     "name": "stdout",
     "output_type": "stream",
     "text": [
      "Index(['Count', 'Diff_srv_rate', 'Dst_bytes', 'Dst_host_count', 'Dst_host_diff_srv_rate', 'Dst_host_same_srv_rate', 'Dst_host_srv_count', 'Flag_S0', 'Flag_SF', 'Last_flag', 'Logged_in_1', 'Protocol_type_tcp', 'Protocol_type_udp', 'Same_srv_rate', 'Serror_rate', 'Service_ftp_data', 'Service_http', 'Service_other_type', 'Service_private', 'Src_bytes'], dtype='object')\n"
     ]
    }
   ],
   "source": [
    "RFE_feature_new = feature_new.columns[rfe1.get_support()]\n",
    "RFE_final_feature = feature_new[RFE_feature_new]\n",
    "print(RFE_final_feature.columns)"
   ]
  },
  {
   "cell_type": "markdown",
   "metadata": {},
   "source": [
    "### Select K-Best on Selected Data"
   ]
  },
  {
   "cell_type": "code",
   "execution_count": 55,
   "metadata": {},
   "outputs": [
    {
     "data": {
      "text/plain": [
       "Index(['Count', 'Diff_srv_rate', 'Dst_bytes', 'Dst_host_count', 'Dst_host_diff_srv_rate', 'Dst_host_same_srv_rate', 'Dst_host_srv_count', 'Flag_REJ', 'Flag_RSTR', 'Flag_S0', 'Flag_SF', 'Last_flag', 'Logged_in_1', 'Protocol_type_udp', 'Same_srv_rate', 'Serror_rate', 'Service_http', 'Service_other_type', 'Service_private', 'Service_smtp'], dtype='object')"
      ]
     },
     "execution_count": 55,
     "metadata": {},
     "output_type": "execute_result"
    }
   ],
   "source": [
    "select_k_best = SelectKBest(f_classif,k=20).fit(feature_new,target_new)\n",
    "feature_new.columns[select_k_best.get_support()]"
   ]
  },
  {
   "cell_type": "code",
   "execution_count": 56,
   "metadata": {},
   "outputs": [
    {
     "name": "stdout",
     "output_type": "stream",
     "text": [
      "Index(['Count', 'Diff_srv_rate', 'Dst_bytes', 'Dst_host_count', 'Dst_host_diff_srv_rate', 'Dst_host_same_srv_rate', 'Dst_host_srv_count', 'Flag_REJ', 'Flag_S0', 'Flag_SF', 'Last_flag', 'Logged_in_1', 'Protocol_type_udp', 'Rerror_rate', 'Same_srv_rate', 'Serror_rate', 'Service_http', 'Service_other_type', 'Service_private', 'Service_smtp'], dtype='object')\n"
     ]
    }
   ],
   "source": [
    "print(feature.columns[Select_K_best.get_support()])"
   ]
  },
  {
   "cell_type": "markdown",
   "metadata": {},
   "source": [
    "## VIF"
   ]
  },
  {
   "cell_type": "code",
   "execution_count": 224,
   "metadata": {},
   "outputs": [],
   "source": [
    "Variable_for_vif = Final_data.loc[:,['Count','Diff_srv_rate','Dst_bytes','Dst_host_count','Dst_host_diff_srv_rate','Dst_host_same_srv_rate','Dst_host_srv_count','Flag_S0','Flag_SF','Last_flag','Logged_in_1','Protocol_type_tcp','Protocol_type_udp','Same_srv_rate','Serror_rate','Service_http','Service_other_type','Service_private','Src_bytes','Flag_REJ']]"
   ]
  },
  {
   "cell_type": "code",
   "execution_count": 60,
   "metadata": {},
   "outputs": [
    {
     "name": "stdout",
     "output_type": "stream",
     "text": [
      "                   feature       VIF\n",
      "0                    Count  2.470655\n",
      "1            Diff_srv_rate  1.659655\n",
      "2                Dst_bytes  1.417375\n",
      "3   Dst_host_diff_srv_rate  1.853154\n",
      "4        Protocol_type_udp  1.547231\n",
      "5            Same_srv_rate  4.107290\n",
      "6              Serror_rate  3.085804\n",
      "7             Service_http  3.443289\n",
      "8       Service_other_type  3.062173\n",
      "9          Service_private  2.353095\n",
      "10               Src_bytes  1.072134\n",
      "11                Flag_REJ  1.601131\n"
     ]
    }
   ],
   "source": [
    "X = Variable_for_vif \n",
    "  \n",
    "# VIF dataframe \n",
    "vif_data = pd.DataFrame() \n",
    "vif_data[\"feature\"] = X.columns \n",
    "  \n",
    "# calculating VIF for each feature \n",
    "vif_data[\"VIF\"] = [variance_inflation_factor(X.values, i) \n",
    "                          for i in range(len(X.columns))] \n",
    "  \n",
    "print(vif_data)"
   ]
  },
  {
   "cell_type": "markdown",
   "metadata": {},
   "source": [
    "## Variables to drop with high VIF are \n",
    "\n",
    "`Dst_host_count,Dst_host_same_srv_rate,Dst_host_srv_count,Flag_S0,Flag_SF,Last_flag,Logged_in_1,Protocol_type_tcp`"
   ]
  },
  {
   "cell_type": "code",
   "execution_count": 225,
   "metadata": {},
   "outputs": [],
   "source": [
    "Variable_for_vif = Variable_for_vif.drop(columns={\"Dst_host_count\",\"Dst_host_same_srv_rate\",\"Dst_host_count\",\"Dst_host_same_srv_rate\",\"Dst_host_srv_count\",\"Flag_S0\",\"Flag_SF\",\"Last_flag\",\"Logged_in_1\",\"Protocol_type_tcp\"},axis =1)"
   ]
  },
  {
   "cell_type": "code",
   "execution_count": 226,
   "metadata": {},
   "outputs": [
    {
     "data": {
      "text/plain": [
       "'Count+Diff_srv_rate+Dst_bytes+Dst_host_diff_srv_rate+Protocol_type_udp+Same_srv_rate+Serror_rate+Service_http+Service_other_type+Service_private+Src_bytes+Flag_REJ'"
      ]
     },
     "execution_count": 226,
     "metadata": {},
     "output_type": "execute_result"
    }
   ],
   "source": [
    "\"+\".join(Variable_for_vif)"
   ]
  },
  {
   "cell_type": "code",
   "execution_count": 227,
   "metadata": {},
   "outputs": [],
   "source": [
    "Variable_for_vif['Activity'] = Final_data.Activity"
   ]
  },
  {
   "cell_type": "code",
   "execution_count": 63,
   "metadata": {},
   "outputs": [],
   "source": [
    "train, test = train_test_split(Normal_Data,test_size = 0.3,random_state = 123)"
   ]
  },
  {
   "cell_type": "markdown",
   "metadata": {},
   "source": [
    "## Logistic Regression"
   ]
  },
  {
   "cell_type": "code",
   "execution_count": 66,
   "metadata": {},
   "outputs": [
    {
     "name": "stdout",
     "output_type": "stream",
     "text": [
      "Optimization terminated successfully.\n",
      "         Current function value: 0.131694\n",
      "         Iterations 10\n"
     ]
    }
   ],
   "source": [
    "model = smf.logit(formula='Activity~Count+Diff_srv_rate+Dst_bytes+Dst_host_diff_srv_rate+Protocol_type_udp+Same_srv_rate+Serror_rate+Service_other_type+Service_private+Src_bytes+Flag_REJ',data=Normal_Data).fit()"
   ]
  },
  {
   "cell_type": "code",
   "execution_count": 67,
   "metadata": {
    "scrolled": true
   },
   "outputs": [
    {
     "name": "stdout",
     "output_type": "stream",
     "text": [
      "                           Logit Regression Results                           \n",
      "==============================================================================\n",
      "Dep. Variable:               Activity   No. Observations:               125973\n",
      "Model:                          Logit   Df Residuals:                   125961\n",
      "Method:                           MLE   Df Model:                           11\n",
      "Date:                Thu, 26 Nov 2020   Pseudo R-squ.:                  0.8093\n",
      "Time:                        22:58:32   Log-Likelihood:                -16590.\n",
      "converged:                       True   LL-Null:                       -87016.\n",
      "Covariance Type:            nonrobust   LLR p-value:                     0.000\n",
      "==========================================================================================\n",
      "                             coef    std err          z      P>|z|      [0.025      0.975]\n",
      "------------------------------------------------------------------------------------------\n",
      "Intercept                 -2.6131      0.082    -31.728      0.000      -2.775      -2.452\n",
      "Count                      0.0111      0.000     36.882      0.000       0.011       0.012\n",
      "Diff_srv_rate             -2.7926      0.100    -27.893      0.000      -2.989      -2.596\n",
      "Dst_bytes                 -0.0002    6.3e-06    -29.051      0.000      -0.000      -0.000\n",
      "Dst_host_diff_srv_rate     1.7886      0.083     21.493      0.000       1.626       1.952\n",
      "Protocol_type_udp         -4.4581      0.091    -48.997      0.000      -4.636      -4.280\n",
      "Same_srv_rate             -1.3267      0.074    -17.962      0.000      -1.472      -1.182\n",
      "Serror_rate                4.6363      0.070     65.764      0.000       4.498       4.775\n",
      "Service_other_type         4.2455      0.039    110.104      0.000       4.170       4.321\n",
      "Service_private            8.6405      0.101     85.330      0.000       8.442       8.839\n",
      "Src_bytes               9.672e-05   1.37e-06     70.518      0.000     9.4e-05    9.94e-05\n",
      "Flag_REJ                   0.9311      0.072     12.916      0.000       0.790       1.072\n",
      "==========================================================================================\n",
      "\n",
      "Possibly complete quasi-separation: A fraction 0.13 of observations can be\n",
      "perfectly predicted. This might indicate that there is complete\n",
      "quasi-separation. In this case some parameters will not be identified.\n"
     ]
    }
   ],
   "source": [
    "print(model.summary())"
   ]
  },
  {
   "cell_type": "code",
   "execution_count": 407,
   "metadata": {},
   "outputs": [
    {
     "data": {
      "image/png": "[encoded data removed]",
      "text/plain": [
       "<Figure size 576x396 with 1 Axes>"
      ]
     },
     "metadata": {},
     "output_type": "display_data"
    }
   ],
   "source": [
    "sns.distplot(model.resid_generalized)\n",
    "plt.show()"
   ]
  },
  {
   "cell_type": "markdown",
   "metadata": {},
   "source": [
    "`Y = -2.6131 +0.0111*Count-2.7926*Diff_srv_rate-0.0002*Dst_bytes+1.7886*Dst_host_diff_srv_rate--4.4581*Protocol_type_udp-1.3267*Same_srv_rate+4.6363*Serror_rate+4.2455*Service_other_type+8.6405*Service_private+9.672e-05*Src_bytes+0.9311*Flag_REJ`"
   ]
  },
  {
   "cell_type": "code",
   "execution_count": 68,
   "metadata": {},
   "outputs": [],
   "source": [
    "train['prob'] = model.predict(train)\n",
    "test['prob'] = model.predict(test)"
   ]
  },
  {
   "cell_type": "code",
   "execution_count": 203,
   "metadata": {},
   "outputs": [
    {
     "data": {
      "text/plain": [
       "0    0.986573\n",
       "dtype: float64"
      ]
     },
     "execution_count": 203,
     "metadata": {},
     "output_type": "execute_result"
    }
   ],
   "source": [
    "train_auc = metrics.roc_auc_score(train.Activity,train.prob)\n",
    "train_auc = pd.Series(train_auc)\n",
    "train_auc"
   ]
  },
  {
   "cell_type": "code",
   "execution_count": 204,
   "metadata": {},
   "outputs": [
    {
     "data": {
      "text/plain": [
       "0    0.986711\n",
       "dtype: float64"
      ]
     },
     "execution_count": 204,
     "metadata": {},
     "output_type": "execute_result"
    }
   ],
   "source": [
    "test_auc = metrics.roc_auc_score(test.Activity,test.prob)\n",
    "test_auc=pd.Series(test_auc)\n",
    "test_auc"
   ]
  },
  {
   "cell_type": "code",
   "execution_count": 202,
   "metadata": {},
   "outputs": [
    {
     "name": "stdout",
     "output_type": "stream",
     "text": [
      "0    0.973147\n",
      "dtype: float64\n",
      "0    0.973421\n",
      "dtype: float64\n"
     ]
    }
   ],
   "source": [
    "Gini_train = 2*train_auc-1\n",
    "Gini_train=pd.Series(Gini_train)\n",
    "print(Gini_train)\n",
    "Gini_test = 2*test_auc-1\n",
    "Gini_test=pd.Series(Gini_test)\n",
    "print(Gini_test)"
   ]
  },
  {
   "cell_type": "code",
   "execution_count": 72,
   "metadata": {},
   "outputs": [],
   "source": [
    "temp = train\n",
    "roc_df = pd.DataFrame()\n",
    "for cutoff in np.linspace(0,1):\n",
    "    temp['Activity_predicted'] = np.where(train.prob>cutoff,1,0)\n",
    "    temp['TN'] = np.where(((train.Activity==0)&(train.Activity_predicted==0)),1,0)\n",
    "    temp['TP'] = np.where(((train.Activity==1)&(train.Activity_predicted==1)),1,0)\n",
    "    temp['FP'] = np.where(((train.Activity==0)&(train.Activity_predicted==1)),1,0)\n",
    "    temp['FN'] = np.where(((train.Activity==1)&(train.Activity_predicted==0)),1,0)\n",
    "    senstivity = temp.TP.sum()/(temp.TP.sum()+temp.FN.sum())\n",
    "    specitivity = temp.TN.sum()/(temp.TN.sum()+temp.FP.sum())\n",
    "    accuracy = (temp.TP.sum()+temp.TN.sum())/(temp.Activity_predicted.count())\n",
    "    temp_df = pd.DataFrame([cutoff,senstivity,specitivity,accuracy]).T\n",
    "    temp_df.columns = [\"cutoff\",\"senstivity\",\"specitivity\",\"accuracy\"]\n",
    "    roc_df = pd.concat([roc_df,temp_df])"
   ]
  },
  {
   "cell_type": "code",
   "execution_count": 73,
   "metadata": {},
   "outputs": [],
   "source": [
    "roc_df['Total'] = roc_df['senstivity'] + roc_df['specitivity']"
   ]
  },
  {
   "cell_type": "code",
   "execution_count": 74,
   "metadata": {},
   "outputs": [
    {
     "data": {
      "text/html": [
       "<div>\n",
       "<style scoped>\n",
       "    .dataframe tbody tr th:only-of-type {\n",
       "        vertical-align: middle;\n",
       "    }\n",
       "\n",
       "    .dataframe tbody tr th {\n",
       "        vertical-align: top;\n",
       "    }\n",
       "\n",
       "    .dataframe thead th {\n",
       "        text-align: right;\n",
       "    }\n",
       "</style>\n",
       "<table border=\"1\" class=\"dataframe\">\n",
       "  <thead>\n",
       "    <tr style=\"text-align: right;\">\n",
       "      <th></th>\n",
       "      <th>cutoff</th>\n",
       "      <th>senstivity</th>\n",
       "      <th>specitivity</th>\n",
       "      <th>accuracy</th>\n",
       "      <th>Total</th>\n",
       "    </tr>\n",
       "  </thead>\n",
       "  <tbody>\n",
       "    <tr>\n",
       "      <th>0</th>\n",
       "      <td>0.44898</td>\n",
       "      <td>0.980415</td>\n",
       "      <td>0.922977</td>\n",
       "      <td>0.949683</td>\n",
       "      <td>1.903392</td>\n",
       "    </tr>\n",
       "  </tbody>\n",
       "</table>\n",
       "</div>"
      ],
      "text/plain": [
       "    cutoff  senstivity  specitivity  accuracy     Total\n",
       "0  0.44898    0.980415     0.922977  0.949683  1.903392"
      ]
     },
     "execution_count": 74,
     "metadata": {},
     "output_type": "execute_result"
    }
   ],
   "source": [
    "roc_df.sort_values(by =['Total'],ascending=False).head(1)"
   ]
  },
  {
   "cell_type": "code",
   "execution_count": 75,
   "metadata": {},
   "outputs": [
    {
     "data": {
      "text/html": [
       "<div>\n",
       "<style scoped>\n",
       "    .dataframe tbody tr th:only-of-type {\n",
       "        vertical-align: middle;\n",
       "    }\n",
       "\n",
       "    .dataframe tbody tr th {\n",
       "        vertical-align: top;\n",
       "    }\n",
       "\n",
       "    .dataframe thead th {\n",
       "        text-align: right;\n",
       "    }\n",
       "</style>\n",
       "<table border=\"1\" class=\"dataframe\">\n",
       "  <thead>\n",
       "    <tr style=\"text-align: right;\">\n",
       "      <th></th>\n",
       "      <th>cutoff</th>\n",
       "      <th>senstivity</th>\n",
       "      <th>specitivity</th>\n",
       "      <th>accuracy</th>\n",
       "      <th>Total</th>\n",
       "    </tr>\n",
       "  </thead>\n",
       "  <tbody>\n",
       "    <tr>\n",
       "      <th>0</th>\n",
       "      <td>0.44898</td>\n",
       "      <td>0.980415</td>\n",
       "      <td>0.922977</td>\n",
       "      <td>0.949683</td>\n",
       "      <td>1.903392</td>\n",
       "    </tr>\n",
       "  </tbody>\n",
       "</table>\n",
       "</div>"
      ],
      "text/plain": [
       "    cutoff  senstivity  specitivity  accuracy     Total\n",
       "0  0.44898    0.980415     0.922977  0.949683  1.903392"
      ]
     },
     "execution_count": 75,
     "metadata": {},
     "output_type": "execute_result"
    }
   ],
   "source": [
    "roc_df[roc_df.Total==roc_df.Total.max()]"
   ]
  },
  {
   "cell_type": "code",
   "execution_count": 76,
   "metadata": {},
   "outputs": [],
   "source": [
    "train['Activity_Predicted'] = np.where(train.prob > 0.44898,1,0)\n",
    "test['Activity_Predicted']=np.where(test.prob > 0.44898,1,0)"
   ]
  },
  {
   "cell_type": "code",
   "execution_count": 311,
   "metadata": {
    "scrolled": true
   },
   "outputs": [
    {
     "data": {
      "text/plain": [
       "array([[43547,  3634],\n",
       "       [  803, 40197]])"
      ]
     },
     "execution_count": 311,
     "metadata": {},
     "output_type": "execute_result"
    }
   ],
   "source": [
    "Logit_Confusion_train = metrics.confusion_matrix(train.Activity,train.Activity_Predicted)\n",
    "Logit_Confusion_train"
   ]
  },
  {
   "cell_type": "code",
   "execution_count": 312,
   "metadata": {},
   "outputs": [
    {
     "data": {
      "text/plain": [
       "array([[18592,  1570],\n",
       "       [  340, 17290]])"
      ]
     },
     "execution_count": 312,
     "metadata": {},
     "output_type": "execute_result"
    }
   ],
   "source": [
    "Logit_Confusion_test = metrics.confusion_matrix(test.Activity,test.Activity_Predicted)\n",
    "Logit_Confusion_test"
   ]
  },
  {
   "cell_type": "code",
   "execution_count": 79,
   "metadata": {},
   "outputs": [
    {
     "name": "stdout",
     "output_type": "stream",
     "text": [
      "              precision    recall  f1-score   support\n",
      "\n",
      "           0       0.98      0.92      0.95     47181\n",
      "           1       0.92      0.98      0.95     41000\n",
      "\n",
      "    accuracy                           0.95     88181\n",
      "   macro avg       0.95      0.95      0.95     88181\n",
      "weighted avg       0.95      0.95      0.95     88181\n",
      "\n"
     ]
    }
   ],
   "source": [
    "train_classificaton = metrics.classification_report(train.Activity,train.Activity_Predicted)\n",
    "print(train_classificaton)"
   ]
  },
  {
   "cell_type": "code",
   "execution_count": 80,
   "metadata": {},
   "outputs": [
    {
     "name": "stdout",
     "output_type": "stream",
     "text": [
      "              precision    recall  f1-score   support\n",
      "\n",
      "           0       0.98      0.92      0.95     20162\n",
      "           1       0.92      0.98      0.95     17630\n",
      "\n",
      "    accuracy                           0.95     37792\n",
      "   macro avg       0.95      0.95      0.95     37792\n",
      "weighted avg       0.95      0.95      0.95     37792\n",
      "\n"
     ]
    }
   ],
   "source": [
    "test_classificaton = metrics.classification_report(test.Activity,test.Activity_Predicted)\n",
    "print(test_classificaton)"
   ]
  },
  {
   "cell_type": "code",
   "execution_count": 209,
   "metadata": {},
   "outputs": [
    {
     "data": {
      "text/html": [
       "<div>\n",
       "<style scoped>\n",
       "    .dataframe tbody tr th:only-of-type {\n",
       "        vertical-align: middle;\n",
       "    }\n",
       "\n",
       "    .dataframe tbody tr th {\n",
       "        vertical-align: top;\n",
       "    }\n",
       "\n",
       "    .dataframe thead th {\n",
       "        text-align: right;\n",
       "    }\n",
       "</style>\n",
       "<table border=\"1\" class=\"dataframe\">\n",
       "  <thead>\n",
       "    <tr style=\"text-align: right;\">\n",
       "      <th></th>\n",
       "      <th>Auroc_Train</th>\n",
       "      <th>Auroc_Test</th>\n",
       "      <th>Gini_Train</th>\n",
       "      <th>Gini_Test</th>\n",
       "    </tr>\n",
       "  </thead>\n",
       "  <tbody>\n",
       "    <tr>\n",
       "      <th>0</th>\n",
       "      <td>0.986573</td>\n",
       "      <td>0.986711</td>\n",
       "      <td>0.973147</td>\n",
       "      <td>0.973421</td>\n",
       "    </tr>\n",
       "  </tbody>\n",
       "</table>\n",
       "</div>"
      ],
      "text/plain": [
       "   Auroc_Train  Auroc_Test  Gini_Train  Gini_Test\n",
       "0     0.986573    0.986711    0.973147   0.973421"
      ]
     },
     "execution_count": 209,
     "metadata": {},
     "output_type": "execute_result"
    }
   ],
   "source": [
    "Logit = pd.concat([train_auc,test_auc,Gini_train,Gini_test],axis =1)\n",
    "Logit.columns = [\"Auroc_Train\",\"Auroc_Test\",\"Gini_Train\",\"Gini_Test\"]\n",
    "Logit"
   ]
  },
  {
   "cell_type": "code",
   "execution_count": 81,
   "metadata": {},
   "outputs": [],
   "source": [
    "train['decile'] = pd.qcut(train['prob'],10,labels =False)\n",
    "test['decile'] = pd.qcut(test['prob'],10,labels = False)"
   ]
  },
  {
   "cell_type": "code",
   "execution_count": 82,
   "metadata": {},
   "outputs": [],
   "source": [
    "train['normal'] = 1-train.Activity\n",
    "test['normal'] = 1-test.Activity"
   ]
  },
  {
   "cell_type": "code",
   "execution_count": 83,
   "metadata": {},
   "outputs": [],
   "source": [
    "decile_train = train.groupby(by=['decile']).agg(min_prob = ('prob','min'),\n",
    "                                                max_prob = ('prob','max'),\n",
    "                                                no_of_attack=('Activity','sum'),\n",
    "                                               no_of_normal = ('normal','sum'),\n",
    "                                               total = ('Activity','count'))"
   ]
  },
  {
   "cell_type": "code",
   "execution_count": 84,
   "metadata": {},
   "outputs": [],
   "source": [
    "decile_test = test.groupby(by=['decile']).agg(min_prob = ('prob','min'),\n",
    "                                             max_prob = ('prob','max'),\n",
    "                                             no_of_attack = ('Activity','sum'),\n",
    "                                             no_of_normal = ('normal','sum'),\n",
    "                                             total = ('Activity','count'))"
   ]
  },
  {
   "cell_type": "code",
   "execution_count": 85,
   "metadata": {},
   "outputs": [],
   "source": [
    "#decile_train.to_csv('Decile_Train.csv')\n",
    "#decile_test.to_csv('Decile_Test.csv')"
   ]
  },
  {
   "cell_type": "code",
   "execution_count": 86,
   "metadata": {},
   "outputs": [],
   "source": [
    "compare_train = train.loc[:,[\"Activity\",'Activity_Predicted',\"decile\",'prob']]\n",
    "compare_test = test.loc[:,[\"Activity\",'Activity_Predicted',\"decile\",'prob']]"
   ]
  },
  {
   "cell_type": "code",
   "execution_count": 87,
   "metadata": {
    "scrolled": false
   },
   "outputs": [
    {
     "data": {
      "text/html": [
       "<div>\n",
       "<style scoped>\n",
       "    .dataframe tbody tr th:only-of-type {\n",
       "        vertical-align: middle;\n",
       "    }\n",
       "\n",
       "    .dataframe tbody tr th {\n",
       "        vertical-align: top;\n",
       "    }\n",
       "\n",
       "    .dataframe thead th {\n",
       "        text-align: right;\n",
       "    }\n",
       "</style>\n",
       "<table border=\"1\" class=\"dataframe\">\n",
       "  <thead>\n",
       "    <tr style=\"text-align: right;\">\n",
       "      <th></th>\n",
       "      <th>Activity</th>\n",
       "      <th>Activity_Predicted</th>\n",
       "      <th>decile</th>\n",
       "      <th>prob</th>\n",
       "    </tr>\n",
       "  </thead>\n",
       "  <tbody>\n",
       "    <tr>\n",
       "      <th>110849</th>\n",
       "      <td>1</td>\n",
       "      <td>1</td>\n",
       "      <td>9</td>\n",
       "      <td>0.999999</td>\n",
       "    </tr>\n",
       "    <tr>\n",
       "      <th>4591</th>\n",
       "      <td>0</td>\n",
       "      <td>1</td>\n",
       "      <td>5</td>\n",
       "      <td>0.565060</td>\n",
       "    </tr>\n",
       "    <tr>\n",
       "      <th>96407</th>\n",
       "      <td>1</td>\n",
       "      <td>1</td>\n",
       "      <td>8</td>\n",
       "      <td>0.999828</td>\n",
       "    </tr>\n",
       "    <tr>\n",
       "      <th>55086</th>\n",
       "      <td>1</td>\n",
       "      <td>1</td>\n",
       "      <td>5</td>\n",
       "      <td>0.578720</td>\n",
       "    </tr>\n",
       "    <tr>\n",
       "      <th>52860</th>\n",
       "      <td>1</td>\n",
       "      <td>1</td>\n",
       "      <td>8</td>\n",
       "      <td>0.999907</td>\n",
       "    </tr>\n",
       "    <tr>\n",
       "      <th>108463</th>\n",
       "      <td>1</td>\n",
       "      <td>1</td>\n",
       "      <td>6</td>\n",
       "      <td>0.947528</td>\n",
       "    </tr>\n",
       "    <tr>\n",
       "      <th>13561</th>\n",
       "      <td>0</td>\n",
       "      <td>0</td>\n",
       "      <td>1</td>\n",
       "      <td>0.012114</td>\n",
       "    </tr>\n",
       "    <tr>\n",
       "      <th>17203</th>\n",
       "      <td>1</td>\n",
       "      <td>1</td>\n",
       "      <td>9</td>\n",
       "      <td>0.999999</td>\n",
       "    </tr>\n",
       "    <tr>\n",
       "      <th>116499</th>\n",
       "      <td>0</td>\n",
       "      <td>0</td>\n",
       "      <td>4</td>\n",
       "      <td>0.047536</td>\n",
       "    </tr>\n",
       "    <tr>\n",
       "      <th>46382</th>\n",
       "      <td>0</td>\n",
       "      <td>0</td>\n",
       "      <td>3</td>\n",
       "      <td>0.021134</td>\n",
       "    </tr>\n",
       "  </tbody>\n",
       "</table>\n",
       "</div>"
      ],
      "text/plain": [
       "        Activity  Activity_Predicted  decile      prob\n",
       "110849         1                   1       9  0.999999\n",
       "4591           0                   1       5  0.565060\n",
       "96407          1                   1       8  0.999828\n",
       "55086          1                   1       5  0.578720\n",
       "52860          1                   1       8  0.999907\n",
       "108463         1                   1       6  0.947528\n",
       "13561          0                   0       1  0.012114\n",
       "17203          1                   1       9  0.999999\n",
       "116499         0                   0       4  0.047536\n",
       "46382          0                   0       3  0.021134"
      ]
     },
     "execution_count": 87,
     "metadata": {},
     "output_type": "execute_result"
    }
   ],
   "source": [
    "compare_train.head(10)"
   ]
  },
  {
   "cell_type": "markdown",
   "metadata": {},
   "source": [
    "## Machine Learning"
   ]
  },
  {
   "cell_type": "code",
   "execution_count": 228,
   "metadata": {},
   "outputs": [],
   "source": [
    "Variable_for_vif = Variable_for_vif.drop(columns=\"Service_http\",axis =1)"
   ]
  },
  {
   "cell_type": "code",
   "execution_count": 229,
   "metadata": {},
   "outputs": [],
   "source": [
    "target = Variable_for_vif.Activity\n",
    "features = Variable_for_vif.loc[:,Variable_for_vif.columns.difference(['Activity'])]"
   ]
  },
  {
   "cell_type": "code",
   "execution_count": 230,
   "metadata": {},
   "outputs": [],
   "source": [
    "train_X,test_x,train_Y,test_y = train_test_split(features,target, test_size=0.3, random_state=123)"
   ]
  },
  {
   "cell_type": "code",
   "execution_count": 231,
   "metadata": {},
   "outputs": [
    {
     "data": {
      "text/plain": [
       "Index(['Count', 'Diff_srv_rate', 'Dst_bytes', 'Dst_host_diff_srv_rate', 'Flag_REJ', 'Protocol_type_udp', 'Same_srv_rate', 'Serror_rate', 'Service_other_type', 'Service_private', 'Src_bytes'], dtype='object')"
      ]
     },
     "execution_count": 231,
     "metadata": {},
     "output_type": "execute_result"
    }
   ],
   "source": [
    "train_X.columns"
   ]
  },
  {
   "cell_type": "code",
   "execution_count": 232,
   "metadata": {},
   "outputs": [
    {
     "name": "stdout",
     "output_type": "stream",
     "text": [
      "(88181, 11)\n",
      "(88181,)\n",
      "(37792, 11)\n",
      "(37792,)\n"
     ]
    }
   ],
   "source": [
    "print(train_X.shape)\n",
    "print(train_Y.shape)\n",
    "print(test_x.shape)\n",
    "print(test_y.shape)"
   ]
  },
  {
   "cell_type": "markdown",
   "metadata": {},
   "source": [
    "## KNN Classifier"
   ]
  },
  {
   "cell_type": "code",
   "execution_count": 94,
   "metadata": {},
   "outputs": [],
   "source": [
    "sc = StandardScaler()"
   ]
  },
  {
   "cell_type": "code",
   "execution_count": 95,
   "metadata": {},
   "outputs": [],
   "source": [
    "Knn_data = sc.fit_transform(features)\n",
    "Knn_data = pd.DataFrame(Knn_data)\n",
    "Knn_data.columns = features.columns"
   ]
  },
  {
   "cell_type": "code",
   "execution_count": 96,
   "metadata": {},
   "outputs": [],
   "source": [
    "train_X1, test_X1 , train_Y1, test_Y1 = train_test_split(Knn_data,target,test_size = 0.3,random_state = 344) "
   ]
  },
  {
   "cell_type": "code",
   "execution_count": 138,
   "metadata": {},
   "outputs": [
    {
     "name": "stdout",
     "output_type": "stream",
     "text": [
      "Fitting 2 folds for each of 8 candidates, totalling 16 fits\n"
     ]
    },
    {
     "name": "stderr",
     "output_type": "stream",
     "text": [
      "[Parallel(n_jobs=1)]: Using backend SequentialBackend with 1 concurrent workers.\n",
      "[Parallel(n_jobs=1)]: Done  16 out of  16 | elapsed:  6.9min finished\n"
     ]
    }
   ],
   "source": [
    "param_grid_knn = {'n_neighbors':[300,400,500,600,700,800,900,1000],\n",
    "              'weights': ['distance']}\n",
    "knn_model = GridSearchCV(KNeighborsClassifier(), param_grid = param_grid_knn, cv=2, scoring = 'f1_weighted',verbose = True)\n",
    "knn_model = knn_model.fit(train_X1,train_Y1)"
   ]
  },
  {
   "cell_type": "code",
   "execution_count": 139,
   "metadata": {
    "scrolled": false
   },
   "outputs": [
    {
     "data": {
      "text/plain": [
       "{'n_neighbors': 300, 'weights': 'distance'}"
      ]
     },
     "execution_count": 139,
     "metadata": {},
     "output_type": "execute_result"
    }
   ],
   "source": [
    "knn_model.best_params_"
   ]
  },
  {
   "cell_type": "code",
   "execution_count": 97,
   "metadata": {},
   "outputs": [],
   "source": [
    "knn_model = KNeighborsClassifier(n_neighbors=300,weights = \"distance\", n_jobs=-1).fit(train_X1,train_Y1)"
   ]
  },
  {
   "cell_type": "code",
   "execution_count": 98,
   "metadata": {},
   "outputs": [],
   "source": [
    "pred_y = knn_model.predict(train_X1)"
   ]
  },
  {
   "cell_type": "code",
   "execution_count": 99,
   "metadata": {},
   "outputs": [
    {
     "name": "stdout",
     "output_type": "stream",
     "text": [
      "              precision    recall  f1-score   support\n",
      "\n",
      "           0       1.00      1.00      1.00     47037\n",
      "           1       1.00      1.00      1.00     41144\n",
      "\n",
      "    accuracy                           1.00     88181\n",
      "   macro avg       1.00      1.00      1.00     88181\n",
      "weighted avg       1.00      1.00      1.00     88181\n",
      "\n"
     ]
    }
   ],
   "source": [
    "print(metrics.classification_report(train_Y1, pred_y))"
   ]
  },
  {
   "cell_type": "code",
   "execution_count": 314,
   "metadata": {},
   "outputs": [
    {
     "data": {
      "text/plain": [
       "array([[47018,    19],\n",
       "       [   30, 41114]])"
      ]
     },
     "execution_count": 314,
     "metadata": {},
     "output_type": "execute_result"
    }
   ],
   "source": [
    "Knn_Confusion_train = metrics.confusion_matrix(train_Y1,pred_y)\n",
    "Knn_Confusion_train"
   ]
  },
  {
   "cell_type": "code",
   "execution_count": 217,
   "metadata": {},
   "outputs": [
    {
     "name": "stdout",
     "output_type": "stream",
     "text": [
      "0    0.999433\n",
      "dtype: float64\n",
      "0    0.998867\n",
      "dtype: float64\n"
     ]
    }
   ],
   "source": [
    "Knn_Auroc_Score_train = metrics.roc_auc_score(train_Y1,pred_y)\n",
    "Knn_Auroc_Score_train = pd.Series(Knn_Auroc_Score)\n",
    "print(Knn_Auroc_Score_train)\n",
    "Knn_Gini_train = 2*Knn_Auroc_Score_train -1\n",
    "Knn_Gini_train = pd.Series(Knn_Gini_train)\n",
    "print(Knn_Gini_train)"
   ]
  },
  {
   "cell_type": "code",
   "execution_count": 213,
   "metadata": {},
   "outputs": [
    {
     "data": {
      "text/plain": [
       "0    0.999444\n",
       "dtype: float64"
      ]
     },
     "execution_count": 213,
     "metadata": {},
     "output_type": "execute_result"
    }
   ],
   "source": [
    "Knn_Accuracy_train = metrics.accuracy_score(train_Y1,pred_y)\n",
    "Knn_Accuracy_train = pd.Series(Knn_Accuracy_train)\n",
    "Knn_Accuracy_train"
   ]
  },
  {
   "cell_type": "code",
   "execution_count": 103,
   "metadata": {},
   "outputs": [],
   "source": [
    "knn_model_test = KNeighborsClassifier(n_neighbors=300,weights = \"distance\",n_jobs=-1).fit(test_X1,test_Y1)"
   ]
  },
  {
   "cell_type": "code",
   "execution_count": 104,
   "metadata": {},
   "outputs": [],
   "source": [
    "pred_y1 = knn_model_test.predict(test_X1)"
   ]
  },
  {
   "cell_type": "code",
   "execution_count": 105,
   "metadata": {},
   "outputs": [
    {
     "name": "stdout",
     "output_type": "stream",
     "text": [
      "              precision    recall  f1-score   support\n",
      "\n",
      "           0       1.00      1.00      1.00     20306\n",
      "           1       1.00      1.00      1.00     17486\n",
      "\n",
      "    accuracy                           1.00     37792\n",
      "   macro avg       1.00      1.00      1.00     37792\n",
      "weighted avg       1.00      1.00      1.00     37792\n",
      "\n"
     ]
    }
   ],
   "source": [
    "print(metrics.classification_report(test_Y1,pred_y1))"
   ]
  },
  {
   "cell_type": "code",
   "execution_count": 315,
   "metadata": {},
   "outputs": [
    {
     "data": {
      "text/plain": [
       "array([[20302,     4],\n",
       "       [   16, 17470]])"
      ]
     },
     "execution_count": 315,
     "metadata": {},
     "output_type": "execute_result"
    }
   ],
   "source": [
    "Knn_Confusion_test = metrics.confusion_matrix(test_Y1,pred_y1)\n",
    "Knn_Confusion_test"
   ]
  },
  {
   "cell_type": "code",
   "execution_count": 218,
   "metadata": {},
   "outputs": [
    {
     "name": "stdout",
     "output_type": "stream",
     "text": [
      "0    0.999444\n",
      "dtype: float64\n",
      "0    0.998888\n",
      "dtype: float64\n"
     ]
    }
   ],
   "source": [
    "Knn_Auroc_Score_test = metrics.roc_auc_score(test_Y1,pred_y1)\n",
    "Knn_Auroc_Score_test = pd.Series(Knn_Auroc_Score_test)\n",
    "print(Knn_Auroc_Score_test)\n",
    "Knn_Gini_test = 2*Knn_Auroc_Score_test -1\n",
    "Knn_Gini_test = pd.Series(Knn_Gini_test)\n",
    "print(Knn_Gini_test)"
   ]
  },
  {
   "cell_type": "code",
   "execution_count": 215,
   "metadata": {},
   "outputs": [
    {
     "data": {
      "text/plain": [
       "0    0.999471\n",
       "dtype: float64"
      ]
     },
     "execution_count": 215,
     "metadata": {},
     "output_type": "execute_result"
    }
   ],
   "source": [
    "Knn_Accuracy_test = metrics.accuracy_score(test_Y1,pred_y1)\n",
    "Knn_Accuracy_test = pd.Series(Knn_Accuracy_test)\n",
    "Knn_Accuracy_test"
   ]
  },
  {
   "cell_type": "code",
   "execution_count": 220,
   "metadata": {
    "scrolled": true
   },
   "outputs": [
    {
     "data": {
      "text/html": [
       "<div>\n",
       "<style scoped>\n",
       "    .dataframe tbody tr th:only-of-type {\n",
       "        vertical-align: middle;\n",
       "    }\n",
       "\n",
       "    .dataframe tbody tr th {\n",
       "        vertical-align: top;\n",
       "    }\n",
       "\n",
       "    .dataframe thead th {\n",
       "        text-align: right;\n",
       "    }\n",
       "</style>\n",
       "<table border=\"1\" class=\"dataframe\">\n",
       "  <thead>\n",
       "    <tr style=\"text-align: right;\">\n",
       "      <th></th>\n",
       "      <th>Auroc_Train</th>\n",
       "      <th>Auroc_Test</th>\n",
       "      <th>Gini_Train</th>\n",
       "      <th>Gini_Test</th>\n",
       "    </tr>\n",
       "  </thead>\n",
       "  <tbody>\n",
       "    <tr>\n",
       "      <th>0</th>\n",
       "      <td>0.999433</td>\n",
       "      <td>0.999444</td>\n",
       "      <td>0.998867</td>\n",
       "      <td>0.998888</td>\n",
       "    </tr>\n",
       "  </tbody>\n",
       "</table>\n",
       "</div>"
      ],
      "text/plain": [
       "   Auroc_Train  Auroc_Test  Gini_Train  Gini_Test\n",
       "0     0.999433    0.999444    0.998867   0.998888"
      ]
     },
     "execution_count": 220,
     "metadata": {},
     "output_type": "execute_result"
    }
   ],
   "source": [
    "Knn = pd.concat([Knn_Auroc_Score_train,Knn_Auroc_Score_test,Knn_Gini_train,Knn_Gini_test],axis=1)\n",
    "Knn.columns = [\"Auroc_Train\",\"Auroc_Test\",\"Gini_Train\",\"Gini_Test\"]\n",
    "Knn"
   ]
  },
  {
   "cell_type": "markdown",
   "metadata": {},
   "source": [
    "## Decision Tress Classifier"
   ]
  },
  {
   "cell_type": "code",
   "execution_count": 153,
   "metadata": {},
   "outputs": [],
   "source": [
    "param_grid_dt = {'max_depth': np.arange(3, 5),\n",
    "             'max_features': np.arange(3,5)}\n",
    "dt_model = GridSearchCV(DecisionTreeClassifier(),param_grid = param_grid_dt,cv =2 , scoring = 'f1_weighted')\n",
    "dt_model = dt_model.fit(train_X,train_y)"
   ]
  },
  {
   "cell_type": "code",
   "execution_count": 154,
   "metadata": {},
   "outputs": [
    {
     "data": {
      "text/plain": [
       "{'max_depth': 3, 'max_features': 4}"
      ]
     },
     "execution_count": 154,
     "metadata": {},
     "output_type": "execute_result"
    }
   ],
   "source": [
    "dt_model.best_params_"
   ]
  },
  {
   "cell_type": "code",
   "execution_count": 234,
   "metadata": {},
   "outputs": [],
   "source": [
    "dt_model_train = DecisionTreeClassifier(max_depth = 3,max_features = 4).fit(train_X,train_Y)"
   ]
  },
  {
   "cell_type": "code",
   "execution_count": 235,
   "metadata": {
    "scrolled": true
   },
   "outputs": [
    {
     "name": "stdout",
     "output_type": "stream",
     "text": [
      "              precision    recall  f1-score   support\n",
      "\n",
      "           0       0.93      0.98      0.95     47181\n",
      "           1       0.98      0.91      0.94     41000\n",
      "\n",
      "    accuracy                           0.95     88181\n",
      "   macro avg       0.95      0.95      0.95     88181\n",
      "weighted avg       0.95      0.95      0.95     88181\n",
      "\n"
     ]
    }
   ],
   "source": [
    "print(metrics.classification_report(train_Y,dt_model_train.predict(train_X)))"
   ]
  },
  {
   "cell_type": "code",
   "execution_count": 236,
   "metadata": {},
   "outputs": [
    {
     "name": "stdout",
     "output_type": "stream",
     "text": [
      "0    0.946944\n",
      "dtype: float64\n",
      "0    0.893889\n",
      "dtype: float64\n"
     ]
    }
   ],
   "source": [
    "Dt_Auroc_Score_train = metrics.roc_auc_score(train_Y,dt_model_train.predict(train_X))\n",
    "Dt_Auroc_Score_train = pd.Series(Dt_Auroc_Score_train)\n",
    "print(Dt_Auroc_Score_train)\n",
    "Dt_Gini_train = 2*Dt_Auroc_Score_train - 1\n",
    "Dt_Gini_train = pd.Series(Dt_Gini_train)\n",
    "print(Dt_Gini_train)"
   ]
  },
  {
   "cell_type": "code",
   "execution_count": 316,
   "metadata": {},
   "outputs": [
    {
     "data": {
      "text/plain": [
       "array([[46277,   904],\n",
       "       [ 3565, 37435]])"
      ]
     },
     "execution_count": 316,
     "metadata": {},
     "output_type": "execute_result"
    }
   ],
   "source": [
    "DT_Confusion_train=metrics.confusion_matrix(train_Y,dt_model_train.predict(train_X))\n",
    "DT_Confusion_train"
   ]
  },
  {
   "cell_type": "code",
   "execution_count": 114,
   "metadata": {},
   "outputs": [
    {
     "name": "stdout",
     "output_type": "stream",
     "text": [
      "Accuracy 0.9504088182261485\n"
     ]
    }
   ],
   "source": [
    "print(\"Accuracy\",metrics.accuracy_score(train_Y,dt_model_train.predict(train_X)))"
   ]
  },
  {
   "cell_type": "code",
   "execution_count": 237,
   "metadata": {},
   "outputs": [],
   "source": [
    "dt_model_test = DecisionTreeClassifier(max_depth = 4, max_features = 4).fit(test_x,test_y)"
   ]
  },
  {
   "cell_type": "code",
   "execution_count": 238,
   "metadata": {},
   "outputs": [
    {
     "name": "stdout",
     "output_type": "stream",
     "text": [
      "              precision    recall  f1-score   support\n",
      "\n",
      "           0       0.94      0.96      0.95     20162\n",
      "           1       0.96      0.93      0.94     17630\n",
      "\n",
      "    accuracy                           0.95     37792\n",
      "   macro avg       0.95      0.95      0.95     37792\n",
      "weighted avg       0.95      0.95      0.95     37792\n",
      "\n"
     ]
    }
   ],
   "source": [
    "print(metrics.classification_report(test_y,dt_model_test.predict(test_x)))"
   ]
  },
  {
   "cell_type": "code",
   "execution_count": 318,
   "metadata": {},
   "outputs": [
    {
     "data": {
      "text/plain": [
       "array([[19421,   741],\n",
       "       [ 1255, 16375]])"
      ]
     },
     "execution_count": 318,
     "metadata": {},
     "output_type": "execute_result"
    }
   ],
   "source": [
    "DT_Confusion_test = metrics.confusion_matrix(test_y,dt_model_test.predict(test_x))\n",
    "DT_Confusion_test"
   ]
  },
  {
   "cell_type": "code",
   "execution_count": 241,
   "metadata": {},
   "outputs": [
    {
     "name": "stdout",
     "output_type": "stream",
     "text": [
      "0    0.946031\n",
      "dtype: float64\n",
      "0    0.892062\n",
      "dtype: float64\n"
     ]
    }
   ],
   "source": [
    "Dt_Auroc_Score_test = metrics.roc_auc_score(test_y,dt_model_test.predict(test_x))\n",
    "Dt_Auroc_Score_test = pd.Series(Dt_Auroc_Score_test)\n",
    "print(Dt_Auroc_Score_test)\n",
    "Dt_Gini_test = 2*Dt_Auroc_Score_test -1 \n",
    "Dt_Gini_test = pd.Series(Dt_Gini_test)\n",
    "print(Dt_Gini_test)"
   ]
  },
  {
   "cell_type": "code",
   "execution_count": 242,
   "metadata": {},
   "outputs": [
    {
     "name": "stdout",
     "output_type": "stream",
     "text": [
      "Accuracy 0.9471845893310754\n"
     ]
    }
   ],
   "source": [
    "print(\"Accuracy\",metrics.accuracy_score(test_y,dt_model_test.predict(test_x)))"
   ]
  },
  {
   "cell_type": "code",
   "execution_count": 243,
   "metadata": {},
   "outputs": [
    {
     "data": {
      "text/html": [
       "<div>\n",
       "<style scoped>\n",
       "    .dataframe tbody tr th:only-of-type {\n",
       "        vertical-align: middle;\n",
       "    }\n",
       "\n",
       "    .dataframe tbody tr th {\n",
       "        vertical-align: top;\n",
       "    }\n",
       "\n",
       "    .dataframe thead th {\n",
       "        text-align: right;\n",
       "    }\n",
       "</style>\n",
       "<table border=\"1\" class=\"dataframe\">\n",
       "  <thead>\n",
       "    <tr style=\"text-align: right;\">\n",
       "      <th></th>\n",
       "      <th>Auroc_Train</th>\n",
       "      <th>Auroc_Test</th>\n",
       "      <th>Gini_Train</th>\n",
       "      <th>Gini_Test</th>\n",
       "    </tr>\n",
       "  </thead>\n",
       "  <tbody>\n",
       "    <tr>\n",
       "      <th>0</th>\n",
       "      <td>0.946944</td>\n",
       "      <td>0.946031</td>\n",
       "      <td>0.893889</td>\n",
       "      <td>0.892062</td>\n",
       "    </tr>\n",
       "  </tbody>\n",
       "</table>\n",
       "</div>"
      ],
      "text/plain": [
       "   Auroc_Train  Auroc_Test  Gini_Train  Gini_Test\n",
       "0     0.946944    0.946031    0.893889   0.892062"
      ]
     },
     "execution_count": 243,
     "metadata": {},
     "output_type": "execute_result"
    }
   ],
   "source": [
    "DT = pd.concat([Dt_Auroc_Score_train,Dt_Auroc_Score_test,Dt_Gini_train,Dt_Gini_test],axis = 1)\n",
    "DT.columns = [\"Auroc_Train\",\"Auroc_Test\",\"Gini_Train\",\"Gini_Test\"]\n",
    "DT"
   ]
  },
  {
   "cell_type": "markdown",
   "metadata": {},
   "source": [
    "## Bagging Classisfier"
   ]
  },
  {
   "cell_type": "code",
   "execution_count": 133,
   "metadata": {},
   "outputs": [
    {
     "name": "stdout",
     "output_type": "stream",
     "text": [
      "Fitting 2 folds for each of 6 candidates, totalling 12 fits\n"
     ]
    },
    {
     "name": "stderr",
     "output_type": "stream",
     "text": [
      "[Parallel(n_jobs=-1)]: Using backend LokyBackend with 4 concurrent workers.\n",
      "[Parallel(n_jobs=-1)]: Done  12 out of  12 | elapsed:  6.9min finished\n"
     ]
    }
   ],
   "source": [
    "param_bagging = {\"n_estimators\":[700,800,900,1000,1100,1200]}\n",
    "model_bagging = GridSearchCV(BaggingClassifier(),param_grid = param_bagging,cv = 2,verbose = True, n_jobs =-1)\n",
    "model_bagging = model_bagging.fit(train_X,train_Y)"
   ]
  },
  {
   "cell_type": "code",
   "execution_count": 134,
   "metadata": {},
   "outputs": [
    {
     "data": {
      "text/plain": [
       "{'n_estimators': 1200}"
      ]
     },
     "execution_count": 134,
     "metadata": {},
     "output_type": "execute_result"
    }
   ],
   "source": [
    "model_bagging.best_params_"
   ]
  },
  {
   "cell_type": "code",
   "execution_count": 244,
   "metadata": {},
   "outputs": [],
   "source": [
    "bagging_model_train = BaggingClassifier(n_estimators = 1200).fit(train_X,train_Y)"
   ]
  },
  {
   "cell_type": "code",
   "execution_count": 245,
   "metadata": {},
   "outputs": [],
   "source": [
    "predict_bagging = bagging_model_train.predict(train_X)"
   ]
  },
  {
   "cell_type": "code",
   "execution_count": 246,
   "metadata": {},
   "outputs": [
    {
     "name": "stdout",
     "output_type": "stream",
     "text": [
      "              precision    recall  f1-score   support\n",
      "\n",
      "           0       1.00      1.00      1.00     47181\n",
      "           1       1.00      1.00      1.00     41000\n",
      "\n",
      "    accuracy                           1.00     88181\n",
      "   macro avg       1.00      1.00      1.00     88181\n",
      "weighted avg       1.00      1.00      1.00     88181\n",
      "\n"
     ]
    }
   ],
   "source": [
    "print(metrics.classification_report(train_Y,predict_bagging))"
   ]
  },
  {
   "cell_type": "code",
   "execution_count": 319,
   "metadata": {},
   "outputs": [
    {
     "data": {
      "text/plain": [
       "array([[47152,    29],\n",
       "       [   23, 40977]])"
      ]
     },
     "execution_count": 319,
     "metadata": {},
     "output_type": "execute_result"
    }
   ],
   "source": [
    "Bagging_Confusion_train = metrics.confusion_matrix(train_Y,predict_bagging)\n",
    "Bagging_Confusion_train"
   ]
  },
  {
   "cell_type": "code",
   "execution_count": 253,
   "metadata": {},
   "outputs": [
    {
     "name": "stdout",
     "output_type": "stream",
     "text": [
      "0    0.999412\n",
      "dtype: float64\n",
      "0    0.998824\n",
      "dtype: float64\n"
     ]
    }
   ],
   "source": [
    "Bagging_Auroc_train =  metrics.roc_auc_score(train_Y,predict_bagging)\n",
    "Bagging_Auroc_train = pd.Series(Bagging_Auroc_train)\n",
    "print(Bagging_Auroc_train)\n",
    "Bagging_Gini_train = 2*Bagging_Auroc_train-1\n",
    "Bagging_Gini_train = pd.Series(Bagging_Gini_train)\n",
    "print(Bagging_Gini_train)"
   ]
  },
  {
   "cell_type": "code",
   "execution_count": 254,
   "metadata": {},
   "outputs": [
    {
     "name": "stdout",
     "output_type": "stream",
     "text": [
      "Accuracy 0.9994103038069425\n"
     ]
    }
   ],
   "source": [
    "print(\"Accuracy\",metrics.accuracy_score(train_Y,predict_bagging))"
   ]
  },
  {
   "cell_type": "code",
   "execution_count": 248,
   "metadata": {},
   "outputs": [],
   "source": [
    "bagging_model_test = BaggingClassifier(n_estimators = 1200).fit(test_x,test_y)"
   ]
  },
  {
   "cell_type": "code",
   "execution_count": 249,
   "metadata": {},
   "outputs": [],
   "source": [
    "bagging_predict_test = bagging_model_test.predict(test_x)"
   ]
  },
  {
   "cell_type": "code",
   "execution_count": 250,
   "metadata": {},
   "outputs": [
    {
     "name": "stdout",
     "output_type": "stream",
     "text": [
      "              precision    recall  f1-score   support\n",
      "\n",
      "           0       1.00      1.00      1.00     20162\n",
      "           1       1.00      1.00      1.00     17630\n",
      "\n",
      "    accuracy                           1.00     37792\n",
      "   macro avg       1.00      1.00      1.00     37792\n",
      "weighted avg       1.00      1.00      1.00     37792\n",
      "\n"
     ]
    }
   ],
   "source": [
    "print(metrics.classification_report(test_y,bagging_predict_test))"
   ]
  },
  {
   "cell_type": "code",
   "execution_count": 320,
   "metadata": {},
   "outputs": [
    {
     "data": {
      "text/plain": [
       "array([[20152,    10],\n",
       "       [    8, 17622]])"
      ]
     },
     "execution_count": 320,
     "metadata": {},
     "output_type": "execute_result"
    }
   ],
   "source": [
    "Bagging_Confusion_test = metrics.confusion_matrix(test_y,bagging_predict_test)\n",
    "Bagging_Confusion_test"
   ]
  },
  {
   "cell_type": "code",
   "execution_count": 257,
   "metadata": {},
   "outputs": [
    {
     "name": "stdout",
     "output_type": "stream",
     "text": [
      "0    0.999525\n",
      "dtype: float64\n",
      "0    0.99905\n",
      "dtype: float64\n"
     ]
    }
   ],
   "source": [
    "Bagging_Auroc_test = metrics.roc_auc_score(test_y,bagging_predict_test)\n",
    "Bagging_Auroc_test = pd.Series(Bagging_Auroc_test)\n",
    "print(Bagging_Auroc_test)\n",
    "Bagging_Gini_test = 2*Bagging_Auroc_test -1 \n",
    "Bagging_Gini_test = pd.Series(Bagging_Gini_test)\n",
    "print(Bagging_Gini_test)"
   ]
  },
  {
   "cell_type": "code",
   "execution_count": 260,
   "metadata": {},
   "outputs": [
    {
     "data": {
      "text/html": [
       "<div>\n",
       "<style scoped>\n",
       "    .dataframe tbody tr th:only-of-type {\n",
       "        vertical-align: middle;\n",
       "    }\n",
       "\n",
       "    .dataframe tbody tr th {\n",
       "        vertical-align: top;\n",
       "    }\n",
       "\n",
       "    .dataframe thead th {\n",
       "        text-align: right;\n",
       "    }\n",
       "</style>\n",
       "<table border=\"1\" class=\"dataframe\">\n",
       "  <thead>\n",
       "    <tr style=\"text-align: right;\">\n",
       "      <th></th>\n",
       "      <th>Auroc_Train</th>\n",
       "      <th>Auroc_Test</th>\n",
       "      <th>Gini_Train</th>\n",
       "      <th>Gini_Test</th>\n",
       "    </tr>\n",
       "  </thead>\n",
       "  <tbody>\n",
       "    <tr>\n",
       "      <th>0</th>\n",
       "      <td>0.999412</td>\n",
       "      <td>0.999525</td>\n",
       "      <td>0.998824</td>\n",
       "      <td>0.99905</td>\n",
       "    </tr>\n",
       "  </tbody>\n",
       "</table>\n",
       "</div>"
      ],
      "text/plain": [
       "   Auroc_Train  Auroc_Test  Gini_Train  Gini_Test\n",
       "0     0.999412    0.999525    0.998824    0.99905"
      ]
     },
     "execution_count": 260,
     "metadata": {},
     "output_type": "execute_result"
    }
   ],
   "source": [
    "Bagging = pd.concat([Bagging_Auroc_train,Bagging_Auroc_test,Bagging_Gini_train,Bagging_Gini_test],axis =1)\n",
    "Bagging.columns = [\"Auroc_Train\",\"Auroc_Test\",\"Gini_Train\",\"Gini_Test\"]\n",
    "Bagging"
   ]
  },
  {
   "cell_type": "markdown",
   "metadata": {},
   "source": [
    "## Random Forest Classifier"
   ]
  },
  {
   "cell_type": "code",
   "execution_count": 145,
   "metadata": {},
   "outputs": [
    {
     "name": "stdout",
     "output_type": "stream",
     "text": [
      "Fitting 5 folds for each of 96 candidates, totalling 480 fits\n"
     ]
    },
    {
     "name": "stderr",
     "output_type": "stream",
     "text": [
      "[Parallel(n_jobs=-1)]: Using backend LokyBackend with 4 concurrent workers.\n",
      "[Parallel(n_jobs=-1)]: Done  42 tasks      | elapsed:  4.0min\n",
      "[Parallel(n_jobs=-1)]: Done 192 tasks      | elapsed: 23.2min\n",
      "[Parallel(n_jobs=-1)]: Done 442 tasks      | elapsed: 67.7min\n",
      "[Parallel(n_jobs=-1)]: Done 480 out of 480 | elapsed: 76.9min finished\n"
     ]
    }
   ],
   "source": [
    "param_rf = {'n_estimators':[100,200,300,400,500,600],\"max_depth\":[3,4,5,6],\"max_features\" :[6,7,8,9]}\n",
    "model_rf = GridSearchCV(RandomForestClassifier(),param_grid = param_rf, verbose = True,n_jobs = -1)\n",
    "modelrf = model_rf.fit(train_X,train_Y)"
   ]
  },
  {
   "cell_type": "code",
   "execution_count": 146,
   "metadata": {},
   "outputs": [
    {
     "data": {
      "text/plain": [
       "{'max_depth': 6, 'max_features': 7, 'n_estimators': 300}"
      ]
     },
     "execution_count": 146,
     "metadata": {},
     "output_type": "execute_result"
    }
   ],
   "source": [
    "modelrf.best_params_"
   ]
  },
  {
   "cell_type": "code",
   "execution_count": 261,
   "metadata": {},
   "outputs": [],
   "source": [
    "model_rf_train = RandomForestClassifier(n_estimators=300, max_depth = 6, max_features = 7).fit(train_X,train_Y)\n",
    "rf_predict_train = model_rf_train.predict(train_X)"
   ]
  },
  {
   "cell_type": "code",
   "execution_count": 262,
   "metadata": {},
   "outputs": [
    {
     "name": "stdout",
     "output_type": "stream",
     "text": [
      "              precision    recall  f1-score   support\n",
      "\n",
      "           0       0.99      1.00      0.99     47181\n",
      "           1       1.00      0.99      0.99     41000\n",
      "\n",
      "    accuracy                           0.99     88181\n",
      "   macro avg       0.99      0.99      0.99     88181\n",
      "weighted avg       0.99      0.99      0.99     88181\n",
      "\n"
     ]
    }
   ],
   "source": [
    "print(metrics.classification_report(train_Y,rf_predict_train))"
   ]
  },
  {
   "cell_type": "code",
   "execution_count": 321,
   "metadata": {},
   "outputs": [
    {
     "data": {
      "text/plain": [
       "array([[47020,   161],\n",
       "       [  420, 40580]])"
      ]
     },
     "execution_count": 321,
     "metadata": {},
     "output_type": "execute_result"
    }
   ],
   "source": [
    "RF_Confusion_train = metrics.confusion_matrix(train_Y,rf_predict_train)\n",
    "RF_Confusion_train"
   ]
  },
  {
   "cell_type": "code",
   "execution_count": 265,
   "metadata": {},
   "outputs": [
    {
     "name": "stdout",
     "output_type": "stream",
     "text": [
      "0    0.993172\n",
      "dtype: float64\n",
      "0    0.986344\n",
      "dtype: float64\n"
     ]
    }
   ],
   "source": [
    "RF_Auroc_train = metrics.roc_auc_score(train_Y,rf_predict_train)\n",
    "RF_Auroc_train = pd.Series(RF_Auroc_train)\n",
    "print(RF_Auroc_train)\n",
    "RF_Gini_train = 2*RF_Auroc_train - 1\n",
    "RF_Gini_train = pd.Series(RF_Gini_train)\n",
    "print(RF_Gini_train)"
   ]
  },
  {
   "cell_type": "code",
   "execution_count": 264,
   "metadata": {},
   "outputs": [
    {
     "name": "stdout",
     "output_type": "stream",
     "text": [
      "Accuracy 0.9934112790737234\n"
     ]
    }
   ],
   "source": [
    "print(\"Accuracy\",metrics.accuracy_score(train_Y,rf_predict_train))"
   ]
  },
  {
   "cell_type": "code",
   "execution_count": 266,
   "metadata": {},
   "outputs": [],
   "source": [
    "model_rf_test = RandomForestClassifier(n_estimators=300, max_depth = 6, max_features = 7).fit(test_x,test_y)"
   ]
  },
  {
   "cell_type": "code",
   "execution_count": 267,
   "metadata": {},
   "outputs": [],
   "source": [
    "rf_predict_test = model_rf_test.predict(test_x)"
   ]
  },
  {
   "cell_type": "code",
   "execution_count": 268,
   "metadata": {},
   "outputs": [
    {
     "name": "stdout",
     "output_type": "stream",
     "text": [
      "              precision    recall  f1-score   support\n",
      "\n",
      "           0       0.99      1.00      0.99     20162\n",
      "           1       1.00      0.99      0.99     17630\n",
      "\n",
      "    accuracy                           0.99     37792\n",
      "   macro avg       0.99      0.99      0.99     37792\n",
      "weighted avg       0.99      0.99      0.99     37792\n",
      "\n"
     ]
    }
   ],
   "source": [
    "print(metrics.classification_report(test_y,rf_predict_test))"
   ]
  },
  {
   "cell_type": "code",
   "execution_count": 322,
   "metadata": {},
   "outputs": [
    {
     "data": {
      "text/plain": [
       "array([[20102,    60],\n",
       "       [  196, 17434]])"
      ]
     },
     "execution_count": 322,
     "metadata": {},
     "output_type": "execute_result"
    }
   ],
   "source": [
    "RF_Confusion_test = metrics.confusion_matrix(test_y,rf_predict_test)\n",
    "RF_Confusion_test"
   ]
  },
  {
   "cell_type": "code",
   "execution_count": 271,
   "metadata": {},
   "outputs": [
    {
     "name": "stdout",
     "output_type": "stream",
     "text": [
      "0    0.992953\n",
      "dtype: float64\n",
      "0    0.985907\n",
      "dtype: float64\n"
     ]
    }
   ],
   "source": [
    "RF_Auroc_test = metrics.roc_auc_score(test_y,rf_predict_test)\n",
    "RF_Auroc_test = pd.Series(RF_Auroc_test)\n",
    "print(RF_Auroc_test)\n",
    "RF_Gini_test = 2*RF_Auroc_test -1 \n",
    "RF_Gini_test = pd.Series(RF_Gini_test)\n",
    "print(RF_Gini_test)"
   ]
  },
  {
   "cell_type": "code",
   "execution_count": 270,
   "metadata": {},
   "outputs": [
    {
     "name": "stdout",
     "output_type": "stream",
     "text": [
      "Accuracy 0.9932260795935648\n"
     ]
    }
   ],
   "source": [
    "print(\"Accuracy\",metrics.accuracy_score(test_y,rf_predict_test))"
   ]
  },
  {
   "cell_type": "code",
   "execution_count": 272,
   "metadata": {},
   "outputs": [
    {
     "data": {
      "text/html": [
       "<div>\n",
       "<style scoped>\n",
       "    .dataframe tbody tr th:only-of-type {\n",
       "        vertical-align: middle;\n",
       "    }\n",
       "\n",
       "    .dataframe tbody tr th {\n",
       "        vertical-align: top;\n",
       "    }\n",
       "\n",
       "    .dataframe thead th {\n",
       "        text-align: right;\n",
       "    }\n",
       "</style>\n",
       "<table border=\"1\" class=\"dataframe\">\n",
       "  <thead>\n",
       "    <tr style=\"text-align: right;\">\n",
       "      <th></th>\n",
       "      <th>Auroc_Train</th>\n",
       "      <th>Auroc_Test</th>\n",
       "      <th>Gini_Train</th>\n",
       "      <th>Gini_Test</th>\n",
       "    </tr>\n",
       "  </thead>\n",
       "  <tbody>\n",
       "    <tr>\n",
       "      <th>0</th>\n",
       "      <td>0.993172</td>\n",
       "      <td>0.992953</td>\n",
       "      <td>0.986344</td>\n",
       "      <td>0.985907</td>\n",
       "    </tr>\n",
       "  </tbody>\n",
       "</table>\n",
       "</div>"
      ],
      "text/plain": [
       "   Auroc_Train  Auroc_Test  Gini_Train  Gini_Test\n",
       "0     0.993172    0.992953    0.986344   0.985907"
      ]
     },
     "execution_count": 272,
     "metadata": {},
     "output_type": "execute_result"
    }
   ],
   "source": [
    "RF = pd.concat([RF_Auroc_train,RF_Auroc_test,RF_Gini_train,RF_Gini_test],axis =1)\n",
    "RF.columns = [\"Auroc_Train\",\"Auroc_Test\",\"Gini_Train\",\"Gini_Test\"]\n",
    "RF"
   ]
  },
  {
   "cell_type": "markdown",
   "metadata": {},
   "source": [
    "## Boosting"
   ]
  },
  {
   "cell_type": "markdown",
   "metadata": {},
   "source": [
    "## ADA Boost"
   ]
  },
  {
   "cell_type": "code",
   "execution_count": 138,
   "metadata": {},
   "outputs": [],
   "source": [
    "param_ada = {\"n_estimators\":[100,200,400,600,800],\n",
    "            \"learning_rate\":[10 ** x for x in range(-3,3)]}"
   ]
  },
  {
   "cell_type": "code",
   "execution_count": 158,
   "metadata": {},
   "outputs": [
    {
     "name": "stdout",
     "output_type": "stream",
     "text": [
      "Fitting 2 folds for each of 30 candidates, totalling 60 fits\n"
     ]
    },
    {
     "name": "stderr",
     "output_type": "stream",
     "text": [
      "[Parallel(n_jobs=-1)]: Using backend LokyBackend with 4 concurrent workers.\n",
      "[Parallel(n_jobs=-1)]: Done  42 tasks      | elapsed:  5.8min\n",
      "[Parallel(n_jobs=-1)]: Done  60 out of  60 | elapsed:  8.2min finished\n"
     ]
    }
   ],
   "source": [
    "gridsearch_ada = GridSearchCV(GradientBoostingClassifier(),param_grid = param_ada,n_jobs = -1,cv = 2, verbose = True)\n",
    "model_ada = gridsearch_ada.fit(train_X,train_Y)"
   ]
  },
  {
   "cell_type": "code",
   "execution_count": 159,
   "metadata": {},
   "outputs": [
    {
     "data": {
      "text/plain": [
       "{'learning_rate': 0.1, 'n_estimators': 800}"
      ]
     },
     "execution_count": 159,
     "metadata": {},
     "output_type": "execute_result"
    }
   ],
   "source": [
    "model_ada.best_params_"
   ]
  },
  {
   "cell_type": "code",
   "execution_count": 273,
   "metadata": {},
   "outputs": [],
   "source": [
    "ada_train = AdaBoostClassifier(n_estimators = 800 , learning_rate = 0.1).fit(train_X,train_Y)"
   ]
  },
  {
   "cell_type": "code",
   "execution_count": 274,
   "metadata": {},
   "outputs": [],
   "source": [
    "ada_train_predict = ada_train.predict(train_X)"
   ]
  },
  {
   "cell_type": "code",
   "execution_count": 275,
   "metadata": {},
   "outputs": [
    {
     "name": "stdout",
     "output_type": "stream",
     "text": [
      "              precision    recall  f1-score   support\n",
      "\n",
      "           0       0.98      0.99      0.98     47181\n",
      "           1       0.99      0.98      0.98     41000\n",
      "\n",
      "    accuracy                           0.98     88181\n",
      "   macro avg       0.98      0.98      0.98     88181\n",
      "weighted avg       0.98      0.98      0.98     88181\n",
      "\n"
     ]
    }
   ],
   "source": [
    "print(metrics.classification_report(train_Y,ada_train_predict))"
   ]
  },
  {
   "cell_type": "code",
   "execution_count": 323,
   "metadata": {},
   "outputs": [
    {
     "data": {
      "text/plain": [
       "array([[46661,   520],\n",
       "       [ 1023, 39977]])"
      ]
     },
     "execution_count": 323,
     "metadata": {},
     "output_type": "execute_result"
    }
   ],
   "source": [
    "Ada_confusion_train = metrics.confusion_matrix(train_Y,ada_train_predict)\n",
    "Ada_confusion_train"
   ]
  },
  {
   "cell_type": "code",
   "execution_count": 276,
   "metadata": {},
   "outputs": [
    {
     "name": "stdout",
     "output_type": "stream",
     "text": [
      "0    0.982014\n",
      "dtype: float64\n",
      "0    0.964027\n",
      "dtype: float64\n"
     ]
    }
   ],
   "source": [
    "Ada_Auroc_train = metrics.roc_auc_score(train_Y,ada_train_predict)\n",
    "Ada_Auroc_train = pd.Series(Ada_Auroc_train)\n",
    "print(Ada_Auroc_train)\n",
    "Ada_Gini_train = 2*Ada_Auroc_train -1 \n",
    "Ada_Gini_train = pd.Series(Ada_Gini_train)\n",
    "print(Ada_Gini_train)"
   ]
  },
  {
   "cell_type": "code",
   "execution_count": 277,
   "metadata": {},
   "outputs": [
    {
     "name": "stdout",
     "output_type": "stream",
     "text": [
      "Accuracy 0.9825018995021604\n"
     ]
    }
   ],
   "source": [
    "print(\"Accuracy\",metrics.accuracy_score(train_Y,ada_train_predict))"
   ]
  },
  {
   "cell_type": "code",
   "execution_count": 278,
   "metadata": {},
   "outputs": [
    {
     "name": "stdout",
     "output_type": "stream",
     "text": [
      "              precision    recall  f1-score   support\n",
      "\n",
      "           0       0.98      0.99      0.98     20162\n",
      "           1       0.99      0.98      0.98     17630\n",
      "\n",
      "    accuracy                           0.98     37792\n",
      "   macro avg       0.98      0.98      0.98     37792\n",
      "weighted avg       0.98      0.98      0.98     37792\n",
      "\n"
     ]
    }
   ],
   "source": [
    "ada_test = AdaBoostClassifier(n_estimators = 800 , learning_rate = 0.1).fit(test_x,test_y)\n",
    "ada_test_predict = ada_test.predict(test_x)\n",
    "print(metrics.classification_report(test_y,ada_test_predict))"
   ]
  },
  {
   "cell_type": "code",
   "execution_count": 324,
   "metadata": {},
   "outputs": [
    {
     "data": {
      "text/plain": [
       "array([[19928,   234],\n",
       "       [  431, 17199]])"
      ]
     },
     "execution_count": 324,
     "metadata": {},
     "output_type": "execute_result"
    }
   ],
   "source": [
    "Ada_confusion_test = metrics.confusion_matrix(test_y,ada_test_predict)\n",
    "Ada_confusion_test"
   ]
  },
  {
   "cell_type": "code",
   "execution_count": 282,
   "metadata": {},
   "outputs": [
    {
     "name": "stdout",
     "output_type": "stream",
     "text": [
      "0    0.981974\n",
      "dtype: float64\n",
      "0    0.963947\n",
      "dtype: float64\n"
     ]
    }
   ],
   "source": [
    "Ada_Aurco_test = metrics.roc_auc_score(test_y,ada_test_predict)\n",
    "Ada_Aurco_test = pd.Series(Ada_Aurco_test)\n",
    "print(Ada_Aurco_test)\n",
    "Ada_Gini_test = 2*Ada_Aurco_test -1 \n",
    "Ada_Gini_test = pd.Series(Ada_Gini_test)\n",
    "print(Ada_Gini_test)"
   ]
  },
  {
   "cell_type": "code",
   "execution_count": 281,
   "metadata": {},
   "outputs": [
    {
     "name": "stdout",
     "output_type": "stream",
     "text": [
      "Accuracy Score 0.982403683319221\n"
     ]
    }
   ],
   "source": [
    "print(\"Accuracy Score\",metrics.accuracy_score(test_y,ada_test_predict))"
   ]
  },
  {
   "cell_type": "code",
   "execution_count": 293,
   "metadata": {},
   "outputs": [
    {
     "data": {
      "text/html": [
       "<div>\n",
       "<style scoped>\n",
       "    .dataframe tbody tr th:only-of-type {\n",
       "        vertical-align: middle;\n",
       "    }\n",
       "\n",
       "    .dataframe tbody tr th {\n",
       "        vertical-align: top;\n",
       "    }\n",
       "\n",
       "    .dataframe thead th {\n",
       "        text-align: right;\n",
       "    }\n",
       "</style>\n",
       "<table border=\"1\" class=\"dataframe\">\n",
       "  <thead>\n",
       "    <tr style=\"text-align: right;\">\n",
       "      <th></th>\n",
       "      <th>Auroc_Train</th>\n",
       "      <th>Auroc_Test</th>\n",
       "      <th>Gini_Train</th>\n",
       "      <th>Gini_Test</th>\n",
       "    </tr>\n",
       "  </thead>\n",
       "  <tbody>\n",
       "    <tr>\n",
       "      <th>0</th>\n",
       "      <td>0.982014</td>\n",
       "      <td>0.981974</td>\n",
       "      <td>0.964027</td>\n",
       "      <td>0.963947</td>\n",
       "    </tr>\n",
       "  </tbody>\n",
       "</table>\n",
       "</div>"
      ],
      "text/plain": [
       "   Auroc_Train  Auroc_Test  Gini_Train  Gini_Test\n",
       "0     0.982014    0.981974    0.964027   0.963947"
      ]
     },
     "execution_count": 293,
     "metadata": {},
     "output_type": "execute_result"
    }
   ],
   "source": [
    "ADA = pd.concat([Ada_Auroc_train,Ada_Aurco_test,Ada_Gini_train,Ada_Gini_test],axis=1)\n",
    "ADA.columns = [\"Auroc_Train\",\"Auroc_Test\",\"Gini_Train\",\"Gini_Test\"]\n",
    "ADA"
   ]
  },
  {
   "cell_type": "markdown",
   "metadata": {},
   "source": [
    "## Gradient Boost"
   ]
  },
  {
   "cell_type": "code",
   "execution_count": 167,
   "metadata": {},
   "outputs": [
    {
     "name": "stdout",
     "output_type": "stream",
     "text": [
      "Fitting 2 folds for each of 30 candidates, totalling 60 fits\n"
     ]
    },
    {
     "name": "stderr",
     "output_type": "stream",
     "text": [
      "[Parallel(n_jobs=-1)]: Using backend LokyBackend with 4 concurrent workers.\n",
      "[Parallel(n_jobs=-1)]: Done  42 tasks      | elapsed:  5.1min\n",
      "[Parallel(n_jobs=-1)]: Done  60 out of  60 | elapsed:  7.6min finished\n"
     ]
    }
   ],
   "source": [
    "model_gbm = GridSearchCV(GradientBoostingClassifier(),param_grid = param_ada,cv = 2, verbose = True, n_jobs =-1)\n",
    "model_train = model_gbm.fit(train_X,train_Y)"
   ]
  },
  {
   "cell_type": "code",
   "execution_count": 168,
   "metadata": {},
   "outputs": [
    {
     "data": {
      "text/plain": [
       "{'learning_rate': 0.1, 'n_estimators': 800}"
      ]
     },
     "execution_count": 168,
     "metadata": {},
     "output_type": "execute_result"
    }
   ],
   "source": [
    "model_train.best_params_"
   ]
  },
  {
   "cell_type": "code",
   "execution_count": 283,
   "metadata": {},
   "outputs": [],
   "source": [
    "model_gbm = GradientBoostingClassifier(n_estimators = 800, learning_rate = 0.1).fit(train_X,train_Y)"
   ]
  },
  {
   "cell_type": "code",
   "execution_count": 284,
   "metadata": {},
   "outputs": [],
   "source": [
    "gbms_predict = model_gbm.predict(train_X)"
   ]
  },
  {
   "cell_type": "code",
   "execution_count": 285,
   "metadata": {},
   "outputs": [
    {
     "name": "stdout",
     "output_type": "stream",
     "text": [
      "              precision    recall  f1-score   support\n",
      "\n",
      "           0       1.00      1.00      1.00     47181\n",
      "           1       1.00      1.00      1.00     41000\n",
      "\n",
      "    accuracy                           1.00     88181\n",
      "   macro avg       1.00      1.00      1.00     88181\n",
      "weighted avg       1.00      1.00      1.00     88181\n",
      "\n"
     ]
    }
   ],
   "source": [
    "print(metrics.classification_report(train_Y,gbms_predict))"
   ]
  },
  {
   "cell_type": "code",
   "execution_count": 325,
   "metadata": {},
   "outputs": [
    {
     "data": {
      "text/plain": [
       "array([[47127,    54],\n",
       "       [   54, 40946]])"
      ]
     },
     "execution_count": 325,
     "metadata": {},
     "output_type": "execute_result"
    }
   ],
   "source": [
    "Gbm_confusion_train = metrics.confusion_matrix(train_Y,gbms_predict)\n",
    "Gbm_confusion_train"
   ]
  },
  {
   "cell_type": "code",
   "execution_count": 287,
   "metadata": {
    "scrolled": true
   },
   "outputs": [
    {
     "name": "stdout",
     "output_type": "stream",
     "text": [
      "0    0.998769\n",
      "dtype: float64\n",
      "0    0.997538\n",
      "dtype: float64\n"
     ]
    }
   ],
   "source": [
    "Gbm_Auroc_train = metrics.roc_auc_score(train_Y,gbms_predict)\n",
    "Gbm_Auroc_train = pd.Series(Gbm_Auroc_train)\n",
    "print(Gbm_Auroc_train)\n",
    "Gbm_Gini_train = 2*Gbm_Auroc_train - 1\n",
    "Gbm_Gini_train = pd.Series(Gbm_Gini_train)\n",
    "print(Gbm_Gini_train)"
   ]
  },
  {
   "cell_type": "code",
   "execution_count": 288,
   "metadata": {},
   "outputs": [
    {
     "name": "stdout",
     "output_type": "stream",
     "text": [
      "Accuracy_Score 0.9987752463682653\n"
     ]
    }
   ],
   "source": [
    "print(\"Accuracy_Score\",metrics.accuracy_score(train_Y,gbms_predict))"
   ]
  },
  {
   "cell_type": "code",
   "execution_count": 289,
   "metadata": {},
   "outputs": [
    {
     "name": "stdout",
     "output_type": "stream",
     "text": [
      "              precision    recall  f1-score   support\n",
      "\n",
      "           0       1.00      1.00      1.00     20162\n",
      "           1       1.00      1.00      1.00     17630\n",
      "\n",
      "    accuracy                           1.00     37792\n",
      "   macro avg       1.00      1.00      1.00     37792\n",
      "weighted avg       1.00      1.00      1.00     37792\n",
      "\n"
     ]
    }
   ],
   "source": [
    "model_gbm_test = GradientBoostingClassifier(n_estimators = 800, learning_rate = 0.1).fit(test_x,test_y)\n",
    "gbms_predict_test = model_gbm_test.predict(test_x)\n",
    "print(metrics.classification_report(test_y,gbms_predict_test))"
   ]
  },
  {
   "cell_type": "code",
   "execution_count": 326,
   "metadata": {},
   "outputs": [
    {
     "data": {
      "text/plain": [
       "array([[20146,    16],\n",
       "       [   18, 17612]])"
      ]
     },
     "execution_count": 326,
     "metadata": {},
     "output_type": "execute_result"
    }
   ],
   "source": [
    "Gbm_confusion_test = metrics.confusion_matrix(test_y,gbms_predict_test)\n",
    "Gbm_confusion_test"
   ]
  },
  {
   "cell_type": "code",
   "execution_count": 290,
   "metadata": {},
   "outputs": [
    {
     "name": "stdout",
     "output_type": "stream",
     "text": [
      "0    0.999093\n",
      "dtype: float64\n",
      "0    0.998185\n",
      "dtype: float64\n"
     ]
    }
   ],
   "source": [
    "Gbm_Auroc_test = metrics.roc_auc_score(test_y,gbms_predict_test)\n",
    "Gbm_Auroc_test = pd.Series(Gbm_Auroc_test)\n",
    "print(Gbm_Auroc_test)\n",
    "Gbm_Gini_test = 2*Gbm_Auroc_test -1\n",
    "Gbm_Gini_test = pd.Series(Gbm_Gini_test)\n",
    "print(Gbm_Gini_test)"
   ]
  },
  {
   "cell_type": "code",
   "execution_count": 291,
   "metadata": {},
   "outputs": [
    {
     "name": "stdout",
     "output_type": "stream",
     "text": [
      "Accuracy_Score 0.9991003386960203\n"
     ]
    }
   ],
   "source": [
    "print(\"Accuracy_Score\",metrics.accuracy_score(test_y,gbms_predict_test))"
   ]
  },
  {
   "cell_type": "code",
   "execution_count": 292,
   "metadata": {},
   "outputs": [
    {
     "data": {
      "text/html": [
       "<div>\n",
       "<style scoped>\n",
       "    .dataframe tbody tr th:only-of-type {\n",
       "        vertical-align: middle;\n",
       "    }\n",
       "\n",
       "    .dataframe tbody tr th {\n",
       "        vertical-align: top;\n",
       "    }\n",
       "\n",
       "    .dataframe thead th {\n",
       "        text-align: right;\n",
       "    }\n",
       "</style>\n",
       "<table border=\"1\" class=\"dataframe\">\n",
       "  <thead>\n",
       "    <tr style=\"text-align: right;\">\n",
       "      <th></th>\n",
       "      <th>Auroc_Train</th>\n",
       "      <th>Auroc_Test</th>\n",
       "      <th>Gini_Train</th>\n",
       "      <th>Gini_Test</th>\n",
       "    </tr>\n",
       "  </thead>\n",
       "  <tbody>\n",
       "    <tr>\n",
       "      <th>0</th>\n",
       "      <td>0.998769</td>\n",
       "      <td>0.999093</td>\n",
       "      <td>0.997538</td>\n",
       "      <td>0.998185</td>\n",
       "    </tr>\n",
       "  </tbody>\n",
       "</table>\n",
       "</div>"
      ],
      "text/plain": [
       "   Auroc_Train  Auroc_Test  Gini_Train  Gini_Test\n",
       "0     0.998769    0.999093    0.997538   0.998185"
      ]
     },
     "execution_count": 292,
     "metadata": {},
     "output_type": "execute_result"
    }
   ],
   "source": [
    "GBM = pd.concat([Gbm_Auroc_train,Gbm_Auroc_test,Gbm_Gini_train,Gbm_Gini_test],axis=1)\n",
    "GBM.columns = [\"Auroc_Train\",\"Auroc_Test\",\"Gini_Train\",\"Gini_Test\"]\n",
    "GBM"
   ]
  },
  {
   "cell_type": "markdown",
   "metadata": {},
   "source": [
    "## XGBOOST"
   ]
  },
  {
   "cell_type": "code",
   "execution_count": 152,
   "metadata": {},
   "outputs": [],
   "source": [
    "xgb_estimator = XGBClassifier( learning_rate=0.01,\n",
    "                               n_estimators=1000,\n",
    "                               max_depth=5,\n",
    "                               min_child_weight=1,\n",
    "                               gamma=1,\n",
    "                               subsample=0.8,\n",
    "                               colsample_bytree=0.8,\n",
    "                               n_jobs=-1,\n",
    "                               reg_alpa=1,\n",
    "                               scale_pos_weight=1,\n",
    "                               random_state=42,\n",
    "                               verbose=1)"
   ]
  },
  {
   "cell_type": "code",
   "execution_count": 294,
   "metadata": {},
   "outputs": [
    {
     "name": "stdout",
     "output_type": "stream",
     "text": [
      "[07:03:20] WARNING: /Users/travis/build/dmlc/xgboost/src/learner.cc:516: \n",
      "Parameters: { reg_alpa, verbose } might not be used.\n",
      "\n",
      "  This may not be accurate due to some parameters are only used in language bindings but\n",
      "  passed down to XGBoost core.  Or some parameters are not used but slip through this\n",
      "  verification. Please open an issue if you find above cases.\n",
      "\n",
      "\n"
     ]
    }
   ],
   "source": [
    "xgb_model = xgb_estimator.fit(train_X,train_Y)"
   ]
  },
  {
   "cell_type": "code",
   "execution_count": 295,
   "metadata": {},
   "outputs": [],
   "source": [
    "xgb_predict = xgb_model.predict(train_X)"
   ]
  },
  {
   "cell_type": "code",
   "execution_count": 296,
   "metadata": {},
   "outputs": [
    {
     "name": "stdout",
     "output_type": "stream",
     "text": [
      "              precision    recall  f1-score   support\n",
      "\n",
      "           0       1.00      1.00      1.00     47181\n",
      "           1       1.00      1.00      1.00     41000\n",
      "\n",
      "    accuracy                           1.00     88181\n",
      "   macro avg       1.00      1.00      1.00     88181\n",
      "weighted avg       1.00      1.00      1.00     88181\n",
      "\n"
     ]
    }
   ],
   "source": [
    "print(metrics.classification_report(train_Y,xgb_predict))"
   ]
  },
  {
   "cell_type": "code",
   "execution_count": 327,
   "metadata": {},
   "outputs": [
    {
     "data": {
      "text/plain": [
       "array([[47109,    72],\n",
       "       [  139, 40861]])"
      ]
     },
     "execution_count": 327,
     "metadata": {},
     "output_type": "execute_result"
    }
   ],
   "source": [
    "Xgb_confusion_train = metrics.confusion_matrix(train_Y,xgb_predict)\n",
    "Xgb_confusion_train"
   ]
  },
  {
   "cell_type": "code",
   "execution_count": 298,
   "metadata": {},
   "outputs": [
    {
     "name": "stdout",
     "output_type": "stream",
     "text": [
      "0    0.997542\n",
      "dtype: float64\n",
      "0    0.995084\n",
      "dtype: float64\n"
     ]
    }
   ],
   "source": [
    "XGB_Auroc_train = metrics.roc_auc_score(train_Y,xgb_predict)\n",
    "XGB_Auroc_train = pd.Series(XGB_Auroc_train)\n",
    "print(XGB_Auroc_train)\n",
    "XGB_Gini_train = 2*XGB_Auroc_train - 1\n",
    "XGB_Gini_train = pd.Series(XGB_Gini_train)\n",
    "print(XGB_Gini_train)"
   ]
  },
  {
   "cell_type": "code",
   "execution_count": 299,
   "metadata": {
    "scrolled": true
   },
   "outputs": [
    {
     "name": "stdout",
     "output_type": "stream",
     "text": [
      "Accuracy 0.9976071942935553\n"
     ]
    }
   ],
   "source": [
    "print(\"Accuracy\",metrics.accuracy_score(train_Y,xgb_predict))"
   ]
  },
  {
   "cell_type": "code",
   "execution_count": 301,
   "metadata": {},
   "outputs": [
    {
     "name": "stdout",
     "output_type": "stream",
     "text": [
      "[07:13:42] WARNING: /Users/travis/build/dmlc/xgboost/src/learner.cc:516: \n",
      "Parameters: { reg_alpa, verbose } might not be used.\n",
      "\n",
      "  This may not be accurate due to some parameters are only used in language bindings but\n",
      "  passed down to XGBoost core.  Or some parameters are not used but slip through this\n",
      "  verification. Please open an issue if you find above cases.\n",
      "\n",
      "\n"
     ]
    }
   ],
   "source": [
    "xgb_model_test = xgb_estimator.fit(test_x,test_y)"
   ]
  },
  {
   "cell_type": "code",
   "execution_count": 302,
   "metadata": {},
   "outputs": [],
   "source": [
    "xgb_test_predict = xgb_model_test.predict(test_x)"
   ]
  },
  {
   "cell_type": "code",
   "execution_count": 303,
   "metadata": {},
   "outputs": [
    {
     "name": "stdout",
     "output_type": "stream",
     "text": [
      "              precision    recall  f1-score   support\n",
      "\n",
      "           0       1.00      1.00      1.00     20162\n",
      "           1       1.00      1.00      1.00     17630\n",
      "\n",
      "    accuracy                           1.00     37792\n",
      "   macro avg       1.00      1.00      1.00     37792\n",
      "weighted avg       1.00      1.00      1.00     37792\n",
      "\n"
     ]
    }
   ],
   "source": [
    "print(metrics.classification_report(test_y,xgb_test_predict))"
   ]
  },
  {
   "cell_type": "code",
   "execution_count": 328,
   "metadata": {},
   "outputs": [
    {
     "data": {
      "text/plain": [
       "array([[20126,    36],\n",
       "       [   56, 17574]])"
      ]
     },
     "execution_count": 328,
     "metadata": {},
     "output_type": "execute_result"
    }
   ],
   "source": [
    "Xgb_confusion_test = metrics.confusion_matrix(test_y,xgb_test_predict)\n",
    "Xgb_confusion_test"
   ]
  },
  {
   "cell_type": "code",
   "execution_count": 305,
   "metadata": {},
   "outputs": [
    {
     "name": "stdout",
     "output_type": "stream",
     "text": [
      "0    0.997519\n",
      "dtype: float64\n",
      "0    0.995038\n",
      "dtype: float64\n"
     ]
    }
   ],
   "source": [
    "XGB_Auroc_test = metrics.roc_auc_score(test_y,xgb_test_predict)\n",
    "XGB_Auroc_test = pd.Series(XGB_Auroc_test)\n",
    "print(XGB_Auroc_test)\n",
    "XGB_Gini_test = 2*XGB_Auroc_test - 1\n",
    "XGB_Gini_test = pd.Series(XGB_Gini_test)\n",
    "print(XGB_Gini_test)"
   ]
  },
  {
   "cell_type": "code",
   "execution_count": 306,
   "metadata": {},
   "outputs": [
    {
     "data": {
      "text/html": [
       "<div>\n",
       "<style scoped>\n",
       "    .dataframe tbody tr th:only-of-type {\n",
       "        vertical-align: middle;\n",
       "    }\n",
       "\n",
       "    .dataframe tbody tr th {\n",
       "        vertical-align: top;\n",
       "    }\n",
       "\n",
       "    .dataframe thead th {\n",
       "        text-align: right;\n",
       "    }\n",
       "</style>\n",
       "<table border=\"1\" class=\"dataframe\">\n",
       "  <thead>\n",
       "    <tr style=\"text-align: right;\">\n",
       "      <th></th>\n",
       "      <th>Auroc_Train</th>\n",
       "      <th>Auroc_Test</th>\n",
       "      <th>Gini_Train</th>\n",
       "      <th>Gini_Test</th>\n",
       "    </tr>\n",
       "  </thead>\n",
       "  <tbody>\n",
       "    <tr>\n",
       "      <th>0</th>\n",
       "      <td>0.997542</td>\n",
       "      <td>0.997519</td>\n",
       "      <td>0.995084</td>\n",
       "      <td>0.995038</td>\n",
       "    </tr>\n",
       "  </tbody>\n",
       "</table>\n",
       "</div>"
      ],
      "text/plain": [
       "   Auroc_Train  Auroc_Test  Gini_Train  Gini_Test\n",
       "0     0.997542    0.997519    0.995084   0.995038"
      ]
     },
     "execution_count": 306,
     "metadata": {},
     "output_type": "execute_result"
    }
   ],
   "source": [
    "XGB = pd.concat([XGB_Auroc_train,XGB_Auroc_test,XGB_Gini_train,XGB_Gini_test],axis = 1)\n",
    "XGB.columns = [\"Auroc_Train\",\"Auroc_Test\",\"Gini_Train\",\"Gini_Test\"]\n",
    "XGB"
   ]
  },
  {
   "cell_type": "markdown",
   "metadata": {},
   "source": [
    "## Comparing Auroc, GINI and Confusion Matrices"
   ]
  },
  {
   "cell_type": "code",
   "execution_count": 402,
   "metadata": {
    "scrolled": true
   },
   "outputs": [
    {
     "name": "stdout",
     "output_type": "stream",
     "text": [
      "Logistic Regression \n",
      "    Auroc_Train  Auroc_Test  Gini_Train  Gini_Test\n",
      "0     0.986573    0.986711    0.973147   0.973421\n",
      "KNN \n",
      "    Auroc_Train  Auroc_Test  Gini_Train  Gini_Test\n",
      "0     0.999433    0.999444    0.998867   0.998888\n",
      "DT \n",
      "    Auroc_Train  Auroc_Test  Gini_Train  Gini_Test\n",
      "0     0.946944    0.946031    0.893889   0.892062\n",
      "Bagging \n",
      "    Auroc_Train  Auroc_Test  Gini_Train  Gini_Test\n",
      "0     0.999412    0.999525    0.998824    0.99905\n",
      "RF \n",
      "    Auroc_Train  Auroc_Test  Gini_Train  Gini_Test\n",
      "0     0.993172    0.992953    0.986344   0.985907\n",
      "ADA \n",
      "    Auroc_Train  Auroc_Test  Gini_Train  Gini_Test\n",
      "0     0.982014    0.981974    0.964027   0.963947\n",
      "GBM \n",
      "    Auroc_Train  Auroc_Test  Gini_Train  Gini_Test\n",
      "0     0.998769    0.999093    0.997538   0.998185\n",
      "XGB \n",
      "    Auroc_Train  Auroc_Test  Gini_Train  Gini_Test\n",
      "0     0.997542    0.997519    0.995084   0.995038\n"
     ]
    }
   ],
   "source": [
    "print(\"Logistic Regression\",\"\\n\",Logit)\n",
    "print(\"KNN\",\"\\n\",Knn)\n",
    "print(\"DT\",\"\\n\",DT)\n",
    "print(\"Bagging\",\"\\n\",Bagging)\n",
    "print(\"RF\",\"\\n\",RF)\n",
    "print(\"ADA\",\"\\n\",ADA)\n",
    "print(\"GBM\",\"\\n\",GBM)\n",
    "print(\"XGB\",\"\\n\",XGB)"
   ]
  },
  {
   "cell_type": "code",
   "execution_count": 337,
   "metadata": {},
   "outputs": [
    {
     "name": "stdout",
     "output_type": "stream",
     "text": [
      "Logistic_Train \n",
      " [[43547  3634]\n",
      " [  803 40197]]\n",
      "KNN_Train \n",
      " [[47018    19]\n",
      " [   30 41114]]\n",
      "DT)Train \n",
      " [[46277   904]\n",
      " [ 3565 37435]]\n",
      "Baggin_Train \n",
      " [[47152    29]\n",
      " [   23 40977]]\n",
      "RF_Train \n",
      " [[47020   161]\n",
      " [  420 40580]]\n",
      "ADA_Train \n",
      " [[46661   520]\n",
      " [ 1023 39977]]\n",
      "GBM_Train \n",
      " [[47127    54]\n",
      " [   54 40946]]\n",
      "XGB_Train \n",
      " [[47109    72]\n",
      " [  139 40861]]\n",
      "Logistic_Test \n",
      " [[18592  1570]\n",
      " [  340 17290]]\n",
      "KNN_Test \n",
      " [[20302     4]\n",
      " [   16 17470]]\n",
      "DT_Test \n",
      " [[19421   741]\n",
      " [ 1255 16375]]\n",
      "Bagging_Test \n",
      " [[20152    10]\n",
      " [    8 17622]]\n",
      "RF_Test \n",
      " [[20102    60]\n",
      " [  196 17434]]\n",
      "ADA_Test \n",
      " [[19928   234]\n",
      " [  431 17199]]\n",
      "GBM_Test \n",
      " [[20146    16]\n",
      " [   18 17612]]\n",
      "XGB_Test \n",
      " [[20126    36]\n",
      " [   56 17574]]\n"
     ]
    }
   ],
   "source": [
    "print(\"Logistic_Train\",\"\\n\", Logit_Confusion_train)\n",
    "print(\"KNN_Train\",\"\\n\",Knn_Confusion_train)\n",
    "print(\"DT)Train\",\"\\n\",DT_Confusion_train)\n",
    "print(\"Baggin_Train\",\"\\n\",Bagging_Confusion_train)\n",
    "print(\"RF_Train\",\"\\n\",RF_Confusion_train)\n",
    "print(\"ADA_Train\",\"\\n\",Ada_confusion_train)\n",
    "print(\"GBM_Train\",\"\\n\",Gbm_confusion_train)\n",
    "print(\"XGB_Train\",\"\\n\",Xgb_confusion_train)\n",
    "\n",
    "print(\"Logistic_Test\",\"\\n\", Logit_Confusion_test)\n",
    "print(\"KNN_Test\",\"\\n\",Knn_Confusion_test)\n",
    "print(\"DT_Test\",\"\\n\",DT_Confusion_test)\n",
    "print(\"Bagging_Test\",\"\\n\",Bagging_Confusion_test)\n",
    "print(\"RF_Test\",\"\\n\",RF_Confusion_test)\n",
    "print(\"ADA_Test\",\"\\n\",Ada_confusion_test)\n",
    "print(\"GBM_Test\",\"\\n\",Gbm_confusion_test)\n",
    "print(\"XGB_Test\",\"\\n\",Xgb_confusion_test)"
   ]
  },
  {
   "cell_type": "markdown",
   "metadata": {},
   "source": [
    "### From the above matrices, Bagging turns out to be giving the best results."
   ]
  },
  {
   "cell_type": "code",
   "execution_count": 332,
   "metadata": {},
   "outputs": [],
   "source": [
    "import os"
   ]
  },
  {
   "cell_type": "code",
   "execution_count": null,
   "metadata": {},
   "outputs": [],
   "source": [
    "from sklearn.svm import LinearSVC, LinearSVR, SVC, SVR"
   ]
  },
  {
   "cell_type": "code",
   "execution_count": null,
   "metadata": {},
   "outputs": [],
   "source": [
    "model_svm = SVC(kernel='rbf', class_weight='balanced')\n"
   ]
  },
  {
   "cell_type": "code",
   "execution_count": null,
   "metadata": {},
   "outputs": [],
   "source": [
    "param_grid = {'C': [1, 5, 10, 50],\n",
    "              'gamma': [0.0001, 0.0005, 0.001, 0.005]}\n",
    "grid = GridSearchCV(model_svm, param_grid, verbose = True)\n",
    "\n",
    "grid.fit(train_X, train_y)"
   ]
  },
  {
   "cell_type": "markdown",
   "metadata": {},
   "source": [
    "# Multinominal Classification"
   ]
  },
  {
   "cell_type": "code",
   "execution_count": 338,
   "metadata": {
    "scrolled": true
   },
   "outputs": [
    {
     "data": {
      "text/html": [
       "<div>\n",
       "<style scoped>\n",
       "    .dataframe tbody tr th:only-of-type {\n",
       "        vertical-align: middle;\n",
       "    }\n",
       "\n",
       "    .dataframe tbody tr th {\n",
       "        vertical-align: top;\n",
       "    }\n",
       "\n",
       "    .dataframe thead th {\n",
       "        text-align: right;\n",
       "    }\n",
       "</style>\n",
       "<table border=\"1\" class=\"dataframe\">\n",
       "  <thead>\n",
       "    <tr style=\"text-align: right;\">\n",
       "      <th></th>\n",
       "      <th>Count</th>\n",
       "      <th>Diff_srv_rate</th>\n",
       "      <th>Dst_bytes</th>\n",
       "      <th>Dst_host_diff_srv_rate</th>\n",
       "      <th>Protocol_type_udp</th>\n",
       "      <th>Same_srv_rate</th>\n",
       "      <th>Serror_rate</th>\n",
       "      <th>Service_other_type</th>\n",
       "      <th>Service_private</th>\n",
       "      <th>Src_bytes</th>\n",
       "      <th>Flag_REJ</th>\n",
       "      <th>Activity</th>\n",
       "    </tr>\n",
       "  </thead>\n",
       "  <tbody>\n",
       "    <tr>\n",
       "      <th>0</th>\n",
       "      <td>2</td>\n",
       "      <td>0.00</td>\n",
       "      <td>0</td>\n",
       "      <td>0.03</td>\n",
       "      <td>0</td>\n",
       "      <td>1.00</td>\n",
       "      <td>0.0</td>\n",
       "      <td>0</td>\n",
       "      <td>0</td>\n",
       "      <td>491</td>\n",
       "      <td>0</td>\n",
       "      <td>0</td>\n",
       "    </tr>\n",
       "    <tr>\n",
       "      <th>1</th>\n",
       "      <td>13</td>\n",
       "      <td>0.15</td>\n",
       "      <td>0</td>\n",
       "      <td>0.60</td>\n",
       "      <td>1</td>\n",
       "      <td>0.08</td>\n",
       "      <td>0.0</td>\n",
       "      <td>1</td>\n",
       "      <td>0</td>\n",
       "      <td>146</td>\n",
       "      <td>0</td>\n",
       "      <td>0</td>\n",
       "    </tr>\n",
       "    <tr>\n",
       "      <th>2</th>\n",
       "      <td>123</td>\n",
       "      <td>0.07</td>\n",
       "      <td>0</td>\n",
       "      <td>0.05</td>\n",
       "      <td>0</td>\n",
       "      <td>0.05</td>\n",
       "      <td>1.0</td>\n",
       "      <td>0</td>\n",
       "      <td>1</td>\n",
       "      <td>0</td>\n",
       "      <td>0</td>\n",
       "      <td>1</td>\n",
       "    </tr>\n",
       "    <tr>\n",
       "      <th>3</th>\n",
       "      <td>5</td>\n",
       "      <td>0.00</td>\n",
       "      <td>8153</td>\n",
       "      <td>0.00</td>\n",
       "      <td>0</td>\n",
       "      <td>1.00</td>\n",
       "      <td>0.2</td>\n",
       "      <td>0</td>\n",
       "      <td>0</td>\n",
       "      <td>232</td>\n",
       "      <td>0</td>\n",
       "      <td>0</td>\n",
       "    </tr>\n",
       "    <tr>\n",
       "      <th>4</th>\n",
       "      <td>30</td>\n",
       "      <td>0.00</td>\n",
       "      <td>420</td>\n",
       "      <td>0.00</td>\n",
       "      <td>0</td>\n",
       "      <td>1.00</td>\n",
       "      <td>0.0</td>\n",
       "      <td>0</td>\n",
       "      <td>0</td>\n",
       "      <td>199</td>\n",
       "      <td>0</td>\n",
       "      <td>0</td>\n",
       "    </tr>\n",
       "    <tr>\n",
       "      <th>...</th>\n",
       "      <td>...</td>\n",
       "      <td>...</td>\n",
       "      <td>...</td>\n",
       "      <td>...</td>\n",
       "      <td>...</td>\n",
       "      <td>...</td>\n",
       "      <td>...</td>\n",
       "      <td>...</td>\n",
       "      <td>...</td>\n",
       "      <td>...</td>\n",
       "      <td>...</td>\n",
       "      <td>...</td>\n",
       "    </tr>\n",
       "    <tr>\n",
       "      <th>125968</th>\n",
       "      <td>184</td>\n",
       "      <td>0.06</td>\n",
       "      <td>0</td>\n",
       "      <td>0.06</td>\n",
       "      <td>0</td>\n",
       "      <td>0.14</td>\n",
       "      <td>1.0</td>\n",
       "      <td>0</td>\n",
       "      <td>1</td>\n",
       "      <td>0</td>\n",
       "      <td>0</td>\n",
       "      <td>1</td>\n",
       "    </tr>\n",
       "    <tr>\n",
       "      <th>125969</th>\n",
       "      <td>2</td>\n",
       "      <td>0.00</td>\n",
       "      <td>145</td>\n",
       "      <td>0.01</td>\n",
       "      <td>1</td>\n",
       "      <td>1.00</td>\n",
       "      <td>0.0</td>\n",
       "      <td>0</td>\n",
       "      <td>1</td>\n",
       "      <td>105</td>\n",
       "      <td>0</td>\n",
       "      <td>0</td>\n",
       "    </tr>\n",
       "    <tr>\n",
       "      <th>125970</th>\n",
       "      <td>1</td>\n",
       "      <td>0.00</td>\n",
       "      <td>384</td>\n",
       "      <td>0.06</td>\n",
       "      <td>0</td>\n",
       "      <td>1.00</td>\n",
       "      <td>0.0</td>\n",
       "      <td>0</td>\n",
       "      <td>0</td>\n",
       "      <td>2231</td>\n",
       "      <td>0</td>\n",
       "      <td>0</td>\n",
       "    </tr>\n",
       "    <tr>\n",
       "      <th>125971</th>\n",
       "      <td>144</td>\n",
       "      <td>0.05</td>\n",
       "      <td>0</td>\n",
       "      <td>0.05</td>\n",
       "      <td>0</td>\n",
       "      <td>0.06</td>\n",
       "      <td>1.0</td>\n",
       "      <td>1</td>\n",
       "      <td>0</td>\n",
       "      <td>0</td>\n",
       "      <td>0</td>\n",
       "      <td>1</td>\n",
       "    </tr>\n",
       "    <tr>\n",
       "      <th>125972</th>\n",
       "      <td>1</td>\n",
       "      <td>0.00</td>\n",
       "      <td>0</td>\n",
       "      <td>0.03</td>\n",
       "      <td>0</td>\n",
       "      <td>1.00</td>\n",
       "      <td>0.0</td>\n",
       "      <td>0</td>\n",
       "      <td>0</td>\n",
       "      <td>151</td>\n",
       "      <td>0</td>\n",
       "      <td>0</td>\n",
       "    </tr>\n",
       "  </tbody>\n",
       "</table>\n",
       "<p>125973 rows × 12 columns</p>\n",
       "</div>"
      ],
      "text/plain": [
       "        Count  Diff_srv_rate  Dst_bytes  Dst_host_diff_srv_rate  Protocol_type_udp  Same_srv_rate  Serror_rate  Service_other_type  Service_private  Src_bytes  Flag_REJ  Activity\n",
       "0           2           0.00          0                    0.03                  0           1.00          0.0                   0                0        491         0         0\n",
       "1          13           0.15          0                    0.60                  1           0.08          0.0                   1                0        146         0         0\n",
       "2         123           0.07          0                    0.05                  0           0.05          1.0                   0                1          0         0         1\n",
       "3           5           0.00       8153                    0.00                  0           1.00          0.2                   0                0        232         0         0\n",
       "4          30           0.00        420                    0.00                  0           1.00          0.0                   0                0        199         0         0\n",
       "...       ...            ...        ...                     ...                ...            ...          ...                 ...              ...        ...       ...       ...\n",
       "125968    184           0.06          0                    0.06                  0           0.14          1.0                   0                1          0         0         1\n",
       "125969      2           0.00        145                    0.01                  1           1.00          0.0                   0                1        105         0         0\n",
       "125970      1           0.00        384                    0.06                  0           1.00          0.0                   0                0       2231         0         0\n",
       "125971    144           0.05          0                    0.05                  0           0.06          1.0                   1                0          0         0         1\n",
       "125972      1           0.00          0                    0.03                  0           1.00          0.0                   0                0        151         0         0\n",
       "\n",
       "[125973 rows x 12 columns]"
      ]
     },
     "execution_count": 338,
     "metadata": {},
     "output_type": "execute_result"
    }
   ],
   "source": [
    "Variable_for_vif"
   ]
  },
  {
   "cell_type": "code",
   "execution_count": 339,
   "metadata": {},
   "outputs": [],
   "source": [
    "Variable_for_vif['Attack'] = y_multi"
   ]
  },
  {
   "cell_type": "code",
   "execution_count": 340,
   "metadata": {},
   "outputs": [
    {
     "data": {
      "text/plain": [
       "normal             67343\n",
       "neptune            41214\n",
       "satan               3633\n",
       "ipsweep             3599\n",
       "portsweep           2931\n",
       "smurf               2646\n",
       "nmap                1493\n",
       "back                 956\n",
       "teardrop             892\n",
       "warezclient          890\n",
       "pod                  201\n",
       "guess_passwd          53\n",
       "buffer_overflow       30\n",
       "warezmaster           20\n",
       "land                  18\n",
       "imap                  11\n",
       "rootkit               10\n",
       "loadmodule             9\n",
       "ftp_write              8\n",
       "multihop               7\n",
       "phf                    4\n",
       "perl                   3\n",
       "spy                    2\n",
       "Name: Attack, dtype: int64"
      ]
     },
     "execution_count": 340,
     "metadata": {},
     "output_type": "execute_result"
    }
   ],
   "source": [
    "Variable_for_vif.Attack.value_counts()"
   ]
  },
  {
   "cell_type": "code",
   "execution_count": 341,
   "metadata": {},
   "outputs": [],
   "source": [
    "Variable_for_vif=Variable_for_vif.drop('Activity',axis =1)"
   ]
  },
  {
   "cell_type": "code",
   "execution_count": 342,
   "metadata": {},
   "outputs": [],
   "source": [
    "Variable_for_vif['Attack_class'] = np.where(Variable_for_vif.Attack == 'normal','Normal',\n",
    "(np.where((Variable_for_vif.Attack==\"back\")|(Variable_for_vif.Attack==\"land\")|(Variable_for_vif.Attack==\"neptune\")|(Variable_for_vif.Attack==\"pod\")|(Variable_for_vif.Attack==\"smurf\")|(Variable_for_vif.Attack==\"teardrop\")|(Variable_for_vif.Attack==\"apache2\")|(Variable_for_vif.Attack==\"udpstorm\")|(Variable_for_vif.Attack==\"processtable\")|(Variable_for_vif.Attack==\"worm\"),\"DoS\",\n",
    "(np.where((Variable_for_vif.Attack==\"satan\")|(Variable_for_vif.Attack==\"ipsweep\")|(Variable_for_vif.Attack==\"portsweep\")|(Variable_for_vif.Attack==\"mscan\")|(Variable_for_vif.Attack==\"saint\")|(Variable_for_vif.Attack==\"nmap\"),\"Probe\",\n",
    "(np.where((Variable_for_vif.Attack==\"guess_passwd\")|(Variable_for_vif.Attack==\"ftp_write\")|(Variable_for_vif.Attack==\"imap\")|(Variable_for_vif.Attack==\"phf\")|(Variable_for_vif.Attack==\"multihop\")|(Variable_for_vif.Attack==\"warezmaster\")|(Variable_for_vif.Attack==\"warezclient\")|(Variable_for_vif.Attack==\"spy\")|(Variable_for_vif.Attack==\"xlock\")|(Variable_for_vif.Attack==\"xsnoop\")|(Variable_for_vif.Attack==\"snmpguess\")|(Variable_for_vif.Attack==\"snmpgetattack\")|(Variable_for_vif.Attack==\"httptunnel\")|(Variable_for_vif.Attack==\"sendmail\")|(Variable_for_vif.Attack==\"named\"),\"R2L\",\n",
    "(np.where((Variable_for_vif.Attack==\"buffer_overflow\")|(Variable_for_vif.Attack==\"loadmodule\")|(Variable_for_vif.Attack==\"rootkit\")|(Variable_for_vif.Attack==\"perl\")|(Variable_for_vif.Attack==\"sqlattack\")|(Variable_for_vif.Attack==\"xterm\")|(Variable_for_vif.Attack==\"ps\"),\"U2R\",\"Missclassification\")))))))))"
   ]
  },
  {
   "cell_type": "code",
   "execution_count": 343,
   "metadata": {},
   "outputs": [
    {
     "data": {
      "text/plain": [
       "Normal    67343\n",
       "DoS       45927\n",
       "Probe     11656\n",
       "R2L         995\n",
       "U2R          52\n",
       "Name: Attack_class, dtype: int64"
      ]
     },
     "execution_count": 343,
     "metadata": {},
     "output_type": "execute_result"
    }
   ],
   "source": [
    "Variable_for_vif.Attack_class.value_counts()"
   ]
  },
  {
   "cell_type": "code",
   "execution_count": 344,
   "metadata": {},
   "outputs": [],
   "source": [
    "Variable_for_vif=Variable_for_vif.drop('Attack',axis=1)"
   ]
  },
  {
   "cell_type": "code",
   "execution_count": 345,
   "metadata": {},
   "outputs": [
    {
     "data": {
      "text/html": [
       "<div>\n",
       "<style scoped>\n",
       "    .dataframe tbody tr th:only-of-type {\n",
       "        vertical-align: middle;\n",
       "    }\n",
       "\n",
       "    .dataframe tbody tr th {\n",
       "        vertical-align: top;\n",
       "    }\n",
       "\n",
       "    .dataframe thead th {\n",
       "        text-align: right;\n",
       "    }\n",
       "</style>\n",
       "<table border=\"1\" class=\"dataframe\">\n",
       "  <thead>\n",
       "    <tr style=\"text-align: right;\">\n",
       "      <th></th>\n",
       "      <th>Count</th>\n",
       "      <th>Diff_srv_rate</th>\n",
       "      <th>Dst_bytes</th>\n",
       "      <th>Dst_host_diff_srv_rate</th>\n",
       "      <th>Protocol_type_udp</th>\n",
       "      <th>Same_srv_rate</th>\n",
       "      <th>Serror_rate</th>\n",
       "      <th>Service_other_type</th>\n",
       "      <th>Service_private</th>\n",
       "      <th>Src_bytes</th>\n",
       "      <th>Flag_REJ</th>\n",
       "      <th>Attack_class</th>\n",
       "    </tr>\n",
       "  </thead>\n",
       "  <tbody>\n",
       "    <tr>\n",
       "      <th>0</th>\n",
       "      <td>2</td>\n",
       "      <td>0.00</td>\n",
       "      <td>0</td>\n",
       "      <td>0.03</td>\n",
       "      <td>0</td>\n",
       "      <td>1.00</td>\n",
       "      <td>0.0</td>\n",
       "      <td>0</td>\n",
       "      <td>0</td>\n",
       "      <td>491</td>\n",
       "      <td>0</td>\n",
       "      <td>Normal</td>\n",
       "    </tr>\n",
       "    <tr>\n",
       "      <th>1</th>\n",
       "      <td>13</td>\n",
       "      <td>0.15</td>\n",
       "      <td>0</td>\n",
       "      <td>0.60</td>\n",
       "      <td>1</td>\n",
       "      <td>0.08</td>\n",
       "      <td>0.0</td>\n",
       "      <td>1</td>\n",
       "      <td>0</td>\n",
       "      <td>146</td>\n",
       "      <td>0</td>\n",
       "      <td>Normal</td>\n",
       "    </tr>\n",
       "    <tr>\n",
       "      <th>2</th>\n",
       "      <td>123</td>\n",
       "      <td>0.07</td>\n",
       "      <td>0</td>\n",
       "      <td>0.05</td>\n",
       "      <td>0</td>\n",
       "      <td>0.05</td>\n",
       "      <td>1.0</td>\n",
       "      <td>0</td>\n",
       "      <td>1</td>\n",
       "      <td>0</td>\n",
       "      <td>0</td>\n",
       "      <td>DoS</td>\n",
       "    </tr>\n",
       "    <tr>\n",
       "      <th>3</th>\n",
       "      <td>5</td>\n",
       "      <td>0.00</td>\n",
       "      <td>8153</td>\n",
       "      <td>0.00</td>\n",
       "      <td>0</td>\n",
       "      <td>1.00</td>\n",
       "      <td>0.2</td>\n",
       "      <td>0</td>\n",
       "      <td>0</td>\n",
       "      <td>232</td>\n",
       "      <td>0</td>\n",
       "      <td>Normal</td>\n",
       "    </tr>\n",
       "    <tr>\n",
       "      <th>4</th>\n",
       "      <td>30</td>\n",
       "      <td>0.00</td>\n",
       "      <td>420</td>\n",
       "      <td>0.00</td>\n",
       "      <td>0</td>\n",
       "      <td>1.00</td>\n",
       "      <td>0.0</td>\n",
       "      <td>0</td>\n",
       "      <td>0</td>\n",
       "      <td>199</td>\n",
       "      <td>0</td>\n",
       "      <td>Normal</td>\n",
       "    </tr>\n",
       "    <tr>\n",
       "      <th>...</th>\n",
       "      <td>...</td>\n",
       "      <td>...</td>\n",
       "      <td>...</td>\n",
       "      <td>...</td>\n",
       "      <td>...</td>\n",
       "      <td>...</td>\n",
       "      <td>...</td>\n",
       "      <td>...</td>\n",
       "      <td>...</td>\n",
       "      <td>...</td>\n",
       "      <td>...</td>\n",
       "      <td>...</td>\n",
       "    </tr>\n",
       "    <tr>\n",
       "      <th>125968</th>\n",
       "      <td>184</td>\n",
       "      <td>0.06</td>\n",
       "      <td>0</td>\n",
       "      <td>0.06</td>\n",
       "      <td>0</td>\n",
       "      <td>0.14</td>\n",
       "      <td>1.0</td>\n",
       "      <td>0</td>\n",
       "      <td>1</td>\n",
       "      <td>0</td>\n",
       "      <td>0</td>\n",
       "      <td>DoS</td>\n",
       "    </tr>\n",
       "    <tr>\n",
       "      <th>125969</th>\n",
       "      <td>2</td>\n",
       "      <td>0.00</td>\n",
       "      <td>145</td>\n",
       "      <td>0.01</td>\n",
       "      <td>1</td>\n",
       "      <td>1.00</td>\n",
       "      <td>0.0</td>\n",
       "      <td>0</td>\n",
       "      <td>1</td>\n",
       "      <td>105</td>\n",
       "      <td>0</td>\n",
       "      <td>Normal</td>\n",
       "    </tr>\n",
       "    <tr>\n",
       "      <th>125970</th>\n",
       "      <td>1</td>\n",
       "      <td>0.00</td>\n",
       "      <td>384</td>\n",
       "      <td>0.06</td>\n",
       "      <td>0</td>\n",
       "      <td>1.00</td>\n",
       "      <td>0.0</td>\n",
       "      <td>0</td>\n",
       "      <td>0</td>\n",
       "      <td>2231</td>\n",
       "      <td>0</td>\n",
       "      <td>Normal</td>\n",
       "    </tr>\n",
       "    <tr>\n",
       "      <th>125971</th>\n",
       "      <td>144</td>\n",
       "      <td>0.05</td>\n",
       "      <td>0</td>\n",
       "      <td>0.05</td>\n",
       "      <td>0</td>\n",
       "      <td>0.06</td>\n",
       "      <td>1.0</td>\n",
       "      <td>1</td>\n",
       "      <td>0</td>\n",
       "      <td>0</td>\n",
       "      <td>0</td>\n",
       "      <td>DoS</td>\n",
       "    </tr>\n",
       "    <tr>\n",
       "      <th>125972</th>\n",
       "      <td>1</td>\n",
       "      <td>0.00</td>\n",
       "      <td>0</td>\n",
       "      <td>0.03</td>\n",
       "      <td>0</td>\n",
       "      <td>1.00</td>\n",
       "      <td>0.0</td>\n",
       "      <td>0</td>\n",
       "      <td>0</td>\n",
       "      <td>151</td>\n",
       "      <td>0</td>\n",
       "      <td>Normal</td>\n",
       "    </tr>\n",
       "  </tbody>\n",
       "</table>\n",
       "<p>125973 rows × 12 columns</p>\n",
       "</div>"
      ],
      "text/plain": [
       "        Count  Diff_srv_rate  Dst_bytes  Dst_host_diff_srv_rate  Protocol_type_udp  Same_srv_rate  Serror_rate  Service_other_type  Service_private  Src_bytes  Flag_REJ Attack_class\n",
       "0           2           0.00          0                    0.03                  0           1.00          0.0                   0                0        491         0       Normal\n",
       "1          13           0.15          0                    0.60                  1           0.08          0.0                   1                0        146         0       Normal\n",
       "2         123           0.07          0                    0.05                  0           0.05          1.0                   0                1          0         0          DoS\n",
       "3           5           0.00       8153                    0.00                  0           1.00          0.2                   0                0        232         0       Normal\n",
       "4          30           0.00        420                    0.00                  0           1.00          0.0                   0                0        199         0       Normal\n",
       "...       ...            ...        ...                     ...                ...            ...          ...                 ...              ...        ...       ...          ...\n",
       "125968    184           0.06          0                    0.06                  0           0.14          1.0                   0                1          0         0          DoS\n",
       "125969      2           0.00        145                    0.01                  1           1.00          0.0                   0                1        105         0       Normal\n",
       "125970      1           0.00        384                    0.06                  0           1.00          0.0                   0                0       2231         0       Normal\n",
       "125971    144           0.05          0                    0.05                  0           0.06          1.0                   1                0          0         0          DoS\n",
       "125972      1           0.00          0                    0.03                  0           1.00          0.0                   0                0        151         0       Normal\n",
       "\n",
       "[125973 rows x 12 columns]"
      ]
     },
     "execution_count": 345,
     "metadata": {},
     "output_type": "execute_result"
    }
   ],
   "source": [
    "Variable_for_vif"
   ]
  },
  {
   "cell_type": "code",
   "execution_count": 346,
   "metadata": {},
   "outputs": [],
   "source": [
    "X = Variable_for_vif.drop('Attack_class',axis = 1)\n",
    "Y = Variable_for_vif.Attack_class"
   ]
  },
  {
   "cell_type": "code",
   "execution_count": 347,
   "metadata": {},
   "outputs": [],
   "source": [
    "train_X, test_x, train_Y, test_y =  train_test_split(X,Y, test_size = 0.3,random_state = 252)"
   ]
  },
  {
   "cell_type": "markdown",
   "metadata": {},
   "source": [
    "## KNN"
   ]
  },
  {
   "cell_type": "code",
   "execution_count": 348,
   "metadata": {},
   "outputs": [],
   "source": [
    "sc1 = StandardScaler()\n",
    "Knn_data = sc1.fit_transform(X)\n",
    "Knn_data = pd.DataFrame(Knn_data)\n",
    "Knn_data.columns = X.columns"
   ]
  },
  {
   "cell_type": "code",
   "execution_count": 349,
   "metadata": {},
   "outputs": [],
   "source": [
    "train_knn_X, test_knn_X, train_knn_y, test_knn_y =  train_test_split(Knn_data,Y, test_size = 0.3,random_state = 252)"
   ]
  },
  {
   "cell_type": "code",
   "execution_count": 202,
   "metadata": {},
   "outputs": [
    {
     "name": "stdout",
     "output_type": "stream",
     "text": [
      "Fitting 2 folds for each of 8 candidates, totalling 16 fits\n"
     ]
    },
    {
     "name": "stderr",
     "output_type": "stream",
     "text": [
      "[Parallel(n_jobs=-1)]: Using backend LokyBackend with 4 concurrent workers.\n",
      "[Parallel(n_jobs=-1)]: Done  16 out of  16 | elapsed:  4.7min finished\n"
     ]
    }
   ],
   "source": [
    "param_grid_knn = {\"n_neighbors\":[300,400,500,600,700,800,900,1000],\n",
    "                 \"weights\":['distance']}\n",
    "model_knn = GridSearchCV(KNeighborsClassifier(),param_grid = param_grid_knn, cv = 2, scoring = 'f1_weighted',verbose = True, n_jobs=-1)\n",
    "model_knn = model_knn.fit(train_knn_X,train_knn_y)"
   ]
  },
  {
   "cell_type": "code",
   "execution_count": 204,
   "metadata": {},
   "outputs": [
    {
     "data": {
      "text/plain": [
       "{'n_neighbors': 300, 'weights': 'distance'}"
      ]
     },
     "execution_count": 204,
     "metadata": {},
     "output_type": "execute_result"
    }
   ],
   "source": [
    "model_knn.best_params_"
   ]
  },
  {
   "cell_type": "code",
   "execution_count": 350,
   "metadata": {},
   "outputs": [],
   "source": [
    "model_knn = KNeighborsClassifier(n_neighbors = 300,weights=\"distance\").fit(train_knn_X,train_knn_y)"
   ]
  },
  {
   "cell_type": "code",
   "execution_count": 351,
   "metadata": {},
   "outputs": [],
   "source": [
    "knn_predict_multi = model_knn.predict(train_knn_X)"
   ]
  },
  {
   "cell_type": "code",
   "execution_count": 352,
   "metadata": {},
   "outputs": [
    {
     "name": "stdout",
     "output_type": "stream",
     "text": [
      "0.999319581315703\n"
     ]
    }
   ],
   "source": [
    "accuracy_knn = metrics.accuracy_score(train_knn_y,knn_predict_multi)\n",
    "print(accuracy_knn)"
   ]
  },
  {
   "cell_type": "code",
   "execution_count": 353,
   "metadata": {
    "scrolled": true
   },
   "outputs": [
    {
     "name": "stdout",
     "output_type": "stream",
     "text": [
      "              precision    recall  f1-score   support\n",
      "\n",
      "         DoS       1.00      1.00      1.00     32215\n",
      "      Normal       1.00      1.00      1.00     47135\n",
      "       Probe       1.00      1.00      1.00      8115\n",
      "         R2L       1.00      0.99      0.99       685\n",
      "         U2R       1.00      0.97      0.98        31\n",
      "\n",
      "    accuracy                           1.00     88181\n",
      "   macro avg       1.00      0.99      1.00     88181\n",
      "weighted avg       1.00      1.00      1.00     88181\n",
      "\n"
     ]
    }
   ],
   "source": [
    "knn_cm = metrics.classification_report(train_knn_y,knn_predict_multi)\n",
    "print(knn_cm)"
   ]
  },
  {
   "cell_type": "code",
   "execution_count": 356,
   "metadata": {},
   "outputs": [
    {
     "data": {
      "text/plain": [
       "array([[32212,     3,     0,     0,     0],\n",
       "       [   16, 47106,    11,     2,     0],\n",
       "       [    0,    22,  8093,     0,     0],\n",
       "       [    1,     4,     0,   680,     0],\n",
       "       [    0,     1,     0,     0,    30]])"
      ]
     },
     "execution_count": 356,
     "metadata": {},
     "output_type": "execute_result"
    }
   ],
   "source": [
    "KNN_MULTI_CM_Train = metrics.confusion_matrix(train_knn_y,knn_predict_multi)\n",
    "KNN_MULTI_CM_Train"
   ]
  },
  {
   "cell_type": "code",
   "execution_count": 357,
   "metadata": {},
   "outputs": [],
   "source": [
    "model_knn_test = KNeighborsClassifier(n_neighbors = 300,weights=\"distance\").fit(test_knn_X,test_knn_y)"
   ]
  },
  {
   "cell_type": "code",
   "execution_count": 358,
   "metadata": {},
   "outputs": [],
   "source": [
    "knn_pred = model_knn_test.predict(test_knn_X)"
   ]
  },
  {
   "cell_type": "code",
   "execution_count": 359,
   "metadata": {},
   "outputs": [
    {
     "name": "stdout",
     "output_type": "stream",
     "text": [
      "              precision    recall  f1-score   support\n",
      "\n",
      "         DoS       1.00      1.00      1.00     13712\n",
      "      Normal       1.00      1.00      1.00     20208\n",
      "       Probe       1.00      1.00      1.00      3541\n",
      "         R2L       1.00      1.00      1.00       310\n",
      "         U2R       1.00      1.00      1.00        21\n",
      "\n",
      "    accuracy                           1.00     37792\n",
      "   macro avg       1.00      1.00      1.00     37792\n",
      "weighted avg       1.00      1.00      1.00     37792\n",
      "\n"
     ]
    }
   ],
   "source": [
    "print(metrics.classification_report(test_knn_y,knn_pred))"
   ]
  },
  {
   "cell_type": "code",
   "execution_count": 360,
   "metadata": {},
   "outputs": [
    {
     "data": {
      "text/plain": [
       "array([[13710,     2,     0,     0,     0],\n",
       "       [    5, 20200,     2,     1,     0],\n",
       "       [    0,     6,  3535,     0,     0],\n",
       "       [    1,     0,     0,   309,     0],\n",
       "       [    0,     0,     0,     0,    21]])"
      ]
     },
     "execution_count": 360,
     "metadata": {},
     "output_type": "execute_result"
    }
   ],
   "source": [
    "KNN_MULTI_CM_Test = metrics.confusion_matrix(test_knn_y,knn_pred)\n",
    "KNN_MULTI_CM_Test"
   ]
  },
  {
   "cell_type": "markdown",
   "metadata": {},
   "source": [
    "## Decision Tree"
   ]
  },
  {
   "cell_type": "code",
   "execution_count": 181,
   "metadata": {},
   "outputs": [
    {
     "name": "stdout",
     "output_type": "stream",
     "text": [
      "Fitting 2 folds for each of 24 candidates, totalling 48 fits\n"
     ]
    },
    {
     "name": "stderr",
     "output_type": "stream",
     "text": [
      "[Parallel(n_jobs=-1)]: Using backend LokyBackend with 4 concurrent workers.\n",
      "[Parallel(n_jobs=-1)]: Done  48 out of  48 | elapsed:   21.2s finished\n"
     ]
    }
   ],
   "source": [
    "param_grid_dt = {'max_depth': [3,4,5,6], 'max_leaf_nodes': [5,6,7,8,9,10]}\n",
    "model_dt = GridSearchCV(DecisionTreeClassifier(),param_grid= param_grid_dt,cv = 2, scoring = 'f1_weighted',verbose = True, n_jobs=-1)\n",
    "model_dt = model_dt.fit(train_X,train_Y)"
   ]
  },
  {
   "cell_type": "code",
   "execution_count": 182,
   "metadata": {},
   "outputs": [
    {
     "data": {
      "text/plain": [
       "{'max_depth': 4, 'max_leaf_nodes': 10}"
      ]
     },
     "execution_count": 182,
     "metadata": {},
     "output_type": "execute_result"
    }
   ],
   "source": [
    "model_dt.best_params_"
   ]
  },
  {
   "cell_type": "code",
   "execution_count": 361,
   "metadata": {},
   "outputs": [],
   "source": [
    "model_dt = DecisionTreeClassifier(max_depth = 4, max_leaf_nodes = 10).fit(train_X,train_Y)"
   ]
  },
  {
   "cell_type": "code",
   "execution_count": 362,
   "metadata": {},
   "outputs": [],
   "source": [
    "dt_prediction = model_dt.predict(train_X)"
   ]
  },
  {
   "cell_type": "code",
   "execution_count": 363,
   "metadata": {},
   "outputs": [
    {
     "name": "stdout",
     "output_type": "stream",
     "text": [
      "              precision    recall  f1-score   support\n",
      "\n",
      "         DoS       0.98      0.96      0.97     32215\n",
      "      Normal       0.96      0.98      0.97     47135\n",
      "       Probe       0.85      0.92      0.89      8115\n",
      "         R2L       0.00      0.00      0.00       685\n",
      "         U2R       0.00      0.00      0.00        31\n",
      "\n",
      "    accuracy                           0.96     88181\n",
      "   macro avg       0.56      0.57      0.57     88181\n",
      "weighted avg       0.95      0.96      0.95     88181\n",
      "\n"
     ]
    }
   ],
   "source": [
    "dt_cm = metrics.classification_report(train_Y,dt_prediction)\n",
    "print(dt_cm)"
   ]
  },
  {
   "cell_type": "code",
   "execution_count": 365,
   "metadata": {},
   "outputs": [
    {
     "data": {
      "text/plain": [
       "array([[30938,   785,   492,     0,     0],\n",
       "       [  330, 46033,   772,     0,     0],\n",
       "       [  361,   284,  7470,     0,     0],\n",
       "       [   40,   641,     4,     0,     0],\n",
       "       [    1,    30,     0,     0,     0]])"
      ]
     },
     "execution_count": 365,
     "metadata": {},
     "output_type": "execute_result"
    }
   ],
   "source": [
    "DT_MULTI_CM_Train = metrics.confusion_matrix(train_Y,dt_prediction)\n",
    "DT_MULTI_CM_Train"
   ]
  },
  {
   "cell_type": "code",
   "execution_count": 366,
   "metadata": {},
   "outputs": [],
   "source": [
    "dt_test = DecisionTreeClassifier(max_depth = 4, max_leaf_nodes = 10).fit(test_x,test_y)"
   ]
  },
  {
   "cell_type": "code",
   "execution_count": 367,
   "metadata": {},
   "outputs": [],
   "source": [
    "dt_test_prediction = dt_test.predict(test_x)"
   ]
  },
  {
   "cell_type": "code",
   "execution_count": 368,
   "metadata": {
    "scrolled": true
   },
   "outputs": [
    {
     "name": "stdout",
     "output_type": "stream",
     "text": [
      "              precision    recall  f1-score   support\n",
      "\n",
      "         DoS       0.98      0.96      0.97     13712\n",
      "      Normal       0.96      0.98      0.97     20208\n",
      "       Probe       0.86      0.92      0.89      3541\n",
      "         R2L       0.00      0.00      0.00       310\n",
      "         U2R       0.00      0.00      0.00        21\n",
      "\n",
      "    accuracy                           0.96     37792\n",
      "   macro avg       0.56      0.57      0.57     37792\n",
      "weighted avg       0.95      0.96      0.95     37792\n",
      "\n"
     ]
    }
   ],
   "source": [
    "print(metrics.classification_report(test_y,dt_test_prediction))"
   ]
  },
  {
   "cell_type": "code",
   "execution_count": 369,
   "metadata": {},
   "outputs": [
    {
     "data": {
      "text/plain": [
       "array([[13187,   324,   201,     0,     0],\n",
       "       [  133, 19747,   328,     0,     0],\n",
       "       [  180,   107,  3254,     0,     0],\n",
       "       [   13,   295,     2,     0,     0],\n",
       "       [    0,    20,     1,     0,     0]])"
      ]
     },
     "execution_count": 369,
     "metadata": {},
     "output_type": "execute_result"
    }
   ],
   "source": [
    "DT_MULTI_CM_Test = metrics.confusion_matrix(test_y,dt_test_prediction)\n",
    "DT_MULTI_CM_Test"
   ]
  },
  {
   "cell_type": "markdown",
   "metadata": {},
   "source": [
    "## Bagging"
   ]
  },
  {
   "cell_type": "code",
   "execution_count": 223,
   "metadata": {},
   "outputs": [
    {
     "name": "stdout",
     "output_type": "stream",
     "text": [
      "Fitting 2 folds for each of 10 candidates, totalling 20 fits\n"
     ]
    },
    {
     "name": "stderr",
     "output_type": "stream",
     "text": [
      "[Parallel(n_jobs=-1)]: Using backend LokyBackend with 4 concurrent workers.\n",
      "[Parallel(n_jobs=-1)]: Done  20 out of  20 | elapsed:  9.7min finished\n"
     ]
    }
   ],
   "source": [
    "param_bagging = {\"n_estimators\":[300,400,500,600,700,800,900,1000,1100,1200]}\n",
    "model_bagging = GridSearchCV(BaggingClassifier(),param_grid = param_bagging,cv = 2,verbose = True, n_jobs =-1)\n",
    "model_bagging = model_bagging.fit(train_X,train_Y)"
   ]
  },
  {
   "cell_type": "code",
   "execution_count": 224,
   "metadata": {},
   "outputs": [
    {
     "data": {
      "text/plain": [
       "{'n_estimators': 1000}"
      ]
     },
     "execution_count": 224,
     "metadata": {},
     "output_type": "execute_result"
    }
   ],
   "source": [
    "model_bagging.best_params_"
   ]
  },
  {
   "cell_type": "code",
   "execution_count": 372,
   "metadata": {},
   "outputs": [
    {
     "name": "stdout",
     "output_type": "stream",
     "text": [
      "              precision    recall  f1-score   support\n",
      "\n",
      "         DoS       1.00      1.00      1.00     32215\n",
      "      Normal       1.00      1.00      1.00     47135\n",
      "       Probe       1.00      1.00      1.00      8115\n",
      "         R2L       1.00      0.99      0.99       685\n",
      "         U2R       0.97      1.00      0.98        31\n",
      "\n",
      "    accuracy                           1.00     88181\n",
      "   macro avg       0.99      1.00      1.00     88181\n",
      "weighted avg       1.00      1.00      1.00     88181\n",
      "\n"
     ]
    }
   ],
   "source": [
    "bagging_model_train = BaggingClassifier(n_estimators = 1000).fit(train_X,train_Y)\n",
    "\n",
    "predict_bagging = bagging_model_train.predict(train_X)\n",
    "\n",
    "print(metrics.classification_report(train_Y,predict_bagging))"
   ]
  },
  {
   "cell_type": "code",
   "execution_count": 373,
   "metadata": {},
   "outputs": [
    {
     "data": {
      "text/plain": [
       "array([[32209,     6,     0,     0,     0],\n",
       "       [   13, 47104,    15,     2,     1],\n",
       "       [    0,    18,  8097,     0,     0],\n",
       "       [    1,     4,     0,   680,     0],\n",
       "       [    0,     0,     0,     0,    31]])"
      ]
     },
     "execution_count": 373,
     "metadata": {},
     "output_type": "execute_result"
    }
   ],
   "source": [
    "Bagging_MULTI_CM_Train = metrics.confusion_matrix(train_Y,predict_bagging)\n",
    "Bagging_MULTI_CM_Train"
   ]
  },
  {
   "cell_type": "code",
   "execution_count": 374,
   "metadata": {},
   "outputs": [
    {
     "name": "stdout",
     "output_type": "stream",
     "text": [
      "              precision    recall  f1-score   support\n",
      "\n",
      "         DoS       1.00      1.00      1.00     13712\n",
      "      Normal       1.00      1.00      1.00     20208\n",
      "       Probe       1.00      1.00      1.00      3541\n",
      "         R2L       1.00      1.00      1.00       310\n",
      "         U2R       1.00      1.00      1.00        21\n",
      "\n",
      "    accuracy                           1.00     37792\n",
      "   macro avg       1.00      1.00      1.00     37792\n",
      "weighted avg       1.00      1.00      1.00     37792\n",
      "\n"
     ]
    }
   ],
   "source": [
    "bagging_model_test = BaggingClassifier(n_estimators = 1000).fit(test_x,test_y)\n",
    "\n",
    "bagging_predict_test = bagging_model_test.predict(test_x)\n",
    "\n",
    "print(metrics.classification_report(test_y,bagging_predict_test))"
   ]
  },
  {
   "cell_type": "code",
   "execution_count": 376,
   "metadata": {},
   "outputs": [
    {
     "data": {
      "text/plain": [
       "array([[13710,     2,     0,     0,     0],\n",
       "       [    5, 20199,     3,     1,     0],\n",
       "       [    0,     5,  3536,     0,     0],\n",
       "       [    1,     0,     0,   309,     0],\n",
       "       [    0,     0,     0,     0,    21]])"
      ]
     },
     "execution_count": 376,
     "metadata": {},
     "output_type": "execute_result"
    }
   ],
   "source": [
    "Bagging_MULTI_CM_Test = metrics.confusion_matrix(test_y,bagging_predict_test)\n",
    "Bagging_MULTI_CM_Test"
   ]
  },
  {
   "cell_type": "markdown",
   "metadata": {},
   "source": [
    "## Random Forest"
   ]
  },
  {
   "cell_type": "code",
   "execution_count": 227,
   "metadata": {
    "scrolled": true
   },
   "outputs": [
    {
     "name": "stdout",
     "output_type": "stream",
     "text": [
      "Fitting 5 folds for each of 96 candidates, totalling 480 fits\n"
     ]
    },
    {
     "name": "stderr",
     "output_type": "stream",
     "text": [
      "[Parallel(n_jobs=-1)]: Using backend LokyBackend with 4 concurrent workers.\n",
      "[Parallel(n_jobs=-1)]: Done  42 tasks      | elapsed:  3.9min\n",
      "[Parallel(n_jobs=-1)]: Done 192 tasks      | elapsed: 23.5min\n",
      "[Parallel(n_jobs=-1)]: Done 442 tasks      | elapsed: 67.1min\n",
      "[Parallel(n_jobs=-1)]: Done 480 out of 480 | elapsed: 76.0min finished\n"
     ]
    }
   ],
   "source": [
    "param_rf = {'n_estimators':[100,200,300,400,500,600],\"max_depth\":[3,4,5,6],\"max_features\" :[6,7,8,9]}\n",
    "model_rf = GridSearchCV(RandomForestClassifier(),param_grid = param_rf, verbose = True,n_jobs = -1)\n",
    "modelrf = model_rf.fit(train_X,train_Y)"
   ]
  },
  {
   "cell_type": "code",
   "execution_count": 228,
   "metadata": {},
   "outputs": [
    {
     "data": {
      "text/plain": [
       "{'max_depth': 6, 'max_features': 6, 'n_estimators': 200}"
      ]
     },
     "execution_count": 228,
     "metadata": {},
     "output_type": "execute_result"
    }
   ],
   "source": [
    "modelrf.best_params_"
   ]
  },
  {
   "cell_type": "code",
   "execution_count": 377,
   "metadata": {},
   "outputs": [
    {
     "name": "stdout",
     "output_type": "stream",
     "text": [
      "              precision    recall  f1-score   support\n",
      "\n",
      "         DoS       1.00      0.99      1.00     32215\n",
      "      Normal       0.98      1.00      0.99     47135\n",
      "       Probe       0.98      0.99      0.98      8115\n",
      "         R2L       0.00      0.00      0.00       685\n",
      "         U2R       0.00      0.00      0.00        31\n",
      "\n",
      "    accuracy                           0.99     88181\n",
      "   macro avg       0.59      0.60      0.59     88181\n",
      "weighted avg       0.98      0.99      0.98     88181\n",
      "\n"
     ]
    }
   ],
   "source": [
    "model_rf_train = RandomForestClassifier(n_estimators=200, max_depth = 6, max_features = 6).fit(train_X,train_Y)\n",
    "rf_predict_train = model_rf_train.predict(train_X)\n",
    "\n",
    "print(metrics.classification_report(train_Y,rf_predict_train))"
   ]
  },
  {
   "cell_type": "code",
   "execution_count": 379,
   "metadata": {},
   "outputs": [
    {
     "data": {
      "text/plain": [
       "array([[31958,   210,    47,     0,     0],\n",
       "       [    6, 47007,   122,     0,     0],\n",
       "       [    4,    89,  8022,     0,     0],\n",
       "       [    3,   681,     1,     0,     0],\n",
       "       [    0,    31,     0,     0,     0]])"
      ]
     },
     "execution_count": 379,
     "metadata": {},
     "output_type": "execute_result"
    }
   ],
   "source": [
    "RF_MULTI_CM_Train = metrics.confusion_matrix(train_Y,rf_predict_train)\n",
    "RF_MULTI_CM_Train"
   ]
  },
  {
   "cell_type": "code",
   "execution_count": 382,
   "metadata": {},
   "outputs": [
    {
     "name": "stdout",
     "output_type": "stream",
     "text": [
      "              precision    recall  f1-score   support\n",
      "\n",
      "         DoS       1.00      0.99      1.00     13712\n",
      "      Normal       0.98      1.00      0.99     20208\n",
      "       Probe       0.99      0.98      0.98      3541\n",
      "         R2L       0.93      0.04      0.08       310\n",
      "         U2R       0.00      0.00      0.00        21\n",
      "\n",
      "    accuracy                           0.99     37792\n",
      "   macro avg       0.78      0.60      0.61     37792\n",
      "weighted avg       0.99      0.99      0.98     37792\n",
      "\n"
     ]
    }
   ],
   "source": [
    "model_rf_test = RandomForestClassifier(n_estimators=500, max_depth = 6, max_features = 6).fit(test_x,test_y)\n",
    "\n",
    "rf_predict_test = model_rf_test.predict(test_x)\n",
    "\n",
    "print(metrics.classification_report(test_y,rf_predict_test))"
   ]
  },
  {
   "cell_type": "code",
   "execution_count": 383,
   "metadata": {
    "scrolled": true
   },
   "outputs": [
    {
     "data": {
      "text/plain": [
       "array([[13616,    89,     7,     0,     0],\n",
       "       [    6, 20157,    44,     1,     0],\n",
       "       [    0,    55,  3486,     0,     0],\n",
       "       [    1,   296,     0,    13,     0],\n",
       "       [    0,    20,     1,     0,     0]])"
      ]
     },
     "execution_count": 383,
     "metadata": {},
     "output_type": "execute_result"
    }
   ],
   "source": [
    "RF_MULTI_CM_Test = metrics.confusion_matrix(test_y,rf_predict_test)\n",
    "RF_MULTI_CM_Test"
   ]
  },
  {
   "cell_type": "markdown",
   "metadata": {},
   "source": [
    "## Boosting"
   ]
  },
  {
   "cell_type": "code",
   "execution_count": 231,
   "metadata": {},
   "outputs": [
    {
     "name": "stdout",
     "output_type": "stream",
     "text": [
      "Fitting 2 folds for each of 30 candidates, totalling 60 fits\n"
     ]
    },
    {
     "name": "stderr",
     "output_type": "stream",
     "text": [
      "[Parallel(n_jobs=-1)]: Using backend LokyBackend with 4 concurrent workers.\n",
      "[Parallel(n_jobs=-1)]: Done  42 tasks      | elapsed: 35.1min\n",
      "[Parallel(n_jobs=-1)]: Done  60 out of  60 | elapsed: 50.7min finished\n"
     ]
    }
   ],
   "source": [
    "param_ada = {\"n_estimators\":[100,200,400,600,800],\n",
    "            \"learning_rate\":[10 ** x for x in range(-3,3)]}\n",
    "\n",
    "gridsearch_ada = GridSearchCV(GradientBoostingClassifier(),param_grid = param_ada,n_jobs = -1,cv = 2, verbose = True)\n",
    "model_ada = gridsearch_ada.fit(train_X,train_Y)"
   ]
  },
  {
   "cell_type": "code",
   "execution_count": 232,
   "metadata": {},
   "outputs": [
    {
     "data": {
      "text/plain": [
       "{'learning_rate': 0.1, 'n_estimators': 100}"
      ]
     },
     "execution_count": 232,
     "metadata": {},
     "output_type": "execute_result"
    }
   ],
   "source": [
    "model_ada.best_params_"
   ]
  },
  {
   "cell_type": "code",
   "execution_count": 384,
   "metadata": {},
   "outputs": [
    {
     "name": "stdout",
     "output_type": "stream",
     "text": [
      "              precision    recall  f1-score   support\n",
      "\n",
      "         DoS       0.00      0.00      0.00     32215\n",
      "      Normal       0.82      0.98      0.89     47135\n",
      "       Probe       0.15      0.59      0.24      8115\n",
      "         R2L       0.00      0.00      0.00       685\n",
      "         U2R       0.00      0.00      0.00        31\n",
      "\n",
      "    accuracy                           0.58     88181\n",
      "   macro avg       0.19      0.31      0.23     88181\n",
      "weighted avg       0.45      0.58      0.50     88181\n",
      "\n"
     ]
    }
   ],
   "source": [
    "ada_train = AdaBoostClassifier(n_estimators = 100 , learning_rate = 0.1).fit(train_X,train_Y)\n",
    "\n",
    "ada_train_predict = ada_train.predict(train_X)\n",
    "\n",
    "print(metrics.classification_report(train_Y,ada_train_predict))"
   ]
  },
  {
   "cell_type": "code",
   "execution_count": 385,
   "metadata": {},
   "outputs": [
    {
     "data": {
      "text/plain": [
       "array([[    1,  6403, 25811,     0,     0],\n",
       "       [  371, 46128,   636,     0,     0],\n",
       "       [    6,  3300,  4809,     0,     0],\n",
       "       [   41,   641,     3,     0,     0],\n",
       "       [    0,    31,     0,     0,     0]])"
      ]
     },
     "execution_count": 385,
     "metadata": {},
     "output_type": "execute_result"
    }
   ],
   "source": [
    "ADA_MULTI_CM_Train = metrics.confusion_matrix(train_Y,ada_train_predict)\n",
    "ADA_MULTI_CM_Train"
   ]
  },
  {
   "cell_type": "code",
   "execution_count": 386,
   "metadata": {},
   "outputs": [
    {
     "name": "stdout",
     "output_type": "stream",
     "text": [
      "              precision    recall  f1-score   support\n",
      "\n",
      "         DoS       1.00      0.71      0.83     13712\n",
      "      Normal       0.86      0.99      0.92     20208\n",
      "       Probe       0.68      0.90      0.78      3541\n",
      "         R2L       0.00      0.00      0.00       310\n",
      "         U2R       0.00      0.00      0.00        21\n",
      "\n",
      "    accuracy                           0.87     37792\n",
      "   macro avg       0.51      0.52      0.51     37792\n",
      "weighted avg       0.89      0.87      0.87     37792\n",
      "\n"
     ]
    }
   ],
   "source": [
    "ada_test = AdaBoostClassifier(n_estimators = 100 , learning_rate = 0.1).fit(test_x,test_y)\n",
    "\n",
    "ada_test_predict = ada_test.predict(test_x)\n",
    "\n",
    "print(metrics.classification_report(test_y,ada_test_predict))"
   ]
  },
  {
   "cell_type": "code",
   "execution_count": 387,
   "metadata": {},
   "outputs": [
    {
     "data": {
      "text/plain": [
       "array([[ 9739,  2566,  1407,     0,     0],\n",
       "       [    6, 20100,   102,     0,     0],\n",
       "       [    2,   340,  3199,     0,     0],\n",
       "       [    1,   307,     2,     0,     0],\n",
       "       [    0,    20,     1,     0,     0]])"
      ]
     },
     "execution_count": 387,
     "metadata": {},
     "output_type": "execute_result"
    }
   ],
   "source": [
    "ADA_MULTI_CM_Test = metrics.confusion_matrix(test_y,ada_test_predict)\n",
    "ADA_MULTI_CM_Test"
   ]
  },
  {
   "cell_type": "code",
   "execution_count": 235,
   "metadata": {},
   "outputs": [
    {
     "name": "stdout",
     "output_type": "stream",
     "text": [
      "Fitting 2 folds for each of 30 candidates, totalling 60 fits\n"
     ]
    },
    {
     "name": "stderr",
     "output_type": "stream",
     "text": [
      "[Parallel(n_jobs=-1)]: Using backend LokyBackend with 4 concurrent workers.\n",
      "[Parallel(n_jobs=-1)]: Done  42 tasks      | elapsed: 35.1min\n",
      "[Parallel(n_jobs=-1)]: Done  60 out of  60 | elapsed: 51.3min finished\n"
     ]
    }
   ],
   "source": [
    "model_gbm = GridSearchCV(GradientBoostingClassifier(),param_grid = param_ada,cv = 2, verbose = True, n_jobs =-1)\n",
    "model_train = model_gbm.fit(train_X,train_Y)"
   ]
  },
  {
   "cell_type": "code",
   "execution_count": 236,
   "metadata": {},
   "outputs": [
    {
     "data": {
      "text/plain": [
       "{'learning_rate': 0.1, 'n_estimators': 100}"
      ]
     },
     "execution_count": 236,
     "metadata": {},
     "output_type": "execute_result"
    }
   ],
   "source": [
    "model_train.best_params_"
   ]
  },
  {
   "cell_type": "code",
   "execution_count": 398,
   "metadata": {},
   "outputs": [
    {
     "name": "stdout",
     "output_type": "stream",
     "text": [
      "              precision    recall  f1-score   support\n",
      "\n",
      "         DoS       1.00      0.97      0.99     32215\n",
      "      Normal       1.00      0.90      0.95     47135\n",
      "       Probe       0.99      0.69      0.81      8115\n",
      "         R2L       0.98      0.78      0.87       685\n",
      "         U2R       0.00      0.48      0.00        31\n",
      "\n",
      "    accuracy                           0.91     88181\n",
      "   macro avg       0.79      0.76      0.72     88181\n",
      "weighted avg       1.00      0.91      0.95     88181\n",
      "\n"
     ]
    }
   ],
   "source": [
    "model_gbm = GradientBoostingClassifier(n_estimators = 100, learning_rate = 0.1).fit(train_X,train_Y)\n",
    "\n",
    "gbms_predict = model_gbm.predict(train_X)\n",
    "\n",
    "print(metrics.classification_report(train_Y,gbms_predict))"
   ]
  },
  {
   "cell_type": "code",
   "execution_count": 389,
   "metadata": {},
   "outputs": [
    {
     "data": {
      "text/plain": [
       "array([[32182,    29,     4,     0,     0],\n",
       "       [   27, 46990,    67,     5,    46],\n",
       "       [    2,    63,  8049,     0,     1],\n",
       "       [    4,    32,     0,   636,    13],\n",
       "       [    0,    22,     1,     0,     8]])"
      ]
     },
     "execution_count": 389,
     "metadata": {},
     "output_type": "execute_result"
    }
   ],
   "source": [
    "GBM_Multi_CM_train = metrics.confusion_matrix(train_Y,gbms_predict)\n",
    "GBM_Multi_CM_train"
   ]
  },
  {
   "cell_type": "code",
   "execution_count": 390,
   "metadata": {},
   "outputs": [
    {
     "name": "stdout",
     "output_type": "stream",
     "text": [
      "              precision    recall  f1-score   support\n",
      "\n",
      "         DoS       1.00      1.00      1.00     13712\n",
      "      Normal       1.00      1.00      1.00     20208\n",
      "       Probe       0.99      0.99      0.99      3541\n",
      "         R2L       0.98      0.98      0.98       310\n",
      "         U2R       0.43      0.29      0.34        21\n",
      "\n",
      "    accuracy                           1.00     37792\n",
      "   macro avg       0.88      0.85      0.86     37792\n",
      "weighted avg       1.00      1.00      1.00     37792\n",
      "\n"
     ]
    }
   ],
   "source": [
    "model_gbm_test = GradientBoostingClassifier(n_estimators = 100, learning_rate = 0.1).fit(test_x,test_y)\n",
    "\n",
    "gbms_predict_test = model_gbm_test.predict(test_x)\n",
    "\n",
    "print(metrics.classification_report(test_y,gbms_predict_test))"
   ]
  },
  {
   "cell_type": "code",
   "execution_count": 391,
   "metadata": {},
   "outputs": [
    {
     "data": {
      "text/plain": [
       "array([[13696,    13,     3,     0,     0],\n",
       "       [   12, 20159,    23,     6,     8],\n",
       "       [    0,    25,  3516,     0,     0],\n",
       "       [    0,     5,     1,   304,     0],\n",
       "       [    1,    13,     1,     0,     6]])"
      ]
     },
     "execution_count": 391,
     "metadata": {},
     "output_type": "execute_result"
    }
   ],
   "source": [
    "GBM_Multi_CM_test = metrics.confusion_matrix(test_y,gbms_predict_test)\n",
    "GBM_Multi_CM_test"
   ]
  },
  {
   "cell_type": "code",
   "execution_count": 393,
   "metadata": {},
   "outputs": [
    {
     "name": "stdout",
     "output_type": "stream",
     "text": [
      "[01:11:30] WARNING: /Users/travis/build/dmlc/xgboost/src/learner.cc:516: \n",
      "Parameters: { reg_alpa, scale_pos_weight, verbose } might not be used.\n",
      "\n",
      "  This may not be accurate due to some parameters are only used in language bindings but\n",
      "  passed down to XGBoost core.  Or some parameters are not used but slip through this\n",
      "  verification. Please open an issue if you find above cases.\n",
      "\n",
      "\n",
      "              precision    recall  f1-score   support\n",
      "\n",
      "         DoS       1.00      1.00      1.00     32215\n",
      "      Normal       1.00      1.00      1.00     47135\n",
      "       Probe       1.00      0.99      0.99      8115\n",
      "         R2L       1.00      0.93      0.96       685\n",
      "         U2R       1.00      0.42      0.59        31\n",
      "\n",
      "    accuracy                           1.00     88181\n",
      "   macro avg       1.00      0.87      0.91     88181\n",
      "weighted avg       1.00      1.00      1.00     88181\n",
      "\n"
     ]
    }
   ],
   "source": [
    "xgb_estimator = XGBClassifier( learning_rate=0.01,\n",
    "                               n_estimators=1000,\n",
    "                               max_depth=5,\n",
    "                               min_child_weight=1,\n",
    "                               gamma=1,\n",
    "                               subsample=0.8,\n",
    "                               colsample_bytree=0.8,\n",
    "                               n_jobs=-1,\n",
    "                               reg_alpa=1,\n",
    "                               scale_pos_weight=1,\n",
    "                               random_state=42,\n",
    "                               verbose=1)\n",
    "\n",
    "xgb_model = xgb_estimator.fit(train_X,train_Y)\n",
    "\n",
    "xgb_predict = xgb_model.predict(train_X)\n",
    "\n",
    "print(metrics.classification_report(train_Y,xgb_predict))\n"
   ]
  },
  {
   "cell_type": "code",
   "execution_count": 394,
   "metadata": {},
   "outputs": [
    {
     "data": {
      "text/plain": [
       "array([[32205,     9,     1,     0,     0],\n",
       "       [   27, 47074,    32,     2,     0],\n",
       "       [    0,    50,  8065,     0,     0],\n",
       "       [    4,    47,     0,   634,     0],\n",
       "       [    0,    18,     0,     0,    13]])"
      ]
     },
     "execution_count": 394,
     "metadata": {},
     "output_type": "execute_result"
    }
   ],
   "source": [
    "Xgb_Multi_CM_train = metrics.confusion_matrix(train_Y,xgb_predict)\n",
    "Xgb_Multi_CM_train"
   ]
  },
  {
   "cell_type": "code",
   "execution_count": 396,
   "metadata": {},
   "outputs": [
    {
     "name": "stdout",
     "output_type": "stream",
     "text": [
      "[01:22:16] WARNING: /Users/travis/build/dmlc/xgboost/src/learner.cc:516: \n",
      "Parameters: { reg_alpa, scale_pos_weight, verbose } might not be used.\n",
      "\n",
      "  This may not be accurate due to some parameters are only used in language bindings but\n",
      "  passed down to XGBoost core.  Or some parameters are not used but slip through this\n",
      "  verification. Please open an issue if you find above cases.\n",
      "\n",
      "\n"
     ]
    }
   ],
   "source": [
    "xgb_model_test = xgb_estimator.fit(test_x,test_y)\n",
    "xgb_predict_test = xgb_model_test.predict(test_x)"
   ]
  },
  {
   "cell_type": "code",
   "execution_count": 397,
   "metadata": {},
   "outputs": [
    {
     "data": {
      "text/plain": [
       "array([[13703,     6,     3,     0,     0],\n",
       "       [    8, 20190,     8,     2,     0],\n",
       "       [    0,    17,  3524,     0,     0],\n",
       "       [    0,    16,     0,   294,     0],\n",
       "       [    0,     7,     1,     0,    13]])"
      ]
     },
     "execution_count": 397,
     "metadata": {},
     "output_type": "execute_result"
    }
   ],
   "source": [
    "XGB_Multi_CM_Test = metrics.confusion_matrix(test_y,xgb_predict_test)\n",
    "XGB_Multi_CM_Test"
   ]
  },
  {
   "cell_type": "markdown",
   "metadata": {},
   "source": [
    "## Comparing the Confusion Metrics"
   ]
  },
  {
   "cell_type": "code",
   "execution_count": 401,
   "metadata": {},
   "outputs": [
    {
     "name": "stdout",
     "output_type": "stream",
     "text": [
      "KNN_Train \n",
      " [[32212     3     0     0     0]\n",
      " [   16 47106    11     2     0]\n",
      " [    0    22  8093     0     0]\n",
      " [    1     4     0   680     0]\n",
      " [    0     1     0     0    30]]\n",
      "DT_Train \n",
      " [[30938   785   492     0     0]\n",
      " [  330 46033   772     0     0]\n",
      " [  361   284  7470     0     0]\n",
      " [   40   641     4     0     0]\n",
      " [    1    30     0     0     0]]\n",
      "Bagging_Train \n",
      " [[32209     6     0     0     0]\n",
      " [   13 47104    15     2     1]\n",
      " [    0    18  8097     0     0]\n",
      " [    1     4     0   680     0]\n",
      " [    0     0     0     0    31]]\n",
      "RF_Train \n",
      " [[31958   210    47     0     0]\n",
      " [    6 47007   122     0     0]\n",
      " [    4    89  8022     0     0]\n",
      " [    3   681     1     0     0]\n",
      " [    0    31     0     0     0]]\n",
      "ADA_Train \n",
      " [[    1  6403 25811     0     0]\n",
      " [  371 46128   636     0     0]\n",
      " [    6  3300  4809     0     0]\n",
      " [   41   641     3     0     0]\n",
      " [    0    31     0     0     0]]\n",
      "GBM_Train \n",
      " [[32182    29     4     0     0]\n",
      " [   27 46990    67     5    46]\n",
      " [    2    63  8049     0     1]\n",
      " [    4    32     0   636    13]\n",
      " [    0    22     1     0     8]]\n",
      "Xgb_Train \n",
      " [[32205     9     1     0     0]\n",
      " [   27 47074    32     2     0]\n",
      " [    0    50  8065     0     0]\n",
      " [    4    47     0   634     0]\n",
      " [    0    18     0     0    13]]\n",
      "KNN_Test \n",
      " [[13710     2     0     0     0]\n",
      " [    5 20200     2     1     0]\n",
      " [    0     6  3535     0     0]\n",
      " [    1     0     0   309     0]\n",
      " [    0     0     0     0    21]]\n",
      "DT_Test \n",
      " [[13187   324   201     0     0]\n",
      " [  133 19747   328     0     0]\n",
      " [  180   107  3254     0     0]\n",
      " [   13   295     2     0     0]\n",
      " [    0    20     1     0     0]]\n",
      "Bagging_Test \n",
      " [[13710     2     0     0     0]\n",
      " [    5 20199     3     1     0]\n",
      " [    0     5  3536     0     0]\n",
      " [    1     0     0   309     0]\n",
      " [    0     0     0     0    21]]\n",
      "RF_Test \n",
      " [[13616    89     7     0     0]\n",
      " [    6 20157    44     1     0]\n",
      " [    0    55  3486     0     0]\n",
      " [    1   296     0    13     0]\n",
      " [    0    20     1     0     0]]\n",
      "ADA_Test \n",
      " [[ 9739  2566  1407     0     0]\n",
      " [    6 20100   102     0     0]\n",
      " [    2   340  3199     0     0]\n",
      " [    1   307     2     0     0]\n",
      " [    0    20     1     0     0]]\n",
      "GBM_Test \n",
      " [[13696    13     3     0     0]\n",
      " [   12 20159    23     6     8]\n",
      " [    0    25  3516     0     0]\n",
      " [    0     5     1   304     0]\n",
      " [    1    13     1     0     6]]\n",
      "Xgb_Test \n",
      " [[13703     6     3     0     0]\n",
      " [    8 20190     8     2     0]\n",
      " [    0    17  3524     0     0]\n",
      " [    0    16     0   294     0]\n",
      " [    0     7     1     0    13]]\n"
     ]
    }
   ],
   "source": [
    "print(\"KNN_Train\",\"\\n\",KNN_MULTI_CM_Train)\n",
    "print(\"DT_Train\",\"\\n\",DT_MULTI_CM_Train)\n",
    "print(\"Bagging_Train\",\"\\n\",Bagging_MULTI_CM_Train)\n",
    "print(\"RF_Train\",\"\\n\",RF_MULTI_CM_Train)\n",
    "print(\"ADA_Train\",\"\\n\",ADA_MULTI_CM_Train)\n",
    "print(\"GBM_Train\",\"\\n\",GBM_Multi_CM_train)\n",
    "print(\"Xgb_Train\",\"\\n\",Xgb_Multi_CM_train)\n",
    "\n",
    "print(\"KNN_Test\",\"\\n\",KNN_MULTI_CM_Test)\n",
    "print(\"DT_Test\",\"\\n\",DT_MULTI_CM_Test)\n",
    "print(\"Bagging_Test\",\"\\n\",Bagging_MULTI_CM_Test)\n",
    "print(\"RF_Test\",\"\\n\",RF_MULTI_CM_Test)\n",
    "print(\"ADA_Test\",\"\\n\",ADA_MULTI_CM_Test)\n",
    "print(\"GBM_Test\",\"\\n\",GBM_Multi_CM_test)\n",
    "print(\"Xgb_Test\",\"\\n\",XGB_Multi_CM_Test)"
   ]
  },
  {
   "cell_type": "code",
   "execution_count": null,
   "metadata": {},
   "outputs": [],
   "source": [
    "from sklearn.naive_bayes import GaussianNB \n",
    "gnb = GaussianNB().fit(train_X, train_Y) \n",
    "gnb_predictions = gnb.predict(train_X) \n",
    "  \n",
    "print(metrics.classification_report(train_Y,gnb_predictions))\n"
   ]
  },
  {
   "cell_type": "code",
   "execution_count": null,
   "metadata": {},
   "outputs": [],
   "source": [
    "cm = metrics.confusion_matrix(test_y, gnb_predictions)\n",
    "print(cm)"
   ]
  },
  {
   "cell_type": "code",
   "execution_count": null,
   "metadata": {},
   "outputs": [],
   "source": []
  },
  {
   "cell_type": "code",
   "execution_count": null,
   "metadata": {},
   "outputs": [],
   "source": [
    "svm_model = SVC(kernel = \"linear\",C=1).fit(train_X,train_Y)\n",
    "svm_prediction_test = svm_model.predict(train_X)"
   ]
  },
  {
   "cell_type": "code",
   "execution_count": null,
   "metadata": {},
   "outputs": [],
   "source": [
    "accuracy_test = svm_model.score(test_X,test_y)\n",
    "accuracy_test"
   ]
  },
  {
   "cell_type": "code",
   "execution_count": null,
   "metadata": {},
   "outputs": [],
   "source": [
    "svm_cm = metrics.classification_report(test_y,svm_prediction)"
   ]
  },
  {
   "cell_type": "code",
   "execution_count": null,
   "metadata": {},
   "outputs": [],
   "source": [
    "print(svm_cm)"
   ]
  }
 ],
 "metadata": {
  "kernelspec": {
   "display_name": "Python 3",
   "language": "python",
   "name": "python3"
  },
  "language_info": {
   "codemirror_mode": {
    "name": "ipython",
    "version": 3
   },
   "file_extension": ".py",
   "mimetype": "text/x-python",
   "name": "python",
   "nbconvert_exporter": "python",
   "pygments_lexer": "ipython3",
   "version": "3.7.9"
  }
 },
 "nbformat": 4,
 "nbformat_minor": 4
}
