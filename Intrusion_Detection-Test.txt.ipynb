{
 "cells": [
  {
   "cell_type": "code",
   "execution_count": 1,
   "metadata": {},
   "outputs": [],
   "source": [
    "import pandas as pd\n",
    "import numpy as np\n",
    "import seaborn as sns\n",
    "import matplotlib.pyplot as plt\n",
    "%matplotlib inline\n",
    "import pandas_profiling\n",
    "\n",
    "import warnings\n",
    "warnings.filterwarnings('ignore')\n",
    "\n",
    "from sklearn.model_selection import train_test_split\n",
    "from sklearn.svm import SVC\n",
    "from sklearn.model_selection import GridSearchCV\n",
    "\n",
    "from sklearn.model_selection import train_test_split\n",
    "\n",
    "from sklearn.feature_selection import RFE, SelectKBest, f_classif\n",
    "from sklearn.ensemble import RandomForestClassifier\n",
    "from statsmodels.stats.outliers_influence import variance_inflation_factor \n",
    "\n",
    "import statsmodels.formula.api as smf\n",
    "from sklearn import metrics\n",
    "import scipy.stats as stats\n",
    "\n",
    "from sklearn.neighbors import KNeighborsClassifier"
   ]
  },
  {
   "cell_type": "code",
   "execution_count": 2,
   "metadata": {},
   "outputs": [],
   "source": [
    "Data = pd.read_csv(\"Test.txt\",delimiter=\",\",header=None)"
   ]
  },
  {
   "cell_type": "code",
   "execution_count": 3,
   "metadata": {
    "scrolled": true
   },
   "outputs": [
    {
     "data": {
      "text/html": [
       "<div>\n",
       "<style scoped>\n",
       "    .dataframe tbody tr th:only-of-type {\n",
       "        vertical-align: middle;\n",
       "    }\n",
       "\n",
       "    .dataframe tbody tr th {\n",
       "        vertical-align: top;\n",
       "    }\n",
       "\n",
       "    .dataframe thead th {\n",
       "        text-align: right;\n",
       "    }\n",
       "</style>\n",
       "<table border=\"1\" class=\"dataframe\">\n",
       "  <thead>\n",
       "    <tr style=\"text-align: right;\">\n",
       "      <th></th>\n",
       "      <th>0</th>\n",
       "      <th>1</th>\n",
       "      <th>2</th>\n",
       "      <th>3</th>\n",
       "      <th>4</th>\n",
       "      <th>5</th>\n",
       "      <th>6</th>\n",
       "      <th>7</th>\n",
       "      <th>8</th>\n",
       "      <th>9</th>\n",
       "      <th>10</th>\n",
       "      <th>11</th>\n",
       "      <th>12</th>\n",
       "      <th>13</th>\n",
       "      <th>14</th>\n",
       "      <th>15</th>\n",
       "      <th>16</th>\n",
       "      <th>17</th>\n",
       "      <th>18</th>\n",
       "      <th>19</th>\n",
       "      <th>20</th>\n",
       "      <th>21</th>\n",
       "      <th>22</th>\n",
       "      <th>23</th>\n",
       "      <th>24</th>\n",
       "      <th>25</th>\n",
       "      <th>26</th>\n",
       "      <th>27</th>\n",
       "      <th>28</th>\n",
       "      <th>29</th>\n",
       "      <th>30</th>\n",
       "      <th>31</th>\n",
       "      <th>32</th>\n",
       "      <th>33</th>\n",
       "      <th>34</th>\n",
       "      <th>35</th>\n",
       "      <th>36</th>\n",
       "      <th>37</th>\n",
       "      <th>38</th>\n",
       "      <th>39</th>\n",
       "      <th>40</th>\n",
       "      <th>41</th>\n",
       "      <th>42</th>\n",
       "    </tr>\n",
       "  </thead>\n",
       "  <tbody>\n",
       "    <tr>\n",
       "      <th>0</th>\n",
       "      <td>0</td>\n",
       "      <td>tcp</td>\n",
       "      <td>private</td>\n",
       "      <td>REJ</td>\n",
       "      <td>0</td>\n",
       "      <td>0</td>\n",
       "      <td>0</td>\n",
       "      <td>0</td>\n",
       "      <td>0</td>\n",
       "      <td>0</td>\n",
       "      <td>0</td>\n",
       "      <td>0</td>\n",
       "      <td>0</td>\n",
       "      <td>0</td>\n",
       "      <td>0</td>\n",
       "      <td>0</td>\n",
       "      <td>0</td>\n",
       "      <td>0</td>\n",
       "      <td>0</td>\n",
       "      <td>0</td>\n",
       "      <td>0</td>\n",
       "      <td>0</td>\n",
       "      <td>229</td>\n",
       "      <td>10</td>\n",
       "      <td>0.0</td>\n",
       "      <td>0.00</td>\n",
       "      <td>1.0</td>\n",
       "      <td>1.0</td>\n",
       "      <td>0.04</td>\n",
       "      <td>0.06</td>\n",
       "      <td>0.00</td>\n",
       "      <td>255</td>\n",
       "      <td>10</td>\n",
       "      <td>0.04</td>\n",
       "      <td>0.06</td>\n",
       "      <td>0.00</td>\n",
       "      <td>0.00</td>\n",
       "      <td>0.00</td>\n",
       "      <td>0.0</td>\n",
       "      <td>1.00</td>\n",
       "      <td>1.00</td>\n",
       "      <td>neptune</td>\n",
       "      <td>21</td>\n",
       "    </tr>\n",
       "    <tr>\n",
       "      <th>1</th>\n",
       "      <td>0</td>\n",
       "      <td>tcp</td>\n",
       "      <td>private</td>\n",
       "      <td>REJ</td>\n",
       "      <td>0</td>\n",
       "      <td>0</td>\n",
       "      <td>0</td>\n",
       "      <td>0</td>\n",
       "      <td>0</td>\n",
       "      <td>0</td>\n",
       "      <td>0</td>\n",
       "      <td>0</td>\n",
       "      <td>0</td>\n",
       "      <td>0</td>\n",
       "      <td>0</td>\n",
       "      <td>0</td>\n",
       "      <td>0</td>\n",
       "      <td>0</td>\n",
       "      <td>0</td>\n",
       "      <td>0</td>\n",
       "      <td>0</td>\n",
       "      <td>0</td>\n",
       "      <td>136</td>\n",
       "      <td>1</td>\n",
       "      <td>0.0</td>\n",
       "      <td>0.00</td>\n",
       "      <td>1.0</td>\n",
       "      <td>1.0</td>\n",
       "      <td>0.01</td>\n",
       "      <td>0.06</td>\n",
       "      <td>0.00</td>\n",
       "      <td>255</td>\n",
       "      <td>1</td>\n",
       "      <td>0.00</td>\n",
       "      <td>0.06</td>\n",
       "      <td>0.00</td>\n",
       "      <td>0.00</td>\n",
       "      <td>0.00</td>\n",
       "      <td>0.0</td>\n",
       "      <td>1.00</td>\n",
       "      <td>1.00</td>\n",
       "      <td>neptune</td>\n",
       "      <td>21</td>\n",
       "    </tr>\n",
       "    <tr>\n",
       "      <th>2</th>\n",
       "      <td>2</td>\n",
       "      <td>tcp</td>\n",
       "      <td>ftp_data</td>\n",
       "      <td>SF</td>\n",
       "      <td>12983</td>\n",
       "      <td>0</td>\n",
       "      <td>0</td>\n",
       "      <td>0</td>\n",
       "      <td>0</td>\n",
       "      <td>0</td>\n",
       "      <td>0</td>\n",
       "      <td>0</td>\n",
       "      <td>0</td>\n",
       "      <td>0</td>\n",
       "      <td>0</td>\n",
       "      <td>0</td>\n",
       "      <td>0</td>\n",
       "      <td>0</td>\n",
       "      <td>0</td>\n",
       "      <td>0</td>\n",
       "      <td>0</td>\n",
       "      <td>0</td>\n",
       "      <td>1</td>\n",
       "      <td>1</td>\n",
       "      <td>0.0</td>\n",
       "      <td>0.00</td>\n",
       "      <td>0.0</td>\n",
       "      <td>0.0</td>\n",
       "      <td>1.00</td>\n",
       "      <td>0.00</td>\n",
       "      <td>0.00</td>\n",
       "      <td>134</td>\n",
       "      <td>86</td>\n",
       "      <td>0.61</td>\n",
       "      <td>0.04</td>\n",
       "      <td>0.61</td>\n",
       "      <td>0.02</td>\n",
       "      <td>0.00</td>\n",
       "      <td>0.0</td>\n",
       "      <td>0.00</td>\n",
       "      <td>0.00</td>\n",
       "      <td>normal</td>\n",
       "      <td>21</td>\n",
       "    </tr>\n",
       "    <tr>\n",
       "      <th>3</th>\n",
       "      <td>0</td>\n",
       "      <td>icmp</td>\n",
       "      <td>eco_i</td>\n",
       "      <td>SF</td>\n",
       "      <td>20</td>\n",
       "      <td>0</td>\n",
       "      <td>0</td>\n",
       "      <td>0</td>\n",
       "      <td>0</td>\n",
       "      <td>0</td>\n",
       "      <td>0</td>\n",
       "      <td>0</td>\n",
       "      <td>0</td>\n",
       "      <td>0</td>\n",
       "      <td>0</td>\n",
       "      <td>0</td>\n",
       "      <td>0</td>\n",
       "      <td>0</td>\n",
       "      <td>0</td>\n",
       "      <td>0</td>\n",
       "      <td>0</td>\n",
       "      <td>0</td>\n",
       "      <td>1</td>\n",
       "      <td>65</td>\n",
       "      <td>0.0</td>\n",
       "      <td>0.00</td>\n",
       "      <td>0.0</td>\n",
       "      <td>0.0</td>\n",
       "      <td>1.00</td>\n",
       "      <td>0.00</td>\n",
       "      <td>1.00</td>\n",
       "      <td>3</td>\n",
       "      <td>57</td>\n",
       "      <td>1.00</td>\n",
       "      <td>0.00</td>\n",
       "      <td>1.00</td>\n",
       "      <td>0.28</td>\n",
       "      <td>0.00</td>\n",
       "      <td>0.0</td>\n",
       "      <td>0.00</td>\n",
       "      <td>0.00</td>\n",
       "      <td>saint</td>\n",
       "      <td>15</td>\n",
       "    </tr>\n",
       "    <tr>\n",
       "      <th>4</th>\n",
       "      <td>1</td>\n",
       "      <td>tcp</td>\n",
       "      <td>telnet</td>\n",
       "      <td>RSTO</td>\n",
       "      <td>0</td>\n",
       "      <td>15</td>\n",
       "      <td>0</td>\n",
       "      <td>0</td>\n",
       "      <td>0</td>\n",
       "      <td>0</td>\n",
       "      <td>0</td>\n",
       "      <td>0</td>\n",
       "      <td>0</td>\n",
       "      <td>0</td>\n",
       "      <td>0</td>\n",
       "      <td>0</td>\n",
       "      <td>0</td>\n",
       "      <td>0</td>\n",
       "      <td>0</td>\n",
       "      <td>0</td>\n",
       "      <td>0</td>\n",
       "      <td>0</td>\n",
       "      <td>1</td>\n",
       "      <td>8</td>\n",
       "      <td>0.0</td>\n",
       "      <td>0.12</td>\n",
       "      <td>1.0</td>\n",
       "      <td>0.5</td>\n",
       "      <td>1.00</td>\n",
       "      <td>0.00</td>\n",
       "      <td>0.75</td>\n",
       "      <td>29</td>\n",
       "      <td>86</td>\n",
       "      <td>0.31</td>\n",
       "      <td>0.17</td>\n",
       "      <td>0.03</td>\n",
       "      <td>0.02</td>\n",
       "      <td>0.00</td>\n",
       "      <td>0.0</td>\n",
       "      <td>0.83</td>\n",
       "      <td>0.71</td>\n",
       "      <td>mscan</td>\n",
       "      <td>11</td>\n",
       "    </tr>\n",
       "    <tr>\n",
       "      <th>...</th>\n",
       "      <td>...</td>\n",
       "      <td>...</td>\n",
       "      <td>...</td>\n",
       "      <td>...</td>\n",
       "      <td>...</td>\n",
       "      <td>...</td>\n",
       "      <td>...</td>\n",
       "      <td>...</td>\n",
       "      <td>...</td>\n",
       "      <td>...</td>\n",
       "      <td>...</td>\n",
       "      <td>...</td>\n",
       "      <td>...</td>\n",
       "      <td>...</td>\n",
       "      <td>...</td>\n",
       "      <td>...</td>\n",
       "      <td>...</td>\n",
       "      <td>...</td>\n",
       "      <td>...</td>\n",
       "      <td>...</td>\n",
       "      <td>...</td>\n",
       "      <td>...</td>\n",
       "      <td>...</td>\n",
       "      <td>...</td>\n",
       "      <td>...</td>\n",
       "      <td>...</td>\n",
       "      <td>...</td>\n",
       "      <td>...</td>\n",
       "      <td>...</td>\n",
       "      <td>...</td>\n",
       "      <td>...</td>\n",
       "      <td>...</td>\n",
       "      <td>...</td>\n",
       "      <td>...</td>\n",
       "      <td>...</td>\n",
       "      <td>...</td>\n",
       "      <td>...</td>\n",
       "      <td>...</td>\n",
       "      <td>...</td>\n",
       "      <td>...</td>\n",
       "      <td>...</td>\n",
       "      <td>...</td>\n",
       "      <td>...</td>\n",
       "    </tr>\n",
       "    <tr>\n",
       "      <th>22539</th>\n",
       "      <td>0</td>\n",
       "      <td>tcp</td>\n",
       "      <td>smtp</td>\n",
       "      <td>SF</td>\n",
       "      <td>794</td>\n",
       "      <td>333</td>\n",
       "      <td>0</td>\n",
       "      <td>0</td>\n",
       "      <td>0</td>\n",
       "      <td>0</td>\n",
       "      <td>0</td>\n",
       "      <td>1</td>\n",
       "      <td>0</td>\n",
       "      <td>0</td>\n",
       "      <td>0</td>\n",
       "      <td>0</td>\n",
       "      <td>0</td>\n",
       "      <td>0</td>\n",
       "      <td>0</td>\n",
       "      <td>0</td>\n",
       "      <td>0</td>\n",
       "      <td>0</td>\n",
       "      <td>1</td>\n",
       "      <td>1</td>\n",
       "      <td>0.0</td>\n",
       "      <td>0.00</td>\n",
       "      <td>0.0</td>\n",
       "      <td>0.0</td>\n",
       "      <td>1.00</td>\n",
       "      <td>0.00</td>\n",
       "      <td>0.00</td>\n",
       "      <td>100</td>\n",
       "      <td>141</td>\n",
       "      <td>0.72</td>\n",
       "      <td>0.06</td>\n",
       "      <td>0.01</td>\n",
       "      <td>0.01</td>\n",
       "      <td>0.01</td>\n",
       "      <td>0.0</td>\n",
       "      <td>0.00</td>\n",
       "      <td>0.00</td>\n",
       "      <td>normal</td>\n",
       "      <td>21</td>\n",
       "    </tr>\n",
       "    <tr>\n",
       "      <th>22540</th>\n",
       "      <td>0</td>\n",
       "      <td>tcp</td>\n",
       "      <td>http</td>\n",
       "      <td>SF</td>\n",
       "      <td>317</td>\n",
       "      <td>938</td>\n",
       "      <td>0</td>\n",
       "      <td>0</td>\n",
       "      <td>0</td>\n",
       "      <td>0</td>\n",
       "      <td>0</td>\n",
       "      <td>1</td>\n",
       "      <td>0</td>\n",
       "      <td>0</td>\n",
       "      <td>0</td>\n",
       "      <td>0</td>\n",
       "      <td>0</td>\n",
       "      <td>0</td>\n",
       "      <td>0</td>\n",
       "      <td>0</td>\n",
       "      <td>0</td>\n",
       "      <td>0</td>\n",
       "      <td>2</td>\n",
       "      <td>11</td>\n",
       "      <td>0.0</td>\n",
       "      <td>0.00</td>\n",
       "      <td>0.0</td>\n",
       "      <td>0.0</td>\n",
       "      <td>1.00</td>\n",
       "      <td>0.00</td>\n",
       "      <td>0.18</td>\n",
       "      <td>197</td>\n",
       "      <td>255</td>\n",
       "      <td>1.00</td>\n",
       "      <td>0.00</td>\n",
       "      <td>0.01</td>\n",
       "      <td>0.01</td>\n",
       "      <td>0.01</td>\n",
       "      <td>0.0</td>\n",
       "      <td>0.00</td>\n",
       "      <td>0.00</td>\n",
       "      <td>normal</td>\n",
       "      <td>21</td>\n",
       "    </tr>\n",
       "    <tr>\n",
       "      <th>22541</th>\n",
       "      <td>0</td>\n",
       "      <td>tcp</td>\n",
       "      <td>http</td>\n",
       "      <td>SF</td>\n",
       "      <td>54540</td>\n",
       "      <td>8314</td>\n",
       "      <td>0</td>\n",
       "      <td>0</td>\n",
       "      <td>0</td>\n",
       "      <td>2</td>\n",
       "      <td>0</td>\n",
       "      <td>1</td>\n",
       "      <td>1</td>\n",
       "      <td>0</td>\n",
       "      <td>0</td>\n",
       "      <td>0</td>\n",
       "      <td>0</td>\n",
       "      <td>0</td>\n",
       "      <td>0</td>\n",
       "      <td>0</td>\n",
       "      <td>0</td>\n",
       "      <td>0</td>\n",
       "      <td>5</td>\n",
       "      <td>10</td>\n",
       "      <td>0.0</td>\n",
       "      <td>0.00</td>\n",
       "      <td>0.0</td>\n",
       "      <td>0.0</td>\n",
       "      <td>1.00</td>\n",
       "      <td>0.00</td>\n",
       "      <td>0.20</td>\n",
       "      <td>255</td>\n",
       "      <td>255</td>\n",
       "      <td>1.00</td>\n",
       "      <td>0.00</td>\n",
       "      <td>0.00</td>\n",
       "      <td>0.00</td>\n",
       "      <td>0.00</td>\n",
       "      <td>0.0</td>\n",
       "      <td>0.07</td>\n",
       "      <td>0.07</td>\n",
       "      <td>back</td>\n",
       "      <td>15</td>\n",
       "    </tr>\n",
       "    <tr>\n",
       "      <th>22542</th>\n",
       "      <td>0</td>\n",
       "      <td>udp</td>\n",
       "      <td>domain_u</td>\n",
       "      <td>SF</td>\n",
       "      <td>42</td>\n",
       "      <td>42</td>\n",
       "      <td>0</td>\n",
       "      <td>0</td>\n",
       "      <td>0</td>\n",
       "      <td>0</td>\n",
       "      <td>0</td>\n",
       "      <td>0</td>\n",
       "      <td>0</td>\n",
       "      <td>0</td>\n",
       "      <td>0</td>\n",
       "      <td>0</td>\n",
       "      <td>0</td>\n",
       "      <td>0</td>\n",
       "      <td>0</td>\n",
       "      <td>0</td>\n",
       "      <td>0</td>\n",
       "      <td>0</td>\n",
       "      <td>4</td>\n",
       "      <td>6</td>\n",
       "      <td>0.0</td>\n",
       "      <td>0.00</td>\n",
       "      <td>0.0</td>\n",
       "      <td>0.0</td>\n",
       "      <td>1.00</td>\n",
       "      <td>0.00</td>\n",
       "      <td>0.33</td>\n",
       "      <td>255</td>\n",
       "      <td>252</td>\n",
       "      <td>0.99</td>\n",
       "      <td>0.01</td>\n",
       "      <td>0.00</td>\n",
       "      <td>0.00</td>\n",
       "      <td>0.00</td>\n",
       "      <td>0.0</td>\n",
       "      <td>0.00</td>\n",
       "      <td>0.00</td>\n",
       "      <td>normal</td>\n",
       "      <td>21</td>\n",
       "    </tr>\n",
       "    <tr>\n",
       "      <th>22543</th>\n",
       "      <td>0</td>\n",
       "      <td>tcp</td>\n",
       "      <td>sunrpc</td>\n",
       "      <td>REJ</td>\n",
       "      <td>0</td>\n",
       "      <td>0</td>\n",
       "      <td>0</td>\n",
       "      <td>0</td>\n",
       "      <td>0</td>\n",
       "      <td>0</td>\n",
       "      <td>0</td>\n",
       "      <td>0</td>\n",
       "      <td>0</td>\n",
       "      <td>0</td>\n",
       "      <td>0</td>\n",
       "      <td>0</td>\n",
       "      <td>0</td>\n",
       "      <td>0</td>\n",
       "      <td>0</td>\n",
       "      <td>0</td>\n",
       "      <td>0</td>\n",
       "      <td>0</td>\n",
       "      <td>4</td>\n",
       "      <td>10</td>\n",
       "      <td>0.0</td>\n",
       "      <td>0.00</td>\n",
       "      <td>1.0</td>\n",
       "      <td>1.0</td>\n",
       "      <td>0.25</td>\n",
       "      <td>1.00</td>\n",
       "      <td>1.00</td>\n",
       "      <td>255</td>\n",
       "      <td>21</td>\n",
       "      <td>0.08</td>\n",
       "      <td>0.03</td>\n",
       "      <td>0.00</td>\n",
       "      <td>0.00</td>\n",
       "      <td>0.00</td>\n",
       "      <td>0.0</td>\n",
       "      <td>0.44</td>\n",
       "      <td>1.00</td>\n",
       "      <td>mscan</td>\n",
       "      <td>14</td>\n",
       "    </tr>\n",
       "  </tbody>\n",
       "</table>\n",
       "<p>22544 rows × 43 columns</p>\n",
       "</div>"
      ],
      "text/plain": [
       "       0     1         2     3      4     5   6   7   8   9   10  11  12  13  14  15  16  17  18  19  20  21   22  23   24    25   26   27    28    29    30   31   32    33    34    35    36    37   38    39    40       41  42\n",
       "0       0   tcp   private   REJ      0     0   0   0   0   0   0   0   0   0   0   0   0   0   0   0   0   0  229  10  0.0  0.00  1.0  1.0  0.04  0.06  0.00  255   10  0.04  0.06  0.00  0.00  0.00  0.0  1.00  1.00  neptune  21\n",
       "1       0   tcp   private   REJ      0     0   0   0   0   0   0   0   0   0   0   0   0   0   0   0   0   0  136   1  0.0  0.00  1.0  1.0  0.01  0.06  0.00  255    1  0.00  0.06  0.00  0.00  0.00  0.0  1.00  1.00  neptune  21\n",
       "2       2   tcp  ftp_data    SF  12983     0   0   0   0   0   0   0   0   0   0   0   0   0   0   0   0   0    1   1  0.0  0.00  0.0  0.0  1.00  0.00  0.00  134   86  0.61  0.04  0.61  0.02  0.00  0.0  0.00  0.00   normal  21\n",
       "3       0  icmp     eco_i    SF     20     0   0   0   0   0   0   0   0   0   0   0   0   0   0   0   0   0    1  65  0.0  0.00  0.0  0.0  1.00  0.00  1.00    3   57  1.00  0.00  1.00  0.28  0.00  0.0  0.00  0.00    saint  15\n",
       "4       1   tcp    telnet  RSTO      0    15   0   0   0   0   0   0   0   0   0   0   0   0   0   0   0   0    1   8  0.0  0.12  1.0  0.5  1.00  0.00  0.75   29   86  0.31  0.17  0.03  0.02  0.00  0.0  0.83  0.71    mscan  11\n",
       "...    ..   ...       ...   ...    ...   ...  ..  ..  ..  ..  ..  ..  ..  ..  ..  ..  ..  ..  ..  ..  ..  ..  ...  ..  ...   ...  ...  ...   ...   ...   ...  ...  ...   ...   ...   ...   ...   ...  ...   ...   ...      ...  ..\n",
       "22539   0   tcp      smtp    SF    794   333   0   0   0   0   0   1   0   0   0   0   0   0   0   0   0   0    1   1  0.0  0.00  0.0  0.0  1.00  0.00  0.00  100  141  0.72  0.06  0.01  0.01  0.01  0.0  0.00  0.00   normal  21\n",
       "22540   0   tcp      http    SF    317   938   0   0   0   0   0   1   0   0   0   0   0   0   0   0   0   0    2  11  0.0  0.00  0.0  0.0  1.00  0.00  0.18  197  255  1.00  0.00  0.01  0.01  0.01  0.0  0.00  0.00   normal  21\n",
       "22541   0   tcp      http    SF  54540  8314   0   0   0   2   0   1   1   0   0   0   0   0   0   0   0   0    5  10  0.0  0.00  0.0  0.0  1.00  0.00  0.20  255  255  1.00  0.00  0.00  0.00  0.00  0.0  0.07  0.07     back  15\n",
       "22542   0   udp  domain_u    SF     42    42   0   0   0   0   0   0   0   0   0   0   0   0   0   0   0   0    4   6  0.0  0.00  0.0  0.0  1.00  0.00  0.33  255  252  0.99  0.01  0.00  0.00  0.00  0.0  0.00  0.00   normal  21\n",
       "22543   0   tcp    sunrpc   REJ      0     0   0   0   0   0   0   0   0   0   0   0   0   0   0   0   0   0    4  10  0.0  0.00  1.0  1.0  0.25  1.00  1.00  255   21  0.08  0.03  0.00  0.00  0.00  0.0  0.44  1.00    mscan  14\n",
       "\n",
       "[22544 rows x 43 columns]"
      ]
     },
     "execution_count": 3,
     "metadata": {},
     "output_type": "execute_result"
    }
   ],
   "source": [
    "pd.set_option(\"display.max_rows\",1000)\n",
    "pd.set_option(\"display.max_columns\",1000)\n",
    "pd.set_option(\"display.width\",1000)\n",
    "Data"
   ]
  },
  {
   "cell_type": "code",
   "execution_count": 4,
   "metadata": {},
   "outputs": [],
   "source": [
    "col_name = [\"Duration\",\"Protocol_type\",\"Service\",\"Flag\",\"Src_bytes\", \"Dst_bytes\",\"Land\", \"Wrong_fragment\",\"Urgent\",\"Hot\",\"Num_failed_logins\",\"Logged_in\",\"Num_compromised\",\"Root_shell\",\"Su_attempted\",\"Num_root\",\"Num_file_creations\",\"Num_shells\",\"Num_access_files\",\"Num_outbound_cmds\",\"Is_host_login\",\"Is_guest_login\",\"Count\",\"Srv_count\",\"Serror_rate\",\"Srv_serror_rate\",\n",
    "\"Rerror_rate\",\"Srv_rerror_rate\",\"Same_srv_rate\",\"Diff_srv_rate\",\"Srv_diff_host_rate\",\"Dst_host_count\",\"Dst_host_srv_count\",\"Dst_host_same_srv_rate\",\"Dst_host_diff_srv_rate\",\"Dst_host_same_src_port_rate\",\n",
    "\"Dst_host_srv_diff_host_rate\",\"Dst_host_serror_rate\",\"Dst_host_srv_serror_rate\", \"Dst_host_rerror_rate\",\"Dst_host_srv_rerror_rate\",\"Attack\", \"Last_flag\"]"
   ]
  },
  {
   "cell_type": "code",
   "execution_count": 5,
   "metadata": {},
   "outputs": [],
   "source": [
    "for i in range (0,43):\n",
    "    Data = Data.rename(columns={i:col_name[i]})"
   ]
  },
  {
   "cell_type": "code",
   "execution_count": 6,
   "metadata": {},
   "outputs": [],
   "source": [
    "#Data.to_excel(\"Data.xlsx\")"
   ]
  },
  {
   "cell_type": "code",
   "execution_count": 7,
   "metadata": {},
   "outputs": [],
   "source": [
    "Data['Activity'] = np.where(Data.Attack==\"normal\",0,1)"
   ]
  },
  {
   "cell_type": "code",
   "execution_count": 8,
   "metadata": {},
   "outputs": [
    {
     "name": "stdout",
     "output_type": "stream",
     "text": [
      "1    12833\n",
      "0     9711\n",
      "Name: Activity, dtype: int64\n"
     ]
    }
   ],
   "source": [
    "print(Data.Activity.value_counts()) # 0 is normal and 1 is attack which is our event"
   ]
  },
  {
   "cell_type": "code",
   "execution_count": 9,
   "metadata": {},
   "outputs": [],
   "source": [
    "Data.Service = pd.Series(np.where((Data.Service==\"http\"),\"http\",(np.where((Data.Service==\"private\"),\"private\",(\n",
    "                np.where((Data.Service==\"domain_u\"),\"domain_u\",(np.where((Data.Service==\"smtp\"),\"smtp\",(\n",
    "                                                                      np.where((Data.Service==\"ftp_data\"),\"ftp_data\",\"other_type\"))))))))))"
   ]
  },
  {
   "cell_type": "code",
   "execution_count": 10,
   "metadata": {},
   "outputs": [
    {
     "data": {
      "text/plain": [
       "http          7853\n",
       "other_type    7238\n",
       "private       4774\n",
       "smtp           934\n",
       "domain_u       894\n",
       "ftp_data       851\n",
       "Name: Service, dtype: int64"
      ]
     },
     "execution_count": 10,
     "metadata": {},
     "output_type": "execute_result"
    }
   ],
   "source": [
    "Data.Service.value_counts()"
   ]
  },
  {
   "cell_type": "code",
   "execution_count": 11,
   "metadata": {},
   "outputs": [
    {
     "name": "stdout",
     "output_type": "stream",
     "text": [
      "(22544, 44)\n"
     ]
    }
   ],
   "source": [
    "print(Data.shape)"
   ]
  },
  {
   "cell_type": "code",
   "execution_count": 12,
   "metadata": {},
   "outputs": [],
   "source": [
    "y_multi = Data.Attack"
   ]
  },
  {
   "cell_type": "code",
   "execution_count": 13,
   "metadata": {},
   "outputs": [],
   "source": [
    "Data = Data.drop(columns=\"Attack\",axis=1)"
   ]
  },
  {
   "cell_type": "code",
   "execution_count": 14,
   "metadata": {},
   "outputs": [
    {
     "data": {
      "text/html": [
       "<div>\n",
       "<style scoped>\n",
       "    .dataframe tbody tr th:only-of-type {\n",
       "        vertical-align: middle;\n",
       "    }\n",
       "\n",
       "    .dataframe tbody tr th {\n",
       "        vertical-align: top;\n",
       "    }\n",
       "\n",
       "    .dataframe thead th {\n",
       "        text-align: right;\n",
       "    }\n",
       "</style>\n",
       "<table border=\"1\" class=\"dataframe\">\n",
       "  <thead>\n",
       "    <tr style=\"text-align: right;\">\n",
       "      <th></th>\n",
       "      <th>Duration</th>\n",
       "      <th>Protocol_type</th>\n",
       "      <th>Service</th>\n",
       "      <th>Flag</th>\n",
       "      <th>Src_bytes</th>\n",
       "      <th>Dst_bytes</th>\n",
       "      <th>Land</th>\n",
       "      <th>Wrong_fragment</th>\n",
       "      <th>Urgent</th>\n",
       "      <th>Hot</th>\n",
       "      <th>Num_failed_logins</th>\n",
       "      <th>Logged_in</th>\n",
       "      <th>Num_compromised</th>\n",
       "      <th>Root_shell</th>\n",
       "      <th>Su_attempted</th>\n",
       "      <th>Num_root</th>\n",
       "      <th>Num_file_creations</th>\n",
       "      <th>Num_shells</th>\n",
       "      <th>Num_access_files</th>\n",
       "      <th>Num_outbound_cmds</th>\n",
       "      <th>Is_host_login</th>\n",
       "      <th>Is_guest_login</th>\n",
       "      <th>Count</th>\n",
       "      <th>Srv_count</th>\n",
       "      <th>Serror_rate</th>\n",
       "      <th>Srv_serror_rate</th>\n",
       "      <th>Rerror_rate</th>\n",
       "      <th>Srv_rerror_rate</th>\n",
       "      <th>Same_srv_rate</th>\n",
       "      <th>Diff_srv_rate</th>\n",
       "      <th>Srv_diff_host_rate</th>\n",
       "      <th>Dst_host_count</th>\n",
       "      <th>Dst_host_srv_count</th>\n",
       "      <th>Dst_host_same_srv_rate</th>\n",
       "      <th>Dst_host_diff_srv_rate</th>\n",
       "      <th>Dst_host_same_src_port_rate</th>\n",
       "      <th>Dst_host_srv_diff_host_rate</th>\n",
       "      <th>Dst_host_serror_rate</th>\n",
       "      <th>Dst_host_srv_serror_rate</th>\n",
       "      <th>Dst_host_rerror_rate</th>\n",
       "      <th>Dst_host_srv_rerror_rate</th>\n",
       "      <th>Last_flag</th>\n",
       "      <th>Activity</th>\n",
       "    </tr>\n",
       "  </thead>\n",
       "  <tbody>\n",
       "    <tr>\n",
       "      <th>0</th>\n",
       "      <td>0</td>\n",
       "      <td>tcp</td>\n",
       "      <td>private</td>\n",
       "      <td>REJ</td>\n",
       "      <td>0</td>\n",
       "      <td>0</td>\n",
       "      <td>0</td>\n",
       "      <td>0</td>\n",
       "      <td>0</td>\n",
       "      <td>0</td>\n",
       "      <td>0</td>\n",
       "      <td>0</td>\n",
       "      <td>0</td>\n",
       "      <td>0</td>\n",
       "      <td>0</td>\n",
       "      <td>0</td>\n",
       "      <td>0</td>\n",
       "      <td>0</td>\n",
       "      <td>0</td>\n",
       "      <td>0</td>\n",
       "      <td>0</td>\n",
       "      <td>0</td>\n",
       "      <td>229</td>\n",
       "      <td>10</td>\n",
       "      <td>0.0</td>\n",
       "      <td>0.0</td>\n",
       "      <td>1.0</td>\n",
       "      <td>1.0</td>\n",
       "      <td>0.04</td>\n",
       "      <td>0.06</td>\n",
       "      <td>0.0</td>\n",
       "      <td>255</td>\n",
       "      <td>10</td>\n",
       "      <td>0.04</td>\n",
       "      <td>0.06</td>\n",
       "      <td>0.0</td>\n",
       "      <td>0.0</td>\n",
       "      <td>0.0</td>\n",
       "      <td>0.0</td>\n",
       "      <td>1.0</td>\n",
       "      <td>1.0</td>\n",
       "      <td>21</td>\n",
       "      <td>1</td>\n",
       "    </tr>\n",
       "  </tbody>\n",
       "</table>\n",
       "</div>"
      ],
      "text/plain": [
       "   Duration Protocol_type  Service Flag  Src_bytes  Dst_bytes  Land  Wrong_fragment  Urgent  Hot  Num_failed_logins  Logged_in  Num_compromised  Root_shell  Su_attempted  Num_root  Num_file_creations  Num_shells  Num_access_files  Num_outbound_cmds  Is_host_login  Is_guest_login  Count  Srv_count  Serror_rate  Srv_serror_rate  Rerror_rate  Srv_rerror_rate  Same_srv_rate  Diff_srv_rate  Srv_diff_host_rate  Dst_host_count  Dst_host_srv_count  Dst_host_same_srv_rate  Dst_host_diff_srv_rate  Dst_host_same_src_port_rate  Dst_host_srv_diff_host_rate  Dst_host_serror_rate  Dst_host_srv_serror_rate  Dst_host_rerror_rate  Dst_host_srv_rerror_rate  Last_flag  Activity\n",
       "0         0           tcp  private  REJ          0          0     0               0       0    0                  0          0                0           0             0         0                   0           0                 0                  0              0               0    229         10          0.0              0.0          1.0              1.0           0.04           0.06                 0.0             255                  10                    0.04                    0.06                          0.0                          0.0                   0.0                       0.0                   1.0                       1.0         21         1"
      ]
     },
     "execution_count": 14,
     "metadata": {},
     "output_type": "execute_result"
    }
   ],
   "source": [
    "Data.head(1)"
   ]
  },
  {
   "cell_type": "code",
   "execution_count": 15,
   "metadata": {},
   "outputs": [],
   "source": [
    "#Profile = pandas_profiling.ProfileReport(Data)\n",
    "#Profile.to_file(\"Output.html\")"
   ]
  },
  {
   "cell_type": "markdown",
   "metadata": {},
   "source": [
    "##### On basis of Pandas Profiling dropping variable which are highly corelated  and which are constant"
   ]
  },
  {
   "cell_type": "code",
   "execution_count": 16,
   "metadata": {},
   "outputs": [],
   "source": [
    "Data = Data.drop(columns={\"Num_root\",\"Srv_serror_rate\",\"Srv_rerror_rate\",\"Dst_host_serror_rate\",\"Dst_host_srv_serror_rate\",\"Dst_host_rerror_rate\",\"Dst_host_srv_rerror_rate\"})\n",
    "Data = Data.drop(columns={\"Wrong_fragment\"})"
   ]
  },
  {
   "cell_type": "code",
   "execution_count": 17,
   "metadata": {},
   "outputs": [],
   "source": [
    "Data=Data.drop(columns={\"Num_access_files\",\"Num_failed_logins\",\"Num_file_creations\",\"Num_outbound_cmds\",\"Num_shells\"},axis=1)"
   ]
  },
  {
   "cell_type": "code",
   "execution_count": 18,
   "metadata": {},
   "outputs": [],
   "source": [
    "Data_num = Data.loc[:,Data.columns.difference([\"Protocol_type\",\"Service\",\"Flag\",\"Urgent\",\"Land\",\"Logged_in\",\"Root_shell\",\"Su_attempted\",\"Is_host_login\",\"Is_guest_login\"])]"
   ]
  },
  {
   "cell_type": "code",
   "execution_count": 19,
   "metadata": {},
   "outputs": [
    {
     "data": {
      "text/html": [
       "<div>\n",
       "<style scoped>\n",
       "    .dataframe tbody tr th:only-of-type {\n",
       "        vertical-align: middle;\n",
       "    }\n",
       "\n",
       "    .dataframe tbody tr th {\n",
       "        vertical-align: top;\n",
       "    }\n",
       "\n",
       "    .dataframe thead th {\n",
       "        text-align: right;\n",
       "    }\n",
       "</style>\n",
       "<table border=\"1\" class=\"dataframe\">\n",
       "  <thead>\n",
       "    <tr style=\"text-align: right;\">\n",
       "      <th></th>\n",
       "      <th>N</th>\n",
       "      <th>NMISS</th>\n",
       "      <th>SUM</th>\n",
       "      <th>MEAN</th>\n",
       "      <th>MEDIAN</th>\n",
       "      <th>STD</th>\n",
       "      <th>VAR</th>\n",
       "      <th>CV</th>\n",
       "      <th>MIN</th>\n",
       "      <th>P1</th>\n",
       "      <th>P5</th>\n",
       "      <th>P10</th>\n",
       "      <th>P25</th>\n",
       "      <th>P50</th>\n",
       "      <th>P75</th>\n",
       "      <th>P90</th>\n",
       "      <th>P95</th>\n",
       "      <th>P99</th>\n",
       "      <th>MAX</th>\n",
       "    </tr>\n",
       "  </thead>\n",
       "  <tbody>\n",
       "    <tr>\n",
       "      <th>Activity</th>\n",
       "      <td>22544.0</td>\n",
       "      <td>0.0</td>\n",
       "      <td>1.283300e+04</td>\n",
       "      <td>0.569242</td>\n",
       "      <td>1.00</td>\n",
       "      <td>0.495193</td>\n",
       "      <td>2.452164e-01</td>\n",
       "      <td>0.869916</td>\n",
       "      <td>0.0</td>\n",
       "      <td>0.0</td>\n",
       "      <td>0.00</td>\n",
       "      <td>0.00</td>\n",
       "      <td>0.00</td>\n",
       "      <td>1.00</td>\n",
       "      <td>1.00</td>\n",
       "      <td>1.00</td>\n",
       "      <td>1.00</td>\n",
       "      <td>1.0000</td>\n",
       "      <td>1.0</td>\n",
       "    </tr>\n",
       "    <tr>\n",
       "      <th>Count</th>\n",
       "      <td>22544.0</td>\n",
       "      <td>0.0</td>\n",
       "      <td>1.781615e+06</td>\n",
       "      <td>79.028345</td>\n",
       "      <td>8.00</td>\n",
       "      <td>128.539248</td>\n",
       "      <td>1.652234e+04</td>\n",
       "      <td>1.626496</td>\n",
       "      <td>0.0</td>\n",
       "      <td>1.0</td>\n",
       "      <td>1.00</td>\n",
       "      <td>1.00</td>\n",
       "      <td>1.00</td>\n",
       "      <td>8.00</td>\n",
       "      <td>123.25</td>\n",
       "      <td>256.00</td>\n",
       "      <td>400.85</td>\n",
       "      <td>511.0000</td>\n",
       "      <td>511.0</td>\n",
       "    </tr>\n",
       "    <tr>\n",
       "      <th>Diff_srv_rate</th>\n",
       "      <td>22544.0</td>\n",
       "      <td>0.0</td>\n",
       "      <td>2.120800e+03</td>\n",
       "      <td>0.094074</td>\n",
       "      <td>0.00</td>\n",
       "      <td>0.259138</td>\n",
       "      <td>6.715231e-02</td>\n",
       "      <td>2.754620</td>\n",
       "      <td>0.0</td>\n",
       "      <td>0.0</td>\n",
       "      <td>0.00</td>\n",
       "      <td>0.00</td>\n",
       "      <td>0.00</td>\n",
       "      <td>0.00</td>\n",
       "      <td>0.06</td>\n",
       "      <td>0.09</td>\n",
       "      <td>1.00</td>\n",
       "      <td>1.0000</td>\n",
       "      <td>1.0</td>\n",
       "    </tr>\n",
       "    <tr>\n",
       "      <th>Dst_bytes</th>\n",
       "      <td>22544.0</td>\n",
       "      <td>0.0</td>\n",
       "      <td>4.635089e+07</td>\n",
       "      <td>2056.018808</td>\n",
       "      <td>46.00</td>\n",
       "      <td>21219.297609</td>\n",
       "      <td>4.502586e+08</td>\n",
       "      <td>10.320576</td>\n",
       "      <td>0.0</td>\n",
       "      <td>0.0</td>\n",
       "      <td>0.00</td>\n",
       "      <td>0.00</td>\n",
       "      <td>0.00</td>\n",
       "      <td>46.00</td>\n",
       "      <td>601.00</td>\n",
       "      <td>4099.10</td>\n",
       "      <td>8314.00</td>\n",
       "      <td>26032.0400</td>\n",
       "      <td>1345927.0</td>\n",
       "    </tr>\n",
       "    <tr>\n",
       "      <th>Dst_host_count</th>\n",
       "      <td>22544.0</td>\n",
       "      <td>0.0</td>\n",
       "      <td>4.370592e+06</td>\n",
       "      <td>193.869411</td>\n",
       "      <td>255.00</td>\n",
       "      <td>94.035663</td>\n",
       "      <td>8.842706e+03</td>\n",
       "      <td>0.485046</td>\n",
       "      <td>0.0</td>\n",
       "      <td>1.0</td>\n",
       "      <td>6.00</td>\n",
       "      <td>20.00</td>\n",
       "      <td>121.00</td>\n",
       "      <td>255.00</td>\n",
       "      <td>255.00</td>\n",
       "      <td>255.00</td>\n",
       "      <td>255.00</td>\n",
       "      <td>255.0000</td>\n",
       "      <td>255.0</td>\n",
       "    </tr>\n",
       "    <tr>\n",
       "      <th>Dst_host_diff_srv_rate</th>\n",
       "      <td>22544.0</td>\n",
       "      <td>0.0</td>\n",
       "      <td>2.041130e+03</td>\n",
       "      <td>0.090540</td>\n",
       "      <td>0.01</td>\n",
       "      <td>0.220717</td>\n",
       "      <td>4.871593e-02</td>\n",
       "      <td>2.437787</td>\n",
       "      <td>0.0</td>\n",
       "      <td>0.0</td>\n",
       "      <td>0.00</td>\n",
       "      <td>0.00</td>\n",
       "      <td>0.00</td>\n",
       "      <td>0.01</td>\n",
       "      <td>0.06</td>\n",
       "      <td>0.15</td>\n",
       "      <td>0.75</td>\n",
       "      <td>1.0000</td>\n",
       "      <td>1.0</td>\n",
       "    </tr>\n",
       "    <tr>\n",
       "      <th>Dst_host_same_src_port_rate</th>\n",
       "      <td>22544.0</td>\n",
       "      <td>0.0</td>\n",
       "      <td>2.981690e+03</td>\n",
       "      <td>0.132261</td>\n",
       "      <td>0.00</td>\n",
       "      <td>0.306268</td>\n",
       "      <td>9.380025e-02</td>\n",
       "      <td>2.315637</td>\n",
       "      <td>0.0</td>\n",
       "      <td>0.0</td>\n",
       "      <td>0.00</td>\n",
       "      <td>0.00</td>\n",
       "      <td>0.00</td>\n",
       "      <td>0.00</td>\n",
       "      <td>0.03</td>\n",
       "      <td>0.85</td>\n",
       "      <td>1.00</td>\n",
       "      <td>1.0000</td>\n",
       "      <td>1.0</td>\n",
       "    </tr>\n",
       "    <tr>\n",
       "      <th>Dst_host_same_srv_rate</th>\n",
       "      <td>22544.0</td>\n",
       "      <td>0.0</td>\n",
       "      <td>1.372302e+04</td>\n",
       "      <td>0.608722</td>\n",
       "      <td>0.92</td>\n",
       "      <td>0.435688</td>\n",
       "      <td>1.898242e-01</td>\n",
       "      <td>0.715743</td>\n",
       "      <td>0.0</td>\n",
       "      <td>0.0</td>\n",
       "      <td>0.00</td>\n",
       "      <td>0.02</td>\n",
       "      <td>0.07</td>\n",
       "      <td>0.92</td>\n",
       "      <td>1.00</td>\n",
       "      <td>1.00</td>\n",
       "      <td>1.00</td>\n",
       "      <td>1.0000</td>\n",
       "      <td>1.0</td>\n",
       "    </tr>\n",
       "    <tr>\n",
       "      <th>Dst_host_srv_count</th>\n",
       "      <td>22544.0</td>\n",
       "      <td>0.0</td>\n",
       "      <td>3.173080e+06</td>\n",
       "      <td>140.750532</td>\n",
       "      <td>168.00</td>\n",
       "      <td>111.783972</td>\n",
       "      <td>1.249566e+04</td>\n",
       "      <td>0.794199</td>\n",
       "      <td>0.0</td>\n",
       "      <td>1.0</td>\n",
       "      <td>1.00</td>\n",
       "      <td>3.00</td>\n",
       "      <td>15.00</td>\n",
       "      <td>168.00</td>\n",
       "      <td>255.00</td>\n",
       "      <td>255.00</td>\n",
       "      <td>255.00</td>\n",
       "      <td>255.0000</td>\n",
       "      <td>255.0</td>\n",
       "    </tr>\n",
       "    <tr>\n",
       "      <th>Dst_host_srv_diff_host_rate</th>\n",
       "      <td>22544.0</td>\n",
       "      <td>0.0</td>\n",
       "      <td>4.427300e+02</td>\n",
       "      <td>0.019638</td>\n",
       "      <td>0.00</td>\n",
       "      <td>0.085394</td>\n",
       "      <td>7.292115e-03</td>\n",
       "      <td>4.348293</td>\n",
       "      <td>0.0</td>\n",
       "      <td>0.0</td>\n",
       "      <td>0.00</td>\n",
       "      <td>0.00</td>\n",
       "      <td>0.00</td>\n",
       "      <td>0.00</td>\n",
       "      <td>0.01</td>\n",
       "      <td>0.04</td>\n",
       "      <td>0.06</td>\n",
       "      <td>0.4057</td>\n",
       "      <td>1.0</td>\n",
       "    </tr>\n",
       "    <tr>\n",
       "      <th>Duration</th>\n",
       "      <td>22544.0</td>\n",
       "      <td>0.0</td>\n",
       "      <td>4.933959e+06</td>\n",
       "      <td>218.859076</td>\n",
       "      <td>0.00</td>\n",
       "      <td>1407.176612</td>\n",
       "      <td>1.980146e+06</td>\n",
       "      <td>6.429601</td>\n",
       "      <td>0.0</td>\n",
       "      <td>0.0</td>\n",
       "      <td>0.00</td>\n",
       "      <td>0.00</td>\n",
       "      <td>0.00</td>\n",
       "      <td>0.00</td>\n",
       "      <td>0.00</td>\n",
       "      <td>4.00</td>\n",
       "      <td>283.00</td>\n",
       "      <td>7589.5700</td>\n",
       "      <td>57715.0</td>\n",
       "    </tr>\n",
       "    <tr>\n",
       "      <th>Hot</th>\n",
       "      <td>22544.0</td>\n",
       "      <td>0.0</td>\n",
       "      <td>2.376000e+03</td>\n",
       "      <td>0.105394</td>\n",
       "      <td>0.00</td>\n",
       "      <td>0.928428</td>\n",
       "      <td>8.619786e-01</td>\n",
       "      <td>8.809125</td>\n",
       "      <td>0.0</td>\n",
       "      <td>0.0</td>\n",
       "      <td>0.00</td>\n",
       "      <td>0.00</td>\n",
       "      <td>0.00</td>\n",
       "      <td>0.00</td>\n",
       "      <td>0.00</td>\n",
       "      <td>0.00</td>\n",
       "      <td>0.00</td>\n",
       "      <td>2.0000</td>\n",
       "      <td>101.0</td>\n",
       "    </tr>\n",
       "    <tr>\n",
       "      <th>Last_flag</th>\n",
       "      <td>22544.0</td>\n",
       "      <td>0.0</td>\n",
       "      <td>4.061970e+05</td>\n",
       "      <td>18.017965</td>\n",
       "      <td>20.00</td>\n",
       "      <td>4.270361</td>\n",
       "      <td>1.823598e+01</td>\n",
       "      <td>0.237006</td>\n",
       "      <td>0.0</td>\n",
       "      <td>2.0</td>\n",
       "      <td>9.00</td>\n",
       "      <td>12.00</td>\n",
       "      <td>17.00</td>\n",
       "      <td>20.00</td>\n",
       "      <td>21.00</td>\n",
       "      <td>21.00</td>\n",
       "      <td>21.00</td>\n",
       "      <td>21.0000</td>\n",
       "      <td>21.0</td>\n",
       "    </tr>\n",
       "    <tr>\n",
       "      <th>Num_compromised</th>\n",
       "      <td>22544.0</td>\n",
       "      <td>0.0</td>\n",
       "      <td>2.703000e+03</td>\n",
       "      <td>0.119899</td>\n",
       "      <td>0.00</td>\n",
       "      <td>7.269597</td>\n",
       "      <td>5.284704e+01</td>\n",
       "      <td>60.631077</td>\n",
       "      <td>0.0</td>\n",
       "      <td>0.0</td>\n",
       "      <td>0.00</td>\n",
       "      <td>0.00</td>\n",
       "      <td>0.00</td>\n",
       "      <td>0.00</td>\n",
       "      <td>0.00</td>\n",
       "      <td>0.00</td>\n",
       "      <td>0.00</td>\n",
       "      <td>1.0000</td>\n",
       "      <td>796.0</td>\n",
       "    </tr>\n",
       "    <tr>\n",
       "      <th>Rerror_rate</th>\n",
       "      <td>22544.0</td>\n",
       "      <td>0.0</td>\n",
       "      <td>5.375910e+03</td>\n",
       "      <td>0.238463</td>\n",
       "      <td>0.00</td>\n",
       "      <td>0.416118</td>\n",
       "      <td>1.731539e-01</td>\n",
       "      <td>1.744999</td>\n",
       "      <td>0.0</td>\n",
       "      <td>0.0</td>\n",
       "      <td>0.00</td>\n",
       "      <td>0.00</td>\n",
       "      <td>0.00</td>\n",
       "      <td>0.00</td>\n",
       "      <td>0.25</td>\n",
       "      <td>1.00</td>\n",
       "      <td>1.00</td>\n",
       "      <td>1.0000</td>\n",
       "      <td>1.0</td>\n",
       "    </tr>\n",
       "    <tr>\n",
       "      <th>Same_srv_rate</th>\n",
       "      <td>22544.0</td>\n",
       "      <td>0.0</td>\n",
       "      <td>1.669033e+04</td>\n",
       "      <td>0.740345</td>\n",
       "      <td>1.00</td>\n",
       "      <td>0.412496</td>\n",
       "      <td>1.701530e-01</td>\n",
       "      <td>0.557168</td>\n",
       "      <td>0.0</td>\n",
       "      <td>0.0</td>\n",
       "      <td>0.01</td>\n",
       "      <td>0.03</td>\n",
       "      <td>0.25</td>\n",
       "      <td>1.00</td>\n",
       "      <td>1.00</td>\n",
       "      <td>1.00</td>\n",
       "      <td>1.00</td>\n",
       "      <td>1.0000</td>\n",
       "      <td>1.0</td>\n",
       "    </tr>\n",
       "    <tr>\n",
       "      <th>Serror_rate</th>\n",
       "      <td>22544.0</td>\n",
       "      <td>0.0</td>\n",
       "      <td>2.320310e+03</td>\n",
       "      <td>0.102924</td>\n",
       "      <td>0.00</td>\n",
       "      <td>0.295367</td>\n",
       "      <td>8.724158e-02</td>\n",
       "      <td>2.869768</td>\n",
       "      <td>0.0</td>\n",
       "      <td>0.0</td>\n",
       "      <td>0.00</td>\n",
       "      <td>0.00</td>\n",
       "      <td>0.00</td>\n",
       "      <td>0.00</td>\n",
       "      <td>0.00</td>\n",
       "      <td>0.50</td>\n",
       "      <td>1.00</td>\n",
       "      <td>1.0000</td>\n",
       "      <td>1.0</td>\n",
       "    </tr>\n",
       "    <tr>\n",
       "      <th>Src_bytes</th>\n",
       "      <td>22544.0</td>\n",
       "      <td>0.0</td>\n",
       "      <td>2.343550e+08</td>\n",
       "      <td>10395.450231</td>\n",
       "      <td>54.00</td>\n",
       "      <td>472786.431088</td>\n",
       "      <td>2.235270e+11</td>\n",
       "      <td>45.480130</td>\n",
       "      <td>0.0</td>\n",
       "      <td>0.0</td>\n",
       "      <td>0.00</td>\n",
       "      <td>0.00</td>\n",
       "      <td>0.00</td>\n",
       "      <td>54.00</td>\n",
       "      <td>287.00</td>\n",
       "      <td>1032.00</td>\n",
       "      <td>15876.00</td>\n",
       "      <td>283618.0000</td>\n",
       "      <td>62825648.0</td>\n",
       "    </tr>\n",
       "    <tr>\n",
       "      <th>Srv_count</th>\n",
       "      <td>22544.0</td>\n",
       "      <td>0.0</td>\n",
       "      <td>7.016680e+05</td>\n",
       "      <td>31.124379</td>\n",
       "      <td>6.00</td>\n",
       "      <td>89.062532</td>\n",
       "      <td>7.932135e+03</td>\n",
       "      <td>2.861504</td>\n",
       "      <td>0.0</td>\n",
       "      <td>1.0</td>\n",
       "      <td>1.00</td>\n",
       "      <td>1.00</td>\n",
       "      <td>1.00</td>\n",
       "      <td>6.00</td>\n",
       "      <td>16.00</td>\n",
       "      <td>43.00</td>\n",
       "      <td>185.00</td>\n",
       "      <td>511.0000</td>\n",
       "      <td>511.0</td>\n",
       "    </tr>\n",
       "    <tr>\n",
       "      <th>Srv_diff_host_rate</th>\n",
       "      <td>22544.0</td>\n",
       "      <td>0.0</td>\n",
       "      <td>2.211800e+03</td>\n",
       "      <td>0.098110</td>\n",
       "      <td>0.00</td>\n",
       "      <td>0.253545</td>\n",
       "      <td>6.428522e-02</td>\n",
       "      <td>2.584287</td>\n",
       "      <td>0.0</td>\n",
       "      <td>0.0</td>\n",
       "      <td>0.00</td>\n",
       "      <td>0.00</td>\n",
       "      <td>0.00</td>\n",
       "      <td>0.00</td>\n",
       "      <td>0.00</td>\n",
       "      <td>0.33</td>\n",
       "      <td>1.00</td>\n",
       "      <td>1.0000</td>\n",
       "      <td>1.0</td>\n",
       "    </tr>\n",
       "  </tbody>\n",
       "</table>\n",
       "</div>"
      ],
      "text/plain": [
       "                                   N  NMISS           SUM          MEAN  MEDIAN            STD           VAR         CV  MIN   P1    P5    P10     P25     P50     P75      P90       P95          P99         MAX\n",
       "Activity                     22544.0    0.0  1.283300e+04      0.569242    1.00       0.495193  2.452164e-01   0.869916  0.0  0.0  0.00   0.00    0.00    1.00    1.00     1.00      1.00       1.0000         1.0\n",
       "Count                        22544.0    0.0  1.781615e+06     79.028345    8.00     128.539248  1.652234e+04   1.626496  0.0  1.0  1.00   1.00    1.00    8.00  123.25   256.00    400.85     511.0000       511.0\n",
       "Diff_srv_rate                22544.0    0.0  2.120800e+03      0.094074    0.00       0.259138  6.715231e-02   2.754620  0.0  0.0  0.00   0.00    0.00    0.00    0.06     0.09      1.00       1.0000         1.0\n",
       "Dst_bytes                    22544.0    0.0  4.635089e+07   2056.018808   46.00   21219.297609  4.502586e+08  10.320576  0.0  0.0  0.00   0.00    0.00   46.00  601.00  4099.10   8314.00   26032.0400   1345927.0\n",
       "Dst_host_count               22544.0    0.0  4.370592e+06    193.869411  255.00      94.035663  8.842706e+03   0.485046  0.0  1.0  6.00  20.00  121.00  255.00  255.00   255.00    255.00     255.0000       255.0\n",
       "Dst_host_diff_srv_rate       22544.0    0.0  2.041130e+03      0.090540    0.01       0.220717  4.871593e-02   2.437787  0.0  0.0  0.00   0.00    0.00    0.01    0.06     0.15      0.75       1.0000         1.0\n",
       "Dst_host_same_src_port_rate  22544.0    0.0  2.981690e+03      0.132261    0.00       0.306268  9.380025e-02   2.315637  0.0  0.0  0.00   0.00    0.00    0.00    0.03     0.85      1.00       1.0000         1.0\n",
       "Dst_host_same_srv_rate       22544.0    0.0  1.372302e+04      0.608722    0.92       0.435688  1.898242e-01   0.715743  0.0  0.0  0.00   0.02    0.07    0.92    1.00     1.00      1.00       1.0000         1.0\n",
       "Dst_host_srv_count           22544.0    0.0  3.173080e+06    140.750532  168.00     111.783972  1.249566e+04   0.794199  0.0  1.0  1.00   3.00   15.00  168.00  255.00   255.00    255.00     255.0000       255.0\n",
       "Dst_host_srv_diff_host_rate  22544.0    0.0  4.427300e+02      0.019638    0.00       0.085394  7.292115e-03   4.348293  0.0  0.0  0.00   0.00    0.00    0.00    0.01     0.04      0.06       0.4057         1.0\n",
       "Duration                     22544.0    0.0  4.933959e+06    218.859076    0.00    1407.176612  1.980146e+06   6.429601  0.0  0.0  0.00   0.00    0.00    0.00    0.00     4.00    283.00    7589.5700     57715.0\n",
       "Hot                          22544.0    0.0  2.376000e+03      0.105394    0.00       0.928428  8.619786e-01   8.809125  0.0  0.0  0.00   0.00    0.00    0.00    0.00     0.00      0.00       2.0000       101.0\n",
       "Last_flag                    22544.0    0.0  4.061970e+05     18.017965   20.00       4.270361  1.823598e+01   0.237006  0.0  2.0  9.00  12.00   17.00   20.00   21.00    21.00     21.00      21.0000        21.0\n",
       "Num_compromised              22544.0    0.0  2.703000e+03      0.119899    0.00       7.269597  5.284704e+01  60.631077  0.0  0.0  0.00   0.00    0.00    0.00    0.00     0.00      0.00       1.0000       796.0\n",
       "Rerror_rate                  22544.0    0.0  5.375910e+03      0.238463    0.00       0.416118  1.731539e-01   1.744999  0.0  0.0  0.00   0.00    0.00    0.00    0.25     1.00      1.00       1.0000         1.0\n",
       "Same_srv_rate                22544.0    0.0  1.669033e+04      0.740345    1.00       0.412496  1.701530e-01   0.557168  0.0  0.0  0.01   0.03    0.25    1.00    1.00     1.00      1.00       1.0000         1.0\n",
       "Serror_rate                  22544.0    0.0  2.320310e+03      0.102924    0.00       0.295367  8.724158e-02   2.869768  0.0  0.0  0.00   0.00    0.00    0.00    0.00     0.50      1.00       1.0000         1.0\n",
       "Src_bytes                    22544.0    0.0  2.343550e+08  10395.450231   54.00  472786.431088  2.235270e+11  45.480130  0.0  0.0  0.00   0.00    0.00   54.00  287.00  1032.00  15876.00  283618.0000  62825648.0\n",
       "Srv_count                    22544.0    0.0  7.016680e+05     31.124379    6.00      89.062532  7.932135e+03   2.861504  0.0  1.0  1.00   1.00    1.00    6.00   16.00    43.00    185.00     511.0000       511.0\n",
       "Srv_diff_host_rate           22544.0    0.0  2.211800e+03      0.098110    0.00       0.253545  6.428522e-02   2.584287  0.0  0.0  0.00   0.00    0.00    0.00    0.00     0.33      1.00       1.0000         1.0"
      ]
     },
     "execution_count": 19,
     "metadata": {},
     "output_type": "execute_result"
    }
   ],
   "source": [
    "def var_summary(x):\n",
    "    return pd.Series([x.count(), x.isnull().sum(), x.sum(), x.mean(), x.median(),  x.std(), x.var(), x.std()/x.mean(), x.min(), x.dropna().quantile(0.01), x.dropna().quantile(0.05),x.dropna().quantile(0.10),x.dropna().quantile(0.25),x.dropna().quantile(0.50),x.dropna().quantile(0.75), x.dropna().quantile(0.90),x.dropna().quantile(0.95), x.dropna().quantile(0.99),x.max()], \n",
    "                  index=['N', 'NMISS', 'SUM', 'MEAN','MEDIAN', 'STD', 'VAR', 'CV','MIN', 'P1' , 'P5' ,'P10' ,'P25' ,'P50' ,'P75' ,'P90' ,'P95' ,'P99' ,'MAX'])\n",
    "Data_num.apply(lambda x: var_summary(x)).T"
   ]
  },
  {
   "cell_type": "code",
   "execution_count": 20,
   "metadata": {},
   "outputs": [],
   "source": [
    "def missing(x):\n",
    "    x = x.fillna(x.mean())\n",
    "    return x"
   ]
  },
  {
   "cell_type": "code",
   "execution_count": 21,
   "metadata": {},
   "outputs": [],
   "source": [
    "Data_num= Data_num.apply(missing)"
   ]
  },
  {
   "cell_type": "code",
   "execution_count": 22,
   "metadata": {},
   "outputs": [],
   "source": [
    "def outliers(x):\n",
    "    lc = x.quantile(0.01)\n",
    "    uc = x.quantile(0.99)\n",
    "    return x.clip(lower = lc, upper = uc)"
   ]
  },
  {
   "cell_type": "code",
   "execution_count": 23,
   "metadata": {
    "scrolled": true
   },
   "outputs": [],
   "source": [
    "Data_num = Data_num.apply(outliers)"
   ]
  },
  {
   "cell_type": "code",
   "execution_count": 24,
   "metadata": {},
   "outputs": [],
   "source": [
    "Data_cat = Data.loc[:,[\"Protocol_type\",\"Service\",\"Flag\",\"Urgent\",\"Land\",\"Logged_in\",\"Root_shell\",\"Su_attempted\",\"Is_host_login\",\"Is_guest_login\",\"Activity\"]]"
   ]
  },
  {
   "cell_type": "code",
   "execution_count": 25,
   "metadata": {},
   "outputs": [],
   "source": [
    "def missing_cat(x):\n",
    "    x=x.fillna(x.mode)\n",
    "    return x"
   ]
  },
  {
   "cell_type": "code",
   "execution_count": 26,
   "metadata": {},
   "outputs": [],
   "source": [
    "Data_cat = Data_cat.apply(missing_cat)"
   ]
  },
  {
   "cell_type": "code",
   "execution_count": 27,
   "metadata": {},
   "outputs": [],
   "source": [
    "def create_dummies(df, colname):\n",
    "    col_dummy = pd.get_dummies(df[colname],prefix=colname,drop_first=True)\n",
    "    df = pd.concat([df,col_dummy],axis=1)\n",
    "    df.drop(colname,axis=1,inplace=True)\n",
    "    return df"
   ]
  },
  {
   "cell_type": "code",
   "execution_count": 28,
   "metadata": {},
   "outputs": [],
   "source": [
    "for c_feature in Data_cat.columns[0:len(Data_cat.columns)-1]:\n",
    "    Data_cat[c_feature] = Data_cat[c_feature].astype('category')\n",
    "    Data_cat = create_dummies(Data_cat,c_feature)"
   ]
  },
  {
   "cell_type": "code",
   "execution_count": 29,
   "metadata": {},
   "outputs": [
    {
     "data": {
      "text/html": [
       "<div>\n",
       "<style scoped>\n",
       "    .dataframe tbody tr th:only-of-type {\n",
       "        vertical-align: middle;\n",
       "    }\n",
       "\n",
       "    .dataframe tbody tr th {\n",
       "        vertical-align: top;\n",
       "    }\n",
       "\n",
       "    .dataframe thead th {\n",
       "        text-align: right;\n",
       "    }\n",
       "</style>\n",
       "<table border=\"1\" class=\"dataframe\">\n",
       "  <thead>\n",
       "    <tr style=\"text-align: right;\">\n",
       "      <th></th>\n",
       "      <th>Activity</th>\n",
       "      <th>Protocol_type_tcp</th>\n",
       "      <th>Protocol_type_udp</th>\n",
       "      <th>Service_ftp_data</th>\n",
       "      <th>Service_http</th>\n",
       "      <th>Service_other_type</th>\n",
       "      <th>Service_private</th>\n",
       "      <th>Service_smtp</th>\n",
       "      <th>Flag_REJ</th>\n",
       "      <th>Flag_RSTO</th>\n",
       "      <th>Flag_RSTOS0</th>\n",
       "      <th>Flag_RSTR</th>\n",
       "      <th>Flag_S0</th>\n",
       "      <th>Flag_S1</th>\n",
       "      <th>Flag_S2</th>\n",
       "      <th>Flag_S3</th>\n",
       "      <th>Flag_SF</th>\n",
       "      <th>Flag_SH</th>\n",
       "      <th>Urgent_1</th>\n",
       "      <th>Urgent_2</th>\n",
       "      <th>Urgent_3</th>\n",
       "      <th>Land_1</th>\n",
       "      <th>Logged_in_1</th>\n",
       "      <th>Root_shell_1</th>\n",
       "      <th>Su_attempted_1</th>\n",
       "      <th>Su_attempted_2</th>\n",
       "      <th>Is_host_login_1</th>\n",
       "      <th>Is_guest_login_1</th>\n",
       "    </tr>\n",
       "  </thead>\n",
       "  <tbody>\n",
       "    <tr>\n",
       "      <th>0</th>\n",
       "      <td>1</td>\n",
       "      <td>1</td>\n",
       "      <td>0</td>\n",
       "      <td>0</td>\n",
       "      <td>0</td>\n",
       "      <td>0</td>\n",
       "      <td>1</td>\n",
       "      <td>0</td>\n",
       "      <td>1</td>\n",
       "      <td>0</td>\n",
       "      <td>0</td>\n",
       "      <td>0</td>\n",
       "      <td>0</td>\n",
       "      <td>0</td>\n",
       "      <td>0</td>\n",
       "      <td>0</td>\n",
       "      <td>0</td>\n",
       "      <td>0</td>\n",
       "      <td>0</td>\n",
       "      <td>0</td>\n",
       "      <td>0</td>\n",
       "      <td>0</td>\n",
       "      <td>0</td>\n",
       "      <td>0</td>\n",
       "      <td>0</td>\n",
       "      <td>0</td>\n",
       "      <td>0</td>\n",
       "      <td>0</td>\n",
       "    </tr>\n",
       "    <tr>\n",
       "      <th>1</th>\n",
       "      <td>1</td>\n",
       "      <td>1</td>\n",
       "      <td>0</td>\n",
       "      <td>0</td>\n",
       "      <td>0</td>\n",
       "      <td>0</td>\n",
       "      <td>1</td>\n",
       "      <td>0</td>\n",
       "      <td>1</td>\n",
       "      <td>0</td>\n",
       "      <td>0</td>\n",
       "      <td>0</td>\n",
       "      <td>0</td>\n",
       "      <td>0</td>\n",
       "      <td>0</td>\n",
       "      <td>0</td>\n",
       "      <td>0</td>\n",
       "      <td>0</td>\n",
       "      <td>0</td>\n",
       "      <td>0</td>\n",
       "      <td>0</td>\n",
       "      <td>0</td>\n",
       "      <td>0</td>\n",
       "      <td>0</td>\n",
       "      <td>0</td>\n",
       "      <td>0</td>\n",
       "      <td>0</td>\n",
       "      <td>0</td>\n",
       "    </tr>\n",
       "  </tbody>\n",
       "</table>\n",
       "</div>"
      ],
      "text/plain": [
       "   Activity  Protocol_type_tcp  Protocol_type_udp  Service_ftp_data  Service_http  Service_other_type  Service_private  Service_smtp  Flag_REJ  Flag_RSTO  Flag_RSTOS0  Flag_RSTR  Flag_S0  Flag_S1  Flag_S2  Flag_S3  Flag_SF  Flag_SH  Urgent_1  Urgent_2  Urgent_3  Land_1  Logged_in_1  Root_shell_1  Su_attempted_1  Su_attempted_2  Is_host_login_1  Is_guest_login_1\n",
       "0         1                  1                  0                 0             0                   0                1             0         1          0            0          0        0        0        0        0        0        0         0         0         0       0            0             0               0               0                0                 0\n",
       "1         1                  1                  0                 0             0                   0                1             0         1          0            0          0        0        0        0        0        0        0         0         0         0       0            0             0               0               0                0                 0"
      ]
     },
     "execution_count": 29,
     "metadata": {},
     "output_type": "execute_result"
    }
   ],
   "source": [
    "Data_cat.head(2)"
   ]
  },
  {
   "cell_type": "code",
   "execution_count": 30,
   "metadata": {},
   "outputs": [],
   "source": [
    "Pre_processing_data = pd.concat([Data_num,Data_cat],axis=1)"
   ]
  },
  {
   "cell_type": "code",
   "execution_count": 31,
   "metadata": {},
   "outputs": [],
   "source": [
    "Normal_Data = Pre_processing_data"
   ]
  },
  {
   "cell_type": "code",
   "execution_count": 32,
   "metadata": {},
   "outputs": [],
   "source": [
    "Normal_Data = Normal_Data.drop(columns=\"Activity\",axis =1 )"
   ]
  },
  {
   "cell_type": "code",
   "execution_count": 33,
   "metadata": {
    "scrolled": true
   },
   "outputs": [],
   "source": [
    "Normal_Data['Activity'] = Data.Activity"
   ]
  },
  {
   "cell_type": "code",
   "execution_count": 34,
   "metadata": {},
   "outputs": [],
   "source": [
    "Normal_Num = Normal_Data.iloc[:,range(0,19)]\n",
    "Normal_Num['Activity'] = Normal_Data.Activity"
   ]
  },
  {
   "cell_type": "code",
   "execution_count": 35,
   "metadata": {},
   "outputs": [
    {
     "data": {
      "text/html": [
       "<div>\n",
       "<style scoped>\n",
       "    .dataframe tbody tr th:only-of-type {\n",
       "        vertical-align: middle;\n",
       "    }\n",
       "\n",
       "    .dataframe tbody tr th {\n",
       "        vertical-align: top;\n",
       "    }\n",
       "\n",
       "    .dataframe thead th {\n",
       "        text-align: right;\n",
       "    }\n",
       "</style>\n",
       "<table border=\"1\" class=\"dataframe\">\n",
       "  <thead>\n",
       "    <tr style=\"text-align: right;\">\n",
       "      <th></th>\n",
       "      <th>Count</th>\n",
       "      <th>Diff_srv_rate</th>\n",
       "      <th>Dst_bytes</th>\n",
       "      <th>Dst_host_count</th>\n",
       "      <th>Dst_host_diff_srv_rate</th>\n",
       "      <th>Dst_host_same_src_port_rate</th>\n",
       "      <th>Dst_host_same_srv_rate</th>\n",
       "      <th>Dst_host_srv_count</th>\n",
       "      <th>Dst_host_srv_diff_host_rate</th>\n",
       "      <th>Duration</th>\n",
       "      <th>Hot</th>\n",
       "      <th>Last_flag</th>\n",
       "      <th>Num_compromised</th>\n",
       "      <th>Rerror_rate</th>\n",
       "      <th>Same_srv_rate</th>\n",
       "      <th>Serror_rate</th>\n",
       "      <th>Src_bytes</th>\n",
       "      <th>Srv_count</th>\n",
       "      <th>Srv_diff_host_rate</th>\n",
       "      <th>Activity</th>\n",
       "    </tr>\n",
       "  </thead>\n",
       "  <tbody>\n",
       "    <tr>\n",
       "      <th>0</th>\n",
       "      <td>229</td>\n",
       "      <td>0.06</td>\n",
       "      <td>0.0</td>\n",
       "      <td>255</td>\n",
       "      <td>0.06</td>\n",
       "      <td>0.00</td>\n",
       "      <td>0.04</td>\n",
       "      <td>10</td>\n",
       "      <td>0.00</td>\n",
       "      <td>0.0</td>\n",
       "      <td>0</td>\n",
       "      <td>21</td>\n",
       "      <td>0</td>\n",
       "      <td>1.0</td>\n",
       "      <td>0.04</td>\n",
       "      <td>0.0</td>\n",
       "      <td>0</td>\n",
       "      <td>10</td>\n",
       "      <td>0.0</td>\n",
       "      <td>1</td>\n",
       "    </tr>\n",
       "    <tr>\n",
       "      <th>1</th>\n",
       "      <td>136</td>\n",
       "      <td>0.06</td>\n",
       "      <td>0.0</td>\n",
       "      <td>255</td>\n",
       "      <td>0.06</td>\n",
       "      <td>0.00</td>\n",
       "      <td>0.00</td>\n",
       "      <td>1</td>\n",
       "      <td>0.00</td>\n",
       "      <td>0.0</td>\n",
       "      <td>0</td>\n",
       "      <td>21</td>\n",
       "      <td>0</td>\n",
       "      <td>1.0</td>\n",
       "      <td>0.01</td>\n",
       "      <td>0.0</td>\n",
       "      <td>0</td>\n",
       "      <td>1</td>\n",
       "      <td>0.0</td>\n",
       "      <td>1</td>\n",
       "    </tr>\n",
       "    <tr>\n",
       "      <th>2</th>\n",
       "      <td>1</td>\n",
       "      <td>0.00</td>\n",
       "      <td>0.0</td>\n",
       "      <td>134</td>\n",
       "      <td>0.04</td>\n",
       "      <td>0.61</td>\n",
       "      <td>0.61</td>\n",
       "      <td>86</td>\n",
       "      <td>0.02</td>\n",
       "      <td>2.0</td>\n",
       "      <td>0</td>\n",
       "      <td>21</td>\n",
       "      <td>0</td>\n",
       "      <td>0.0</td>\n",
       "      <td>1.00</td>\n",
       "      <td>0.0</td>\n",
       "      <td>12983</td>\n",
       "      <td>1</td>\n",
       "      <td>0.0</td>\n",
       "      <td>0</td>\n",
       "    </tr>\n",
       "  </tbody>\n",
       "</table>\n",
       "</div>"
      ],
      "text/plain": [
       "   Count  Diff_srv_rate  Dst_bytes  Dst_host_count  Dst_host_diff_srv_rate  Dst_host_same_src_port_rate  Dst_host_same_srv_rate  Dst_host_srv_count  Dst_host_srv_diff_host_rate  Duration  Hot  Last_flag  Num_compromised  Rerror_rate  Same_srv_rate  Serror_rate  Src_bytes  Srv_count  Srv_diff_host_rate  Activity\n",
       "0    229           0.06        0.0             255                    0.06                         0.00                    0.04                  10                         0.00       0.0    0         21                0          1.0           0.04          0.0          0         10                 0.0         1\n",
       "1    136           0.06        0.0             255                    0.06                         0.00                    0.00                   1                         0.00       0.0    0         21                0          1.0           0.01          0.0          0          1                 0.0         1\n",
       "2      1           0.00        0.0             134                    0.04                         0.61                    0.61                  86                         0.02       2.0    0         21                0          0.0           1.00          0.0      12983          1                 0.0         0"
      ]
     },
     "execution_count": 35,
     "metadata": {},
     "output_type": "execute_result"
    }
   ],
   "source": [
    "Normal_Num.head(3)"
   ]
  },
  {
   "cell_type": "code",
   "execution_count": 36,
   "metadata": {},
   "outputs": [
    {
     "data": {
      "text/plain": [
       "(22544, 20)"
      ]
     },
     "execution_count": 36,
     "metadata": {},
     "output_type": "execute_result"
    }
   ],
   "source": [
    "Normal_Num.shape"
   ]
  },
  {
   "cell_type": "code",
   "execution_count": 37,
   "metadata": {},
   "outputs": [],
   "source": [
    "Normal_cat = Normal_Data.iloc[:,range(19,47)]"
   ]
  },
  {
   "cell_type": "code",
   "execution_count": 38,
   "metadata": {
    "scrolled": false
   },
   "outputs": [
    {
     "data": {
      "text/plain": [
       "(22544, 28)"
      ]
     },
     "execution_count": 38,
     "metadata": {},
     "output_type": "execute_result"
    }
   ],
   "source": [
    "Normal_cat.shape"
   ]
  },
  {
   "cell_type": "code",
   "execution_count": 42,
   "metadata": {},
   "outputs": [],
   "source": [
    "Variable_for_vif = Normal_Data.loc[:,['Count','Diff_srv_rate','Dst_bytes','Dst_host_count','Dst_host_diff_srv_rate','Dst_host_same_srv_rate','Dst_host_srv_count','Flag_S0','Flag_SF','Last_flag','Logged_in_1','Protocol_type_tcp','Protocol_type_udp','Same_srv_rate','Serror_rate','Service_http','Service_other_type','Service_private','Src_bytes','Flag_REJ']]"
   ]
  },
  {
   "cell_type": "code",
   "execution_count": 45,
   "metadata": {},
   "outputs": [
    {
     "name": "stdout",
     "output_type": "stream",
     "text": [
      "                   feature       VIF\n",
      "0                    Count  2.183662\n",
      "1            Diff_srv_rate  2.185327\n",
      "2                Dst_bytes  1.415405\n",
      "3   Dst_host_diff_srv_rate  1.975920\n",
      "4        Protocol_type_udp  2.036584\n",
      "5            Same_srv_rate  6.082844\n",
      "6              Serror_rate  1.487135\n",
      "7             Service_http  4.280224\n",
      "8       Service_other_type  3.598961\n",
      "9          Service_private  2.827195\n",
      "10               Src_bytes  1.103057\n",
      "11                Flag_REJ  2.350912\n"
     ]
    }
   ],
   "source": [
    "X = Variable_for_vif \n",
    "  \n",
    "# VIF dataframe \n",
    "vif_data = pd.DataFrame() \n",
    "vif_data[\"feature\"] = X.columns \n",
    "  \n",
    "# calculating VIF for each feature \n",
    "vif_data[\"VIF\"] = [variance_inflation_factor(X.values, i) \n",
    "                          for i in range(len(X.columns))] \n",
    "  \n",
    "print(vif_data)"
   ]
  },
  {
   "cell_type": "markdown",
   "metadata": {},
   "source": [
    "#### Variables to drop with high VIF are \n",
    "\n",
    "`Dst_host_count,Dst_host_same_srv_rate,Dst_host_srv_count,Flag_S0,Flag_SF,Last_flag,Logged_in_1,Protocol_type_tcp`"
   ]
  },
  {
   "cell_type": "code",
   "execution_count": 44,
   "metadata": {},
   "outputs": [],
   "source": [
    "Variable_for_vif = Variable_for_vif.drop(columns={\"Dst_host_count\",\"Dst_host_same_srv_rate\",\"Dst_host_count\",\"Dst_host_same_srv_rate\",\"Dst_host_srv_count\",\"Flag_S0\",\"Flag_SF\",\"Last_flag\",\"Logged_in_1\",\"Protocol_type_tcp\"},axis =1)"
   ]
  },
  {
   "cell_type": "code",
   "execution_count": 46,
   "metadata": {},
   "outputs": [
    {
     "data": {
      "text/plain": [
       "'Count+Diff_srv_rate+Dst_bytes+Dst_host_diff_srv_rate+Protocol_type_udp+Same_srv_rate+Serror_rate+Service_http+Service_other_type+Service_private+Src_bytes+Flag_REJ'"
      ]
     },
     "execution_count": 46,
     "metadata": {},
     "output_type": "execute_result"
    }
   ],
   "source": [
    "\"+\".join(Variable_for_vif)"
   ]
  },
  {
   "cell_type": "code",
   "execution_count": 49,
   "metadata": {},
   "outputs": [],
   "source": [
    "Variable_for_vif['Activity'] = Normal_Data.Activity"
   ]
  },
  {
   "cell_type": "code",
   "execution_count": 50,
   "metadata": {},
   "outputs": [],
   "source": [
    "train, test = train_test_split(Normal_Data,test_size = 0.3,random_state = 123)"
   ]
  },
  {
   "cell_type": "code",
   "execution_count": 51,
   "metadata": {},
   "outputs": [
    {
     "name": "stdout",
     "output_type": "stream",
     "text": [
      "Optimization terminated successfully.\n",
      "         Current function value: 0.210223\n",
      "         Iterations 10\n"
     ]
    }
   ],
   "source": [
    "model = smf.logit(formula='Activity~Count+Diff_srv_rate+Dst_bytes+Dst_host_diff_srv_rate+Protocol_type_udp+Same_srv_rate+Serror_rate+Service_other_type+Service_private+Src_bytes+Flag_REJ',data=Normal_Data).fit()"
   ]
  },
  {
   "cell_type": "code",
   "execution_count": 52,
   "metadata": {
    "scrolled": true
   },
   "outputs": [
    {
     "name": "stdout",
     "output_type": "stream",
     "text": [
      "                           Logit Regression Results                           \n",
      "==============================================================================\n",
      "Dep. Variable:               Activity   No. Observations:                22544\n",
      "Model:                          Logit   Df Residuals:                    22532\n",
      "Method:                           MLE   Df Model:                           11\n",
      "Date:                Sun, 29 Nov 2020   Pseudo R-squ.:                  0.6924\n",
      "Time:                        01:55:00   Log-Likelihood:                -4739.3\n",
      "converged:                       True   LL-Null:                       -15409.\n",
      "Covariance Type:            nonrobust   LLR p-value:                     0.000\n",
      "==========================================================================================\n",
      "                             coef    std err          z      P>|z|      [0.025      0.975]\n",
      "------------------------------------------------------------------------------------------\n",
      "Intercept                 -0.4306      0.226     -1.902      0.057      -0.874       0.013\n",
      "Count                     -0.0029      0.000    -13.288      0.000      -0.003      -0.003\n",
      "Diff_srv_rate              0.2300      0.235      0.980      0.327      -0.230       0.690\n",
      "Dst_bytes                 -0.0002   1.23e-05    -15.940      0.000      -0.000      -0.000\n",
      "Dst_host_diff_srv_rate    -0.1365      0.181     -0.755      0.451      -0.491       0.218\n",
      "Protocol_type_udp         -2.5778      0.155    -16.587      0.000      -2.882      -2.273\n",
      "Same_srv_rate             -1.6479      0.220     -7.500      0.000      -2.078      -1.217\n",
      "Serror_rate                5.5648      0.299     18.612      0.000       4.979       6.151\n",
      "Service_other_type         4.9171      0.077     63.899      0.000       4.766       5.068\n",
      "Service_private            4.5659      0.159     28.699      0.000       4.254       4.878\n",
      "Src_bytes               9.079e-05   2.55e-06     35.540      0.000    8.58e-05    9.58e-05\n",
      "Flag_REJ                   2.7718      0.221     12.516      0.000       2.338       3.206\n",
      "==========================================================================================\n"
     ]
    }
   ],
   "source": [
    "print(model.summary())"
   ]
  },
  {
   "cell_type": "markdown",
   "metadata": {},
   "source": [
    "`Y = -2.565905+5.642172*Count-2.858759*Diff_srv_rate-4.707721*Dst_bytes+1.700660*Dst_host_diff_srv_rate-4.429371*Protocol_type_udp-1.353055*Same_srv_rate+4.627557*Serror_rate+4.237987*Service_other_type+8.617284*Service_private+5.266135*Src_bytes+0.895385*Flag_REJ`"
   ]
  },
  {
   "cell_type": "code",
   "execution_count": 53,
   "metadata": {},
   "outputs": [],
   "source": [
    "train['prob'] = model.predict(train)\n",
    "test['prob'] = model.predict(test)"
   ]
  },
  {
   "cell_type": "code",
   "execution_count": 54,
   "metadata": {},
   "outputs": [
    {
     "data": {
      "text/plain": [
       "0    0.978204\n",
       "dtype: float64"
      ]
     },
     "execution_count": 54,
     "metadata": {},
     "output_type": "execute_result"
    }
   ],
   "source": [
    "train_auc = metrics.roc_auc_score(train.Activity,train.prob)\n",
    "train_auc = pd.Series(train_auc)\n",
    "train_auc"
   ]
  },
  {
   "cell_type": "code",
   "execution_count": 55,
   "metadata": {},
   "outputs": [
    {
     "data": {
      "text/plain": [
       "0    0.976191\n",
       "dtype: float64"
      ]
     },
     "execution_count": 55,
     "metadata": {},
     "output_type": "execute_result"
    }
   ],
   "source": [
    "test_auc = metrics.roc_auc_score(test.Activity,test.prob)\n",
    "test_auc=pd.Series(test_auc)\n",
    "test_auc"
   ]
  },
  {
   "cell_type": "code",
   "execution_count": 56,
   "metadata": {},
   "outputs": [
    {
     "name": "stdout",
     "output_type": "stream",
     "text": [
      "0    0.956409\n",
      "dtype: float64\n",
      "0    0.952381\n",
      "dtype: float64\n"
     ]
    }
   ],
   "source": [
    "Gini_train = 2*train_auc-1\n",
    "Gini_train=pd.Series(Gini_train)\n",
    "print(Gini_train)\n",
    "Gini_test = 2*test_auc-1\n",
    "Gini_test=pd.Series(Gini_test)\n",
    "print(Gini_test)"
   ]
  },
  {
   "cell_type": "code",
   "execution_count": 57,
   "metadata": {},
   "outputs": [],
   "source": [
    "temp = train\n",
    "roc_df = pd.DataFrame()\n",
    "for cutoff in np.linspace(0,1):\n",
    "    temp['Activity_predicted'] = np.where(train.prob>cutoff,1,0)\n",
    "    temp['TN'] = np.where(((train.Activity==0)&(train.Activity_predicted==0)),1,0)\n",
    "    temp['TP'] = np.where(((train.Activity==1)&(train.Activity_predicted==1)),1,0)\n",
    "    temp['FP'] = np.where(((train.Activity==0)&(train.Activity_predicted==1)),1,0)\n",
    "    temp['FN'] = np.where(((train.Activity==1)&(train.Activity_predicted==0)),1,0)\n",
    "    senstivity = temp.TP.sum()/(temp.TP.sum()+temp.FN.sum())\n",
    "    specitivity = temp.TN.sum()/(temp.TN.sum()+temp.FP.sum())\n",
    "    accuracy = (temp.TP.sum()+temp.TN.sum())/(temp.Activity_predicted.count())\n",
    "    temp_df = pd.DataFrame([cutoff,senstivity,specitivity,accuracy]).T\n",
    "    temp_df.columns = [\"cutoff\",\"senstivity\",\"specitivity\",\"accuracy\"]\n",
    "    roc_df = pd.concat([roc_df,temp_df])"
   ]
  },
  {
   "cell_type": "code",
   "execution_count": 58,
   "metadata": {},
   "outputs": [],
   "source": [
    "roc_df['Total'] = roc_df['senstivity'] + roc_df['specitivity']"
   ]
  },
  {
   "cell_type": "code",
   "execution_count": 59,
   "metadata": {},
   "outputs": [
    {
     "data": {
      "text/html": [
       "<div>\n",
       "<style scoped>\n",
       "    .dataframe tbody tr th:only-of-type {\n",
       "        vertical-align: middle;\n",
       "    }\n",
       "\n",
       "    .dataframe tbody tr th {\n",
       "        vertical-align: top;\n",
       "    }\n",
       "\n",
       "    .dataframe thead th {\n",
       "        text-align: right;\n",
       "    }\n",
       "</style>\n",
       "<table border=\"1\" class=\"dataframe\">\n",
       "  <thead>\n",
       "    <tr style=\"text-align: right;\">\n",
       "      <th></th>\n",
       "      <th>cutoff</th>\n",
       "      <th>senstivity</th>\n",
       "      <th>specitivity</th>\n",
       "      <th>accuracy</th>\n",
       "      <th>Total</th>\n",
       "    </tr>\n",
       "  </thead>\n",
       "  <tbody>\n",
       "    <tr>\n",
       "      <th>0</th>\n",
       "      <td>0.469388</td>\n",
       "      <td>0.949439</td>\n",
       "      <td>0.922595</td>\n",
       "      <td>0.937769</td>\n",
       "      <td>1.872034</td>\n",
       "    </tr>\n",
       "  </tbody>\n",
       "</table>\n",
       "</div>"
      ],
      "text/plain": [
       "     cutoff  senstivity  specitivity  accuracy     Total\n",
       "0  0.469388    0.949439     0.922595  0.937769  1.872034"
      ]
     },
     "execution_count": 59,
     "metadata": {},
     "output_type": "execute_result"
    }
   ],
   "source": [
    "roc_df.sort_values(by =['Total'],ascending=False).head(1)"
   ]
  },
  {
   "cell_type": "code",
   "execution_count": 60,
   "metadata": {},
   "outputs": [
    {
     "data": {
      "text/html": [
       "<div>\n",
       "<style scoped>\n",
       "    .dataframe tbody tr th:only-of-type {\n",
       "        vertical-align: middle;\n",
       "    }\n",
       "\n",
       "    .dataframe tbody tr th {\n",
       "        vertical-align: top;\n",
       "    }\n",
       "\n",
       "    .dataframe thead th {\n",
       "        text-align: right;\n",
       "    }\n",
       "</style>\n",
       "<table border=\"1\" class=\"dataframe\">\n",
       "  <thead>\n",
       "    <tr style=\"text-align: right;\">\n",
       "      <th></th>\n",
       "      <th>cutoff</th>\n",
       "      <th>senstivity</th>\n",
       "      <th>specitivity</th>\n",
       "      <th>accuracy</th>\n",
       "      <th>Total</th>\n",
       "    </tr>\n",
       "  </thead>\n",
       "  <tbody>\n",
       "    <tr>\n",
       "      <th>0</th>\n",
       "      <td>0.469388</td>\n",
       "      <td>0.949439</td>\n",
       "      <td>0.922595</td>\n",
       "      <td>0.937769</td>\n",
       "      <td>1.872034</td>\n",
       "    </tr>\n",
       "  </tbody>\n",
       "</table>\n",
       "</div>"
      ],
      "text/plain": [
       "     cutoff  senstivity  specitivity  accuracy     Total\n",
       "0  0.469388    0.949439     0.922595  0.937769  1.872034"
      ]
     },
     "execution_count": 60,
     "metadata": {},
     "output_type": "execute_result"
    }
   ],
   "source": [
    "roc_df[roc_df.Total==roc_df.Total.max()]"
   ]
  },
  {
   "cell_type": "code",
   "execution_count": 61,
   "metadata": {},
   "outputs": [],
   "source": [
    "train['Activity_Predicted'] = np.where(train.prob > 0.469388,1,0)\n",
    "test['Activity_Predicted']=np.where(test.prob > 0.469388,1,0)"
   ]
  },
  {
   "cell_type": "code",
   "execution_count": 62,
   "metadata": {
    "scrolled": true
   },
   "outputs": [
    {
     "data": {
      "text/plain": [
       "array([[6329,  531],\n",
       "       [ 451, 8469]])"
      ]
     },
     "execution_count": 62,
     "metadata": {},
     "output_type": "execute_result"
    }
   ],
   "source": [
    "Logit_Confusion_train = metrics.confusion_matrix(train.Activity,train.Activity_Predicted)\n",
    "Logit_Confusion_train"
   ]
  },
  {
   "cell_type": "code",
   "execution_count": 63,
   "metadata": {},
   "outputs": [
    {
     "data": {
      "text/plain": [
       "array([[2640,  211],\n",
       "       [ 208, 3705]])"
      ]
     },
     "execution_count": 63,
     "metadata": {},
     "output_type": "execute_result"
    }
   ],
   "source": [
    "Logit_Confusion_test = metrics.confusion_matrix(test.Activity,test.Activity_Predicted)\n",
    "Logit_Confusion_test"
   ]
  },
  {
   "cell_type": "code",
   "execution_count": 64,
   "metadata": {},
   "outputs": [
    {
     "name": "stdout",
     "output_type": "stream",
     "text": [
      "              precision    recall  f1-score   support\n",
      "\n",
      "           0       0.93      0.92      0.93      6860\n",
      "           1       0.94      0.95      0.95      8920\n",
      "\n",
      "    accuracy                           0.94     15780\n",
      "   macro avg       0.94      0.94      0.94     15780\n",
      "weighted avg       0.94      0.94      0.94     15780\n",
      "\n"
     ]
    }
   ],
   "source": [
    "train_classificaton = metrics.classification_report(train.Activity,train.Activity_Predicted)\n",
    "print(train_classificaton)"
   ]
  },
  {
   "cell_type": "code",
   "execution_count": 65,
   "metadata": {},
   "outputs": [
    {
     "name": "stdout",
     "output_type": "stream",
     "text": [
      "              precision    recall  f1-score   support\n",
      "\n",
      "           0       0.93      0.93      0.93      2851\n",
      "           1       0.95      0.95      0.95      3913\n",
      "\n",
      "    accuracy                           0.94      6764\n",
      "   macro avg       0.94      0.94      0.94      6764\n",
      "weighted avg       0.94      0.94      0.94      6764\n",
      "\n"
     ]
    }
   ],
   "source": [
    "test_classificaton = metrics.classification_report(test.Activity,test.Activity_Predicted)\n",
    "print(test_classificaton)"
   ]
  },
  {
   "cell_type": "code",
   "execution_count": 66,
   "metadata": {},
   "outputs": [
    {
     "data": {
      "text/html": [
       "<div>\n",
       "<style scoped>\n",
       "    .dataframe tbody tr th:only-of-type {\n",
       "        vertical-align: middle;\n",
       "    }\n",
       "\n",
       "    .dataframe tbody tr th {\n",
       "        vertical-align: top;\n",
       "    }\n",
       "\n",
       "    .dataframe thead th {\n",
       "        text-align: right;\n",
       "    }\n",
       "</style>\n",
       "<table border=\"1\" class=\"dataframe\">\n",
       "  <thead>\n",
       "    <tr style=\"text-align: right;\">\n",
       "      <th></th>\n",
       "      <th>Auroc_Train</th>\n",
       "      <th>Auroc_Test</th>\n",
       "      <th>Gini_Train</th>\n",
       "      <th>Gini_Test</th>\n",
       "    </tr>\n",
       "  </thead>\n",
       "  <tbody>\n",
       "    <tr>\n",
       "      <th>0</th>\n",
       "      <td>0.978204</td>\n",
       "      <td>0.976191</td>\n",
       "      <td>0.956409</td>\n",
       "      <td>0.952381</td>\n",
       "    </tr>\n",
       "  </tbody>\n",
       "</table>\n",
       "</div>"
      ],
      "text/plain": [
       "   Auroc_Train  Auroc_Test  Gini_Train  Gini_Test\n",
       "0     0.978204    0.976191    0.956409   0.952381"
      ]
     },
     "execution_count": 66,
     "metadata": {},
     "output_type": "execute_result"
    }
   ],
   "source": [
    "Logit = pd.concat([train_auc,test_auc,Gini_train,Gini_test],axis =1)\n",
    "Logit.columns = [\"Auroc_Train\",\"Auroc_Test\",\"Gini_Train\",\"Gini_Test\"]\n",
    "Logit"
   ]
  },
  {
   "cell_type": "code",
   "execution_count": 67,
   "metadata": {},
   "outputs": [],
   "source": [
    "train['decile'] = pd.qcut(train['prob'],10,labels =False)\n",
    "test['decile'] = pd.qcut(test['prob'],10,labels = False)"
   ]
  },
  {
   "cell_type": "code",
   "execution_count": 68,
   "metadata": {},
   "outputs": [],
   "source": [
    "train['normal'] = 1-train.Activity\n",
    "test['normal'] = 1-test.Activity"
   ]
  },
  {
   "cell_type": "code",
   "execution_count": 69,
   "metadata": {},
   "outputs": [],
   "source": [
    "decile_train = train.groupby(by=['decile']).agg(min_prob = ('prob','min'),\n",
    "                                                max_prob = ('prob','max'),\n",
    "                                                no_of_attack=('Activity','sum'),\n",
    "                                               no_of_normal = ('normal','sum'),\n",
    "                                               total = ('Activity','count'))"
   ]
  },
  {
   "cell_type": "code",
   "execution_count": 70,
   "metadata": {},
   "outputs": [],
   "source": [
    "decile_test = test.groupby(by=['decile']).agg(min_prob = ('prob','min'),\n",
    "                                             max_prob = ('prob','max'),\n",
    "                                             no_of_attack = ('Activity','sum'),\n",
    "                                             no_of_normal = ('normal','sum'),\n",
    "                                             total = ('Activity','count'))"
   ]
  },
  {
   "cell_type": "code",
   "execution_count": 71,
   "metadata": {},
   "outputs": [],
   "source": [
    "compare_train = train.loc[:,[\"Activity\",'Activity_Predicted',\"decile\",'prob']]\n",
    "compare_test = test.loc[:,[\"Activity\",'Activity_Predicted',\"decile\",'prob']]"
   ]
  },
  {
   "cell_type": "code",
   "execution_count": 72,
   "metadata": {
    "scrolled": true
   },
   "outputs": [
    {
     "data": {
      "text/html": [
       "<div>\n",
       "<style scoped>\n",
       "    .dataframe tbody tr th:only-of-type {\n",
       "        vertical-align: middle;\n",
       "    }\n",
       "\n",
       "    .dataframe tbody tr th {\n",
       "        vertical-align: top;\n",
       "    }\n",
       "\n",
       "    .dataframe thead th {\n",
       "        text-align: right;\n",
       "    }\n",
       "</style>\n",
       "<table border=\"1\" class=\"dataframe\">\n",
       "  <thead>\n",
       "    <tr style=\"text-align: right;\">\n",
       "      <th></th>\n",
       "      <th>Activity</th>\n",
       "      <th>Activity_Predicted</th>\n",
       "      <th>decile</th>\n",
       "      <th>prob</th>\n",
       "    </tr>\n",
       "  </thead>\n",
       "  <tbody>\n",
       "    <tr>\n",
       "      <th>19352</th>\n",
       "      <td>1</td>\n",
       "      <td>0</td>\n",
       "      <td>3</td>\n",
       "      <td>0.127108</td>\n",
       "    </tr>\n",
       "    <tr>\n",
       "      <th>2436</th>\n",
       "      <td>1</td>\n",
       "      <td>1</td>\n",
       "      <td>5</td>\n",
       "      <td>0.938085</td>\n",
       "    </tr>\n",
       "    <tr>\n",
       "      <th>5799</th>\n",
       "      <td>1</td>\n",
       "      <td>1</td>\n",
       "      <td>4</td>\n",
       "      <td>0.780313</td>\n",
       "    </tr>\n",
       "    <tr>\n",
       "      <th>16090</th>\n",
       "      <td>1</td>\n",
       "      <td>1</td>\n",
       "      <td>6</td>\n",
       "      <td>0.943461</td>\n",
       "    </tr>\n",
       "    <tr>\n",
       "      <th>18005</th>\n",
       "      <td>1</td>\n",
       "      <td>1</td>\n",
       "      <td>6</td>\n",
       "      <td>0.943669</td>\n",
       "    </tr>\n",
       "    <tr>\n",
       "      <th>13433</th>\n",
       "      <td>0</td>\n",
       "      <td>0</td>\n",
       "      <td>3</td>\n",
       "      <td>0.106814</td>\n",
       "    </tr>\n",
       "    <tr>\n",
       "      <th>22483</th>\n",
       "      <td>1</td>\n",
       "      <td>1</td>\n",
       "      <td>9</td>\n",
       "      <td>0.999901</td>\n",
       "    </tr>\n",
       "    <tr>\n",
       "      <th>4141</th>\n",
       "      <td>1</td>\n",
       "      <td>1</td>\n",
       "      <td>7</td>\n",
       "      <td>0.979537</td>\n",
       "    </tr>\n",
       "    <tr>\n",
       "      <th>21825</th>\n",
       "      <td>0</td>\n",
       "      <td>0</td>\n",
       "      <td>0</td>\n",
       "      <td>0.027188</td>\n",
       "    </tr>\n",
       "    <tr>\n",
       "      <th>4334</th>\n",
       "      <td>1</td>\n",
       "      <td>1</td>\n",
       "      <td>4</td>\n",
       "      <td>0.474723</td>\n",
       "    </tr>\n",
       "  </tbody>\n",
       "</table>\n",
       "</div>"
      ],
      "text/plain": [
       "       Activity  Activity_Predicted  decile      prob\n",
       "19352         1                   0       3  0.127108\n",
       "2436          1                   1       5  0.938085\n",
       "5799          1                   1       4  0.780313\n",
       "16090         1                   1       6  0.943461\n",
       "18005         1                   1       6  0.943669\n",
       "13433         0                   0       3  0.106814\n",
       "22483         1                   1       9  0.999901\n",
       "4141          1                   1       7  0.979537\n",
       "21825         0                   0       0  0.027188\n",
       "4334          1                   1       4  0.474723"
      ]
     },
     "execution_count": 72,
     "metadata": {},
     "output_type": "execute_result"
    }
   ],
   "source": [
    "compare_train.head(10)"
   ]
  },
  {
   "cell_type": "code",
   "execution_count": 73,
   "metadata": {},
   "outputs": [],
   "source": [
    "Variable_for_vif = Variable_for_vif.drop(columns=\"Service_http\",axis =1)"
   ]
  },
  {
   "cell_type": "code",
   "execution_count": 74,
   "metadata": {},
   "outputs": [],
   "source": [
    "target = Variable_for_vif.Activity\n",
    "features = Variable_for_vif.loc[:,Variable_for_vif.columns.difference(['Activity'])]"
   ]
  },
  {
   "cell_type": "code",
   "execution_count": 75,
   "metadata": {},
   "outputs": [],
   "source": [
    "train_X,test_x,train_Y,test_y = train_test_split(features,target, test_size=0.3, random_state=123)"
   ]
  },
  {
   "cell_type": "code",
   "execution_count": 76,
   "metadata": {},
   "outputs": [
    {
     "data": {
      "text/plain": [
       "Index(['Count', 'Diff_srv_rate', 'Dst_bytes', 'Dst_host_diff_srv_rate', 'Flag_REJ', 'Protocol_type_udp', 'Same_srv_rate', 'Serror_rate', 'Service_other_type', 'Service_private', 'Src_bytes'], dtype='object')"
      ]
     },
     "execution_count": 76,
     "metadata": {},
     "output_type": "execute_result"
    }
   ],
   "source": [
    "train_X.columns"
   ]
  },
  {
   "cell_type": "code",
   "execution_count": 77,
   "metadata": {},
   "outputs": [
    {
     "name": "stdout",
     "output_type": "stream",
     "text": [
      "(15780, 11)\n",
      "(15780,)\n",
      "(6764, 11)\n",
      "(6764,)\n"
     ]
    }
   ],
   "source": [
    "print(train_X.shape)\n",
    "print(train_Y.shape)\n",
    "print(test_x.shape)\n",
    "print(test_y.shape)"
   ]
  },
  {
   "cell_type": "code",
   "execution_count": 78,
   "metadata": {},
   "outputs": [],
   "source": [
    "from sklearn.preprocessing import StandardScaler, MinMaxScaler"
   ]
  },
  {
   "cell_type": "code",
   "execution_count": 79,
   "metadata": {},
   "outputs": [],
   "source": [
    "sc = StandardScaler()"
   ]
  },
  {
   "cell_type": "code",
   "execution_count": 80,
   "metadata": {},
   "outputs": [],
   "source": [
    "Knn_data = sc.fit_transform(features)\n",
    "Knn_data = pd.DataFrame(Knn_data)\n",
    "Knn_data.columns = features.columns"
   ]
  },
  {
   "cell_type": "code",
   "execution_count": 81,
   "metadata": {},
   "outputs": [],
   "source": [
    "train_X1, test_X1 , train_Y1, test_Y1 = train_test_split(Knn_data,target,test_size = 0.3,random_state = 344) "
   ]
  },
  {
   "cell_type": "code",
   "execution_count": 138,
   "metadata": {},
   "outputs": [
    {
     "name": "stdout",
     "output_type": "stream",
     "text": [
      "Fitting 2 folds for each of 8 candidates, totalling 16 fits\n"
     ]
    },
    {
     "name": "stderr",
     "output_type": "stream",
     "text": [
      "[Parallel(n_jobs=1)]: Using backend SequentialBackend with 1 concurrent workers.\n",
      "[Parallel(n_jobs=1)]: Done  16 out of  16 | elapsed:  6.9min finished\n"
     ]
    }
   ],
   "source": [
    "param_grid_knn = {'n_neighbors':[300,400,500,600,700,800,900,1000],\n",
    "              'weights': ['distance']}\n",
    "knn_model = GridSearchCV(KNeighborsClassifier(), param_grid = param_grid_knn, cv=2, scoring = 'f1_weighted',verbose = True)\n",
    "knn_model = knn_model.fit(train_X1,train_Y1)"
   ]
  },
  {
   "cell_type": "code",
   "execution_count": 139,
   "metadata": {
    "scrolled": false
   },
   "outputs": [
    {
     "data": {
      "text/plain": [
       "{'n_neighbors': 300, 'weights': 'distance'}"
      ]
     },
     "execution_count": 139,
     "metadata": {},
     "output_type": "execute_result"
    }
   ],
   "source": [
    "knn_model.best_params_"
   ]
  },
  {
   "cell_type": "code",
   "execution_count": 82,
   "metadata": {},
   "outputs": [],
   "source": [
    "knn_model = KNeighborsClassifier(n_neighbors=300,weights = \"distance\", n_jobs=-1).fit(train_X1,train_Y1)"
   ]
  },
  {
   "cell_type": "code",
   "execution_count": 83,
   "metadata": {},
   "outputs": [],
   "source": [
    "pred_y = knn_model.predict(train_X1)"
   ]
  },
  {
   "cell_type": "code",
   "execution_count": 84,
   "metadata": {},
   "outputs": [
    {
     "name": "stdout",
     "output_type": "stream",
     "text": [
      "              precision    recall  f1-score   support\n",
      "\n",
      "           0       1.00      0.99      0.99      6815\n",
      "           1       1.00      1.00      1.00      8965\n",
      "\n",
      "    accuracy                           1.00     15780\n",
      "   macro avg       1.00      1.00      1.00     15780\n",
      "weighted avg       1.00      1.00      1.00     15780\n",
      "\n"
     ]
    }
   ],
   "source": [
    "print(metrics.classification_report(train_Y1, pred_y))"
   ]
  },
  {
   "cell_type": "code",
   "execution_count": 85,
   "metadata": {},
   "outputs": [
    {
     "data": {
      "text/plain": [
       "array([[6776,   39],\n",
       "       [  33, 8932]])"
      ]
     },
     "execution_count": 85,
     "metadata": {},
     "output_type": "execute_result"
    }
   ],
   "source": [
    "Knn_Confusion_train = metrics.confusion_matrix(train_Y1,pred_y)\n",
    "Knn_Confusion_train"
   ]
  },
  {
   "cell_type": "code",
   "execution_count": 87,
   "metadata": {},
   "outputs": [
    {
     "name": "stdout",
     "output_type": "stream",
     "text": [
      "0    0.995298\n",
      "dtype: float64\n",
      "0    0.990596\n",
      "dtype: float64\n"
     ]
    }
   ],
   "source": [
    "Knn_Auroc_Score_train = metrics.roc_auc_score(train_Y1,pred_y)\n",
    "Knn_Auroc_Score_train = pd.Series(Knn_Auroc_Score_train)\n",
    "print(Knn_Auroc_Score_train)\n",
    "Knn_Gini_train = 2*Knn_Auroc_Score_train -1\n",
    "Knn_Gini_train = pd.Series(Knn_Gini_train)\n",
    "print(Knn_Gini_train)"
   ]
  },
  {
   "cell_type": "code",
   "execution_count": 88,
   "metadata": {},
   "outputs": [
    {
     "data": {
      "text/plain": [
       "0    0.995437\n",
       "dtype: float64"
      ]
     },
     "execution_count": 88,
     "metadata": {},
     "output_type": "execute_result"
    }
   ],
   "source": [
    "Knn_Accuracy_train = metrics.accuracy_score(train_Y1,pred_y)\n",
    "Knn_Accuracy_train = pd.Series(Knn_Accuracy_train)\n",
    "Knn_Accuracy_train"
   ]
  },
  {
   "cell_type": "code",
   "execution_count": 89,
   "metadata": {},
   "outputs": [],
   "source": [
    "knn_model_test = KNeighborsClassifier(n_neighbors=300,weights = \"distance\",n_jobs=-1).fit(test_X1,test_Y1)"
   ]
  },
  {
   "cell_type": "code",
   "execution_count": 90,
   "metadata": {},
   "outputs": [],
   "source": [
    "pred_y1 = knn_model_test.predict(test_X1)"
   ]
  },
  {
   "cell_type": "code",
   "execution_count": 91,
   "metadata": {},
   "outputs": [
    {
     "name": "stdout",
     "output_type": "stream",
     "text": [
      "              precision    recall  f1-score   support\n",
      "\n",
      "           0       1.00      1.00      1.00      2896\n",
      "           1       1.00      1.00      1.00      3868\n",
      "\n",
      "    accuracy                           1.00      6764\n",
      "   macro avg       1.00      1.00      1.00      6764\n",
      "weighted avg       1.00      1.00      1.00      6764\n",
      "\n"
     ]
    }
   ],
   "source": [
    "print(metrics.classification_report(test_Y1,pred_y1))"
   ]
  },
  {
   "cell_type": "code",
   "execution_count": 92,
   "metadata": {},
   "outputs": [
    {
     "data": {
      "text/plain": [
       "array([[2886,   10],\n",
       "       [  13, 3855]])"
      ]
     },
     "execution_count": 92,
     "metadata": {},
     "output_type": "execute_result"
    }
   ],
   "source": [
    "Knn_Confusion_test = metrics.confusion_matrix(test_Y1,pred_y1)\n",
    "Knn_Confusion_test"
   ]
  },
  {
   "cell_type": "code",
   "execution_count": 93,
   "metadata": {},
   "outputs": [
    {
     "name": "stdout",
     "output_type": "stream",
     "text": [
      "0    0.996593\n",
      "dtype: float64\n",
      "0    0.993186\n",
      "dtype: float64\n"
     ]
    }
   ],
   "source": [
    "Knn_Auroc_Score_test = metrics.roc_auc_score(test_Y1,pred_y1)\n",
    "Knn_Auroc_Score_test = pd.Series(Knn_Auroc_Score_test)\n",
    "print(Knn_Auroc_Score_test)\n",
    "Knn_Gini_test = 2*Knn_Auroc_Score_test -1\n",
    "Knn_Gini_test = pd.Series(Knn_Gini_test)\n",
    "print(Knn_Gini_test)"
   ]
  },
  {
   "cell_type": "code",
   "execution_count": 94,
   "metadata": {},
   "outputs": [
    {
     "data": {
      "text/plain": [
       "0    0.9966\n",
       "dtype: float64"
      ]
     },
     "execution_count": 94,
     "metadata": {},
     "output_type": "execute_result"
    }
   ],
   "source": [
    "Knn_Accuracy_test = metrics.accuracy_score(test_Y1,pred_y1)\n",
    "Knn_Accuracy_test = pd.Series(Knn_Accuracy_test)\n",
    "Knn_Accuracy_test"
   ]
  },
  {
   "cell_type": "code",
   "execution_count": 95,
   "metadata": {},
   "outputs": [
    {
     "data": {
      "text/html": [
       "<div>\n",
       "<style scoped>\n",
       "    .dataframe tbody tr th:only-of-type {\n",
       "        vertical-align: middle;\n",
       "    }\n",
       "\n",
       "    .dataframe tbody tr th {\n",
       "        vertical-align: top;\n",
       "    }\n",
       "\n",
       "    .dataframe thead th {\n",
       "        text-align: right;\n",
       "    }\n",
       "</style>\n",
       "<table border=\"1\" class=\"dataframe\">\n",
       "  <thead>\n",
       "    <tr style=\"text-align: right;\">\n",
       "      <th></th>\n",
       "      <th>Auroc_Train</th>\n",
       "      <th>Auroc_Test</th>\n",
       "      <th>Gini_Train</th>\n",
       "      <th>Gini_Test</th>\n",
       "    </tr>\n",
       "  </thead>\n",
       "  <tbody>\n",
       "    <tr>\n",
       "      <th>0</th>\n",
       "      <td>0.995298</td>\n",
       "      <td>0.996593</td>\n",
       "      <td>0.990596</td>\n",
       "      <td>0.993186</td>\n",
       "    </tr>\n",
       "  </tbody>\n",
       "</table>\n",
       "</div>"
      ],
      "text/plain": [
       "   Auroc_Train  Auroc_Test  Gini_Train  Gini_Test\n",
       "0     0.995298    0.996593    0.990596   0.993186"
      ]
     },
     "execution_count": 95,
     "metadata": {},
     "output_type": "execute_result"
    }
   ],
   "source": [
    "Knn = pd.concat([Knn_Auroc_Score_train,Knn_Auroc_Score_test,Knn_Gini_train,Knn_Gini_test],axis=1)\n",
    "Knn.columns = [\"Auroc_Train\",\"Auroc_Test\",\"Gini_Train\",\"Gini_Test\"]\n",
    "Knn"
   ]
  },
  {
   "cell_type": "code",
   "execution_count": 96,
   "metadata": {},
   "outputs": [],
   "source": [
    "from sklearn.tree import DecisionTreeClassifier"
   ]
  },
  {
   "cell_type": "code",
   "execution_count": 153,
   "metadata": {},
   "outputs": [],
   "source": [
    "param_grid_dt = {'max_depth': np.arange(3, 5),\n",
    "             'max_features': np.arange(3,5)}\n",
    "dt_model = GridSearchCV(DecisionTreeClassifier(),param_grid = param_grid_dt,cv =2 , scoring = 'f1_weighted')\n",
    "dt_model = dt_model.fit(train_X,train_y)"
   ]
  },
  {
   "cell_type": "code",
   "execution_count": 154,
   "metadata": {},
   "outputs": [
    {
     "data": {
      "text/plain": [
       "{'max_depth': 3, 'max_features': 4}"
      ]
     },
     "execution_count": 154,
     "metadata": {},
     "output_type": "execute_result"
    }
   ],
   "source": [
    "dt_model.best_params_"
   ]
  },
  {
   "cell_type": "code",
   "execution_count": 97,
   "metadata": {},
   "outputs": [],
   "source": [
    "dt_model_train = DecisionTreeClassifier(max_depth = 3,max_features = 4).fit(train_X,train_Y)"
   ]
  },
  {
   "cell_type": "code",
   "execution_count": 98,
   "metadata": {
    "scrolled": true
   },
   "outputs": [
    {
     "name": "stdout",
     "output_type": "stream",
     "text": [
      "              precision    recall  f1-score   support\n",
      "\n",
      "           0       0.90      0.93      0.91      6860\n",
      "           1       0.94      0.92      0.93      8920\n",
      "\n",
      "    accuracy                           0.92     15780\n",
      "   macro avg       0.92      0.92      0.92     15780\n",
      "weighted avg       0.92      0.92      0.92     15780\n",
      "\n"
     ]
    }
   ],
   "source": [
    "print(metrics.classification_report(train_Y,dt_model_train.predict(train_X)))"
   ]
  },
  {
   "cell_type": "code",
   "execution_count": 99,
   "metadata": {},
   "outputs": [
    {
     "name": "stdout",
     "output_type": "stream",
     "text": [
      "0    0.922946\n",
      "dtype: float64\n",
      "0    0.845892\n",
      "dtype: float64\n"
     ]
    }
   ],
   "source": [
    "Dt_Auroc_Score_train = metrics.roc_auc_score(train_Y,dt_model_train.predict(train_X))\n",
    "Dt_Auroc_Score_train = pd.Series(Dt_Auroc_Score_train)\n",
    "print(Dt_Auroc_Score_train)\n",
    "Dt_Gini_train = 2*Dt_Auroc_Score_train - 1\n",
    "Dt_Gini_train = pd.Series(Dt_Gini_train)\n",
    "print(Dt_Gini_train)"
   ]
  },
  {
   "cell_type": "code",
   "execution_count": 100,
   "metadata": {},
   "outputs": [
    {
     "data": {
      "text/plain": [
       "array([[6355,  505],\n",
       "       [ 718, 8202]])"
      ]
     },
     "execution_count": 100,
     "metadata": {},
     "output_type": "execute_result"
    }
   ],
   "source": [
    "DT_Confusion_train=metrics.confusion_matrix(train_Y,dt_model_train.predict(train_X))\n",
    "DT_Confusion_train"
   ]
  },
  {
   "cell_type": "code",
   "execution_count": 101,
   "metadata": {},
   "outputs": [
    {
     "name": "stdout",
     "output_type": "stream",
     "text": [
      "Accuracy 0.9224968314321926\n"
     ]
    }
   ],
   "source": [
    "print(\"Accuracy\",metrics.accuracy_score(train_Y,dt_model_train.predict(train_X)))"
   ]
  },
  {
   "cell_type": "code",
   "execution_count": 102,
   "metadata": {},
   "outputs": [],
   "source": [
    "dt_model_test = DecisionTreeClassifier(max_depth = 4, max_features = 4).fit(test_x,test_y)"
   ]
  },
  {
   "cell_type": "code",
   "execution_count": 103,
   "metadata": {},
   "outputs": [
    {
     "name": "stdout",
     "output_type": "stream",
     "text": [
      "              precision    recall  f1-score   support\n",
      "\n",
      "           0       0.91      0.91      0.91      2851\n",
      "           1       0.93      0.94      0.94      3913\n",
      "\n",
      "    accuracy                           0.92      6764\n",
      "   macro avg       0.92      0.92      0.92      6764\n",
      "weighted avg       0.92      0.92      0.92      6764\n",
      "\n"
     ]
    }
   ],
   "source": [
    "print(metrics.classification_report(test_y,dt_model_test.predict(test_x)))"
   ]
  },
  {
   "cell_type": "code",
   "execution_count": 104,
   "metadata": {},
   "outputs": [
    {
     "data": {
      "text/plain": [
       "array([[2584,  267],\n",
       "       [ 243, 3670]])"
      ]
     },
     "execution_count": 104,
     "metadata": {},
     "output_type": "execute_result"
    }
   ],
   "source": [
    "DT_Confusion_test = metrics.confusion_matrix(test_y,dt_model_test.predict(test_x))\n",
    "DT_Confusion_test"
   ]
  },
  {
   "cell_type": "code",
   "execution_count": 105,
   "metadata": {},
   "outputs": [
    {
     "name": "stdout",
     "output_type": "stream",
     "text": [
      "0    0.922124\n",
      "dtype: float64\n",
      "0    0.844248\n",
      "dtype: float64\n"
     ]
    }
   ],
   "source": [
    "Dt_Auroc_Score_test = metrics.roc_auc_score(test_y,dt_model_test.predict(test_x))\n",
    "Dt_Auroc_Score_test = pd.Series(Dt_Auroc_Score_test)\n",
    "print(Dt_Auroc_Score_test)\n",
    "Dt_Gini_test = 2*Dt_Auroc_Score_test -1 \n",
    "Dt_Gini_test = pd.Series(Dt_Gini_test)\n",
    "print(Dt_Gini_test)"
   ]
  },
  {
   "cell_type": "code",
   "execution_count": 106,
   "metadata": {},
   "outputs": [
    {
     "name": "stdout",
     "output_type": "stream",
     "text": [
      "Accuracy 0.9246008279124778\n"
     ]
    }
   ],
   "source": [
    "print(\"Accuracy\",metrics.accuracy_score(test_y,dt_model_test.predict(test_x)))"
   ]
  },
  {
   "cell_type": "code",
   "execution_count": 107,
   "metadata": {},
   "outputs": [
    {
     "data": {
      "text/html": [
       "<div>\n",
       "<style scoped>\n",
       "    .dataframe tbody tr th:only-of-type {\n",
       "        vertical-align: middle;\n",
       "    }\n",
       "\n",
       "    .dataframe tbody tr th {\n",
       "        vertical-align: top;\n",
       "    }\n",
       "\n",
       "    .dataframe thead th {\n",
       "        text-align: right;\n",
       "    }\n",
       "</style>\n",
       "<table border=\"1\" class=\"dataframe\">\n",
       "  <thead>\n",
       "    <tr style=\"text-align: right;\">\n",
       "      <th></th>\n",
       "      <th>Auroc_Train</th>\n",
       "      <th>Auroc_Test</th>\n",
       "      <th>Gini_Train</th>\n",
       "      <th>Gini_Test</th>\n",
       "    </tr>\n",
       "  </thead>\n",
       "  <tbody>\n",
       "    <tr>\n",
       "      <th>0</th>\n",
       "      <td>0.922946</td>\n",
       "      <td>0.922124</td>\n",
       "      <td>0.845892</td>\n",
       "      <td>0.844248</td>\n",
       "    </tr>\n",
       "  </tbody>\n",
       "</table>\n",
       "</div>"
      ],
      "text/plain": [
       "   Auroc_Train  Auroc_Test  Gini_Train  Gini_Test\n",
       "0     0.922946    0.922124    0.845892   0.844248"
      ]
     },
     "execution_count": 107,
     "metadata": {},
     "output_type": "execute_result"
    }
   ],
   "source": [
    "DT = pd.concat([Dt_Auroc_Score_train,Dt_Auroc_Score_test,Dt_Gini_train,Dt_Gini_test],axis = 1)\n",
    "DT.columns = [\"Auroc_Train\",\"Auroc_Test\",\"Gini_Train\",\"Gini_Test\"]\n",
    "DT"
   ]
  },
  {
   "cell_type": "code",
   "execution_count": 108,
   "metadata": {},
   "outputs": [],
   "source": [
    "from sklearn.ensemble import BaggingClassifier"
   ]
  },
  {
   "cell_type": "code",
   "execution_count": 133,
   "metadata": {},
   "outputs": [
    {
     "name": "stdout",
     "output_type": "stream",
     "text": [
      "Fitting 2 folds for each of 6 candidates, totalling 12 fits\n"
     ]
    },
    {
     "name": "stderr",
     "output_type": "stream",
     "text": [
      "[Parallel(n_jobs=-1)]: Using backend LokyBackend with 4 concurrent workers.\n",
      "[Parallel(n_jobs=-1)]: Done  12 out of  12 | elapsed:  6.9min finished\n"
     ]
    }
   ],
   "source": [
    "param_bagging = {\"n_estimators\":[700,800,900,1000,1100,1200]}\n",
    "model_bagging = GridSearchCV(BaggingClassifier(),param_grid = param_bagging,cv = 2,verbose = True, n_jobs =-1)\n",
    "model_bagging = model_bagging.fit(train_X,train_Y)"
   ]
  },
  {
   "cell_type": "code",
   "execution_count": 134,
   "metadata": {},
   "outputs": [
    {
     "data": {
      "text/plain": [
       "{'n_estimators': 1200}"
      ]
     },
     "execution_count": 134,
     "metadata": {},
     "output_type": "execute_result"
    }
   ],
   "source": [
    "model_bagging.best_params_"
   ]
  },
  {
   "cell_type": "code",
   "execution_count": 109,
   "metadata": {},
   "outputs": [],
   "source": [
    "bagging_model_train = BaggingClassifier(n_estimators = 1200).fit(train_X,train_Y)"
   ]
  },
  {
   "cell_type": "code",
   "execution_count": 110,
   "metadata": {},
   "outputs": [],
   "source": [
    "predict_bagging = bagging_model_train.predict(train_X)"
   ]
  },
  {
   "cell_type": "code",
   "execution_count": 111,
   "metadata": {},
   "outputs": [
    {
     "name": "stdout",
     "output_type": "stream",
     "text": [
      "              precision    recall  f1-score   support\n",
      "\n",
      "           0       1.00      0.99      0.99      6860\n",
      "           1       1.00      1.00      1.00      8920\n",
      "\n",
      "    accuracy                           1.00     15780\n",
      "   macro avg       1.00      1.00      1.00     15780\n",
      "weighted avg       1.00      1.00      1.00     15780\n",
      "\n"
     ]
    }
   ],
   "source": [
    "print(metrics.classification_report(train_Y,predict_bagging))"
   ]
  },
  {
   "cell_type": "code",
   "execution_count": 112,
   "metadata": {},
   "outputs": [
    {
     "data": {
      "text/plain": [
       "array([[6821,   39],\n",
       "       [  31, 8889]])"
      ]
     },
     "execution_count": 112,
     "metadata": {},
     "output_type": "execute_result"
    }
   ],
   "source": [
    "Bagging_Confusion_train = metrics.confusion_matrix(train_Y,predict_bagging)\n",
    "Bagging_Confusion_train"
   ]
  },
  {
   "cell_type": "code",
   "execution_count": 113,
   "metadata": {},
   "outputs": [
    {
     "name": "stdout",
     "output_type": "stream",
     "text": [
      "0    0.99542\n",
      "dtype: float64\n",
      "0    0.99084\n",
      "dtype: float64\n"
     ]
    }
   ],
   "source": [
    "Bagging_Auroc_train =  metrics.roc_auc_score(train_Y,predict_bagging)\n",
    "Bagging_Auroc_train = pd.Series(Bagging_Auroc_train)\n",
    "print(Bagging_Auroc_train)\n",
    "Bagging_Gini_train = 2*Bagging_Auroc_train-1\n",
    "Bagging_Gini_train = pd.Series(Bagging_Gini_train)\n",
    "print(Bagging_Gini_train)"
   ]
  },
  {
   "cell_type": "code",
   "execution_count": 114,
   "metadata": {},
   "outputs": [
    {
     "name": "stdout",
     "output_type": "stream",
     "text": [
      "Accuracy 0.9955640050697085\n"
     ]
    }
   ],
   "source": [
    "print(\"Accuracy\",metrics.accuracy_score(train_Y,predict_bagging))"
   ]
  },
  {
   "cell_type": "code",
   "execution_count": 115,
   "metadata": {},
   "outputs": [],
   "source": [
    "bagging_model_test = BaggingClassifier(n_estimators = 1200).fit(test_x,test_y)"
   ]
  },
  {
   "cell_type": "code",
   "execution_count": 116,
   "metadata": {},
   "outputs": [],
   "source": [
    "bagging_predict_test = bagging_model_test.predict(test_x)"
   ]
  },
  {
   "cell_type": "code",
   "execution_count": 117,
   "metadata": {},
   "outputs": [
    {
     "name": "stdout",
     "output_type": "stream",
     "text": [
      "              precision    recall  f1-score   support\n",
      "\n",
      "           0       1.00      1.00      1.00      2851\n",
      "           1       1.00      1.00      1.00      3913\n",
      "\n",
      "    accuracy                           1.00      6764\n",
      "   macro avg       1.00      1.00      1.00      6764\n",
      "weighted avg       1.00      1.00      1.00      6764\n",
      "\n"
     ]
    }
   ],
   "source": [
    "print(metrics.classification_report(test_y,bagging_predict_test))"
   ]
  },
  {
   "cell_type": "code",
   "execution_count": 118,
   "metadata": {},
   "outputs": [
    {
     "data": {
      "text/plain": [
       "array([[2838,   13],\n",
       "       [   9, 3904]])"
      ]
     },
     "execution_count": 118,
     "metadata": {},
     "output_type": "execute_result"
    }
   ],
   "source": [
    "Bagging_Confusion_test = metrics.confusion_matrix(test_y,bagging_predict_test)\n",
    "Bagging_Confusion_test"
   ]
  },
  {
   "cell_type": "code",
   "execution_count": 119,
   "metadata": {},
   "outputs": [
    {
     "name": "stdout",
     "output_type": "stream",
     "text": [
      "0    0.99657\n",
      "dtype: float64\n",
      "0    0.99314\n",
      "dtype: float64\n"
     ]
    }
   ],
   "source": [
    "Bagging_Auroc_test = metrics.roc_auc_score(test_y,bagging_predict_test)\n",
    "Bagging_Auroc_test = pd.Series(Bagging_Auroc_test)\n",
    "print(Bagging_Auroc_test)\n",
    "Bagging_Gini_test = 2*Bagging_Auroc_test -1 \n",
    "Bagging_Gini_test = pd.Series(Bagging_Gini_test)\n",
    "print(Bagging_Gini_test)"
   ]
  },
  {
   "cell_type": "code",
   "execution_count": 120,
   "metadata": {},
   "outputs": [
    {
     "data": {
      "text/html": [
       "<div>\n",
       "<style scoped>\n",
       "    .dataframe tbody tr th:only-of-type {\n",
       "        vertical-align: middle;\n",
       "    }\n",
       "\n",
       "    .dataframe tbody tr th {\n",
       "        vertical-align: top;\n",
       "    }\n",
       "\n",
       "    .dataframe thead th {\n",
       "        text-align: right;\n",
       "    }\n",
       "</style>\n",
       "<table border=\"1\" class=\"dataframe\">\n",
       "  <thead>\n",
       "    <tr style=\"text-align: right;\">\n",
       "      <th></th>\n",
       "      <th>Auroc_Train</th>\n",
       "      <th>Auroc_Test</th>\n",
       "      <th>Gini_Train</th>\n",
       "      <th>Gini_Test</th>\n",
       "    </tr>\n",
       "  </thead>\n",
       "  <tbody>\n",
       "    <tr>\n",
       "      <th>0</th>\n",
       "      <td>0.99542</td>\n",
       "      <td>0.99657</td>\n",
       "      <td>0.99084</td>\n",
       "      <td>0.99314</td>\n",
       "    </tr>\n",
       "  </tbody>\n",
       "</table>\n",
       "</div>"
      ],
      "text/plain": [
       "   Auroc_Train  Auroc_Test  Gini_Train  Gini_Test\n",
       "0      0.99542     0.99657     0.99084    0.99314"
      ]
     },
     "execution_count": 120,
     "metadata": {},
     "output_type": "execute_result"
    }
   ],
   "source": [
    "Bagging = pd.concat([Bagging_Auroc_train,Bagging_Auroc_test,Bagging_Gini_train,Bagging_Gini_test],axis =1)\n",
    "Bagging.columns = [\"Auroc_Train\",\"Auroc_Test\",\"Gini_Train\",\"Gini_Test\"]\n",
    "Bagging"
   ]
  },
  {
   "cell_type": "code",
   "execution_count": 121,
   "metadata": {},
   "outputs": [],
   "source": [
    "from sklearn.ensemble import RandomForestClassifier"
   ]
  },
  {
   "cell_type": "code",
   "execution_count": 145,
   "metadata": {},
   "outputs": [
    {
     "name": "stdout",
     "output_type": "stream",
     "text": [
      "Fitting 5 folds for each of 96 candidates, totalling 480 fits\n"
     ]
    },
    {
     "name": "stderr",
     "output_type": "stream",
     "text": [
      "[Parallel(n_jobs=-1)]: Using backend LokyBackend with 4 concurrent workers.\n",
      "[Parallel(n_jobs=-1)]: Done  42 tasks      | elapsed:  4.0min\n",
      "[Parallel(n_jobs=-1)]: Done 192 tasks      | elapsed: 23.2min\n",
      "[Parallel(n_jobs=-1)]: Done 442 tasks      | elapsed: 67.7min\n",
      "[Parallel(n_jobs=-1)]: Done 480 out of 480 | elapsed: 76.9min finished\n"
     ]
    }
   ],
   "source": [
    "param_rf = {'n_estimators':[100,200,300,400,500,600],\"max_depth\":[3,4,5,6],\"max_features\" :[6,7,8,9]}\n",
    "model_rf = GridSearchCV(RandomForestClassifier(),param_grid = param_rf, verbose = True,n_jobs = -1)\n",
    "modelrf = model_rf.fit(train_X,train_Y)"
   ]
  },
  {
   "cell_type": "code",
   "execution_count": 146,
   "metadata": {},
   "outputs": [
    {
     "data": {
      "text/plain": [
       "{'max_depth': 6, 'max_features': 7, 'n_estimators': 300}"
      ]
     },
     "execution_count": 146,
     "metadata": {},
     "output_type": "execute_result"
    }
   ],
   "source": [
    "modelrf.best_params_"
   ]
  },
  {
   "cell_type": "code",
   "execution_count": 122,
   "metadata": {},
   "outputs": [],
   "source": [
    "model_rf_train = RandomForestClassifier(n_estimators=300, max_depth = 6, max_features = 7).fit(train_X,train_Y)\n",
    "rf_predict_train = model_rf_train.predict(train_X)"
   ]
  },
  {
   "cell_type": "code",
   "execution_count": 123,
   "metadata": {},
   "outputs": [
    {
     "name": "stdout",
     "output_type": "stream",
     "text": [
      "              precision    recall  f1-score   support\n",
      "\n",
      "           0       0.98      0.97      0.98      6860\n",
      "           1       0.98      0.99      0.98      8920\n",
      "\n",
      "    accuracy                           0.98     15780\n",
      "   macro avg       0.98      0.98      0.98     15780\n",
      "weighted avg       0.98      0.98      0.98     15780\n",
      "\n"
     ]
    }
   ],
   "source": [
    "print(metrics.classification_report(train_Y,rf_predict_train))"
   ]
  },
  {
   "cell_type": "code",
   "execution_count": 124,
   "metadata": {},
   "outputs": [
    {
     "data": {
      "text/plain": [
       "array([[6657,  203],\n",
       "       [ 113, 8807]])"
      ]
     },
     "execution_count": 124,
     "metadata": {},
     "output_type": "execute_result"
    }
   ],
   "source": [
    "RF_Confusion_train = metrics.confusion_matrix(train_Y,rf_predict_train)\n",
    "RF_Confusion_train"
   ]
  },
  {
   "cell_type": "code",
   "execution_count": 125,
   "metadata": {},
   "outputs": [
    {
     "name": "stdout",
     "output_type": "stream",
     "text": [
      "0    0.97887\n",
      "dtype: float64\n",
      "0    0.95774\n",
      "dtype: float64\n"
     ]
    }
   ],
   "source": [
    "RF_Auroc_train = metrics.roc_auc_score(train_Y,rf_predict_train)\n",
    "RF_Auroc_train = pd.Series(RF_Auroc_train)\n",
    "print(RF_Auroc_train)\n",
    "RF_Gini_train = 2*RF_Auroc_train - 1\n",
    "RF_Gini_train = pd.Series(RF_Gini_train)\n",
    "print(RF_Gini_train)"
   ]
  },
  {
   "cell_type": "code",
   "execution_count": 126,
   "metadata": {},
   "outputs": [
    {
     "name": "stdout",
     "output_type": "stream",
     "text": [
      "Accuracy 0.9799746514575411\n"
     ]
    }
   ],
   "source": [
    "print(\"Accuracy\",metrics.accuracy_score(train_Y,rf_predict_train))"
   ]
  },
  {
   "cell_type": "code",
   "execution_count": 127,
   "metadata": {},
   "outputs": [],
   "source": [
    "model_rf_test = RandomForestClassifier(n_estimators=300, max_depth = 6, max_features = 7).fit(test_x,test_y)"
   ]
  },
  {
   "cell_type": "code",
   "execution_count": 128,
   "metadata": {},
   "outputs": [],
   "source": [
    "rf_predict_test = model_rf_test.predict(test_x)"
   ]
  },
  {
   "cell_type": "code",
   "execution_count": 129,
   "metadata": {},
   "outputs": [
    {
     "name": "stdout",
     "output_type": "stream",
     "text": [
      "              precision    recall  f1-score   support\n",
      "\n",
      "           0       0.99      0.96      0.98      2851\n",
      "           1       0.97      1.00      0.98      3913\n",
      "\n",
      "    accuracy                           0.98      6764\n",
      "   macro avg       0.98      0.98      0.98      6764\n",
      "weighted avg       0.98      0.98      0.98      6764\n",
      "\n"
     ]
    }
   ],
   "source": [
    "print(metrics.classification_report(test_y,rf_predict_test))"
   ]
  },
  {
   "cell_type": "code",
   "execution_count": 130,
   "metadata": {},
   "outputs": [
    {
     "data": {
      "text/plain": [
       "array([[2748,  103],\n",
       "       [  18, 3895]])"
      ]
     },
     "execution_count": 130,
     "metadata": {},
     "output_type": "execute_result"
    }
   ],
   "source": [
    "RF_Confusion_test = metrics.confusion_matrix(test_y,rf_predict_test)\n",
    "RF_Confusion_test"
   ]
  },
  {
   "cell_type": "code",
   "execution_count": 131,
   "metadata": {},
   "outputs": [
    {
     "name": "stdout",
     "output_type": "stream",
     "text": [
      "0    0.979636\n",
      "dtype: float64\n",
      "0    0.959272\n",
      "dtype: float64\n"
     ]
    }
   ],
   "source": [
    "RF_Auroc_test = metrics.roc_auc_score(test_y,rf_predict_test)\n",
    "RF_Auroc_test = pd.Series(RF_Auroc_test)\n",
    "print(RF_Auroc_test)\n",
    "RF_Gini_test = 2*RF_Auroc_test -1 \n",
    "RF_Gini_test = pd.Series(RF_Gini_test)\n",
    "print(RF_Gini_test)"
   ]
  },
  {
   "cell_type": "code",
   "execution_count": 132,
   "metadata": {},
   "outputs": [
    {
     "name": "stdout",
     "output_type": "stream",
     "text": [
      "Accuracy 0.9821111768184506\n"
     ]
    }
   ],
   "source": [
    "print(\"Accuracy\",metrics.accuracy_score(test_y,rf_predict_test))"
   ]
  },
  {
   "cell_type": "code",
   "execution_count": 133,
   "metadata": {},
   "outputs": [
    {
     "data": {
      "text/html": [
       "<div>\n",
       "<style scoped>\n",
       "    .dataframe tbody tr th:only-of-type {\n",
       "        vertical-align: middle;\n",
       "    }\n",
       "\n",
       "    .dataframe tbody tr th {\n",
       "        vertical-align: top;\n",
       "    }\n",
       "\n",
       "    .dataframe thead th {\n",
       "        text-align: right;\n",
       "    }\n",
       "</style>\n",
       "<table border=\"1\" class=\"dataframe\">\n",
       "  <thead>\n",
       "    <tr style=\"text-align: right;\">\n",
       "      <th></th>\n",
       "      <th>Auroc_Train</th>\n",
       "      <th>Auroc_Test</th>\n",
       "      <th>Gini_Train</th>\n",
       "      <th>Gini_Test</th>\n",
       "    </tr>\n",
       "  </thead>\n",
       "  <tbody>\n",
       "    <tr>\n",
       "      <th>0</th>\n",
       "      <td>0.97887</td>\n",
       "      <td>0.979636</td>\n",
       "      <td>0.95774</td>\n",
       "      <td>0.959272</td>\n",
       "    </tr>\n",
       "  </tbody>\n",
       "</table>\n",
       "</div>"
      ],
      "text/plain": [
       "   Auroc_Train  Auroc_Test  Gini_Train  Gini_Test\n",
       "0      0.97887    0.979636     0.95774   0.959272"
      ]
     },
     "execution_count": 133,
     "metadata": {},
     "output_type": "execute_result"
    }
   ],
   "source": [
    "RF = pd.concat([RF_Auroc_train,RF_Auroc_test,RF_Gini_train,RF_Gini_test],axis =1)\n",
    "RF.columns = [\"Auroc_Train\",\"Auroc_Test\",\"Gini_Train\",\"Gini_Test\"]\n",
    "RF"
   ]
  },
  {
   "cell_type": "markdown",
   "metadata": {},
   "source": [
    "## Boosting"
   ]
  },
  {
   "cell_type": "code",
   "execution_count": 134,
   "metadata": {},
   "outputs": [],
   "source": [
    "from sklearn.ensemble import AdaBoostClassifier, GradientBoostingClassifier"
   ]
  },
  {
   "cell_type": "code",
   "execution_count": 138,
   "metadata": {},
   "outputs": [],
   "source": [
    "param_ada = {\"n_estimators\":[100,200,400,600,800],\n",
    "            \"learning_rate\":[10 ** x for x in range(-3,3)]}"
   ]
  },
  {
   "cell_type": "code",
   "execution_count": 158,
   "metadata": {},
   "outputs": [
    {
     "name": "stdout",
     "output_type": "stream",
     "text": [
      "Fitting 2 folds for each of 30 candidates, totalling 60 fits\n"
     ]
    },
    {
     "name": "stderr",
     "output_type": "stream",
     "text": [
      "[Parallel(n_jobs=-1)]: Using backend LokyBackend with 4 concurrent workers.\n",
      "[Parallel(n_jobs=-1)]: Done  42 tasks      | elapsed:  5.8min\n",
      "[Parallel(n_jobs=-1)]: Done  60 out of  60 | elapsed:  8.2min finished\n"
     ]
    }
   ],
   "source": [
    "gridsearch_ada = GridSearchCV(GradientBoostingClassifier(),param_grid = param_ada,n_jobs = -1,cv = 2, verbose = True)\n",
    "model_ada = gridsearch_ada.fit(train_X,train_Y)"
   ]
  },
  {
   "cell_type": "code",
   "execution_count": 159,
   "metadata": {},
   "outputs": [
    {
     "data": {
      "text/plain": [
       "{'learning_rate': 0.1, 'n_estimators': 800}"
      ]
     },
     "execution_count": 159,
     "metadata": {},
     "output_type": "execute_result"
    }
   ],
   "source": [
    "model_ada.best_params_"
   ]
  },
  {
   "cell_type": "code",
   "execution_count": 135,
   "metadata": {},
   "outputs": [],
   "source": [
    "ada_train = AdaBoostClassifier(n_estimators = 800 , learning_rate = 0.1).fit(train_X,train_Y)"
   ]
  },
  {
   "cell_type": "code",
   "execution_count": 136,
   "metadata": {},
   "outputs": [],
   "source": [
    "ada_train_predict = ada_train.predict(train_X)"
   ]
  },
  {
   "cell_type": "code",
   "execution_count": 137,
   "metadata": {},
   "outputs": [
    {
     "name": "stdout",
     "output_type": "stream",
     "text": [
      "              precision    recall  f1-score   support\n",
      "\n",
      "           0       0.95      0.94      0.94      6860\n",
      "           1       0.95      0.96      0.96      8920\n",
      "\n",
      "    accuracy                           0.95     15780\n",
      "   macro avg       0.95      0.95      0.95     15780\n",
      "weighted avg       0.95      0.95      0.95     15780\n",
      "\n"
     ]
    }
   ],
   "source": [
    "print(metrics.classification_report(train_Y,ada_train_predict))"
   ]
  },
  {
   "cell_type": "code",
   "execution_count": 138,
   "metadata": {},
   "outputs": [
    {
     "data": {
      "text/plain": [
       "array([[6424,  436],\n",
       "       [ 331, 8589]])"
      ]
     },
     "execution_count": 138,
     "metadata": {},
     "output_type": "execute_result"
    }
   ],
   "source": [
    "Ada_confusion_train = metrics.confusion_matrix(train_Y,ada_train_predict)\n",
    "Ada_confusion_train"
   ]
  },
  {
   "cell_type": "code",
   "execution_count": 139,
   "metadata": {},
   "outputs": [
    {
     "name": "stdout",
     "output_type": "stream",
     "text": [
      "0    0.949668\n",
      "dtype: float64\n",
      "0    0.899336\n",
      "dtype: float64\n"
     ]
    }
   ],
   "source": [
    "Ada_Auroc_train = metrics.roc_auc_score(train_Y,ada_train_predict)\n",
    "Ada_Auroc_train = pd.Series(Ada_Auroc_train)\n",
    "print(Ada_Auroc_train)\n",
    "Ada_Gini_train = 2*Ada_Auroc_train -1 \n",
    "Ada_Gini_train = pd.Series(Ada_Gini_train)\n",
    "print(Ada_Gini_train)"
   ]
  },
  {
   "cell_type": "code",
   "execution_count": 140,
   "metadata": {},
   "outputs": [
    {
     "name": "stdout",
     "output_type": "stream",
     "text": [
      "Accuracy 0.9513941698352345\n"
     ]
    }
   ],
   "source": [
    "print(\"Accuracy\",metrics.accuracy_score(train_Y,ada_train_predict))"
   ]
  },
  {
   "cell_type": "code",
   "execution_count": 141,
   "metadata": {},
   "outputs": [
    {
     "name": "stdout",
     "output_type": "stream",
     "text": [
      "              precision    recall  f1-score   support\n",
      "\n",
      "           0       0.95      0.94      0.95      2851\n",
      "           1       0.96      0.96      0.96      3913\n",
      "\n",
      "    accuracy                           0.95      6764\n",
      "   macro avg       0.95      0.95      0.95      6764\n",
      "weighted avg       0.95      0.95      0.95      6764\n",
      "\n"
     ]
    }
   ],
   "source": [
    "ada_test = AdaBoostClassifier(n_estimators = 800 , learning_rate = 0.1).fit(test_x,test_y)\n",
    "ada_test_predict = ada_test.predict(test_x)\n",
    "print(metrics.classification_report(test_y,ada_test_predict))"
   ]
  },
  {
   "cell_type": "code",
   "execution_count": 142,
   "metadata": {},
   "outputs": [
    {
     "data": {
      "text/plain": [
       "array([[2680,  171],\n",
       "       [ 139, 3774]])"
      ]
     },
     "execution_count": 142,
     "metadata": {},
     "output_type": "execute_result"
    }
   ],
   "source": [
    "Ada_confusion_test = metrics.confusion_matrix(test_y,ada_test_predict)\n",
    "Ada_confusion_test"
   ]
  },
  {
   "cell_type": "code",
   "execution_count": 143,
   "metadata": {},
   "outputs": [
    {
     "name": "stdout",
     "output_type": "stream",
     "text": [
      "0    0.952249\n",
      "dtype: float64\n",
      "0    0.904498\n",
      "dtype: float64\n"
     ]
    }
   ],
   "source": [
    "Ada_Aurco_test = metrics.roc_auc_score(test_y,ada_test_predict)\n",
    "Ada_Aurco_test = pd.Series(Ada_Aurco_test)\n",
    "print(Ada_Aurco_test)\n",
    "Ada_Gini_test = 2*Ada_Aurco_test -1 \n",
    "Ada_Gini_test = pd.Series(Ada_Gini_test)\n",
    "print(Ada_Gini_test)"
   ]
  },
  {
   "cell_type": "code",
   "execution_count": 144,
   "metadata": {},
   "outputs": [
    {
     "name": "stdout",
     "output_type": "stream",
     "text": [
      "Accuracy Score 0.9541691306918982\n"
     ]
    }
   ],
   "source": [
    "print(\"Accuracy Score\",metrics.accuracy_score(test_y,ada_test_predict))"
   ]
  },
  {
   "cell_type": "code",
   "execution_count": 145,
   "metadata": {},
   "outputs": [
    {
     "data": {
      "text/html": [
       "<div>\n",
       "<style scoped>\n",
       "    .dataframe tbody tr th:only-of-type {\n",
       "        vertical-align: middle;\n",
       "    }\n",
       "\n",
       "    .dataframe tbody tr th {\n",
       "        vertical-align: top;\n",
       "    }\n",
       "\n",
       "    .dataframe thead th {\n",
       "        text-align: right;\n",
       "    }\n",
       "</style>\n",
       "<table border=\"1\" class=\"dataframe\">\n",
       "  <thead>\n",
       "    <tr style=\"text-align: right;\">\n",
       "      <th></th>\n",
       "      <th>Auroc_Train</th>\n",
       "      <th>Auroc_Test</th>\n",
       "      <th>Gini_Train</th>\n",
       "      <th>Gini_Test</th>\n",
       "    </tr>\n",
       "  </thead>\n",
       "  <tbody>\n",
       "    <tr>\n",
       "      <th>0</th>\n",
       "      <td>0.949668</td>\n",
       "      <td>0.952249</td>\n",
       "      <td>0.899336</td>\n",
       "      <td>0.904498</td>\n",
       "    </tr>\n",
       "  </tbody>\n",
       "</table>\n",
       "</div>"
      ],
      "text/plain": [
       "   Auroc_Train  Auroc_Test  Gini_Train  Gini_Test\n",
       "0     0.949668    0.952249    0.899336   0.904498"
      ]
     },
     "execution_count": 145,
     "metadata": {},
     "output_type": "execute_result"
    }
   ],
   "source": [
    "ADA = pd.concat([Ada_Auroc_train,Ada_Aurco_test,Ada_Gini_train,Ada_Gini_test],axis=1)\n",
    "ADA.columns = [\"Auroc_Train\",\"Auroc_Test\",\"Gini_Train\",\"Gini_Test\"]\n",
    "ADA"
   ]
  },
  {
   "cell_type": "code",
   "execution_count": 167,
   "metadata": {},
   "outputs": [
    {
     "name": "stdout",
     "output_type": "stream",
     "text": [
      "Fitting 2 folds for each of 30 candidates, totalling 60 fits\n"
     ]
    },
    {
     "name": "stderr",
     "output_type": "stream",
     "text": [
      "[Parallel(n_jobs=-1)]: Using backend LokyBackend with 4 concurrent workers.\n",
      "[Parallel(n_jobs=-1)]: Done  42 tasks      | elapsed:  5.1min\n",
      "[Parallel(n_jobs=-1)]: Done  60 out of  60 | elapsed:  7.6min finished\n"
     ]
    }
   ],
   "source": [
    "model_gbm = GridSearchCV(GradientBoostingClassifier(),param_grid = param_ada,cv = 2, verbose = True, n_jobs =-1)\n",
    "model_train = model_gbm.fit(train_X,train_Y)"
   ]
  },
  {
   "cell_type": "code",
   "execution_count": 168,
   "metadata": {},
   "outputs": [
    {
     "data": {
      "text/plain": [
       "{'learning_rate': 0.1, 'n_estimators': 800}"
      ]
     },
     "execution_count": 168,
     "metadata": {},
     "output_type": "execute_result"
    }
   ],
   "source": [
    "model_train.best_params_"
   ]
  },
  {
   "cell_type": "code",
   "execution_count": 146,
   "metadata": {},
   "outputs": [],
   "source": [
    "model_gbm = GradientBoostingClassifier(n_estimators = 800, learning_rate = 0.1).fit(train_X,train_Y)"
   ]
  },
  {
   "cell_type": "code",
   "execution_count": 147,
   "metadata": {},
   "outputs": [],
   "source": [
    "gbms_predict = model_gbm.predict(train_X)"
   ]
  },
  {
   "cell_type": "code",
   "execution_count": 148,
   "metadata": {},
   "outputs": [
    {
     "name": "stdout",
     "output_type": "stream",
     "text": [
      "              precision    recall  f1-score   support\n",
      "\n",
      "           0       0.99      0.99      0.99      6860\n",
      "           1       0.99      0.99      0.99      8920\n",
      "\n",
      "    accuracy                           0.99     15780\n",
      "   macro avg       0.99      0.99      0.99     15780\n",
      "weighted avg       0.99      0.99      0.99     15780\n",
      "\n"
     ]
    }
   ],
   "source": [
    "print(metrics.classification_report(train_Y,gbms_predict))"
   ]
  },
  {
   "cell_type": "code",
   "execution_count": 149,
   "metadata": {},
   "outputs": [
    {
     "data": {
      "text/plain": [
       "array([[6808,   52],\n",
       "       [  53, 8867]])"
      ]
     },
     "execution_count": 149,
     "metadata": {},
     "output_type": "execute_result"
    }
   ],
   "source": [
    "Gbm_confusion_train = metrics.confusion_matrix(train_Y,gbms_predict)\n",
    "Gbm_confusion_train"
   ]
  },
  {
   "cell_type": "code",
   "execution_count": 150,
   "metadata": {
    "scrolled": true
   },
   "outputs": [
    {
     "name": "stdout",
     "output_type": "stream",
     "text": [
      "0    0.993239\n",
      "dtype: float64\n",
      "0    0.986478\n",
      "dtype: float64\n"
     ]
    }
   ],
   "source": [
    "Gbm_Auroc_train = metrics.roc_auc_score(train_Y,gbms_predict)\n",
    "Gbm_Auroc_train = pd.Series(Gbm_Auroc_train)\n",
    "print(Gbm_Auroc_train)\n",
    "Gbm_Gini_train = 2*Gbm_Auroc_train - 1\n",
    "Gbm_Gini_train = pd.Series(Gbm_Gini_train)\n",
    "print(Gbm_Gini_train)"
   ]
  },
  {
   "cell_type": "code",
   "execution_count": 151,
   "metadata": {},
   "outputs": [
    {
     "name": "stdout",
     "output_type": "stream",
     "text": [
      "Accuracy_Score 0.9933460076045627\n"
     ]
    }
   ],
   "source": [
    "print(\"Accuracy_Score\",metrics.accuracy_score(train_Y,gbms_predict))"
   ]
  },
  {
   "cell_type": "code",
   "execution_count": 152,
   "metadata": {},
   "outputs": [
    {
     "name": "stdout",
     "output_type": "stream",
     "text": [
      "              precision    recall  f1-score   support\n",
      "\n",
      "           0       1.00      0.99      1.00      2851\n",
      "           1       1.00      1.00      1.00      3913\n",
      "\n",
      "    accuracy                           1.00      6764\n",
      "   macro avg       1.00      1.00      1.00      6764\n",
      "weighted avg       1.00      1.00      1.00      6764\n",
      "\n"
     ]
    }
   ],
   "source": [
    "model_gbm_test = GradientBoostingClassifier(n_estimators = 800, learning_rate = 0.1).fit(test_x,test_y)\n",
    "gbms_predict_test = model_gbm_test.predict(test_x)\n",
    "print(metrics.classification_report(test_y,gbms_predict_test))"
   ]
  },
  {
   "cell_type": "code",
   "execution_count": 153,
   "metadata": {},
   "outputs": [
    {
     "data": {
      "text/plain": [
       "array([[2836,   15],\n",
       "       [  11, 3902]])"
      ]
     },
     "execution_count": 153,
     "metadata": {},
     "output_type": "execute_result"
    }
   ],
   "source": [
    "Gbm_confusion_test = metrics.confusion_matrix(test_y,gbms_predict_test)\n",
    "Gbm_confusion_test"
   ]
  },
  {
   "cell_type": "code",
   "execution_count": 154,
   "metadata": {},
   "outputs": [
    {
     "name": "stdout",
     "output_type": "stream",
     "text": [
      "0    0.995964\n",
      "dtype: float64\n",
      "0    0.991928\n",
      "dtype: float64\n"
     ]
    }
   ],
   "source": [
    "Gbm_Auroc_test = metrics.roc_auc_score(test_y,gbms_predict_test)\n",
    "Gbm_Auroc_test = pd.Series(Gbm_Auroc_test)\n",
    "print(Gbm_Auroc_test)\n",
    "Gbm_Gini_test = 2*Gbm_Auroc_test -1\n",
    "Gbm_Gini_test = pd.Series(Gbm_Gini_test)\n",
    "print(Gbm_Gini_test)"
   ]
  },
  {
   "cell_type": "code",
   "execution_count": 155,
   "metadata": {},
   "outputs": [
    {
     "name": "stdout",
     "output_type": "stream",
     "text": [
      "Accuracy_Score 0.9961561206386753\n"
     ]
    }
   ],
   "source": [
    "print(\"Accuracy_Score\",metrics.accuracy_score(test_y,gbms_predict_test))"
   ]
  },
  {
   "cell_type": "code",
   "execution_count": 156,
   "metadata": {},
   "outputs": [
    {
     "data": {
      "text/html": [
       "<div>\n",
       "<style scoped>\n",
       "    .dataframe tbody tr th:only-of-type {\n",
       "        vertical-align: middle;\n",
       "    }\n",
       "\n",
       "    .dataframe tbody tr th {\n",
       "        vertical-align: top;\n",
       "    }\n",
       "\n",
       "    .dataframe thead th {\n",
       "        text-align: right;\n",
       "    }\n",
       "</style>\n",
       "<table border=\"1\" class=\"dataframe\">\n",
       "  <thead>\n",
       "    <tr style=\"text-align: right;\">\n",
       "      <th></th>\n",
       "      <th>Auroc_Train</th>\n",
       "      <th>Auroc_Test</th>\n",
       "      <th>Gini_Train</th>\n",
       "      <th>Gini_Test</th>\n",
       "    </tr>\n",
       "  </thead>\n",
       "  <tbody>\n",
       "    <tr>\n",
       "      <th>0</th>\n",
       "      <td>0.993239</td>\n",
       "      <td>0.995964</td>\n",
       "      <td>0.986478</td>\n",
       "      <td>0.991928</td>\n",
       "    </tr>\n",
       "  </tbody>\n",
       "</table>\n",
       "</div>"
      ],
      "text/plain": [
       "   Auroc_Train  Auroc_Test  Gini_Train  Gini_Test\n",
       "0     0.993239    0.995964    0.986478   0.991928"
      ]
     },
     "execution_count": 156,
     "metadata": {},
     "output_type": "execute_result"
    }
   ],
   "source": [
    "GBM = pd.concat([Gbm_Auroc_train,Gbm_Auroc_test,Gbm_Gini_train,Gbm_Gini_test],axis=1)\n",
    "GBM.columns = [\"Auroc_Train\",\"Auroc_Test\",\"Gini_Train\",\"Gini_Test\"]\n",
    "GBM"
   ]
  },
  {
   "cell_type": "code",
   "execution_count": 157,
   "metadata": {},
   "outputs": [],
   "source": [
    "from xgboost import XGBClassifier"
   ]
  },
  {
   "cell_type": "code",
   "execution_count": 158,
   "metadata": {},
   "outputs": [],
   "source": [
    "xgb_estimator = XGBClassifier( learning_rate=0.01,\n",
    "                               n_estimators=1000,\n",
    "                               max_depth=5,\n",
    "                               min_child_weight=1,\n",
    "                               gamma=1,\n",
    "                               subsample=0.8,\n",
    "                               colsample_bytree=0.8,\n",
    "                               n_jobs=-1,\n",
    "                               reg_alpa=1,\n",
    "                               scale_pos_weight=1,\n",
    "                               random_state=42,\n",
    "                               verbose=1)"
   ]
  },
  {
   "cell_type": "code",
   "execution_count": 159,
   "metadata": {},
   "outputs": [
    {
     "name": "stdout",
     "output_type": "stream",
     "text": [
      "[01:58:27] WARNING: /Users/travis/build/dmlc/xgboost/src/learner.cc:516: \n",
      "Parameters: { reg_alpa, verbose } might not be used.\n",
      "\n",
      "  This may not be accurate due to some parameters are only used in language bindings but\n",
      "  passed down to XGBoost core.  Or some parameters are not used but slip through this\n",
      "  verification. Please open an issue if you find above cases.\n",
      "\n",
      "\n"
     ]
    }
   ],
   "source": [
    "xgb_model = xgb_estimator.fit(train_X,train_Y)"
   ]
  },
  {
   "cell_type": "code",
   "execution_count": 160,
   "metadata": {},
   "outputs": [],
   "source": [
    "xgb_predict = xgb_model.predict(train_X)"
   ]
  },
  {
   "cell_type": "code",
   "execution_count": 161,
   "metadata": {},
   "outputs": [
    {
     "name": "stdout",
     "output_type": "stream",
     "text": [
      "              precision    recall  f1-score   support\n",
      "\n",
      "           0       0.99      0.98      0.98      6860\n",
      "           1       0.99      0.99      0.99      8920\n",
      "\n",
      "    accuracy                           0.99     15780\n",
      "   macro avg       0.99      0.99      0.99     15780\n",
      "weighted avg       0.99      0.99      0.99     15780\n",
      "\n"
     ]
    }
   ],
   "source": [
    "print(metrics.classification_report(train_Y,xgb_predict))"
   ]
  },
  {
   "cell_type": "code",
   "execution_count": 162,
   "metadata": {},
   "outputs": [
    {
     "data": {
      "text/plain": [
       "array([[6737,  123],\n",
       "       [  84, 8836]])"
      ]
     },
     "execution_count": 162,
     "metadata": {},
     "output_type": "execute_result"
    }
   ],
   "source": [
    "Xgb_confusion_train = metrics.confusion_matrix(train_Y,xgb_predict)\n",
    "Xgb_confusion_train"
   ]
  },
  {
   "cell_type": "code",
   "execution_count": 163,
   "metadata": {},
   "outputs": [
    {
     "name": "stdout",
     "output_type": "stream",
     "text": [
      "0    0.986326\n",
      "dtype: float64\n",
      "0    0.972653\n",
      "dtype: float64\n"
     ]
    }
   ],
   "source": [
    "XGB_Auroc_train = metrics.roc_auc_score(train_Y,xgb_predict)\n",
    "XGB_Auroc_train = pd.Series(XGB_Auroc_train)\n",
    "print(XGB_Auroc_train)\n",
    "XGB_Gini_train = 2*XGB_Auroc_train - 1\n",
    "XGB_Gini_train = pd.Series(XGB_Gini_train)\n",
    "print(XGB_Gini_train)"
   ]
  },
  {
   "cell_type": "code",
   "execution_count": 164,
   "metadata": {
    "scrolled": true
   },
   "outputs": [
    {
     "name": "stdout",
     "output_type": "stream",
     "text": [
      "Accuracy 0.9868821292775666\n"
     ]
    }
   ],
   "source": [
    "print(\"Accuracy\",metrics.accuracy_score(train_Y,xgb_predict))"
   ]
  },
  {
   "cell_type": "code",
   "execution_count": 165,
   "metadata": {},
   "outputs": [
    {
     "name": "stdout",
     "output_type": "stream",
     "text": [
      "[01:58:42] WARNING: /Users/travis/build/dmlc/xgboost/src/learner.cc:516: \n",
      "Parameters: { reg_alpa, verbose } might not be used.\n",
      "\n",
      "  This may not be accurate due to some parameters are only used in language bindings but\n",
      "  passed down to XGBoost core.  Or some parameters are not used but slip through this\n",
      "  verification. Please open an issue if you find above cases.\n",
      "\n",
      "\n"
     ]
    }
   ],
   "source": [
    "xgb_model_test = xgb_estimator.fit(test_x,test_y)"
   ]
  },
  {
   "cell_type": "code",
   "execution_count": 166,
   "metadata": {},
   "outputs": [],
   "source": [
    "xgb_test_predict = xgb_model_test.predict(test_x)"
   ]
  },
  {
   "cell_type": "code",
   "execution_count": 167,
   "metadata": {},
   "outputs": [
    {
     "name": "stdout",
     "output_type": "stream",
     "text": [
      "              precision    recall  f1-score   support\n",
      "\n",
      "           0       0.99      0.98      0.99      2851\n",
      "           1       0.99      0.99      0.99      3913\n",
      "\n",
      "    accuracy                           0.99      6764\n",
      "   macro avg       0.99      0.99      0.99      6764\n",
      "weighted avg       0.99      0.99      0.99      6764\n",
      "\n"
     ]
    }
   ],
   "source": [
    "print(metrics.classification_report(test_y,xgb_test_predict))"
   ]
  },
  {
   "cell_type": "code",
   "execution_count": 168,
   "metadata": {},
   "outputs": [
    {
     "data": {
      "text/plain": [
       "array([[2803,   48],\n",
       "       [  24, 3889]])"
      ]
     },
     "execution_count": 168,
     "metadata": {},
     "output_type": "execute_result"
    }
   ],
   "source": [
    "Xgb_confusion_test = metrics.confusion_matrix(test_y,xgb_test_predict)\n",
    "Xgb_confusion_test"
   ]
  },
  {
   "cell_type": "code",
   "execution_count": 169,
   "metadata": {},
   "outputs": [
    {
     "name": "stdout",
     "output_type": "stream",
     "text": [
      "0    0.988515\n",
      "dtype: float64\n",
      "0    0.97703\n",
      "dtype: float64\n"
     ]
    }
   ],
   "source": [
    "XGB_Auroc_test = metrics.roc_auc_score(test_y,xgb_test_predict)\n",
    "XGB_Auroc_test = pd.Series(XGB_Auroc_test)\n",
    "print(XGB_Auroc_test)\n",
    "XGB_Gini_test = 2*XGB_Auroc_test - 1\n",
    "XGB_Gini_test = pd.Series(XGB_Gini_test)\n",
    "print(XGB_Gini_test)"
   ]
  },
  {
   "cell_type": "code",
   "execution_count": 170,
   "metadata": {},
   "outputs": [
    {
     "data": {
      "text/html": [
       "<div>\n",
       "<style scoped>\n",
       "    .dataframe tbody tr th:only-of-type {\n",
       "        vertical-align: middle;\n",
       "    }\n",
       "\n",
       "    .dataframe tbody tr th {\n",
       "        vertical-align: top;\n",
       "    }\n",
       "\n",
       "    .dataframe thead th {\n",
       "        text-align: right;\n",
       "    }\n",
       "</style>\n",
       "<table border=\"1\" class=\"dataframe\">\n",
       "  <thead>\n",
       "    <tr style=\"text-align: right;\">\n",
       "      <th></th>\n",
       "      <th>Auroc_Train</th>\n",
       "      <th>Auroc_Test</th>\n",
       "      <th>Gini_Train</th>\n",
       "      <th>Gini_Test</th>\n",
       "    </tr>\n",
       "  </thead>\n",
       "  <tbody>\n",
       "    <tr>\n",
       "      <th>0</th>\n",
       "      <td>0.986326</td>\n",
       "      <td>0.988515</td>\n",
       "      <td>0.972653</td>\n",
       "      <td>0.97703</td>\n",
       "    </tr>\n",
       "  </tbody>\n",
       "</table>\n",
       "</div>"
      ],
      "text/plain": [
       "   Auroc_Train  Auroc_Test  Gini_Train  Gini_Test\n",
       "0     0.986326    0.988515    0.972653    0.97703"
      ]
     },
     "execution_count": 170,
     "metadata": {},
     "output_type": "execute_result"
    }
   ],
   "source": [
    "XGB = pd.concat([XGB_Auroc_train,XGB_Auroc_test,XGB_Gini_train,XGB_Gini_test],axis = 1)\n",
    "XGB.columns = [\"Auroc_Train\",\"Auroc_Test\",\"Gini_Train\",\"Gini_Test\"]\n",
    "XGB"
   ]
  },
  {
   "cell_type": "code",
   "execution_count": 171,
   "metadata": {
    "scrolled": true
   },
   "outputs": [
    {
     "name": "stdout",
     "output_type": "stream",
     "text": [
      "Logistic Regression \n",
      "    Auroc_Train  Auroc_Test  Gini_Train  Gini_Test\n",
      "0     0.978204    0.976191    0.956409   0.952381\n",
      "KNN \n",
      "    Auroc_Train  Auroc_Test  Gini_Train  Gini_Test\n",
      "0     0.995298    0.996593    0.990596   0.993186\n",
      "DT \n",
      "    Auroc_Train  Auroc_Test  Gini_Train  Gini_Test\n",
      "0     0.922946    0.922124    0.845892   0.844248\n",
      "Bagging \n",
      "    Auroc_Train  Auroc_Test  Gini_Train  Gini_Test\n",
      "0      0.99542     0.99657     0.99084    0.99314\n",
      "RF \n",
      "    Auroc_Train  Auroc_Test  Gini_Train  Gini_Test\n",
      "0      0.97887    0.979636     0.95774   0.959272\n",
      "ADA \n",
      "    Auroc_Train  Auroc_Test  Gini_Train  Gini_Test\n",
      "0     0.949668    0.952249    0.899336   0.904498\n",
      "GBM \n",
      "    Auroc_Train  Auroc_Test  Gini_Train  Gini_Test\n",
      "0     0.993239    0.995964    0.986478   0.991928\n",
      "XGB \n",
      "    Auroc_Train  Auroc_Test  Gini_Train  Gini_Test\n",
      "0     0.986326    0.988515    0.972653    0.97703\n"
     ]
    }
   ],
   "source": [
    "print(\"Logistic Regression\",\"\\n\",Logit)\n",
    "print(\"KNN\",\"\\n\",Knn)\n",
    "print(\"DT\",\"\\n\",DT)\n",
    "print(\"Bagging\",\"\\n\",Bagging)\n",
    "print(\"RF\",\"\\n\",RF)\n",
    "print(\"ADA\",\"\\n\",ADA)\n",
    "print(\"GBM\",\"\\n\",GBM)\n",
    "print(\"XGB\",\"\\n\",XGB)"
   ]
  },
  {
   "cell_type": "code",
   "execution_count": 172,
   "metadata": {},
   "outputs": [
    {
     "name": "stdout",
     "output_type": "stream",
     "text": [
      "Logistic_Train \n",
      " [[6329  531]\n",
      " [ 451 8469]]\n",
      "KNN_Train \n",
      " [[6776   39]\n",
      " [  33 8932]]\n",
      "DT)Train \n",
      " [[6355  505]\n",
      " [ 718 8202]]\n",
      "Baggin_Train \n",
      " [[6821   39]\n",
      " [  31 8889]]\n",
      "RF_Train \n",
      " [[6657  203]\n",
      " [ 113 8807]]\n",
      "ADA_Train \n",
      " [[6424  436]\n",
      " [ 331 8589]]\n",
      "GBM_Train \n",
      " [[6808   52]\n",
      " [  53 8867]]\n",
      "XGB_Train \n",
      " [[6737  123]\n",
      " [  84 8836]]\n",
      "Logistic_Test \n",
      " [[2640  211]\n",
      " [ 208 3705]]\n",
      "KNN_Test \n",
      " [[2886   10]\n",
      " [  13 3855]]\n",
      "DT_Test \n",
      " [[2584  267]\n",
      " [ 243 3670]]\n",
      "Bagging_Test \n",
      " [[2838   13]\n",
      " [   9 3904]]\n",
      "RF_Test \n",
      " [[2748  103]\n",
      " [  18 3895]]\n",
      "ADA_Test \n",
      " [[2680  171]\n",
      " [ 139 3774]]\n",
      "GBM_Test \n",
      " [[2836   15]\n",
      " [  11 3902]]\n",
      "XGB_Test \n",
      " [[2803   48]\n",
      " [  24 3889]]\n"
     ]
    }
   ],
   "source": [
    "print(\"Logistic_Train\",\"\\n\", Logit_Confusion_train)\n",
    "print(\"KNN_Train\",\"\\n\",Knn_Confusion_train)\n",
    "print(\"DT)Train\",\"\\n\",DT_Confusion_train)\n",
    "print(\"Baggin_Train\",\"\\n\",Bagging_Confusion_train)\n",
    "print(\"RF_Train\",\"\\n\",RF_Confusion_train)\n",
    "print(\"ADA_Train\",\"\\n\",Ada_confusion_train)\n",
    "print(\"GBM_Train\",\"\\n\",Gbm_confusion_train)\n",
    "print(\"XGB_Train\",\"\\n\",Xgb_confusion_train)\n",
    "\n",
    "print(\"Logistic_Test\",\"\\n\", Logit_Confusion_test)\n",
    "print(\"KNN_Test\",\"\\n\",Knn_Confusion_test)\n",
    "print(\"DT_Test\",\"\\n\",DT_Confusion_test)\n",
    "print(\"Bagging_Test\",\"\\n\",Bagging_Confusion_test)\n",
    "print(\"RF_Test\",\"\\n\",RF_Confusion_test)\n",
    "print(\"ADA_Test\",\"\\n\",Ada_confusion_test)\n",
    "print(\"GBM_Test\",\"\\n\",Gbm_confusion_test)\n",
    "print(\"XGB_Test\",\"\\n\",Xgb_confusion_test)"
   ]
  },
  {
   "cell_type": "markdown",
   "metadata": {},
   "source": [
    "### From the above matrices, Bagging turns out to be giving the best results."
   ]
  },
  {
   "cell_type": "code",
   "execution_count": 173,
   "metadata": {},
   "outputs": [],
   "source": [
    "import os"
   ]
  },
  {
   "cell_type": "code",
   "execution_count": null,
   "metadata": {},
   "outputs": [],
   "source": [
    "from sklearn.svm import LinearSVC, LinearSVR, SVC, SVR"
   ]
  },
  {
   "cell_type": "code",
   "execution_count": null,
   "metadata": {},
   "outputs": [],
   "source": [
    "model_svm = SVC(kernel='rbf', class_weight='balanced')\n"
   ]
  },
  {
   "cell_type": "code",
   "execution_count": null,
   "metadata": {},
   "outputs": [],
   "source": [
    "param_grid = {'C': [1, 5, 10, 50],\n",
    "              'gamma': [0.0001, 0.0005, 0.001, 0.005]}\n",
    "grid = GridSearchCV(model_svm, param_grid, verbose = True)\n",
    "\n",
    "grid.fit(train_X, train_y)"
   ]
  },
  {
   "cell_type": "markdown",
   "metadata": {},
   "source": [
    "# Multinominal Classification"
   ]
  },
  {
   "cell_type": "code",
   "execution_count": 174,
   "metadata": {
    "scrolled": true
   },
   "outputs": [
    {
     "data": {
      "text/html": [
       "<div>\n",
       "<style scoped>\n",
       "    .dataframe tbody tr th:only-of-type {\n",
       "        vertical-align: middle;\n",
       "    }\n",
       "\n",
       "    .dataframe tbody tr th {\n",
       "        vertical-align: top;\n",
       "    }\n",
       "\n",
       "    .dataframe thead th {\n",
       "        text-align: right;\n",
       "    }\n",
       "</style>\n",
       "<table border=\"1\" class=\"dataframe\">\n",
       "  <thead>\n",
       "    <tr style=\"text-align: right;\">\n",
       "      <th></th>\n",
       "      <th>Count</th>\n",
       "      <th>Diff_srv_rate</th>\n",
       "      <th>Dst_bytes</th>\n",
       "      <th>Dst_host_diff_srv_rate</th>\n",
       "      <th>Protocol_type_udp</th>\n",
       "      <th>Same_srv_rate</th>\n",
       "      <th>Serror_rate</th>\n",
       "      <th>Service_other_type</th>\n",
       "      <th>Service_private</th>\n",
       "      <th>Src_bytes</th>\n",
       "      <th>Flag_REJ</th>\n",
       "      <th>Activity</th>\n",
       "    </tr>\n",
       "  </thead>\n",
       "  <tbody>\n",
       "    <tr>\n",
       "      <th>0</th>\n",
       "      <td>229</td>\n",
       "      <td>0.06</td>\n",
       "      <td>0.0</td>\n",
       "      <td>0.06</td>\n",
       "      <td>0</td>\n",
       "      <td>0.04</td>\n",
       "      <td>0.0</td>\n",
       "      <td>0</td>\n",
       "      <td>1</td>\n",
       "      <td>0</td>\n",
       "      <td>1</td>\n",
       "      <td>1</td>\n",
       "    </tr>\n",
       "    <tr>\n",
       "      <th>1</th>\n",
       "      <td>136</td>\n",
       "      <td>0.06</td>\n",
       "      <td>0.0</td>\n",
       "      <td>0.06</td>\n",
       "      <td>0</td>\n",
       "      <td>0.01</td>\n",
       "      <td>0.0</td>\n",
       "      <td>0</td>\n",
       "      <td>1</td>\n",
       "      <td>0</td>\n",
       "      <td>1</td>\n",
       "      <td>1</td>\n",
       "    </tr>\n",
       "    <tr>\n",
       "      <th>2</th>\n",
       "      <td>1</td>\n",
       "      <td>0.00</td>\n",
       "      <td>0.0</td>\n",
       "      <td>0.04</td>\n",
       "      <td>0</td>\n",
       "      <td>1.00</td>\n",
       "      <td>0.0</td>\n",
       "      <td>0</td>\n",
       "      <td>0</td>\n",
       "      <td>12983</td>\n",
       "      <td>0</td>\n",
       "      <td>0</td>\n",
       "    </tr>\n",
       "    <tr>\n",
       "      <th>3</th>\n",
       "      <td>1</td>\n",
       "      <td>0.00</td>\n",
       "      <td>0.0</td>\n",
       "      <td>0.00</td>\n",
       "      <td>0</td>\n",
       "      <td>1.00</td>\n",
       "      <td>0.0</td>\n",
       "      <td>1</td>\n",
       "      <td>0</td>\n",
       "      <td>20</td>\n",
       "      <td>0</td>\n",
       "      <td>1</td>\n",
       "    </tr>\n",
       "    <tr>\n",
       "      <th>4</th>\n",
       "      <td>1</td>\n",
       "      <td>0.00</td>\n",
       "      <td>15.0</td>\n",
       "      <td>0.17</td>\n",
       "      <td>0</td>\n",
       "      <td>1.00</td>\n",
       "      <td>0.0</td>\n",
       "      <td>1</td>\n",
       "      <td>0</td>\n",
       "      <td>0</td>\n",
       "      <td>0</td>\n",
       "      <td>1</td>\n",
       "    </tr>\n",
       "    <tr>\n",
       "      <th>...</th>\n",
       "      <td>...</td>\n",
       "      <td>...</td>\n",
       "      <td>...</td>\n",
       "      <td>...</td>\n",
       "      <td>...</td>\n",
       "      <td>...</td>\n",
       "      <td>...</td>\n",
       "      <td>...</td>\n",
       "      <td>...</td>\n",
       "      <td>...</td>\n",
       "      <td>...</td>\n",
       "      <td>...</td>\n",
       "    </tr>\n",
       "    <tr>\n",
       "      <th>22539</th>\n",
       "      <td>1</td>\n",
       "      <td>0.00</td>\n",
       "      <td>333.0</td>\n",
       "      <td>0.06</td>\n",
       "      <td>0</td>\n",
       "      <td>1.00</td>\n",
       "      <td>0.0</td>\n",
       "      <td>0</td>\n",
       "      <td>0</td>\n",
       "      <td>794</td>\n",
       "      <td>0</td>\n",
       "      <td>0</td>\n",
       "    </tr>\n",
       "    <tr>\n",
       "      <th>22540</th>\n",
       "      <td>2</td>\n",
       "      <td>0.00</td>\n",
       "      <td>938.0</td>\n",
       "      <td>0.00</td>\n",
       "      <td>0</td>\n",
       "      <td>1.00</td>\n",
       "      <td>0.0</td>\n",
       "      <td>0</td>\n",
       "      <td>0</td>\n",
       "      <td>317</td>\n",
       "      <td>0</td>\n",
       "      <td>0</td>\n",
       "    </tr>\n",
       "    <tr>\n",
       "      <th>22541</th>\n",
       "      <td>5</td>\n",
       "      <td>0.00</td>\n",
       "      <td>8314.0</td>\n",
       "      <td>0.00</td>\n",
       "      <td>0</td>\n",
       "      <td>1.00</td>\n",
       "      <td>0.0</td>\n",
       "      <td>0</td>\n",
       "      <td>0</td>\n",
       "      <td>54540</td>\n",
       "      <td>0</td>\n",
       "      <td>1</td>\n",
       "    </tr>\n",
       "    <tr>\n",
       "      <th>22542</th>\n",
       "      <td>4</td>\n",
       "      <td>0.00</td>\n",
       "      <td>42.0</td>\n",
       "      <td>0.01</td>\n",
       "      <td>1</td>\n",
       "      <td>1.00</td>\n",
       "      <td>0.0</td>\n",
       "      <td>0</td>\n",
       "      <td>0</td>\n",
       "      <td>42</td>\n",
       "      <td>0</td>\n",
       "      <td>0</td>\n",
       "    </tr>\n",
       "    <tr>\n",
       "      <th>22543</th>\n",
       "      <td>4</td>\n",
       "      <td>1.00</td>\n",
       "      <td>0.0</td>\n",
       "      <td>0.03</td>\n",
       "      <td>0</td>\n",
       "      <td>0.25</td>\n",
       "      <td>0.0</td>\n",
       "      <td>1</td>\n",
       "      <td>0</td>\n",
       "      <td>0</td>\n",
       "      <td>1</td>\n",
       "      <td>1</td>\n",
       "    </tr>\n",
       "  </tbody>\n",
       "</table>\n",
       "<p>22544 rows × 12 columns</p>\n",
       "</div>"
      ],
      "text/plain": [
       "       Count  Diff_srv_rate  Dst_bytes  Dst_host_diff_srv_rate  Protocol_type_udp  Same_srv_rate  Serror_rate  Service_other_type  Service_private  Src_bytes  Flag_REJ  Activity\n",
       "0        229           0.06        0.0                    0.06                  0           0.04          0.0                   0                1          0         1         1\n",
       "1        136           0.06        0.0                    0.06                  0           0.01          0.0                   0                1          0         1         1\n",
       "2          1           0.00        0.0                    0.04                  0           1.00          0.0                   0                0      12983         0         0\n",
       "3          1           0.00        0.0                    0.00                  0           1.00          0.0                   1                0         20         0         1\n",
       "4          1           0.00       15.0                    0.17                  0           1.00          0.0                   1                0          0         0         1\n",
       "...      ...            ...        ...                     ...                ...            ...          ...                 ...              ...        ...       ...       ...\n",
       "22539      1           0.00      333.0                    0.06                  0           1.00          0.0                   0                0        794         0         0\n",
       "22540      2           0.00      938.0                    0.00                  0           1.00          0.0                   0                0        317         0         0\n",
       "22541      5           0.00     8314.0                    0.00                  0           1.00          0.0                   0                0      54540         0         1\n",
       "22542      4           0.00       42.0                    0.01                  1           1.00          0.0                   0                0         42         0         0\n",
       "22543      4           1.00        0.0                    0.03                  0           0.25          0.0                   1                0          0         1         1\n",
       "\n",
       "[22544 rows x 12 columns]"
      ]
     },
     "execution_count": 174,
     "metadata": {},
     "output_type": "execute_result"
    }
   ],
   "source": [
    "Variable_for_vif"
   ]
  },
  {
   "cell_type": "code",
   "execution_count": 175,
   "metadata": {},
   "outputs": [],
   "source": [
    "Variable_for_vif['Attack'] = y_multi"
   ]
  },
  {
   "cell_type": "code",
   "execution_count": 176,
   "metadata": {},
   "outputs": [
    {
     "data": {
      "text/plain": [
       "normal             9711\n",
       "neptune            4657\n",
       "guess_passwd       1231\n",
       "mscan               996\n",
       "warezmaster         944\n",
       "apache2             737\n",
       "satan               735\n",
       "processtable        685\n",
       "smurf               665\n",
       "back                359\n",
       "snmpguess           331\n",
       "saint               319\n",
       "mailbomb            293\n",
       "snmpgetattack       178\n",
       "portsweep           157\n",
       "ipsweep             141\n",
       "httptunnel          133\n",
       "nmap                 73\n",
       "pod                  41\n",
       "buffer_overflow      20\n",
       "multihop             18\n",
       "named                17\n",
       "ps                   15\n",
       "sendmail             14\n",
       "rootkit              13\n",
       "xterm                13\n",
       "teardrop             12\n",
       "xlock                 9\n",
       "land                  7\n",
       "xsnoop                4\n",
       "ftp_write             3\n",
       "loadmodule            2\n",
       "worm                  2\n",
       "sqlattack             2\n",
       "udpstorm              2\n",
       "perl                  2\n",
       "phf                   2\n",
       "imap                  1\n",
       "Name: Attack, dtype: int64"
      ]
     },
     "execution_count": 176,
     "metadata": {},
     "output_type": "execute_result"
    }
   ],
   "source": [
    "Variable_for_vif.Attack.value_counts()"
   ]
  },
  {
   "cell_type": "code",
   "execution_count": 177,
   "metadata": {},
   "outputs": [],
   "source": [
    "Variable_for_vif=Variable_for_vif.drop('Activity',axis =1)"
   ]
  },
  {
   "cell_type": "code",
   "execution_count": 178,
   "metadata": {},
   "outputs": [],
   "source": [
    "Variable_for_vif['Attack_class'] = np.where(Variable_for_vif.Attack == 'normal','Normal',\n",
    "(np.where((Variable_for_vif.Attack==\"back\")|(Variable_for_vif.Attack==\"land\")|(Variable_for_vif.Attack==\"neptune\")|(Variable_for_vif.Attack==\"pod\")|(Variable_for_vif.Attack==\"smurf\")|(Variable_for_vif.Attack==\"teardrop\")|(Variable_for_vif.Attack==\"apache2\")|(Variable_for_vif.Attack==\"udpstorm\")|(Variable_for_vif.Attack==\"processtable\")|(Variable_for_vif.Attack==\"worm\"),\"DoS\",\n",
    "(np.where((Variable_for_vif.Attack==\"satan\")|(Variable_for_vif.Attack==\"ipsweep\")|(Variable_for_vif.Attack==\"portsweep\")|(Variable_for_vif.Attack==\"mscan\")|(Variable_for_vif.Attack==\"saint\")|(Variable_for_vif.Attack==\"nmap\"),\"Probe\",\n",
    "(np.where((Variable_for_vif.Attack==\"guess_passwd\")|(Variable_for_vif.Attack==\"ftp_write\")|(Variable_for_vif.Attack==\"imap\")|(Variable_for_vif.Attack==\"phf\")|(Variable_for_vif.Attack==\"multihop\")|(Variable_for_vif.Attack==\"warezmaster\")|(Variable_for_vif.Attack==\"warezclient\")|(Variable_for_vif.Attack==\"spy\")|(Variable_for_vif.Attack==\"xlock\")|(Variable_for_vif.Attack==\"xsnoop\")|(Variable_for_vif.Attack==\"snmpguess\")|(Variable_for_vif.Attack==\"snmpgetattack\")|(Variable_for_vif.Attack==\"httptunnel\")|(Variable_for_vif.Attack==\"sendmail\")|(Variable_for_vif.Attack==\"named\"),\"R2L\",\n",
    "(np.where((Variable_for_vif.Attack==\"buffer_overflow\")|(Variable_for_vif.Attack==\"loadmodule\")|(Variable_for_vif.Attack==\"rootkit\")|(Variable_for_vif.Attack==\"perl\")|(Variable_for_vif.Attack==\"sqlattack\")|(Variable_for_vif.Attack==\"xterm\")|(Variable_for_vif.Attack==\"ps\"),\"U2R\",\"Missclassification\")))))))))"
   ]
  },
  {
   "cell_type": "code",
   "execution_count": 179,
   "metadata": {},
   "outputs": [
    {
     "data": {
      "text/plain": [
       "Normal                9711\n",
       "DoS                   7167\n",
       "R2L                   2885\n",
       "Probe                 2421\n",
       "Missclassification     293\n",
       "U2R                     67\n",
       "Name: Attack_class, dtype: int64"
      ]
     },
     "execution_count": 179,
     "metadata": {},
     "output_type": "execute_result"
    }
   ],
   "source": [
    "Variable_for_vif.Attack_class.value_counts()"
   ]
  },
  {
   "cell_type": "code",
   "execution_count": 180,
   "metadata": {},
   "outputs": [],
   "source": [
    "Variable_for_vif=Variable_for_vif.drop('Attack',axis=1)"
   ]
  },
  {
   "cell_type": "code",
   "execution_count": 181,
   "metadata": {},
   "outputs": [
    {
     "data": {
      "text/html": [
       "<div>\n",
       "<style scoped>\n",
       "    .dataframe tbody tr th:only-of-type {\n",
       "        vertical-align: middle;\n",
       "    }\n",
       "\n",
       "    .dataframe tbody tr th {\n",
       "        vertical-align: top;\n",
       "    }\n",
       "\n",
       "    .dataframe thead th {\n",
       "        text-align: right;\n",
       "    }\n",
       "</style>\n",
       "<table border=\"1\" class=\"dataframe\">\n",
       "  <thead>\n",
       "    <tr style=\"text-align: right;\">\n",
       "      <th></th>\n",
       "      <th>Count</th>\n",
       "      <th>Diff_srv_rate</th>\n",
       "      <th>Dst_bytes</th>\n",
       "      <th>Dst_host_diff_srv_rate</th>\n",
       "      <th>Protocol_type_udp</th>\n",
       "      <th>Same_srv_rate</th>\n",
       "      <th>Serror_rate</th>\n",
       "      <th>Service_other_type</th>\n",
       "      <th>Service_private</th>\n",
       "      <th>Src_bytes</th>\n",
       "      <th>Flag_REJ</th>\n",
       "      <th>Attack_class</th>\n",
       "    </tr>\n",
       "  </thead>\n",
       "  <tbody>\n",
       "    <tr>\n",
       "      <th>0</th>\n",
       "      <td>229</td>\n",
       "      <td>0.06</td>\n",
       "      <td>0.0</td>\n",
       "      <td>0.06</td>\n",
       "      <td>0</td>\n",
       "      <td>0.04</td>\n",
       "      <td>0.0</td>\n",
       "      <td>0</td>\n",
       "      <td>1</td>\n",
       "      <td>0</td>\n",
       "      <td>1</td>\n",
       "      <td>DoS</td>\n",
       "    </tr>\n",
       "    <tr>\n",
       "      <th>1</th>\n",
       "      <td>136</td>\n",
       "      <td>0.06</td>\n",
       "      <td>0.0</td>\n",
       "      <td>0.06</td>\n",
       "      <td>0</td>\n",
       "      <td>0.01</td>\n",
       "      <td>0.0</td>\n",
       "      <td>0</td>\n",
       "      <td>1</td>\n",
       "      <td>0</td>\n",
       "      <td>1</td>\n",
       "      <td>DoS</td>\n",
       "    </tr>\n",
       "    <tr>\n",
       "      <th>2</th>\n",
       "      <td>1</td>\n",
       "      <td>0.00</td>\n",
       "      <td>0.0</td>\n",
       "      <td>0.04</td>\n",
       "      <td>0</td>\n",
       "      <td>1.00</td>\n",
       "      <td>0.0</td>\n",
       "      <td>0</td>\n",
       "      <td>0</td>\n",
       "      <td>12983</td>\n",
       "      <td>0</td>\n",
       "      <td>Normal</td>\n",
       "    </tr>\n",
       "    <tr>\n",
       "      <th>3</th>\n",
       "      <td>1</td>\n",
       "      <td>0.00</td>\n",
       "      <td>0.0</td>\n",
       "      <td>0.00</td>\n",
       "      <td>0</td>\n",
       "      <td>1.00</td>\n",
       "      <td>0.0</td>\n",
       "      <td>1</td>\n",
       "      <td>0</td>\n",
       "      <td>20</td>\n",
       "      <td>0</td>\n",
       "      <td>Probe</td>\n",
       "    </tr>\n",
       "    <tr>\n",
       "      <th>4</th>\n",
       "      <td>1</td>\n",
       "      <td>0.00</td>\n",
       "      <td>15.0</td>\n",
       "      <td>0.17</td>\n",
       "      <td>0</td>\n",
       "      <td>1.00</td>\n",
       "      <td>0.0</td>\n",
       "      <td>1</td>\n",
       "      <td>0</td>\n",
       "      <td>0</td>\n",
       "      <td>0</td>\n",
       "      <td>Probe</td>\n",
       "    </tr>\n",
       "    <tr>\n",
       "      <th>...</th>\n",
       "      <td>...</td>\n",
       "      <td>...</td>\n",
       "      <td>...</td>\n",
       "      <td>...</td>\n",
       "      <td>...</td>\n",
       "      <td>...</td>\n",
       "      <td>...</td>\n",
       "      <td>...</td>\n",
       "      <td>...</td>\n",
       "      <td>...</td>\n",
       "      <td>...</td>\n",
       "      <td>...</td>\n",
       "    </tr>\n",
       "    <tr>\n",
       "      <th>22539</th>\n",
       "      <td>1</td>\n",
       "      <td>0.00</td>\n",
       "      <td>333.0</td>\n",
       "      <td>0.06</td>\n",
       "      <td>0</td>\n",
       "      <td>1.00</td>\n",
       "      <td>0.0</td>\n",
       "      <td>0</td>\n",
       "      <td>0</td>\n",
       "      <td>794</td>\n",
       "      <td>0</td>\n",
       "      <td>Normal</td>\n",
       "    </tr>\n",
       "    <tr>\n",
       "      <th>22540</th>\n",
       "      <td>2</td>\n",
       "      <td>0.00</td>\n",
       "      <td>938.0</td>\n",
       "      <td>0.00</td>\n",
       "      <td>0</td>\n",
       "      <td>1.00</td>\n",
       "      <td>0.0</td>\n",
       "      <td>0</td>\n",
       "      <td>0</td>\n",
       "      <td>317</td>\n",
       "      <td>0</td>\n",
       "      <td>Normal</td>\n",
       "    </tr>\n",
       "    <tr>\n",
       "      <th>22541</th>\n",
       "      <td>5</td>\n",
       "      <td>0.00</td>\n",
       "      <td>8314.0</td>\n",
       "      <td>0.00</td>\n",
       "      <td>0</td>\n",
       "      <td>1.00</td>\n",
       "      <td>0.0</td>\n",
       "      <td>0</td>\n",
       "      <td>0</td>\n",
       "      <td>54540</td>\n",
       "      <td>0</td>\n",
       "      <td>DoS</td>\n",
       "    </tr>\n",
       "    <tr>\n",
       "      <th>22542</th>\n",
       "      <td>4</td>\n",
       "      <td>0.00</td>\n",
       "      <td>42.0</td>\n",
       "      <td>0.01</td>\n",
       "      <td>1</td>\n",
       "      <td>1.00</td>\n",
       "      <td>0.0</td>\n",
       "      <td>0</td>\n",
       "      <td>0</td>\n",
       "      <td>42</td>\n",
       "      <td>0</td>\n",
       "      <td>Normal</td>\n",
       "    </tr>\n",
       "    <tr>\n",
       "      <th>22543</th>\n",
       "      <td>4</td>\n",
       "      <td>1.00</td>\n",
       "      <td>0.0</td>\n",
       "      <td>0.03</td>\n",
       "      <td>0</td>\n",
       "      <td>0.25</td>\n",
       "      <td>0.0</td>\n",
       "      <td>1</td>\n",
       "      <td>0</td>\n",
       "      <td>0</td>\n",
       "      <td>1</td>\n",
       "      <td>Probe</td>\n",
       "    </tr>\n",
       "  </tbody>\n",
       "</table>\n",
       "<p>22544 rows × 12 columns</p>\n",
       "</div>"
      ],
      "text/plain": [
       "       Count  Diff_srv_rate  Dst_bytes  Dst_host_diff_srv_rate  Protocol_type_udp  Same_srv_rate  Serror_rate  Service_other_type  Service_private  Src_bytes  Flag_REJ Attack_class\n",
       "0        229           0.06        0.0                    0.06                  0           0.04          0.0                   0                1          0         1          DoS\n",
       "1        136           0.06        0.0                    0.06                  0           0.01          0.0                   0                1          0         1          DoS\n",
       "2          1           0.00        0.0                    0.04                  0           1.00          0.0                   0                0      12983         0       Normal\n",
       "3          1           0.00        0.0                    0.00                  0           1.00          0.0                   1                0         20         0        Probe\n",
       "4          1           0.00       15.0                    0.17                  0           1.00          0.0                   1                0          0         0        Probe\n",
       "...      ...            ...        ...                     ...                ...            ...          ...                 ...              ...        ...       ...          ...\n",
       "22539      1           0.00      333.0                    0.06                  0           1.00          0.0                   0                0        794         0       Normal\n",
       "22540      2           0.00      938.0                    0.00                  0           1.00          0.0                   0                0        317         0       Normal\n",
       "22541      5           0.00     8314.0                    0.00                  0           1.00          0.0                   0                0      54540         0          DoS\n",
       "22542      4           0.00       42.0                    0.01                  1           1.00          0.0                   0                0         42         0       Normal\n",
       "22543      4           1.00        0.0                    0.03                  0           0.25          0.0                   1                0          0         1        Probe\n",
       "\n",
       "[22544 rows x 12 columns]"
      ]
     },
     "execution_count": 181,
     "metadata": {},
     "output_type": "execute_result"
    }
   ],
   "source": [
    "Variable_for_vif"
   ]
  },
  {
   "cell_type": "code",
   "execution_count": 182,
   "metadata": {},
   "outputs": [],
   "source": [
    "X = Variable_for_vif.drop('Attack_class',axis = 1)\n",
    "Y = Variable_for_vif.Attack_class"
   ]
  },
  {
   "cell_type": "code",
   "execution_count": 183,
   "metadata": {},
   "outputs": [],
   "source": [
    "train_X, test_x, train_Y, test_y =  train_test_split(X,Y, test_size = 0.3,random_state = 252)"
   ]
  },
  {
   "cell_type": "code",
   "execution_count": 184,
   "metadata": {},
   "outputs": [],
   "source": [
    "sc1 = StandardScaler()\n",
    "Knn_data = sc1.fit_transform(X)\n",
    "Knn_data = pd.DataFrame(Knn_data)\n",
    "Knn_data.columns = X.columns"
   ]
  },
  {
   "cell_type": "code",
   "execution_count": 185,
   "metadata": {},
   "outputs": [],
   "source": [
    "train_knn_X, test_knn_X, train_knn_y, test_knn_y =  train_test_split(Knn_data,Y, test_size = 0.3,random_state = 252)"
   ]
  },
  {
   "cell_type": "code",
   "execution_count": 202,
   "metadata": {},
   "outputs": [
    {
     "name": "stdout",
     "output_type": "stream",
     "text": [
      "Fitting 2 folds for each of 8 candidates, totalling 16 fits\n"
     ]
    },
    {
     "name": "stderr",
     "output_type": "stream",
     "text": [
      "[Parallel(n_jobs=-1)]: Using backend LokyBackend with 4 concurrent workers.\n",
      "[Parallel(n_jobs=-1)]: Done  16 out of  16 | elapsed:  4.7min finished\n"
     ]
    }
   ],
   "source": [
    "param_grid_knn = {\"n_neighbors\":[300,400,500,600,700,800,900,1000],\n",
    "                 \"weights\":['distance']}\n",
    "model_knn = GridSearchCV(KNeighborsClassifier(),param_grid = param_grid_knn, cv = 2, scoring = 'f1_weighted',verbose = True, n_jobs=-1)\n",
    "model_knn = model_knn.fit(train_knn_X,train_knn_y)"
   ]
  },
  {
   "cell_type": "code",
   "execution_count": 204,
   "metadata": {},
   "outputs": [
    {
     "data": {
      "text/plain": [
       "{'n_neighbors': 300, 'weights': 'distance'}"
      ]
     },
     "execution_count": 204,
     "metadata": {},
     "output_type": "execute_result"
    }
   ],
   "source": [
    "model_knn.best_params_"
   ]
  },
  {
   "cell_type": "code",
   "execution_count": 186,
   "metadata": {},
   "outputs": [],
   "source": [
    "model_knn = KNeighborsClassifier(n_neighbors = 300,weights=\"distance\").fit(train_knn_X,train_knn_y)"
   ]
  },
  {
   "cell_type": "code",
   "execution_count": 187,
   "metadata": {},
   "outputs": [],
   "source": [
    "knn_predict_multi = model_knn.predict(train_knn_X)"
   ]
  },
  {
   "cell_type": "code",
   "execution_count": 188,
   "metadata": {},
   "outputs": [
    {
     "name": "stdout",
     "output_type": "stream",
     "text": [
      "0.990874524714829\n"
     ]
    }
   ],
   "source": [
    "accuracy_knn = metrics.accuracy_score(train_knn_y,knn_predict_multi)\n",
    "print(accuracy_knn)"
   ]
  },
  {
   "cell_type": "code",
   "execution_count": 189,
   "metadata": {
    "scrolled": true
   },
   "outputs": [
    {
     "name": "stdout",
     "output_type": "stream",
     "text": [
      "                    precision    recall  f1-score   support\n",
      "\n",
      "               DoS       0.99      1.00      1.00      4999\n",
      "Missclassification       1.00      1.00      1.00       201\n",
      "            Normal       1.00      0.99      0.99      6796\n",
      "             Probe       0.98      0.98      0.98      1687\n",
      "               R2L       0.98      0.97      0.98      2053\n",
      "               U2R       1.00      1.00      1.00        44\n",
      "\n",
      "          accuracy                           0.99     15780\n",
      "         macro avg       0.99      0.99      0.99     15780\n",
      "      weighted avg       0.99      0.99      0.99     15780\n",
      "\n"
     ]
    }
   ],
   "source": [
    "knn_cm = metrics.classification_report(train_knn_y,knn_predict_multi)\n",
    "print(knn_cm)"
   ]
  },
  {
   "cell_type": "code",
   "execution_count": 190,
   "metadata": {},
   "outputs": [
    {
     "data": {
      "text/plain": [
       "array([[4987,    0,    0,   12,    0,    0],\n",
       "       [   0,  201,    0,    0,    0,    0],\n",
       "       [   1,    0, 6757,    0,   38,    0],\n",
       "       [  29,    0,    0, 1646,   12,    0],\n",
       "       [   0,    0,   33,   19, 2001,    0],\n",
       "       [   0,    0,    0,    0,    0,   44]])"
      ]
     },
     "execution_count": 190,
     "metadata": {},
     "output_type": "execute_result"
    }
   ],
   "source": [
    "KNN_MULTI_CM_Train = metrics.confusion_matrix(train_knn_y,knn_predict_multi)\n",
    "KNN_MULTI_CM_Train"
   ]
  },
  {
   "cell_type": "code",
   "execution_count": 194,
   "metadata": {},
   "outputs": [],
   "source": [
    "model_knn_test = KNeighborsClassifier(n_neighbors = 300,weights=\"distance\").fit(test_knn_X,test_knn_y)"
   ]
  },
  {
   "cell_type": "code",
   "execution_count": 195,
   "metadata": {},
   "outputs": [],
   "source": [
    "knn_pred = model_knn_test.predict(test_knn_X)"
   ]
  },
  {
   "cell_type": "code",
   "execution_count": 196,
   "metadata": {},
   "outputs": [
    {
     "name": "stdout",
     "output_type": "stream",
     "text": [
      "                    precision    recall  f1-score   support\n",
      "\n",
      "               DoS       1.00      1.00      1.00      2168\n",
      "Missclassification       1.00      1.00      1.00        92\n",
      "            Normal       1.00      1.00      1.00      2915\n",
      "             Probe       0.99      0.98      0.98       734\n",
      "               R2L       0.98      0.98      0.98       832\n",
      "               U2R       1.00      1.00      1.00        23\n",
      "\n",
      "          accuracy                           0.99      6764\n",
      "         macro avg       0.99      0.99      0.99      6764\n",
      "      weighted avg       0.99      0.99      0.99      6764\n",
      "\n"
     ]
    }
   ],
   "source": [
    "print(metrics.classification_report(test_knn_y,knn_pred))"
   ]
  },
  {
   "cell_type": "code",
   "execution_count": 197,
   "metadata": {},
   "outputs": [
    {
     "data": {
      "text/plain": [
       "array([[2167,    0,    0,    1,    0,    0],\n",
       "       [   0,   92,    0,    0,    0,    0],\n",
       "       [   0,    0, 2905,    0,   10,    0],\n",
       "       [  10,    0,    0,  719,    5,    0],\n",
       "       [   0,    0,    9,    6,  817,    0],\n",
       "       [   0,    0,    0,    0,    0,   23]])"
      ]
     },
     "execution_count": 197,
     "metadata": {},
     "output_type": "execute_result"
    }
   ],
   "source": [
    "KNN_MULTI_CM_Test = metrics.confusion_matrix(test_knn_y,knn_pred)\n",
    "KNN_MULTI_CM_Test"
   ]
  },
  {
   "cell_type": "code",
   "execution_count": 198,
   "metadata": {},
   "outputs": [],
   "source": [
    "from sklearn.tree import DecisionTreeClassifier"
   ]
  },
  {
   "cell_type": "code",
   "execution_count": 181,
   "metadata": {},
   "outputs": [
    {
     "name": "stdout",
     "output_type": "stream",
     "text": [
      "Fitting 2 folds for each of 24 candidates, totalling 48 fits\n"
     ]
    },
    {
     "name": "stderr",
     "output_type": "stream",
     "text": [
      "[Parallel(n_jobs=-1)]: Using backend LokyBackend with 4 concurrent workers.\n",
      "[Parallel(n_jobs=-1)]: Done  48 out of  48 | elapsed:   21.2s finished\n"
     ]
    }
   ],
   "source": [
    "param_grid_dt = {'max_depth': [3,4,5,6], 'max_leaf_nodes': [5,6,7,8,9,10]}\n",
    "model_dt = GridSearchCV(DecisionTreeClassifier(),param_grid= param_grid_dt,cv = 2, scoring = 'f1_weighted',verbose = True, n_jobs=-1)\n",
    "model_dt = model_dt.fit(train_X,train_Y)"
   ]
  },
  {
   "cell_type": "code",
   "execution_count": 182,
   "metadata": {},
   "outputs": [
    {
     "data": {
      "text/plain": [
       "{'max_depth': 4, 'max_leaf_nodes': 10}"
      ]
     },
     "execution_count": 182,
     "metadata": {},
     "output_type": "execute_result"
    }
   ],
   "source": [
    "model_dt.best_params_"
   ]
  },
  {
   "cell_type": "code",
   "execution_count": 199,
   "metadata": {},
   "outputs": [],
   "source": [
    "model_dt = DecisionTreeClassifier(max_depth = 4, max_leaf_nodes = 10).fit(train_X,train_Y)"
   ]
  },
  {
   "cell_type": "code",
   "execution_count": 200,
   "metadata": {},
   "outputs": [],
   "source": [
    "dt_prediction = model_dt.predict(train_X)"
   ]
  },
  {
   "cell_type": "code",
   "execution_count": 201,
   "metadata": {},
   "outputs": [
    {
     "name": "stdout",
     "output_type": "stream",
     "text": [
      "                    precision    recall  f1-score   support\n",
      "\n",
      "               DoS       0.98      0.96      0.97      4999\n",
      "Missclassification       0.75      1.00      0.86       201\n",
      "            Normal       0.97      0.89      0.93      6796\n",
      "             Probe       0.86      0.64      0.73      1687\n",
      "               R2L       0.60      0.92      0.73      2053\n",
      "               U2R       0.00      0.00      0.00        44\n",
      "\n",
      "          accuracy                           0.89     15780\n",
      "         macro avg       0.69      0.74      0.70     15780\n",
      "      weighted avg       0.91      0.89      0.89     15780\n",
      "\n"
     ]
    }
   ],
   "source": [
    "dt_cm = metrics.classification_report(train_Y,dt_prediction)\n",
    "print(dt_cm)"
   ]
  },
  {
   "cell_type": "code",
   "execution_count": 202,
   "metadata": {},
   "outputs": [
    {
     "data": {
      "text/plain": [
       "array([[4819,    0,    7,   19,  154,    0],\n",
       "       [   0,  201,    0,    0,    0,    0],\n",
       "       [  67,   63, 6054,  132,  480,    0],\n",
       "       [  13,    0,   13, 1075,  586,    0],\n",
       "       [   5,    5,  134,   19, 1890,    0],\n",
       "       [   0,    0,    3,    0,   41,    0]])"
      ]
     },
     "execution_count": 202,
     "metadata": {},
     "output_type": "execute_result"
    }
   ],
   "source": [
    "DT_MULTI_CM_Train = metrics.confusion_matrix(train_Y,dt_prediction)\n",
    "DT_MULTI_CM_Train"
   ]
  },
  {
   "cell_type": "code",
   "execution_count": 203,
   "metadata": {},
   "outputs": [],
   "source": [
    "dt_test = DecisionTreeClassifier(max_depth = 4, max_leaf_nodes = 10).fit(test_x,test_y)"
   ]
  },
  {
   "cell_type": "code",
   "execution_count": 204,
   "metadata": {},
   "outputs": [],
   "source": [
    "dt_test_prediction = dt_test.predict(test_x)"
   ]
  },
  {
   "cell_type": "code",
   "execution_count": 205,
   "metadata": {
    "scrolled": true
   },
   "outputs": [
    {
     "name": "stdout",
     "output_type": "stream",
     "text": [
      "                    precision    recall  f1-score   support\n",
      "\n",
      "               DoS       0.99      0.96      0.98      2168\n",
      "Missclassification       0.73      1.00      0.84        92\n",
      "            Normal       0.97      0.88      0.92      2915\n",
      "             Probe       0.88      0.69      0.77       734\n",
      "               R2L       0.57      0.90      0.70       832\n",
      "               U2R       0.00      0.00      0.00        23\n",
      "\n",
      "          accuracy                           0.89      6764\n",
      "         macro avg       0.69      0.74      0.70      6764\n",
      "      weighted avg       0.91      0.89      0.89      6764\n",
      "\n"
     ]
    }
   ],
   "source": [
    "print(metrics.classification_report(test_y,dt_test_prediction))"
   ]
  },
  {
   "cell_type": "code",
   "execution_count": 206,
   "metadata": {},
   "outputs": [
    {
     "data": {
      "text/plain": [
       "array([[2092,    0,    4,    1,   71,    0],\n",
       "       [   0,   92,    0,    0,    0,    0],\n",
       "       [  23,   33, 2562,   57,  240,    0],\n",
       "       [   4,    0,    2,  504,  224,    0],\n",
       "       [   1,    1,   67,   11,  752,    0],\n",
       "       [   0,    0,    2,    0,   21,    0]])"
      ]
     },
     "execution_count": 206,
     "metadata": {},
     "output_type": "execute_result"
    }
   ],
   "source": [
    "DT_MULTI_CM_Test = metrics.confusion_matrix(test_y,dt_test_prediction)\n",
    "DT_MULTI_CM_Test"
   ]
  },
  {
   "cell_type": "markdown",
   "metadata": {},
   "source": [
    "baging"
   ]
  },
  {
   "cell_type": "code",
   "execution_count": 207,
   "metadata": {},
   "outputs": [],
   "source": [
    "from sklearn.ensemble import BaggingClassifier"
   ]
  },
  {
   "cell_type": "code",
   "execution_count": 223,
   "metadata": {},
   "outputs": [
    {
     "name": "stdout",
     "output_type": "stream",
     "text": [
      "Fitting 2 folds for each of 10 candidates, totalling 20 fits\n"
     ]
    },
    {
     "name": "stderr",
     "output_type": "stream",
     "text": [
      "[Parallel(n_jobs=-1)]: Using backend LokyBackend with 4 concurrent workers.\n",
      "[Parallel(n_jobs=-1)]: Done  20 out of  20 | elapsed:  9.7min finished\n"
     ]
    }
   ],
   "source": [
    "param_bagging = {\"n_estimators\":[300,400,500,600,700,800,900,1000,1100,1200]}\n",
    "model_bagging = GridSearchCV(BaggingClassifier(),param_grid = param_bagging,cv = 2,verbose = True, n_jobs =-1)\n",
    "model_bagging = model_bagging.fit(train_X,train_Y)"
   ]
  },
  {
   "cell_type": "code",
   "execution_count": 224,
   "metadata": {},
   "outputs": [
    {
     "data": {
      "text/plain": [
       "{'n_estimators': 1000}"
      ]
     },
     "execution_count": 224,
     "metadata": {},
     "output_type": "execute_result"
    }
   ],
   "source": [
    "model_bagging.best_params_"
   ]
  },
  {
   "cell_type": "code",
   "execution_count": 208,
   "metadata": {},
   "outputs": [
    {
     "name": "stdout",
     "output_type": "stream",
     "text": [
      "                    precision    recall  f1-score   support\n",
      "\n",
      "               DoS       0.99      1.00      1.00      4999\n",
      "Missclassification       1.00      1.00      1.00       201\n",
      "            Normal       1.00      0.99      0.99      6796\n",
      "             Probe       0.98      0.98      0.98      1687\n",
      "               R2L       0.97      0.98      0.98      2053\n",
      "               U2R       1.00      1.00      1.00        44\n",
      "\n",
      "          accuracy                           0.99     15780\n",
      "         macro avg       0.99      0.99      0.99     15780\n",
      "      weighted avg       0.99      0.99      0.99     15780\n",
      "\n"
     ]
    }
   ],
   "source": [
    "bagging_model_train = BaggingClassifier(n_estimators = 1000).fit(train_X,train_Y)\n",
    "\n",
    "predict_bagging = bagging_model_train.predict(train_X)\n",
    "\n",
    "print(metrics.classification_report(train_Y,predict_bagging))"
   ]
  },
  {
   "cell_type": "code",
   "execution_count": 209,
   "metadata": {},
   "outputs": [
    {
     "data": {
      "text/plain": [
       "array([[4986,    0,    0,   13,    0,    0],\n",
       "       [   0,  201,    0,    0,    0,    0],\n",
       "       [   1,    0, 6746,    0,   49,    0],\n",
       "       [  28,    0,    0, 1647,   12,    0],\n",
       "       [   0,    0,   22,   19, 2012,    0],\n",
       "       [   0,    0,    0,    0,    0,   44]])"
      ]
     },
     "execution_count": 209,
     "metadata": {},
     "output_type": "execute_result"
    }
   ],
   "source": [
    "Bagging_MULTI_CM_Train = metrics.confusion_matrix(train_Y,predict_bagging)\n",
    "Bagging_MULTI_CM_Train"
   ]
  },
  {
   "cell_type": "code",
   "execution_count": 210,
   "metadata": {},
   "outputs": [
    {
     "name": "stdout",
     "output_type": "stream",
     "text": [
      "                    precision    recall  f1-score   support\n",
      "\n",
      "               DoS       1.00      1.00      1.00      2168\n",
      "Missclassification       1.00      1.00      1.00        92\n",
      "            Normal       1.00      1.00      1.00      2915\n",
      "             Probe       0.99      0.98      0.98       734\n",
      "               R2L       0.98      0.99      0.98       832\n",
      "               U2R       1.00      1.00      1.00        23\n",
      "\n",
      "          accuracy                           0.99      6764\n",
      "         macro avg       0.99      0.99      0.99      6764\n",
      "      weighted avg       0.99      0.99      0.99      6764\n",
      "\n"
     ]
    }
   ],
   "source": [
    "bagging_model_test = BaggingClassifier(n_estimators = 1000).fit(test_x,test_y)\n",
    "\n",
    "bagging_predict_test = bagging_model_test.predict(test_x)\n",
    "\n",
    "print(metrics.classification_report(test_y,bagging_predict_test))"
   ]
  },
  {
   "cell_type": "code",
   "execution_count": 211,
   "metadata": {},
   "outputs": [
    {
     "data": {
      "text/plain": [
       "array([[2167,    0,    0,    1,    0,    0],\n",
       "       [   0,   92,    0,    0,    0,    0],\n",
       "       [   0,    0, 2903,    0,   12,    0],\n",
       "       [  10,    0,    0,  717,    7,    0],\n",
       "       [   0,    0,    7,    4,  821,    0],\n",
       "       [   0,    0,    0,    0,    0,   23]])"
      ]
     },
     "execution_count": 211,
     "metadata": {},
     "output_type": "execute_result"
    }
   ],
   "source": [
    "Bagging_MULTI_CM_Test = metrics.confusion_matrix(test_y,bagging_predict_test)\n",
    "Bagging_MULTI_CM_Test"
   ]
  },
  {
   "cell_type": "code",
   "execution_count": 212,
   "metadata": {},
   "outputs": [],
   "source": [
    "from sklearn.ensemble import RandomForestClassifier"
   ]
  },
  {
   "cell_type": "code",
   "execution_count": 227,
   "metadata": {
    "scrolled": true
   },
   "outputs": [
    {
     "name": "stdout",
     "output_type": "stream",
     "text": [
      "Fitting 5 folds for each of 96 candidates, totalling 480 fits\n"
     ]
    },
    {
     "name": "stderr",
     "output_type": "stream",
     "text": [
      "[Parallel(n_jobs=-1)]: Using backend LokyBackend with 4 concurrent workers.\n",
      "[Parallel(n_jobs=-1)]: Done  42 tasks      | elapsed:  3.9min\n",
      "[Parallel(n_jobs=-1)]: Done 192 tasks      | elapsed: 23.5min\n",
      "[Parallel(n_jobs=-1)]: Done 442 tasks      | elapsed: 67.1min\n",
      "[Parallel(n_jobs=-1)]: Done 480 out of 480 | elapsed: 76.0min finished\n"
     ]
    }
   ],
   "source": [
    "param_rf = {'n_estimators':[100,200,300,400,500,600],\"max_depth\":[3,4,5,6],\"max_features\" :[6,7,8,9]}\n",
    "model_rf = GridSearchCV(RandomForestClassifier(),param_grid = param_rf, verbose = True,n_jobs = -1)\n",
    "modelrf = model_rf.fit(train_X,train_Y)"
   ]
  },
  {
   "cell_type": "code",
   "execution_count": 228,
   "metadata": {},
   "outputs": [
    {
     "data": {
      "text/plain": [
       "{'max_depth': 6, 'max_features': 6, 'n_estimators': 200}"
      ]
     },
     "execution_count": 228,
     "metadata": {},
     "output_type": "execute_result"
    }
   ],
   "source": [
    "modelrf.best_params_"
   ]
  },
  {
   "cell_type": "code",
   "execution_count": 213,
   "metadata": {},
   "outputs": [
    {
     "name": "stdout",
     "output_type": "stream",
     "text": [
      "                    precision    recall  f1-score   support\n",
      "\n",
      "               DoS       0.98      0.99      0.99      4999\n",
      "Missclassification       1.00      1.00      1.00       201\n",
      "            Normal       0.97      0.98      0.97      6796\n",
      "             Probe       0.91      0.95      0.93      1687\n",
      "               R2L       0.95      0.87      0.91      2053\n",
      "               U2R       1.00      0.07      0.13        44\n",
      "\n",
      "          accuracy                           0.96     15780\n",
      "         macro avg       0.97      0.81      0.82     15780\n",
      "      weighted avg       0.96      0.96      0.96     15780\n",
      "\n"
     ]
    }
   ],
   "source": [
    "model_rf_train = RandomForestClassifier(n_estimators=200, max_depth = 6, max_features = 6).fit(train_X,train_Y)\n",
    "rf_predict_train = model_rf_train.predict(train_X)\n",
    "\n",
    "print(metrics.classification_report(train_Y,rf_predict_train))"
   ]
  },
  {
   "cell_type": "code",
   "execution_count": 214,
   "metadata": {},
   "outputs": [
    {
     "data": {
      "text/plain": [
       "array([[4959,    0,   12,   20,    8,    0],\n",
       "       [   0,  201,    0,    0,    0,    0],\n",
       "       [  33,    0, 6629,   59,   75,    0],\n",
       "       [  66,    0,   15, 1606,    0,    0],\n",
       "       [   0,    0,  174,   89, 1790,    0],\n",
       "       [   0,    0,   32,    0,    9,    3]])"
      ]
     },
     "execution_count": 214,
     "metadata": {},
     "output_type": "execute_result"
    }
   ],
   "source": [
    "RF_MULTI_CM_Train = metrics.confusion_matrix(train_Y,rf_predict_train)\n",
    "RF_MULTI_CM_Train"
   ]
  },
  {
   "cell_type": "code",
   "execution_count": 215,
   "metadata": {},
   "outputs": [
    {
     "name": "stdout",
     "output_type": "stream",
     "text": [
      "                    precision    recall  f1-score   support\n",
      "\n",
      "               DoS       0.99      0.99      0.99      2168\n",
      "Missclassification       1.00      1.00      1.00        92\n",
      "            Normal       0.97      0.98      0.98      2915\n",
      "             Probe       0.92      0.96      0.94       734\n",
      "               R2L       0.95      0.90      0.92       832\n",
      "               U2R       0.85      0.48      0.61        23\n",
      "\n",
      "          accuracy                           0.97      6764\n",
      "         macro avg       0.95      0.88      0.91      6764\n",
      "      weighted avg       0.97      0.97      0.97      6764\n",
      "\n"
     ]
    }
   ],
   "source": [
    "model_rf_test = RandomForestClassifier(n_estimators=500, max_depth = 6, max_features = 6).fit(test_x,test_y)\n",
    "\n",
    "rf_predict_test = model_rf_test.predict(test_x)\n",
    "\n",
    "print(metrics.classification_report(test_y,rf_predict_test))"
   ]
  },
  {
   "cell_type": "code",
   "execution_count": 216,
   "metadata": {},
   "outputs": [
    {
     "data": {
      "text/plain": [
       "array([[2147,    0,   18,    3,    0,    0],\n",
       "       [   0,   92,    0,    0,    0,    0],\n",
       "       [   7,    0, 2851,   23,   33,    1],\n",
       "       [  23,    0,    5,  705,    1,    0],\n",
       "       [   0,    0,   53,   32,  746,    1],\n",
       "       [   0,    0,    6,    0,    6,   11]])"
      ]
     },
     "execution_count": 216,
     "metadata": {},
     "output_type": "execute_result"
    }
   ],
   "source": [
    "RF_MULTI_CM_Test = metrics.confusion_matrix(test_y,rf_predict_test)\n",
    "RF_MULTI_CM_Test"
   ]
  },
  {
   "cell_type": "code",
   "execution_count": 217,
   "metadata": {},
   "outputs": [],
   "source": [
    "from sklearn.ensemble import AdaBoostClassifier, GradientBoostingClassifier"
   ]
  },
  {
   "cell_type": "code",
   "execution_count": 231,
   "metadata": {},
   "outputs": [
    {
     "name": "stdout",
     "output_type": "stream",
     "text": [
      "Fitting 2 folds for each of 30 candidates, totalling 60 fits\n"
     ]
    },
    {
     "name": "stderr",
     "output_type": "stream",
     "text": [
      "[Parallel(n_jobs=-1)]: Using backend LokyBackend with 4 concurrent workers.\n",
      "[Parallel(n_jobs=-1)]: Done  42 tasks      | elapsed: 35.1min\n",
      "[Parallel(n_jobs=-1)]: Done  60 out of  60 | elapsed: 50.7min finished\n"
     ]
    }
   ],
   "source": [
    "param_ada = {\"n_estimators\":[100,200,400,600,800],\n",
    "            \"learning_rate\":[10 ** x for x in range(-3,3)]}\n",
    "\n",
    "gridsearch_ada = GridSearchCV(GradientBoostingClassifier(),param_grid = param_ada,n_jobs = -1,cv = 2, verbose = True)\n",
    "model_ada = gridsearch_ada.fit(train_X,train_Y)"
   ]
  },
  {
   "cell_type": "code",
   "execution_count": 232,
   "metadata": {},
   "outputs": [
    {
     "data": {
      "text/plain": [
       "{'learning_rate': 0.1, 'n_estimators': 100}"
      ]
     },
     "execution_count": 232,
     "metadata": {},
     "output_type": "execute_result"
    }
   ],
   "source": [
    "model_ada.best_params_"
   ]
  },
  {
   "cell_type": "code",
   "execution_count": 218,
   "metadata": {},
   "outputs": [
    {
     "name": "stdout",
     "output_type": "stream",
     "text": [
      "                    precision    recall  f1-score   support\n",
      "\n",
      "               DoS       0.00      0.00      0.00      4999\n",
      "Missclassification       1.00      1.00      1.00       201\n",
      "            Normal       0.58      0.98      0.73      6796\n",
      "             Probe       0.00      0.00      0.00      1687\n",
      "               R2L       0.24      0.47      0.32      2053\n",
      "               U2R       0.00      0.00      0.00        44\n",
      "\n",
      "          accuracy                           0.50     15780\n",
      "         macro avg       0.30      0.41      0.34     15780\n",
      "      weighted avg       0.29      0.50      0.37     15780\n",
      "\n"
     ]
    }
   ],
   "source": [
    "ada_train = AdaBoostClassifier(n_estimators = 100 , learning_rate = 0.1).fit(train_X,train_Y)\n",
    "\n",
    "ada_train_predict = ada_train.predict(train_X)\n",
    "\n",
    "print(metrics.classification_report(train_Y,ada_train_predict))"
   ]
  },
  {
   "cell_type": "code",
   "execution_count": 219,
   "metadata": {},
   "outputs": [
    {
     "data": {
      "text/plain": [
       "array([[   0,    0, 3394,    0, 1605,    0],\n",
       "       [   0,  201,    0,    0,    0,    0],\n",
       "       [  14,    0, 6655,    0,  127,    0],\n",
       "       [   0,    0,  377,    0, 1310,    0],\n",
       "       [   0,    0, 1088,    0,  965,    0],\n",
       "       [   0,    0,   43,    0,    1,    0]])"
      ]
     },
     "execution_count": 219,
     "metadata": {},
     "output_type": "execute_result"
    }
   ],
   "source": [
    "ADA_MULTI_CM_Train = metrics.confusion_matrix(train_Y,ada_train_predict)\n",
    "ADA_MULTI_CM_Train"
   ]
  },
  {
   "cell_type": "code",
   "execution_count": 220,
   "metadata": {},
   "outputs": [
    {
     "name": "stdout",
     "output_type": "stream",
     "text": [
      "                    precision    recall  f1-score   support\n",
      "\n",
      "               DoS       0.95      0.68      0.79      2168\n",
      "Missclassification       1.00      0.99      0.99        92\n",
      "            Normal       0.72      0.96      0.82      2915\n",
      "             Probe       0.99      0.26      0.41       734\n",
      "               R2L       0.36      0.46      0.40       832\n",
      "               U2R       0.00      0.00      0.00        23\n",
      "\n",
      "          accuracy                           0.73      6764\n",
      "         macro avg       0.67      0.56      0.57      6764\n",
      "      weighted avg       0.78      0.73      0.72      6764\n",
      "\n"
     ]
    }
   ],
   "source": [
    "ada_test = AdaBoostClassifier(n_estimators = 100 , learning_rate = 0.1).fit(test_x,test_y)\n",
    "\n",
    "ada_test_predict = ada_test.predict(test_x)\n",
    "\n",
    "print(metrics.classification_report(test_y,ada_test_predict))"
   ]
  },
  {
   "cell_type": "code",
   "execution_count": 221,
   "metadata": {},
   "outputs": [
    {
     "data": {
      "text/plain": [
       "array([[1466,    0,  497,    0,  205,    0],\n",
       "       [   0,   91,    1,    0,    0,    0],\n",
       "       [  33,    0, 2805,    2,   75,    0],\n",
       "       [  34,    0,  118,  192,  390,    0],\n",
       "       [   5,    0,  446,    0,  381,    0],\n",
       "       [   0,    0,   22,    0,    1,    0]])"
      ]
     },
     "execution_count": 221,
     "metadata": {},
     "output_type": "execute_result"
    }
   ],
   "source": [
    "ADA_MULTI_CM_Test = metrics.confusion_matrix(test_y,ada_test_predict)\n",
    "ADA_MULTI_CM_Test"
   ]
  },
  {
   "cell_type": "code",
   "execution_count": 235,
   "metadata": {},
   "outputs": [
    {
     "name": "stdout",
     "output_type": "stream",
     "text": [
      "Fitting 2 folds for each of 30 candidates, totalling 60 fits\n"
     ]
    },
    {
     "name": "stderr",
     "output_type": "stream",
     "text": [
      "[Parallel(n_jobs=-1)]: Using backend LokyBackend with 4 concurrent workers.\n",
      "[Parallel(n_jobs=-1)]: Done  42 tasks      | elapsed: 35.1min\n",
      "[Parallel(n_jobs=-1)]: Done  60 out of  60 | elapsed: 51.3min finished\n"
     ]
    }
   ],
   "source": [
    "model_gbm = GridSearchCV(GradientBoostingClassifier(),param_grid = param_ada,cv = 2, verbose = True, n_jobs =-1)\n",
    "model_train = model_gbm.fit(train_X,train_Y)"
   ]
  },
  {
   "cell_type": "code",
   "execution_count": 236,
   "metadata": {},
   "outputs": [
    {
     "data": {
      "text/plain": [
       "{'learning_rate': 0.1, 'n_estimators': 100}"
      ]
     },
     "execution_count": 236,
     "metadata": {},
     "output_type": "execute_result"
    }
   ],
   "source": [
    "model_train.best_params_"
   ]
  },
  {
   "cell_type": "code",
   "execution_count": 222,
   "metadata": {},
   "outputs": [
    {
     "name": "stdout",
     "output_type": "stream",
     "text": [
      "                    precision    recall  f1-score   support\n",
      "\n",
      "               DoS       0.99      0.99      0.99      4999\n",
      "Missclassification       1.00      1.00      1.00       201\n",
      "            Normal       0.98      0.98      0.98      6796\n",
      "             Probe       0.95      0.96      0.96      1687\n",
      "               R2L       0.96      0.95      0.95      2053\n",
      "               U2R       0.97      0.86      0.92        44\n",
      "\n",
      "          accuracy                           0.98     15780\n",
      "         macro avg       0.98      0.96      0.97     15780\n",
      "      weighted avg       0.98      0.98      0.98     15780\n",
      "\n"
     ]
    }
   ],
   "source": [
    "model_gbm = GradientBoostingClassifier(n_estimators = 100, learning_rate = 0.1).fit(train_X,train_Y)\n",
    "\n",
    "gbms_predict = model_gbm.predict(train_X)\n",
    "\n",
    "print(metrics.classification_report(train_Y,gbms_predict))"
   ]
  },
  {
   "cell_type": "code",
   "execution_count": 223,
   "metadata": {},
   "outputs": [
    {
     "data": {
      "text/plain": [
       "array([[4961,    0,   15,   22,    1,    0],\n",
       "       [   0,  201,    0,    0,    0,    0],\n",
       "       [   9,    0, 6684,   25,   78,    0],\n",
       "       [  39,    0,   13, 1627,    8,    0],\n",
       "       [   2,    0,   73,   30, 1947,    1],\n",
       "       [   0,    0,    4,    0,    2,   38]])"
      ]
     },
     "execution_count": 223,
     "metadata": {},
     "output_type": "execute_result"
    }
   ],
   "source": [
    "GBM_Multi_CM_train = metrics.confusion_matrix(train_Y,gbms_predict)\n",
    "GBM_Multi_CM_train"
   ]
  },
  {
   "cell_type": "code",
   "execution_count": 224,
   "metadata": {},
   "outputs": [
    {
     "name": "stdout",
     "output_type": "stream",
     "text": [
      "                    precision    recall  f1-score   support\n",
      "\n",
      "               DoS       0.99      1.00      0.99      2168\n",
      "Missclassification       1.00      1.00      1.00        92\n",
      "            Normal       0.99      0.99      0.99      2915\n",
      "             Probe       0.97      0.97      0.97       734\n",
      "               R2L       0.97      0.96      0.96       832\n",
      "               U2R       1.00      0.96      0.98        23\n",
      "\n",
      "          accuracy                           0.99      6764\n",
      "         macro avg       0.99      0.98      0.98      6764\n",
      "      weighted avg       0.99      0.99      0.99      6764\n",
      "\n"
     ]
    }
   ],
   "source": [
    "model_gbm_test = GradientBoostingClassifier(n_estimators = 100, learning_rate = 0.1).fit(test_x,test_y)\n",
    "\n",
    "gbms_predict_test = model_gbm_test.predict(test_x)\n",
    "\n",
    "print(metrics.classification_report(test_y,gbms_predict_test))"
   ]
  },
  {
   "cell_type": "code",
   "execution_count": 225,
   "metadata": {},
   "outputs": [
    {
     "data": {
      "text/plain": [
       "array([[2159,    0,    5,    2,    2,    0],\n",
       "       [   0,   92,    0,    0,    0,    0],\n",
       "       [   0,    0, 2886,    8,   21,    0],\n",
       "       [  15,    0,    3,  711,    5,    0],\n",
       "       [   0,    0,   21,   11,  800,    0],\n",
       "       [   0,    0,    1,    0,    0,   22]])"
      ]
     },
     "execution_count": 225,
     "metadata": {},
     "output_type": "execute_result"
    }
   ],
   "source": [
    "GBM_Multi_CM_test = metrics.confusion_matrix(test_y,gbms_predict_test)\n",
    "GBM_Multi_CM_test"
   ]
  },
  {
   "cell_type": "code",
   "execution_count": 226,
   "metadata": {},
   "outputs": [
    {
     "name": "stdout",
     "output_type": "stream",
     "text": [
      "[02:00:51] WARNING: /Users/travis/build/dmlc/xgboost/src/learner.cc:516: \n",
      "Parameters: { reg_alpa, scale_pos_weight, verbose } might not be used.\n",
      "\n",
      "  This may not be accurate due to some parameters are only used in language bindings but\n",
      "  passed down to XGBoost core.  Or some parameters are not used but slip through this\n",
      "  verification. Please open an issue if you find above cases.\n",
      "\n",
      "\n",
      "                    precision    recall  f1-score   support\n",
      "\n",
      "               DoS       0.99      0.99      0.99      4999\n",
      "Missclassification       1.00      1.00      1.00       201\n",
      "            Normal       0.99      0.98      0.99      6796\n",
      "             Probe       0.95      0.97      0.96      1687\n",
      "               R2L       0.96      0.96      0.96      2053\n",
      "               U2R       0.94      0.68      0.79        44\n",
      "\n",
      "          accuracy                           0.98     15780\n",
      "         macro avg       0.97      0.93      0.95     15780\n",
      "      weighted avg       0.98      0.98      0.98     15780\n",
      "\n"
     ]
    }
   ],
   "source": [
    "from xgboost import XGBClassifier\n",
    "\n",
    "xgb_estimator = XGBClassifier( learning_rate=0.01,\n",
    "                               n_estimators=1000,\n",
    "                               max_depth=5,\n",
    "                               min_child_weight=1,\n",
    "                               gamma=1,\n",
    "                               subsample=0.8,\n",
    "                               colsample_bytree=0.8,\n",
    "                               n_jobs=-1,\n",
    "                               reg_alpa=1,\n",
    "                               scale_pos_weight=1,\n",
    "                               random_state=42,\n",
    "                               verbose=1)\n",
    "\n",
    "xgb_model = xgb_estimator.fit(train_X,train_Y)\n",
    "\n",
    "xgb_predict = xgb_model.predict(train_X)\n",
    "\n",
    "print(metrics.classification_report(train_Y,xgb_predict))\n"
   ]
  },
  {
   "cell_type": "code",
   "execution_count": 227,
   "metadata": {},
   "outputs": [
    {
     "data": {
      "text/plain": [
       "array([[4966,    0,    8,   24,    1,    0],\n",
       "       [   0,  201,    0,    0,    0,    0],\n",
       "       [   9,    0, 6690,   21,   76,    0],\n",
       "       [  32,    0,   13, 1637,    5,    0],\n",
       "       [   2,    0,   51,   36, 1962,    2],\n",
       "       [   0,    0,   12,    0,    2,   30]])"
      ]
     },
     "execution_count": 227,
     "metadata": {},
     "output_type": "execute_result"
    }
   ],
   "source": [
    "Xgb_Multi_CM_train = metrics.confusion_matrix(train_Y,xgb_predict)\n",
    "Xgb_Multi_CM_train"
   ]
  },
  {
   "cell_type": "code",
   "execution_count": 228,
   "metadata": {},
   "outputs": [
    {
     "name": "stdout",
     "output_type": "stream",
     "text": [
      "[02:02:08] WARNING: /Users/travis/build/dmlc/xgboost/src/learner.cc:516: \n",
      "Parameters: { reg_alpa, scale_pos_weight, verbose } might not be used.\n",
      "\n",
      "  This may not be accurate due to some parameters are only used in language bindings but\n",
      "  passed down to XGBoost core.  Or some parameters are not used but slip through this\n",
      "  verification. Please open an issue if you find above cases.\n",
      "\n",
      "\n"
     ]
    }
   ],
   "source": [
    "xgb_model_test = xgb_estimator.fit(test_x,test_y)\n",
    "xgb_predict_test = xgb_model_test.predict(test_x)"
   ]
  },
  {
   "cell_type": "code",
   "execution_count": 229,
   "metadata": {},
   "outputs": [
    {
     "data": {
      "text/plain": [
       "array([[2157,    0,    7,    2,    2,    0],\n",
       "       [   0,   92,    0,    0,    0,    0],\n",
       "       [   1,    0, 2889,    6,   19,    0],\n",
       "       [  14,    0,    4,  711,    5,    0],\n",
       "       [   0,    0,   17,   11,  804,    0],\n",
       "       [   0,    0,    1,    0,    6,   16]])"
      ]
     },
     "execution_count": 229,
     "metadata": {},
     "output_type": "execute_result"
    }
   ],
   "source": [
    "XGB_Multi_CM_Test = metrics.confusion_matrix(test_y,xgb_predict_test)\n",
    "XGB_Multi_CM_Test"
   ]
  },
  {
   "cell_type": "code",
   "execution_count": 230,
   "metadata": {},
   "outputs": [
    {
     "name": "stdout",
     "output_type": "stream",
     "text": [
      "KNN_Train \n",
      " [[4987    0    0   12    0    0]\n",
      " [   0  201    0    0    0    0]\n",
      " [   1    0 6757    0   38    0]\n",
      " [  29    0    0 1646   12    0]\n",
      " [   0    0   33   19 2001    0]\n",
      " [   0    0    0    0    0   44]]\n",
      "DT_Train \n",
      " [[4819    0    7   19  154    0]\n",
      " [   0  201    0    0    0    0]\n",
      " [  67   63 6054  132  480    0]\n",
      " [  13    0   13 1075  586    0]\n",
      " [   5    5  134   19 1890    0]\n",
      " [   0    0    3    0   41    0]]\n",
      "Bagging_Train \n",
      " [[4986    0    0   13    0    0]\n",
      " [   0  201    0    0    0    0]\n",
      " [   1    0 6746    0   49    0]\n",
      " [  28    0    0 1647   12    0]\n",
      " [   0    0   22   19 2012    0]\n",
      " [   0    0    0    0    0   44]]\n",
      "RF_Train \n",
      " [[4959    0   12   20    8    0]\n",
      " [   0  201    0    0    0    0]\n",
      " [  33    0 6629   59   75    0]\n",
      " [  66    0   15 1606    0    0]\n",
      " [   0    0  174   89 1790    0]\n",
      " [   0    0   32    0    9    3]]\n",
      "ADA_Train \n",
      " [[   0    0 3394    0 1605    0]\n",
      " [   0  201    0    0    0    0]\n",
      " [  14    0 6655    0  127    0]\n",
      " [   0    0  377    0 1310    0]\n",
      " [   0    0 1088    0  965    0]\n",
      " [   0    0   43    0    1    0]]\n",
      "GBM_Train \n",
      " [[4961    0   15   22    1    0]\n",
      " [   0  201    0    0    0    0]\n",
      " [   9    0 6684   25   78    0]\n",
      " [  39    0   13 1627    8    0]\n",
      " [   2    0   73   30 1947    1]\n",
      " [   0    0    4    0    2   38]]\n",
      "Xgb_Train \n",
      " [[4966    0    8   24    1    0]\n",
      " [   0  201    0    0    0    0]\n",
      " [   9    0 6690   21   76    0]\n",
      " [  32    0   13 1637    5    0]\n",
      " [   2    0   51   36 1962    2]\n",
      " [   0    0   12    0    2   30]]\n",
      "KNN_Test \n",
      " [[2167    0    0    1    0    0]\n",
      " [   0   92    0    0    0    0]\n",
      " [   0    0 2905    0   10    0]\n",
      " [  10    0    0  719    5    0]\n",
      " [   0    0    9    6  817    0]\n",
      " [   0    0    0    0    0   23]]\n",
      "DT_Test \n",
      " [[2092    0    4    1   71    0]\n",
      " [   0   92    0    0    0    0]\n",
      " [  23   33 2562   57  240    0]\n",
      " [   4    0    2  504  224    0]\n",
      " [   1    1   67   11  752    0]\n",
      " [   0    0    2    0   21    0]]\n",
      "Bagging_Test \n",
      " [[2167    0    0    1    0    0]\n",
      " [   0   92    0    0    0    0]\n",
      " [   0    0 2903    0   12    0]\n",
      " [  10    0    0  717    7    0]\n",
      " [   0    0    7    4  821    0]\n",
      " [   0    0    0    0    0   23]]\n",
      "RF_Test \n",
      " [[2147    0   18    3    0    0]\n",
      " [   0   92    0    0    0    0]\n",
      " [   7    0 2851   23   33    1]\n",
      " [  23    0    5  705    1    0]\n",
      " [   0    0   53   32  746    1]\n",
      " [   0    0    6    0    6   11]]\n",
      "ADA_Test \n",
      " [[1466    0  497    0  205    0]\n",
      " [   0   91    1    0    0    0]\n",
      " [  33    0 2805    2   75    0]\n",
      " [  34    0  118  192  390    0]\n",
      " [   5    0  446    0  381    0]\n",
      " [   0    0   22    0    1    0]]\n",
      "GBM_Test \n",
      " [[2159    0    5    2    2    0]\n",
      " [   0   92    0    0    0    0]\n",
      " [   0    0 2886    8   21    0]\n",
      " [  15    0    3  711    5    0]\n",
      " [   0    0   21   11  800    0]\n",
      " [   0    0    1    0    0   22]]\n",
      "Xgb_Test \n",
      " [[2157    0    7    2    2    0]\n",
      " [   0   92    0    0    0    0]\n",
      " [   1    0 2889    6   19    0]\n",
      " [  14    0    4  711    5    0]\n",
      " [   0    0   17   11  804    0]\n",
      " [   0    0    1    0    6   16]]\n"
     ]
    }
   ],
   "source": [
    "print(\"KNN_Train\",\"\\n\",KNN_MULTI_CM_Train)\n",
    "print(\"DT_Train\",\"\\n\",DT_MULTI_CM_Train)\n",
    "print(\"Bagging_Train\",\"\\n\",Bagging_MULTI_CM_Train)\n",
    "print(\"RF_Train\",\"\\n\",RF_MULTI_CM_Train)\n",
    "print(\"ADA_Train\",\"\\n\",ADA_MULTI_CM_Train)\n",
    "print(\"GBM_Train\",\"\\n\",GBM_Multi_CM_train)\n",
    "print(\"Xgb_Train\",\"\\n\",Xgb_Multi_CM_train)\n",
    "\n",
    "print(\"KNN_Test\",\"\\n\",KNN_MULTI_CM_Test)\n",
    "print(\"DT_Test\",\"\\n\",DT_MULTI_CM_Test)\n",
    "print(\"Bagging_Test\",\"\\n\",Bagging_MULTI_CM_Test)\n",
    "print(\"RF_Test\",\"\\n\",RF_MULTI_CM_Test)\n",
    "print(\"ADA_Test\",\"\\n\",ADA_MULTI_CM_Test)\n",
    "print(\"GBM_Test\",\"\\n\",GBM_Multi_CM_test)\n",
    "print(\"Xgb_Test\",\"\\n\",XGB_Multi_CM_Test)"
   ]
  },
  {
   "cell_type": "code",
   "execution_count": null,
   "metadata": {},
   "outputs": [],
   "source": [
    "from sklearn.naive_bayes import GaussianNB \n",
    "gnb = GaussianNB().fit(train_X, train_Y) \n",
    "gnb_predictions = gnb.predict(train_X) \n",
    "  \n",
    "print(metrics.classification_report(train_Y,gnb_predictions))\n"
   ]
  },
  {
   "cell_type": "code",
   "execution_count": null,
   "metadata": {},
   "outputs": [],
   "source": [
    "cm = metrics.confusion_matrix(test_y, gnb_predictions)\n",
    "print(cm)"
   ]
  },
  {
   "cell_type": "code",
   "execution_count": null,
   "metadata": {},
   "outputs": [],
   "source": []
  },
  {
   "cell_type": "code",
   "execution_count": null,
   "metadata": {},
   "outputs": [],
   "source": [
    "svm_model = SVC(kernel = \"linear\",C=1).fit(train_X,train_Y)\n",
    "svm_prediction_test = svm_model.predict(train_X)"
   ]
  },
  {
   "cell_type": "code",
   "execution_count": null,
   "metadata": {},
   "outputs": [],
   "source": [
    "accuracy_test = svm_model.score(test_X,test_y)\n",
    "accuracy_test"
   ]
  },
  {
   "cell_type": "code",
   "execution_count": null,
   "metadata": {},
   "outputs": [],
   "source": [
    "svm_cm = metrics.classification_report(test_y,svm_prediction)"
   ]
  },
  {
   "cell_type": "code",
   "execution_count": null,
   "metadata": {},
   "outputs": [],
   "source": [
    "print(svm_cm)"
   ]
  }
 ],
 "metadata": {
  "kernelspec": {
   "display_name": "Python 3",
   "language": "python",
   "name": "python3"
  },
  "language_info": {
   "codemirror_mode": {
    "name": "ipython",
    "version": 3
   },
   "file_extension": ".py",
   "mimetype": "text/x-python",
   "name": "python",
   "nbconvert_exporter": "python",
   "pygments_lexer": "ipython3",
   "version": "3.7.9"
  }
 },
 "nbformat": 4,
 "nbformat_minor": 4
}
